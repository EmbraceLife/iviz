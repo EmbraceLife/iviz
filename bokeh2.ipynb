{
 "cells": [
  {
   "cell_type": "code",
   "execution_count": 1,
   "metadata": {
    "collapsed": true
   },
   "outputs": [],
   "source": [
    "import pandas as pd\n",
    "from bokeh.charts import output_notebook, show"
   ]
  },
  {
   "cell_type": "code",
   "execution_count": 2,
   "metadata": {
    "collapsed": false
   },
   "outputs": [
    {
     "data": {
      "text/html": [
       "\n",
       "    <div class=\"bk-root\">\n",
       "        <a href=\"http://bokeh.pydata.org\" target=\"_blank\" class=\"bk-logo bk-logo-small bk-logo-notebook\"></a>\n",
       "        <span id=\"ca09958a-fabc-4ea3-9427-cb159bfbb5b3\">Loading BokehJS ...</span>\n",
       "    </div>"
      ]
     },
     "metadata": {},
     "output_type": "display_data"
    },
    {
     "data": {
      "application/javascript": [
       "\n",
       "(function(global) {\n",
       "  function now() {\n",
       "    return new Date();\n",
       "  }\n",
       "\n",
       "  var force = \"1\";\n",
       "\n",
       "  if (typeof (window._bokeh_onload_callbacks) === \"undefined\" || force !== \"\") {\n",
       "    window._bokeh_onload_callbacks = [];\n",
       "    window._bokeh_is_loading = undefined;\n",
       "  }\n",
       "\n",
       "  function run_callbacks() {\n",
       "    window._bokeh_onload_callbacks.forEach(function(callback) { callback() });\n",
       "    delete window._bokeh_onload_callbacks\n",
       "    console.info(\"Bokeh: all callbacks have finished\");\n",
       "  }\n",
       "\n",
       "  function load_libs(js_urls, callback) {\n",
       "    window._bokeh_onload_callbacks.push(callback);\n",
       "    if (window._bokeh_is_loading > 0) {\n",
       "      console.log(\"Bokeh: BokehJS is being loaded, scheduling callback at\", now());\n",
       "      return null;\n",
       "    }\n",
       "    if (js_urls == null || js_urls.length === 0) {\n",
       "      run_callbacks();\n",
       "      return null;\n",
       "    }\n",
       "    console.log(\"Bokeh: BokehJS not loaded, scheduling load and callback at\", now());\n",
       "    window._bokeh_is_loading = js_urls.length;\n",
       "    for (var i = 0; i < js_urls.length; i++) {\n",
       "      var url = js_urls[i];\n",
       "      var s = document.createElement('script');\n",
       "      s.src = url;\n",
       "      s.async = false;\n",
       "      s.onreadystatechange = s.onload = function() {\n",
       "        window._bokeh_is_loading--;\n",
       "        if (window._bokeh_is_loading === 0) {\n",
       "          console.log(\"Bokeh: all BokehJS libraries loaded\");\n",
       "          run_callbacks()\n",
       "        }\n",
       "      };\n",
       "      s.onerror = function() {\n",
       "        console.warn(\"failed to load library \" + url);\n",
       "      };\n",
       "      console.log(\"Bokeh: injecting script tag for BokehJS library: \", url);\n",
       "      document.getElementsByTagName(\"head\")[0].appendChild(s);\n",
       "    }\n",
       "  };\n",
       "\n",
       "  var js_urls = ['https://cdn.pydata.org/bokeh/release/bokeh-0.12.1.min.js', 'https://cdn.pydata.org/bokeh/release/bokeh-widgets-0.12.1.min.js', 'https://cdn.pydata.org/bokeh/release/bokeh-compiler-0.12.1.min.js'];\n",
       "\n",
       "  var inline_js = [\n",
       "    function(Bokeh) {\n",
       "      Bokeh.set_log_level(\"info\");\n",
       "    },\n",
       "    \n",
       "    function(Bokeh) {\n",
       "      \n",
       "      Bokeh.$(\"#ca09958a-fabc-4ea3-9427-cb159bfbb5b3\").text(\"BokehJS successfully loaded\");\n",
       "      var kernel = Jupyter.notebook.kernel\n",
       "      if (kernel.execute !== undefined) {\n",
       "          kernel.execute(\"import bokeh.io; bokeh.io._nb_loaded = True\");\n",
       "      }\n",
       "    },\n",
       "    function(Bokeh) {\n",
       "      console.log(\"Bokeh: injecting CSS: https://cdn.pydata.org/bokeh/release/bokeh-0.12.1.min.css\");\n",
       "      Bokeh.embed.inject_css(\"https://cdn.pydata.org/bokeh/release/bokeh-0.12.1.min.css\");\n",
       "      console.log(\"Bokeh: injecting CSS: https://cdn.pydata.org/bokeh/release/bokeh-widgets-0.12.1.min.css\");\n",
       "      Bokeh.embed.inject_css(\"https://cdn.pydata.org/bokeh/release/bokeh-widgets-0.12.1.min.css\");\n",
       "    }\n",
       "  ];\n",
       "\n",
       "  function run_inline_js() {\n",
       "    for (var i = 0; i < inline_js.length; i++) {\n",
       "      inline_js[i](window.Bokeh);\n",
       "    }\n",
       "  }\n",
       "\n",
       "  if (window._bokeh_is_loading === 0) {\n",
       "    console.log(\"Bokeh: BokehJS loaded, going straight to plotting\");\n",
       "    run_inline_js();\n",
       "  } else {\n",
       "    load_libs(js_urls, function() {\n",
       "      console.log(\"Bokeh: BokehJS plotting callback run at\", now());\n",
       "      run_inline_js();\n",
       "    });\n",
       "  }\n",
       "}(this));"
      ]
     },
     "metadata": {},
     "output_type": "display_data"
    }
   ],
   "source": [
    "output_notebook()"
   ]
  },
  {
   "cell_type": "markdown",
   "metadata": {},
   "source": [
    "# Scatter"
   ]
  },
  {
   "cell_type": "code",
   "execution_count": 3,
   "metadata": {
    "collapsed": false
   },
   "outputs": [],
   "source": [
    "# df.columns"
   ]
  },
  {
   "cell_type": "code",
   "execution_count": 4,
   "metadata": {
    "collapsed": false
   },
   "outputs": [
    {
     "data": {
      "text/html": [
       "\n",
       "\n",
       "    <div class=\"bk-root\">\n",
       "        <div class=\"plotdiv\" id=\"23d83418-37db-4664-a35b-77613d904a02\"></div>\n",
       "    </div>\n",
       "<script type=\"text/javascript\">\n",
       "  \n",
       "  (function(global) {\n",
       "    function now() {\n",
       "      return new Date();\n",
       "    }\n",
       "  \n",
       "    var force = \"\";\n",
       "  \n",
       "    if (typeof (window._bokeh_onload_callbacks) === \"undefined\" || force !== \"\") {\n",
       "      window._bokeh_onload_callbacks = [];\n",
       "      window._bokeh_is_loading = undefined;\n",
       "    }\n",
       "  \n",
       "    function run_callbacks() {\n",
       "      window._bokeh_onload_callbacks.forEach(function(callback) { callback() });\n",
       "      delete window._bokeh_onload_callbacks\n",
       "      console.info(\"Bokeh: all callbacks have finished\");\n",
       "    }\n",
       "  \n",
       "    function load_libs(js_urls, callback) {\n",
       "      window._bokeh_onload_callbacks.push(callback);\n",
       "      if (window._bokeh_is_loading > 0) {\n",
       "        console.log(\"Bokeh: BokehJS is being loaded, scheduling callback at\", now());\n",
       "        return null;\n",
       "      }\n",
       "      if (js_urls == null || js_urls.length === 0) {\n",
       "        run_callbacks();\n",
       "        return null;\n",
       "      }\n",
       "      console.log(\"Bokeh: BokehJS not loaded, scheduling load and callback at\", now());\n",
       "      window._bokeh_is_loading = js_urls.length;\n",
       "      for (var i = 0; i < js_urls.length; i++) {\n",
       "        var url = js_urls[i];\n",
       "        var s = document.createElement('script');\n",
       "        s.src = url;\n",
       "        s.async = false;\n",
       "        s.onreadystatechange = s.onload = function() {\n",
       "          window._bokeh_is_loading--;\n",
       "          if (window._bokeh_is_loading === 0) {\n",
       "            console.log(\"Bokeh: all BokehJS libraries loaded\");\n",
       "            run_callbacks()\n",
       "          }\n",
       "        };\n",
       "        s.onerror = function() {\n",
       "          console.warn(\"failed to load library \" + url);\n",
       "        };\n",
       "        console.log(\"Bokeh: injecting script tag for BokehJS library: \", url);\n",
       "        document.getElementsByTagName(\"head\")[0].appendChild(s);\n",
       "      }\n",
       "    };var element = document.getElementById(\"23d83418-37db-4664-a35b-77613d904a02\");\n",
       "    if (element == null) {\n",
       "      console.log(\"Bokeh: ERROR: autoload.js configured with elementid '23d83418-37db-4664-a35b-77613d904a02' but no matching script tag was found. \")\n",
       "      return false;\n",
       "    }\n",
       "  \n",
       "    var js_urls = [];\n",
       "  \n",
       "    var inline_js = [\n",
       "      function(Bokeh) {\n",
       "        Bokeh.$(function() {\n",
       "            var docs_json = {\"6ec40b77-9545-49a0-a439-4e4c74f69cff\":{\"roots\":{\"references\":[{\"attributes\":{\"legends\":[[\"8\",[{\"id\":\"2f1c4d82-c304-4687-9e2c-0e8b06ce9650\",\"type\":\"GlyphRenderer\"}]],[\"4\",[{\"id\":\"cceb5b57-80ac-4e79-abdc-766331554c81\",\"type\":\"GlyphRenderer\"}]],[\"6\",[{\"id\":\"cb90c8bf-6918-4a3b-a9d1-bbd91d5b7174\",\"type\":\"GlyphRenderer\"}]],[\"3\",[{\"id\":\"b172b608-6031-494f-82e1-0be9bbf73f68\",\"type\":\"GlyphRenderer\"}]],[\"5\",[{\"id\":\"e24c2118-6c52-47bc-99b4-dd79055741ae\",\"type\":\"GlyphRenderer\"}]]],\"plot\":{\"id\":\"b84a3c90-f453-4cac-8df6-e988839809b3\",\"subtype\":\"Chart\",\"type\":\"Plot\"}},\"id\":\"5d47ebbc-72dd-459d-81ad-e3be86721b26\",\"type\":\"Legend\"},{\"attributes\":{\"active_drag\":\"auto\",\"active_scroll\":\"auto\",\"active_tap\":\"auto\",\"tools\":[{\"id\":\"e228919a-bae5-48a7-84f5-aea62f67f4e4\",\"type\":\"PanTool\"},{\"id\":\"e753c172-ff22-4f9f-a380-bba4f0be8d93\",\"type\":\"WheelZoomTool\"},{\"id\":\"a2d227a3-a459-4905-a059-1598ccec65e8\",\"type\":\"BoxZoomTool\"},{\"id\":\"02a02f37-5a04-4d2e-98dd-4d09a1281380\",\"type\":\"SaveTool\"},{\"id\":\"a66b5723-e43c-41d9-b881-93d406da359f\",\"type\":\"ResetTool\"},{\"id\":\"96bc3779-e9ca-408d-8b16-42d4b8a40d14\",\"type\":\"HelpTool\"}]},\"id\":\"794cac28-058d-42f0-8316-a01e1e20c76a\",\"type\":\"Toolbar\"},{\"attributes\":{\"callback\":null,\"column_names\":[\"x_values\",\"y_values\"],\"data\":{\"chart_index\":[{\"cyl\":6},{\"cyl\":6},{\"cyl\":6},{\"cyl\":6},{\"cyl\":6},{\"cyl\":6},{\"cyl\":6},{\"cyl\":6},{\"cyl\":6},{\"cyl\":6},{\"cyl\":6},{\"cyl\":6},{\"cyl\":6},{\"cyl\":6},{\"cyl\":6},{\"cyl\":6},{\"cyl\":6},{\"cyl\":6},{\"cyl\":6},{\"cyl\":6},{\"cyl\":6},{\"cyl\":6},{\"cyl\":6},{\"cyl\":6},{\"cyl\":6},{\"cyl\":6},{\"cyl\":6},{\"cyl\":6},{\"cyl\":6},{\"cyl\":6},{\"cyl\":6},{\"cyl\":6},{\"cyl\":6},{\"cyl\":6},{\"cyl\":6},{\"cyl\":6},{\"cyl\":6},{\"cyl\":6},{\"cyl\":6},{\"cyl\":6},{\"cyl\":6},{\"cyl\":6},{\"cyl\":6},{\"cyl\":6},{\"cyl\":6},{\"cyl\":6},{\"cyl\":6},{\"cyl\":6},{\"cyl\":6},{\"cyl\":6},{\"cyl\":6},{\"cyl\":6},{\"cyl\":6},{\"cyl\":6},{\"cyl\":6},{\"cyl\":6},{\"cyl\":6},{\"cyl\":6},{\"cyl\":6},{\"cyl\":6},{\"cyl\":6},{\"cyl\":6},{\"cyl\":6},{\"cyl\":6},{\"cyl\":6},{\"cyl\":6},{\"cyl\":6},{\"cyl\":6},{\"cyl\":6},{\"cyl\":6},{\"cyl\":6},{\"cyl\":6},{\"cyl\":6},{\"cyl\":6},{\"cyl\":6},{\"cyl\":6},{\"cyl\":6},{\"cyl\":6},{\"cyl\":6},{\"cyl\":6},{\"cyl\":6},{\"cyl\":6},{\"cyl\":6}],\"cyl\":[6,6,6,6,6,6,6,6,6,6,6,6,6,6,6,6,6,6,6,6,6,6,6,6,6,6,6,6,6,6,6,6,6,6,6,6,6,6,6,6,6,6,6,6,6,6,6,6,6,6,6,6,6,6,6,6,6,6,6,6,6,6,6,6,6,6,6,6,6,6,6,6,6,6,6,6,6,6,6,6,6,6,6],\"x_values\":[22.0,18.0,21.0,21.0,19.0,16.0,17.0,19.0,18.0,18.0,19.0,18.0,18.0,16.0,18.0,18.0,23.0,18.0,21.0,20.0,20.0,19.0,15.0,16.0,16.0,18.0,19.0,18.0,15.0,15.0,17.0,16.0,15.0,18.0,21.0,20.0,18.0,19.0,22.0,22.0,24.0,22.5,20.0,18.0,18.5,17.5,19.0,16.5,17.5,20.5,19.0,18.5,22.0,19.2,20.5,20.2,20.5,19.4,20.6,20.8,18.6,18.1,17.7,17.0,16.2,21.5,19.8,20.2,20.6,28.8,26.8,19.1,32.7,23.5,30.7,25.4,24.2,22.4,20.2,17.6,25.0,38.0,22.0],\"y_values\":[95,97,85,90,100,105,100,88,100,110,100,88,105,100,100,88,95,100,107,122,95,100,100,100,110,105,95,105,72,72,110,105,110,95,110,100,97,90,100,105,81,90,100,78,110,95,108,120,110,105,100,98,97,105,95,85,100,90,105,85,110,120,165,125,133,115,85,90,110,115,115,90,132,110,76,116,120,110,88,85,110,85,112]}},\"id\":\"2f523abf-0f06-4299-8a9d-7969da283e5f\",\"type\":\"ColumnDataSource\"},{\"attributes\":{\"callback\":null,\"column_names\":[\"x_values\",\"y_values\"],\"data\":{\"chart_index\":[{\"cyl\":4},{\"cyl\":4},{\"cyl\":4},{\"cyl\":4},{\"cyl\":4},{\"cyl\":4},{\"cyl\":4},{\"cyl\":4},{\"cyl\":4},{\"cyl\":4},{\"cyl\":4},{\"cyl\":4},{\"cyl\":4},{\"cyl\":4},{\"cyl\":4},{\"cyl\":4},{\"cyl\":4},{\"cyl\":4},{\"cyl\":4},{\"cyl\":4},{\"cyl\":4},{\"cyl\":4},{\"cyl\":4},{\"cyl\":4},{\"cyl\":4},{\"cyl\":4},{\"cyl\":4},{\"cyl\":4},{\"cyl\":4},{\"cyl\":4},{\"cyl\":4},{\"cyl\":4},{\"cyl\":4},{\"cyl\":4},{\"cyl\":4},{\"cyl\":4},{\"cyl\":4},{\"cyl\":4},{\"cyl\":4},{\"cyl\":4},{\"cyl\":4},{\"cyl\":4},{\"cyl\":4},{\"cyl\":4},{\"cyl\":4},{\"cyl\":4},{\"cyl\":4},{\"cyl\":4},{\"cyl\":4},{\"cyl\":4},{\"cyl\":4},{\"cyl\":4},{\"cyl\":4},{\"cyl\":4},{\"cyl\":4},{\"cyl\":4},{\"cyl\":4},{\"cyl\":4},{\"cyl\":4},{\"cyl\":4},{\"cyl\":4},{\"cyl\":4},{\"cyl\":4},{\"cyl\":4},{\"cyl\":4},{\"cyl\":4},{\"cyl\":4},{\"cyl\":4},{\"cyl\":4},{\"cyl\":4},{\"cyl\":4},{\"cyl\":4},{\"cyl\":4},{\"cyl\":4},{\"cyl\":4},{\"cyl\":4},{\"cyl\":4},{\"cyl\":4},{\"cyl\":4},{\"cyl\":4},{\"cyl\":4},{\"cyl\":4},{\"cyl\":4},{\"cyl\":4},{\"cyl\":4},{\"cyl\":4},{\"cyl\":4},{\"cyl\":4},{\"cyl\":4},{\"cyl\":4},{\"cyl\":4},{\"cyl\":4},{\"cyl\":4},{\"cyl\":4},{\"cyl\":4},{\"cyl\":4},{\"cyl\":4},{\"cyl\":4},{\"cyl\":4},{\"cyl\":4},{\"cyl\":4},{\"cyl\":4},{\"cyl\":4},{\"cyl\":4},{\"cyl\":4},{\"cyl\":4},{\"cyl\":4},{\"cyl\":4},{\"cyl\":4},{\"cyl\":4},{\"cyl\":4},{\"cyl\":4},{\"cyl\":4},{\"cyl\":4},{\"cyl\":4},{\"cyl\":4},{\"cyl\":4},{\"cyl\":4},{\"cyl\":4},{\"cyl\":4},{\"cyl\":4},{\"cyl\":4},{\"cyl\":4},{\"cyl\":4},{\"cyl\":4},{\"cyl\":4},{\"cyl\":4},{\"cyl\":4},{\"cyl\":4},{\"cyl\":4},{\"cyl\":4},{\"cyl\":4},{\"cyl\":4},{\"cyl\":4},{\"cyl\":4},{\"cyl\":4},{\"cyl\":4},{\"cyl\":4},{\"cyl\":4},{\"cyl\":4},{\"cyl\":4},{\"cyl\":4},{\"cyl\":4},{\"cyl\":4},{\"cyl\":4},{\"cyl\":4},{\"cyl\":4},{\"cyl\":4},{\"cyl\":4},{\"cyl\":4},{\"cyl\":4},{\"cyl\":4},{\"cyl\":4},{\"cyl\":4},{\"cyl\":4},{\"cyl\":4},{\"cyl\":4},{\"cyl\":4},{\"cyl\":4},{\"cyl\":4},{\"cyl\":4},{\"cyl\":4},{\"cyl\":4},{\"cyl\":4},{\"cyl\":4},{\"cyl\":4},{\"cyl\":4},{\"cyl\":4},{\"cyl\":4},{\"cyl\":4},{\"cyl\":4},{\"cyl\":4},{\"cyl\":4},{\"cyl\":4},{\"cyl\":4},{\"cyl\":4},{\"cyl\":4},{\"cyl\":4},{\"cyl\":4},{\"cyl\":4},{\"cyl\":4},{\"cyl\":4},{\"cyl\":4},{\"cyl\":4},{\"cyl\":4},{\"cyl\":4},{\"cyl\":4},{\"cyl\":4},{\"cyl\":4},{\"cyl\":4},{\"cyl\":4},{\"cyl\":4},{\"cyl\":4},{\"cyl\":4},{\"cyl\":4},{\"cyl\":4},{\"cyl\":4},{\"cyl\":4},{\"cyl\":4}],\"cyl\":[4,4,4,4,4,4,4,4,4,4,4,4,4,4,4,4,4,4,4,4,4,4,4,4,4,4,4,4,4,4,4,4,4,4,4,4,4,4,4,4,4,4,4,4,4,4,4,4,4,4,4,4,4,4,4,4,4,4,4,4,4,4,4,4,4,4,4,4,4,4,4,4,4,4,4,4,4,4,4,4,4,4,4,4,4,4,4,4,4,4,4,4,4,4,4,4,4,4,4,4,4,4,4,4,4,4,4,4,4,4,4,4,4,4,4,4,4,4,4,4,4,4,4,4,4,4,4,4,4,4,4,4,4,4,4,4,4,4,4,4,4,4,4,4,4,4,4,4,4,4,4,4,4,4,4,4,4,4,4,4,4,4,4,4,4,4,4,4,4,4,4,4,4,4,4,4,4,4,4,4,4,4,4,4,4,4,4,4,4,4,4,4,4,4,4,4,4,4,4],\"x_values\":[24.0,27.0,26.0,25.0,24.0,25.0,26.0,27.0,28.0,25.0,22.0,23.0,28.0,30.0,30.0,31.0,35.0,27.0,26.0,24.0,25.0,23.0,20.0,21.0,18.0,22.0,21.0,26.0,22.0,28.0,23.0,28.0,27.0,26.0,20.0,21.0,22.0,19.0,26.0,29.0,24.0,20.0,19.0,24.0,31.0,26.0,32.0,25.0,29.0,26.0,26.0,31.0,32.0,28.0,24.0,26.0,24.0,26.0,31.0,29.0,23.0,23.0,24.0,25.0,24.0,29.0,23.0,23.0,22.0,25.0,33.0,28.0,25.0,25.0,26.0,27.0,29.0,24.5,29.0,33.0,29.5,32.0,28.0,26.5,20.0,19.0,31.5,30.0,36.0,25.5,33.5,29.0,24.5,26.0,25.5,30.5,33.5,30.0,30.5,21.5,43.1,36.1,32.8,39.4,36.1,25.1,30.0,27.5,27.2,30.9,21.1,23.2,23.8,23.9,21.6,31.5,29.5,22.3,31.9,34.1,35.7,27.4,27.2,34.2,34.5,31.8,37.3,28.4,33.5,41.5,38.1,32.1,37.2,28.0,26.4,24.3,34.3,29.8,31.3,37.0,32.2,46.6,27.9,40.8,44.3,43.4,30.0,44.6,33.8,29.8,35.0,32.4,27.2,26.6,25.8,30.0,39.1,39.0,35.1,32.3,37.0,37.7,34.1,34.7,34.4,29.9,33.0,33.7,32.4,32.9,31.6,28.1,28.0,27.0,34.0,31.0,29.0,27.0,24.0,36.0,37.0,31.0,38.0,36.0,36.0,36.0,34.0,38.0,32.0,38.0,26.0,32.0,36.0,27.0,27.0,44.0,32.0,28.0,31.0],\"y_values\":[95,88,46,87,90,95,113,88,90,95,72,86,90,70,76,65,69,60,70,95,80,54,90,86,112,76,87,69,86,92,97,80,88,46,88,72,94,85,90,49,75,91,112,110,67,80,65,75,83,67,78,52,61,75,75,75,97,93,67,75,83,78,96,71,97,70,95,88,98,115,53,86,81,92,79,83,52,60,70,53,71,70,75,72,102,88,68,80,58,96,70,78,88,75,89,63,83,67,78,110,48,66,52,70,60,88,68,95,97,75,95,105,85,97,115,71,68,88,71,65,80,80,71,70,70,65,69,90,90,76,60,70,65,90,88,90,78,90,75,92,75,65,105,65,48,48,67,67,67,62,88,72,84,84,92,84,58,64,60,67,65,62,68,63,65,65,74,75,75,100,74,80,88,88,88,85,84,90,92,74,68,68,63,70,88,75,70,67,67,67,92,96,84,90,86,52,84,79,82]}},\"id\":\"180fef79-581e-4ef5-8677-11e0ab8f879f\",\"type\":\"ColumnDataSource\"},{\"attributes\":{\"fill_alpha\":{\"value\":0.7},\"fill_color\":{\"value\":\"#f22c40\"},\"line_color\":{\"value\":\"#f22c40\"},\"size\":{\"units\":\"screen\",\"value\":8},\"x\":{\"field\":\"x_values\"},\"y\":{\"field\":\"y_values\"}},\"id\":\"6c8f93cc-2fa6-4b2f-a8ca-f1c7b5d09268\",\"type\":\"Circle\"},{\"attributes\":{\"plot\":{\"id\":\"b84a3c90-f453-4cac-8df6-e988839809b3\",\"subtype\":\"Chart\",\"type\":\"Plot\"}},\"id\":\"96bc3779-e9ca-408d-8b16-42d4b8a40d14\",\"type\":\"HelpTool\"},{\"attributes\":{},\"id\":\"dae13d00-2b13-4f36-9229-0019e77ff218\",\"type\":\"BasicTicker\"},{\"attributes\":{\"plot\":{\"id\":\"b84a3c90-f453-4cac-8df6-e988839809b3\",\"subtype\":\"Chart\",\"type\":\"Plot\"}},\"id\":\"a66b5723-e43c-41d9-b881-93d406da359f\",\"type\":\"ResetTool\"},{\"attributes\":{\"data_source\":{\"id\":\"180fef79-581e-4ef5-8677-11e0ab8f879f\",\"type\":\"ColumnDataSource\"},\"glyph\":{\"id\":\"6865abd0-f5e8-4f39-bc40-fc57c1f01711\",\"type\":\"Circle\"},\"hover_glyph\":null,\"nonselection_glyph\":null,\"selection_glyph\":null},\"id\":\"cceb5b57-80ac-4e79-abdc-766331554c81\",\"type\":\"GlyphRenderer\"},{\"attributes\":{\"fill_alpha\":{\"value\":0.7},\"fill_color\":{\"value\":\"#5ab738\"},\"line_color\":{\"value\":\"#5ab738\"},\"size\":{\"units\":\"screen\",\"value\":8},\"x\":{\"field\":\"x_values\"},\"y\":{\"field\":\"y_values\"}},\"id\":\"6865abd0-f5e8-4f39-bc40-fc57c1f01711\",\"type\":\"Circle\"},{\"attributes\":{\"data_source\":{\"id\":\"ac9927bf-05b8-4003-84cb-3375c96eb823\",\"type\":\"ColumnDataSource\"},\"glyph\":{\"id\":\"0e0359a9-ae40-4806-85c6-9731181e3165\",\"type\":\"Circle\"},\"hover_glyph\":null,\"nonselection_glyph\":null,\"selection_glyph\":null},\"id\":\"e24c2118-6c52-47bc-99b4-dd79055741ae\",\"type\":\"GlyphRenderer\"},{\"attributes\":{\"data_source\":{\"id\":\"2f523abf-0f06-4299-8a9d-7969da283e5f\",\"type\":\"ColumnDataSource\"},\"glyph\":{\"id\":\"cb340cb3-d7ab-4edf-a25c-b70ade67ed5c\",\"type\":\"Circle\"},\"hover_glyph\":null,\"nonselection_glyph\":null,\"selection_glyph\":null},\"id\":\"cb90c8bf-6918-4a3b-a9d1-bbd91d5b7174\",\"type\":\"GlyphRenderer\"},{\"attributes\":{\"fill_alpha\":{\"value\":0.7},\"fill_color\":{\"value\":\"#df5320\"},\"line_color\":{\"value\":\"#df5320\"},\"size\":{\"units\":\"screen\",\"value\":8},\"x\":{\"field\":\"x_values\"},\"y\":{\"field\":\"y_values\"}},\"id\":\"cb340cb3-d7ab-4edf-a25c-b70ade67ed5c\",\"type\":\"Circle\"},{\"attributes\":{\"callback\":null,\"column_names\":[\"x_values\",\"y_values\"],\"data\":{\"chart_index\":[{\"cyl\":5},{\"cyl\":5},{\"cyl\":5}],\"cyl\":[5,5,5],\"x_values\":[20.3,25.4,36.4],\"y_values\":[103,77,67]}},\"id\":\"ac9927bf-05b8-4003-84cb-3375c96eb823\",\"type\":\"ColumnDataSource\"},{\"attributes\":{\"axis_label\":\"Miles Per Gallon\",\"formatter\":{\"id\":\"07ea15ca-e407-4327-81e9-664163bafc95\",\"type\":\"BasicTickFormatter\"},\"plot\":{\"id\":\"b84a3c90-f453-4cac-8df6-e988839809b3\",\"subtype\":\"Chart\",\"type\":\"Plot\"},\"ticker\":{\"id\":\"dae13d00-2b13-4f36-9229-0019e77ff218\",\"type\":\"BasicTicker\"}},\"id\":\"8852ecf0-902d-412b-ae6d-39bbda4973af\",\"type\":\"LinearAxis\"},{\"attributes\":{\"data_source\":{\"id\":\"380be57c-d325-454b-9a05-7cfe077d378a\",\"type\":\"ColumnDataSource\"},\"glyph\":{\"id\":\"69ae496a-3948-44b6-a9c6-f9ccbd507713\",\"type\":\"Circle\"},\"hover_glyph\":null,\"nonselection_glyph\":null,\"selection_glyph\":null},\"id\":\"2f1c4d82-c304-4687-9e2c-0e8b06ce9650\",\"type\":\"GlyphRenderer\"},{\"attributes\":{},\"id\":\"07ea15ca-e407-4327-81e9-664163bafc95\",\"type\":\"BasicTickFormatter\"},{\"attributes\":{\"overlay\":{\"id\":\"d0471ce7-cb16-480c-936f-4a617c9685c6\",\"type\":\"BoxAnnotation\"},\"plot\":{\"id\":\"b84a3c90-f453-4cac-8df6-e988839809b3\",\"subtype\":\"Chart\",\"type\":\"Plot\"}},\"id\":\"a2d227a3-a459-4905-a059-1598ccec65e8\",\"type\":\"BoxZoomTool\"},{\"attributes\":{\"bottom_units\":\"screen\",\"fill_alpha\":{\"value\":0.5},\"fill_color\":{\"value\":\"lightgrey\"},\"left_units\":\"screen\",\"level\":\"overlay\",\"line_alpha\":{\"value\":1.0},\"line_color\":{\"value\":\"black\"},\"line_dash\":[4,4],\"line_width\":{\"value\":2},\"plot\":null,\"render_mode\":\"css\",\"right_units\":\"screen\",\"top_units\":\"screen\"},\"id\":\"d0471ce7-cb16-480c-936f-4a617c9685c6\",\"type\":\"BoxAnnotation\"},{\"attributes\":{\"axis_label\":\"Horsepower\",\"formatter\":{\"id\":\"edb6abae-35a8-48d2-a5a1-34886e5f4759\",\"type\":\"BasicTickFormatter\"},\"plot\":{\"id\":\"b84a3c90-f453-4cac-8df6-e988839809b3\",\"subtype\":\"Chart\",\"type\":\"Plot\"},\"ticker\":{\"id\":\"6f958b3e-7ea8-486d-9ccf-5d1d75fd07b4\",\"type\":\"BasicTicker\"}},\"id\":\"8d75d676-6b74-4f0a-8852-cba005e2e4d1\",\"type\":\"LinearAxis\"},{\"attributes\":{\"plot\":{\"id\":\"b84a3c90-f453-4cac-8df6-e988839809b3\",\"subtype\":\"Chart\",\"type\":\"Plot\"}},\"id\":\"02a02f37-5a04-4d2e-98dd-4d09a1281380\",\"type\":\"SaveTool\"},{\"attributes\":{\"dimension\":1,\"plot\":{\"id\":\"b84a3c90-f453-4cac-8df6-e988839809b3\",\"subtype\":\"Chart\",\"type\":\"Plot\"},\"ticker\":{\"id\":\"6f958b3e-7ea8-486d-9ccf-5d1d75fd07b4\",\"type\":\"BasicTicker\"}},\"id\":\"69786a8e-ec41-440c-b543-15b983d23d4f\",\"type\":\"Grid\"},{\"attributes\":{},\"id\":\"edb6abae-35a8-48d2-a5a1-34886e5f4759\",\"type\":\"BasicTickFormatter\"},{\"attributes\":{\"plot\":{\"id\":\"b84a3c90-f453-4cac-8df6-e988839809b3\",\"subtype\":\"Chart\",\"type\":\"Plot\"}},\"id\":\"e753c172-ff22-4f9f-a380-bba4f0be8d93\",\"type\":\"WheelZoomTool\"},{\"attributes\":{\"callback\":null,\"column_names\":[\"x_values\",\"y_values\"],\"data\":{\"chart_index\":[{\"cyl\":3},{\"cyl\":3},{\"cyl\":3},{\"cyl\":3}],\"cyl\":[3,3,3,3],\"x_values\":[19.0,18.0,21.5,23.7],\"y_values\":[97,90,110,100]}},\"id\":\"e1652b93-3db8-4ed5-afdd-06ba6b583171\",\"type\":\"ColumnDataSource\"},{\"attributes\":{\"callback\":null,\"end\":50.36,\"start\":5.24},\"id\":\"cc8a544f-5cfe-4f45-b774-0e6fb34e7e79\",\"type\":\"Range1d\"},{\"attributes\":{\"plot\":{\"id\":\"b84a3c90-f453-4cac-8df6-e988839809b3\",\"subtype\":\"Chart\",\"type\":\"Plot\"}},\"id\":\"e228919a-bae5-48a7-84f5-aea62f67f4e4\",\"type\":\"PanTool\"},{\"attributes\":{},\"id\":\"6f958b3e-7ea8-486d-9ccf-5d1d75fd07b4\",\"type\":\"BasicTicker\"},{\"attributes\":{\"fill_alpha\":{\"value\":0.7},\"fill_color\":{\"value\":\"#00ad9c\"},\"line_color\":{\"value\":\"#00ad9c\"},\"size\":{\"units\":\"screen\",\"value\":8},\"x\":{\"field\":\"x_values\"},\"y\":{\"field\":\"y_values\"}},\"id\":\"69ae496a-3948-44b6-a9c6-f9ccbd507713\",\"type\":\"Circle\"},{\"attributes\":{\"plot\":null,\"text\":\"HP vs MPG (shaded by CYL)\"},\"id\":\"ab42551a-5dc6-483f-b625-740e7d54941d\",\"type\":\"Title\"},{\"attributes\":{\"callback\":null,\"end\":248.4,\"start\":27.599999999999998},\"id\":\"52979a7b-55f4-4f8a-a5bc-f426df25d9a9\",\"type\":\"Range1d\"},{\"attributes\":{\"data_source\":{\"id\":\"e1652b93-3db8-4ed5-afdd-06ba6b583171\",\"type\":\"ColumnDataSource\"},\"glyph\":{\"id\":\"6c8f93cc-2fa6-4b2f-a8ca-f1c7b5d09268\",\"type\":\"Circle\"},\"hover_glyph\":null,\"nonselection_glyph\":null,\"selection_glyph\":null},\"id\":\"b172b608-6031-494f-82e1-0be9bbf73f68\",\"type\":\"GlyphRenderer\"},{\"attributes\":{\"fill_alpha\":{\"value\":0.7},\"fill_color\":{\"value\":\"#407ee7\"},\"line_color\":{\"value\":\"#407ee7\"},\"size\":{\"units\":\"screen\",\"value\":8},\"x\":{\"field\":\"x_values\"},\"y\":{\"field\":\"y_values\"}},\"id\":\"0e0359a9-ae40-4806-85c6-9731181e3165\",\"type\":\"Circle\"},{\"attributes\":{\"callback\":null,\"column_names\":[\"x_values\",\"y_values\"],\"data\":{\"chart_index\":[{\"cyl\":8},{\"cyl\":8},{\"cyl\":8},{\"cyl\":8},{\"cyl\":8},{\"cyl\":8},{\"cyl\":8},{\"cyl\":8},{\"cyl\":8},{\"cyl\":8},{\"cyl\":8},{\"cyl\":8},{\"cyl\":8},{\"cyl\":8},{\"cyl\":8},{\"cyl\":8},{\"cyl\":8},{\"cyl\":8},{\"cyl\":8},{\"cyl\":8},{\"cyl\":8},{\"cyl\":8},{\"cyl\":8},{\"cyl\":8},{\"cyl\":8},{\"cyl\":8},{\"cyl\":8},{\"cyl\":8},{\"cyl\":8},{\"cyl\":8},{\"cyl\":8},{\"cyl\":8},{\"cyl\":8},{\"cyl\":8},{\"cyl\":8},{\"cyl\":8},{\"cyl\":8},{\"cyl\":8},{\"cyl\":8},{\"cyl\":8},{\"cyl\":8},{\"cyl\":8},{\"cyl\":8},{\"cyl\":8},{\"cyl\":8},{\"cyl\":8},{\"cyl\":8},{\"cyl\":8},{\"cyl\":8},{\"cyl\":8},{\"cyl\":8},{\"cyl\":8},{\"cyl\":8},{\"cyl\":8},{\"cyl\":8},{\"cyl\":8},{\"cyl\":8},{\"cyl\":8},{\"cyl\":8},{\"cyl\":8},{\"cyl\":8},{\"cyl\":8},{\"cyl\":8},{\"cyl\":8},{\"cyl\":8},{\"cyl\":8},{\"cyl\":8},{\"cyl\":8},{\"cyl\":8},{\"cyl\":8},{\"cyl\":8},{\"cyl\":8},{\"cyl\":8},{\"cyl\":8},{\"cyl\":8},{\"cyl\":8},{\"cyl\":8},{\"cyl\":8},{\"cyl\":8},{\"cyl\":8},{\"cyl\":8},{\"cyl\":8},{\"cyl\":8},{\"cyl\":8},{\"cyl\":8},{\"cyl\":8},{\"cyl\":8},{\"cyl\":8},{\"cyl\":8},{\"cyl\":8},{\"cyl\":8},{\"cyl\":8},{\"cyl\":8},{\"cyl\":8},{\"cyl\":8},{\"cyl\":8},{\"cyl\":8},{\"cyl\":8},{\"cyl\":8},{\"cyl\":8},{\"cyl\":8},{\"cyl\":8},{\"cyl\":8}],\"cyl\":[8,8,8,8,8,8,8,8,8,8,8,8,8,8,8,8,8,8,8,8,8,8,8,8,8,8,8,8,8,8,8,8,8,8,8,8,8,8,8,8,8,8,8,8,8,8,8,8,8,8,8,8,8,8,8,8,8,8,8,8,8,8,8,8,8,8,8,8,8,8,8,8,8,8,8,8,8,8,8,8,8,8,8,8,8,8,8,8,8,8,8,8,8,8,8,8,8,8,8,8,8,8,8],\"x_values\":[18.0,15.0,18.0,16.0,17.0,15.0,14.0,14.0,14.0,15.0,15.0,14.0,15.0,14.0,10.0,10.0,11.0,9.0,14.0,14.0,14.0,14.0,12.0,13.0,13.0,13.0,14.0,15.0,14.0,17.0,11.0,13.0,12.0,13.0,15.0,13.0,13.0,14.0,13.0,14.0,13.0,14.0,15.0,12.0,13.0,13.0,14.0,13.0,12.0,13.0,11.0,12.0,13.0,12.0,15.0,16.0,15.0,11.0,16.0,13.0,14.0,14.0,14.0,16.0,15.0,16.0,14.0,20.0,13.0,17.5,16.0,15.5,14.5,13.0,16.5,13.0,13.0,13.0,17.5,17.0,15.5,15.0,16.0,15.5,15.5,16.0,19.9,19.4,20.2,19.2,18.1,17.5,17.0,17.6,16.5,18.2,16.9,15.5,19.2,18.5,23.0,23.9,26.6],\"y_values\":[130,165,150,150,140,198,220,215,225,190,170,160,150,225,215,200,210,193,165,175,153,150,180,170,175,165,175,150,153,150,208,155,160,190,150,130,140,150,175,150,145,137,150,198,150,158,150,215,225,175,150,167,170,180,145,230,150,180,140,150,150,140,150,170,145,150,148,110,129,140,150,120,152,150,180,145,130,150,145,110,145,130,180,170,190,149,110,140,139,145,139,140,130,129,138,135,155,142,125,150,125,90,105]}},\"id\":\"380be57c-d325-454b-9a05-7cfe077d378a\",\"type\":\"ColumnDataSource\"},{\"attributes\":{\"plot\":{\"id\":\"b84a3c90-f453-4cac-8df6-e988839809b3\",\"subtype\":\"Chart\",\"type\":\"Plot\"},\"ticker\":{\"id\":\"dae13d00-2b13-4f36-9229-0019e77ff218\",\"type\":\"BasicTicker\"}},\"id\":\"5aa0851a-0b75-4bf0-b5d2-0eb0e03d8d70\",\"type\":\"Grid\"},{\"attributes\":{\"below\":[{\"id\":\"8852ecf0-902d-412b-ae6d-39bbda4973af\",\"type\":\"LinearAxis\"}],\"left\":[{\"id\":\"8d75d676-6b74-4f0a-8852-cba005e2e4d1\",\"type\":\"LinearAxis\"}],\"renderers\":[{\"id\":\"d0471ce7-cb16-480c-936f-4a617c9685c6\",\"type\":\"BoxAnnotation\"},{\"id\":\"2f1c4d82-c304-4687-9e2c-0e8b06ce9650\",\"type\":\"GlyphRenderer\"},{\"id\":\"cceb5b57-80ac-4e79-abdc-766331554c81\",\"type\":\"GlyphRenderer\"},{\"id\":\"cb90c8bf-6918-4a3b-a9d1-bbd91d5b7174\",\"type\":\"GlyphRenderer\"},{\"id\":\"b172b608-6031-494f-82e1-0be9bbf73f68\",\"type\":\"GlyphRenderer\"},{\"id\":\"e24c2118-6c52-47bc-99b4-dd79055741ae\",\"type\":\"GlyphRenderer\"},{\"id\":\"5d47ebbc-72dd-459d-81ad-e3be86721b26\",\"type\":\"Legend\"},{\"id\":\"8852ecf0-902d-412b-ae6d-39bbda4973af\",\"type\":\"LinearAxis\"},{\"id\":\"8d75d676-6b74-4f0a-8852-cba005e2e4d1\",\"type\":\"LinearAxis\"},{\"id\":\"5aa0851a-0b75-4bf0-b5d2-0eb0e03d8d70\",\"type\":\"Grid\"},{\"id\":\"69786a8e-ec41-440c-b543-15b983d23d4f\",\"type\":\"Grid\"}],\"title\":{\"id\":\"ab42551a-5dc6-483f-b625-740e7d54941d\",\"type\":\"Title\"},\"tool_events\":{\"id\":\"55a8e33a-8e34-4fa2-b175-c569c0ad682e\",\"type\":\"ToolEvents\"},\"toolbar\":{\"id\":\"794cac28-058d-42f0-8316-a01e1e20c76a\",\"type\":\"Toolbar\"},\"x_mapper_type\":\"auto\",\"x_range\":{\"id\":\"cc8a544f-5cfe-4f45-b774-0e6fb34e7e79\",\"type\":\"Range1d\"},\"y_mapper_type\":\"auto\",\"y_range\":{\"id\":\"52979a7b-55f4-4f8a-a5bc-f426df25d9a9\",\"type\":\"Range1d\"}},\"id\":\"b84a3c90-f453-4cac-8df6-e988839809b3\",\"subtype\":\"Chart\",\"type\":\"Plot\"},{\"attributes\":{},\"id\":\"55a8e33a-8e34-4fa2-b175-c569c0ad682e\",\"type\":\"ToolEvents\"}],\"root_ids\":[\"b84a3c90-f453-4cac-8df6-e988839809b3\"]},\"title\":\"Bokeh Application\",\"version\":\"0.12.1\"}};\n",
       "            var render_items = [{\"docid\":\"6ec40b77-9545-49a0-a439-4e4c74f69cff\",\"elementid\":\"23d83418-37db-4664-a35b-77613d904a02\",\"modelid\":\"b84a3c90-f453-4cac-8df6-e988839809b3\",\"notebook_comms_target\":\"c57d7527-1bc2-406a-8ce6-0615165caaa9\"}];\n",
       "            \n",
       "            Bokeh.embed.embed_items(docs_json, render_items);\n",
       "        });\n",
       "      },\n",
       "      function(Bokeh) {\n",
       "      }\n",
       "    ];\n",
       "  \n",
       "    function run_inline_js() {\n",
       "      for (var i = 0; i < inline_js.length; i++) {\n",
       "        inline_js[i](window.Bokeh);\n",
       "      }\n",
       "    }\n",
       "  \n",
       "    if (window._bokeh_is_loading === 0) {\n",
       "      console.log(\"Bokeh: BokehJS loaded, going straight to plotting\");\n",
       "      run_inline_js();\n",
       "    } else {\n",
       "      load_libs(js_urls, function() {\n",
       "        console.log(\"Bokeh: BokehJS plotting callback run at\", now());\n",
       "        run_inline_js();\n",
       "      });\n",
       "    }\n",
       "  }(this));\n",
       "</script>"
      ]
     },
     "metadata": {},
     "output_type": "display_data"
    },
    {
     "data": {
      "text/html": [
       "<p><code>&lt;Bokeh Notebook handle for <strong>In[4]</strong>&gt;</code></p>"
      ],
      "text/plain": [
       "<bokeh.io._CommsHandle at 0x10b5b2510>"
      ]
     },
     "execution_count": 4,
     "metadata": {},
     "output_type": "execute_result"
    }
   ],
   "source": [
    "from bokeh.charts import Scatter\n",
    "from bokeh.sampledata.autompg import autompg as df\n",
    "\n",
    "p = Scatter(df, x='mpg', y='hp', color='cyl', title=\"HP vs MPG (shaded by CYL)\",\n",
    "            xlabel=\"Miles Per Gallon\", ylabel=\"Horsepower\", legend=\"top_right\")\n",
    "\n",
    "show(p)"
   ]
  },
  {
   "cell_type": "code",
   "execution_count": 2,
   "metadata": {
    "collapsed": false
   },
   "outputs": [
    {
     "data": {
      "text/html": [
       "\n",
       "    <div class=\"bk-root\">\n",
       "        <a href=\"http://bokeh.pydata.org\" target=\"_blank\" class=\"bk-logo bk-logo-small bk-logo-notebook\"></a>\n",
       "        <span id=\"a1f3e8af-9a52-4623-92a2-f37aa474459e\">Loading BokehJS ...</span>\n",
       "    </div>"
      ]
     },
     "metadata": {},
     "output_type": "display_data"
    },
    {
     "data": {
      "application/javascript": [
       "\n",
       "(function(global) {\n",
       "  function now() {\n",
       "    return new Date();\n",
       "  }\n",
       "\n",
       "  var force = \"1\";\n",
       "\n",
       "  if (typeof (window._bokeh_onload_callbacks) === \"undefined\" || force !== \"\") {\n",
       "    window._bokeh_onload_callbacks = [];\n",
       "    window._bokeh_is_loading = undefined;\n",
       "  }\n",
       "\n",
       "  function run_callbacks() {\n",
       "    window._bokeh_onload_callbacks.forEach(function(callback) { callback() });\n",
       "    delete window._bokeh_onload_callbacks\n",
       "    console.info(\"Bokeh: all callbacks have finished\");\n",
       "  }\n",
       "\n",
       "  function load_libs(js_urls, callback) {\n",
       "    window._bokeh_onload_callbacks.push(callback);\n",
       "    if (window._bokeh_is_loading > 0) {\n",
       "      console.log(\"Bokeh: BokehJS is being loaded, scheduling callback at\", now());\n",
       "      return null;\n",
       "    }\n",
       "    if (js_urls == null || js_urls.length === 0) {\n",
       "      run_callbacks();\n",
       "      return null;\n",
       "    }\n",
       "    console.log(\"Bokeh: BokehJS not loaded, scheduling load and callback at\", now());\n",
       "    window._bokeh_is_loading = js_urls.length;\n",
       "    for (var i = 0; i < js_urls.length; i++) {\n",
       "      var url = js_urls[i];\n",
       "      var s = document.createElement('script');\n",
       "      s.src = url;\n",
       "      s.async = false;\n",
       "      s.onreadystatechange = s.onload = function() {\n",
       "        window._bokeh_is_loading--;\n",
       "        if (window._bokeh_is_loading === 0) {\n",
       "          console.log(\"Bokeh: all BokehJS libraries loaded\");\n",
       "          run_callbacks()\n",
       "        }\n",
       "      };\n",
       "      s.onerror = function() {\n",
       "        console.warn(\"failed to load library \" + url);\n",
       "      };\n",
       "      console.log(\"Bokeh: injecting script tag for BokehJS library: \", url);\n",
       "      document.getElementsByTagName(\"head\")[0].appendChild(s);\n",
       "    }\n",
       "  };\n",
       "\n",
       "  var js_urls = ['https://cdn.pydata.org/bokeh/release/bokeh-0.12.1.min.js', 'https://cdn.pydata.org/bokeh/release/bokeh-widgets-0.12.1.min.js', 'https://cdn.pydata.org/bokeh/release/bokeh-compiler-0.12.1.min.js'];\n",
       "\n",
       "  var inline_js = [\n",
       "    function(Bokeh) {\n",
       "      Bokeh.set_log_level(\"info\");\n",
       "    },\n",
       "    \n",
       "    function(Bokeh) {\n",
       "      \n",
       "      Bokeh.$(\"#a1f3e8af-9a52-4623-92a2-f37aa474459e\").text(\"BokehJS successfully loaded\");\n",
       "      var kernel = Jupyter.notebook.kernel\n",
       "      if (kernel.execute !== undefined) {\n",
       "          kernel.execute(\"import bokeh.io; bokeh.io._nb_loaded = True\");\n",
       "      }\n",
       "    },\n",
       "    function(Bokeh) {\n",
       "      console.log(\"Bokeh: injecting CSS: https://cdn.pydata.org/bokeh/release/bokeh-0.12.1.min.css\");\n",
       "      Bokeh.embed.inject_css(\"https://cdn.pydata.org/bokeh/release/bokeh-0.12.1.min.css\");\n",
       "      console.log(\"Bokeh: injecting CSS: https://cdn.pydata.org/bokeh/release/bokeh-widgets-0.12.1.min.css\");\n",
       "      Bokeh.embed.inject_css(\"https://cdn.pydata.org/bokeh/release/bokeh-widgets-0.12.1.min.css\");\n",
       "    }\n",
       "  ];\n",
       "\n",
       "  function run_inline_js() {\n",
       "    for (var i = 0; i < inline_js.length; i++) {\n",
       "      inline_js[i](window.Bokeh);\n",
       "    }\n",
       "  }\n",
       "\n",
       "  if (window._bokeh_is_loading === 0) {\n",
       "    console.log(\"Bokeh: BokehJS loaded, going straight to plotting\");\n",
       "    run_inline_js();\n",
       "  } else {\n",
       "    load_libs(js_urls, function() {\n",
       "      console.log(\"Bokeh: BokehJS plotting callback run at\", now());\n",
       "      run_inline_js();\n",
       "    });\n",
       "  }\n",
       "}(this));"
      ]
     },
     "metadata": {},
     "output_type": "display_data"
    }
   ],
   "source": [
    "from bokeh.sampledata.autompg import autompg as df\n",
    "from bokeh.charts import Scatter, output_notebook, show\n",
    "output_notebook()"
   ]
  },
  {
   "cell_type": "code",
   "execution_count": 6,
   "metadata": {
    "collapsed": false
   },
   "outputs": [
    {
     "data": {
      "text/plain": [
       "array([1, 3, 2])"
      ]
     },
     "execution_count": 6,
     "metadata": {},
     "output_type": "execute_result"
    }
   ],
   "source": [
    "df.columns\n",
    "df.origin.unique()"
   ]
  },
  {
   "cell_type": "code",
   "execution_count": 3,
   "metadata": {
    "collapsed": false
   },
   "outputs": [
    {
     "data": {
      "text/html": [
       "\n",
       "\n",
       "    <div class=\"bk-root\">\n",
       "        <div class=\"plotdiv\" id=\"b96d116c-d760-499d-9394-1c23f58449cb\"></div>\n",
       "    </div>\n",
       "<script type=\"text/javascript\">\n",
       "  \n",
       "  (function(global) {\n",
       "    function now() {\n",
       "      return new Date();\n",
       "    }\n",
       "  \n",
       "    var force = \"\";\n",
       "  \n",
       "    if (typeof (window._bokeh_onload_callbacks) === \"undefined\" || force !== \"\") {\n",
       "      window._bokeh_onload_callbacks = [];\n",
       "      window._bokeh_is_loading = undefined;\n",
       "    }\n",
       "  \n",
       "    function run_callbacks() {\n",
       "      window._bokeh_onload_callbacks.forEach(function(callback) { callback() });\n",
       "      delete window._bokeh_onload_callbacks\n",
       "      console.info(\"Bokeh: all callbacks have finished\");\n",
       "    }\n",
       "  \n",
       "    function load_libs(js_urls, callback) {\n",
       "      window._bokeh_onload_callbacks.push(callback);\n",
       "      if (window._bokeh_is_loading > 0) {\n",
       "        console.log(\"Bokeh: BokehJS is being loaded, scheduling callback at\", now());\n",
       "        return null;\n",
       "      }\n",
       "      if (js_urls == null || js_urls.length === 0) {\n",
       "        run_callbacks();\n",
       "        return null;\n",
       "      }\n",
       "      console.log(\"Bokeh: BokehJS not loaded, scheduling load and callback at\", now());\n",
       "      window._bokeh_is_loading = js_urls.length;\n",
       "      for (var i = 0; i < js_urls.length; i++) {\n",
       "        var url = js_urls[i];\n",
       "        var s = document.createElement('script');\n",
       "        s.src = url;\n",
       "        s.async = false;\n",
       "        s.onreadystatechange = s.onload = function() {\n",
       "          window._bokeh_is_loading--;\n",
       "          if (window._bokeh_is_loading === 0) {\n",
       "            console.log(\"Bokeh: all BokehJS libraries loaded\");\n",
       "            run_callbacks()\n",
       "          }\n",
       "        };\n",
       "        s.onerror = function() {\n",
       "          console.warn(\"failed to load library \" + url);\n",
       "        };\n",
       "        console.log(\"Bokeh: injecting script tag for BokehJS library: \", url);\n",
       "        document.getElementsByTagName(\"head\")[0].appendChild(s);\n",
       "      }\n",
       "    };var element = document.getElementById(\"b96d116c-d760-499d-9394-1c23f58449cb\");\n",
       "    if (element == null) {\n",
       "      console.log(\"Bokeh: ERROR: autoload.js configured with elementid 'b96d116c-d760-499d-9394-1c23f58449cb' but no matching script tag was found. \")\n",
       "      return false;\n",
       "    }\n",
       "  \n",
       "    var js_urls = [];\n",
       "  \n",
       "    var inline_js = [\n",
       "      function(Bokeh) {\n",
       "        Bokeh.$(function() {\n",
       "            var docs_json = {\"4e15fa2a-16d8-4592-bf8c-0b64019f650b\":{\"roots\":{\"references\":[{\"attributes\":{\"fill_alpha\":{\"value\":0.7},\"fill_color\":{\"value\":\"#5ab738\"},\"line_color\":{\"value\":\"#5ab738\"},\"size\":{\"units\":\"screen\",\"value\":8},\"x\":{\"field\":\"x_values\"},\"y\":{\"field\":\"y_values\"}},\"id\":\"147ed07c-3ac3-48be-98e5-1f1c26f3a3c6\",\"type\":\"Triangle\"},{\"attributes\":{\"fill_alpha\":{\"value\":0.7},\"fill_color\":{\"value\":\"#df5320\"},\"line_color\":{\"value\":\"#df5320\"},\"size\":{\"units\":\"screen\",\"value\":8},\"x\":{\"field\":\"x_values\"},\"y\":{\"field\":\"y_values\"}},\"id\":\"7293aae4-2dcd-423d-8acd-44dbc1251770\",\"type\":\"Triangle\"},{\"attributes\":{\"fill_alpha\":{\"value\":0.7},\"fill_color\":{\"value\":\"#df5320\"},\"line_color\":{\"value\":\"#df5320\"},\"size\":{\"units\":\"screen\",\"value\":8},\"x\":{\"field\":\"x_values\"},\"y\":{\"field\":\"y_values\"}},\"id\":\"fd8e5823-6c7a-4b2f-b56e-ec962d32c44b\",\"type\":\"Circle\"},{\"attributes\":{\"plot\":{\"id\":\"dd547871-a75f-4a16-b63f-5b2a4517af03\",\"subtype\":\"Chart\",\"type\":\"Plot\"}},\"id\":\"075d19d3-0ead-4da3-b4db-0b643ab15d72\",\"type\":\"PanTool\"},{\"attributes\":{\"callback\":null,\"column_names\":[\"x_values\",\"y_values\"],\"data\":{\"chart_index\":[{\"cyl\":5,\"origin\":2},{\"cyl\":5,\"origin\":2},{\"cyl\":5,\"origin\":2}],\"cyl\":[5,5,5],\"origin\":[2,2,2],\"x_values\":[20.3,25.4,36.4],\"y_values\":[103,77,67]}},\"id\":\"77d31ffb-fd23-4a2c-8186-2ea34f6fa52d\",\"type\":\"ColumnDataSource\"},{\"attributes\":{\"data_source\":{\"id\":\"77d31ffb-fd23-4a2c-8186-2ea34f6fa52d\",\"type\":\"ColumnDataSource\"},\"glyph\":{\"id\":\"7cde409f-f6e5-4092-9464-5646c44ef004\",\"type\":\"Square\"},\"hover_glyph\":null,\"nonselection_glyph\":null,\"selection_glyph\":null},\"id\":\"8892a369-8671-4fba-80cc-04e4fb58f311\",\"type\":\"GlyphRenderer\"},{\"attributes\":{\"below\":[{\"id\":\"7f0a7919-c076-4f18-838d-8acc4ed0dd0d\",\"type\":\"LinearAxis\"}],\"left\":[{\"id\":\"83f6f3b7-17fb-475f-8e7a-622703da75ed\",\"type\":\"LinearAxis\"}],\"renderers\":[{\"id\":\"192e3d79-b915-41a9-94bc-ce90ab483af0\",\"type\":\"BoxAnnotation\"},{\"id\":\"53fea69d-3a62-48e9-9420-4cd387baf74c\",\"type\":\"GlyphRenderer\"},{\"id\":\"2dc6dc32-f302-43a2-8e1f-9011ede5219a\",\"type\":\"GlyphRenderer\"},{\"id\":\"4a285e8e-779c-4b4b-986a-e7ef83176b99\",\"type\":\"GlyphRenderer\"},{\"id\":\"2b0cbba9-391d-47f8-8802-d1428f3ab54b\",\"type\":\"GlyphRenderer\"},{\"id\":\"dbe07ded-b6b4-40a2-a9fe-c4ae0e0eea88\",\"type\":\"GlyphRenderer\"},{\"id\":\"8abd6c0a-1d4c-453b-9e57-bd03c7462cf9\",\"type\":\"GlyphRenderer\"},{\"id\":\"d1aa057d-9aa8-4e42-9edb-a2c6309f7d70\",\"type\":\"GlyphRenderer\"},{\"id\":\"3402ee04-2024-4a7f-b7e8-ffc3c30c9901\",\"type\":\"GlyphRenderer\"},{\"id\":\"8892a369-8671-4fba-80cc-04e4fb58f311\",\"type\":\"GlyphRenderer\"},{\"id\":\"1d407f0e-e369-4291-8d80-fe66dd64755a\",\"type\":\"Legend\"},{\"id\":\"7f0a7919-c076-4f18-838d-8acc4ed0dd0d\",\"type\":\"LinearAxis\"},{\"id\":\"83f6f3b7-17fb-475f-8e7a-622703da75ed\",\"type\":\"LinearAxis\"},{\"id\":\"621d421b-12a6-45c7-8a6f-ba28cad34227\",\"type\":\"Grid\"},{\"id\":\"4cfbbf8e-3135-42d4-87c2-e2044a5dbbfc\",\"type\":\"Grid\"}],\"title\":{\"id\":\"62ce19cc-b441-47cb-af94-eb15f26a6d09\",\"type\":\"Title\"},\"tool_events\":{\"id\":\"dd71471f-ce50-4bc9-a5fc-dc6d2c4b6c8d\",\"type\":\"ToolEvents\"},\"toolbar\":{\"id\":\"b391a869-0504-47be-9cca-36246c9ccc5c\",\"type\":\"Toolbar\"},\"x_mapper_type\":\"auto\",\"x_range\":{\"id\":\"de451f14-ade2-4c4d-a5f5-2984e062d8dc\",\"type\":\"Range1d\"},\"y_mapper_type\":\"auto\",\"y_range\":{\"id\":\"d537b213-7e38-454b-83bb-54c9f563b882\",\"type\":\"Range1d\"}},\"id\":\"dd547871-a75f-4a16-b63f-5b2a4517af03\",\"subtype\":\"Chart\",\"type\":\"Plot\"},{\"attributes\":{\"data_source\":{\"id\":\"e8062575-3126-4b15-ba60-a9a86e7de52f\",\"type\":\"ColumnDataSource\"},\"glyph\":{\"id\":\"147ed07c-3ac3-48be-98e5-1f1c26f3a3c6\",\"type\":\"Triangle\"},\"hover_glyph\":null,\"nonselection_glyph\":null,\"selection_glyph\":null},\"id\":\"2dc6dc32-f302-43a2-8e1f-9011ede5219a\",\"type\":\"GlyphRenderer\"},{\"attributes\":{\"callback\":null,\"column_names\":[\"x_values\",\"y_values\"],\"data\":{\"chart_index\":[{\"cyl\":4,\"origin\":3},{\"cyl\":4,\"origin\":3},{\"cyl\":4,\"origin\":3},{\"cyl\":4,\"origin\":3},{\"cyl\":4,\"origin\":3},{\"cyl\":4,\"origin\":3},{\"cyl\":4,\"origin\":3},{\"cyl\":4,\"origin\":3},{\"cyl\":4,\"origin\":3},{\"cyl\":4,\"origin\":3},{\"cyl\":4,\"origin\":3},{\"cyl\":4,\"origin\":3},{\"cyl\":4,\"origin\":3},{\"cyl\":4,\"origin\":3},{\"cyl\":4,\"origin\":3},{\"cyl\":4,\"origin\":3},{\"cyl\":4,\"origin\":3},{\"cyl\":4,\"origin\":3},{\"cyl\":4,\"origin\":3},{\"cyl\":4,\"origin\":3},{\"cyl\":4,\"origin\":3},{\"cyl\":4,\"origin\":3},{\"cyl\":4,\"origin\":3},{\"cyl\":4,\"origin\":3},{\"cyl\":4,\"origin\":3},{\"cyl\":4,\"origin\":3},{\"cyl\":4,\"origin\":3},{\"cyl\":4,\"origin\":3},{\"cyl\":4,\"origin\":3},{\"cyl\":4,\"origin\":3},{\"cyl\":4,\"origin\":3},{\"cyl\":4,\"origin\":3},{\"cyl\":4,\"origin\":3},{\"cyl\":4,\"origin\":3},{\"cyl\":4,\"origin\":3},{\"cyl\":4,\"origin\":3},{\"cyl\":4,\"origin\":3},{\"cyl\":4,\"origin\":3},{\"cyl\":4,\"origin\":3},{\"cyl\":4,\"origin\":3},{\"cyl\":4,\"origin\":3},{\"cyl\":4,\"origin\":3},{\"cyl\":4,\"origin\":3},{\"cyl\":4,\"origin\":3},{\"cyl\":4,\"origin\":3},{\"cyl\":4,\"origin\":3},{\"cyl\":4,\"origin\":3},{\"cyl\":4,\"origin\":3},{\"cyl\":4,\"origin\":3},{\"cyl\":4,\"origin\":3},{\"cyl\":4,\"origin\":3},{\"cyl\":4,\"origin\":3},{\"cyl\":4,\"origin\":3},{\"cyl\":4,\"origin\":3},{\"cyl\":4,\"origin\":3},{\"cyl\":4,\"origin\":3},{\"cyl\":4,\"origin\":3},{\"cyl\":4,\"origin\":3},{\"cyl\":4,\"origin\":3},{\"cyl\":4,\"origin\":3},{\"cyl\":4,\"origin\":3},{\"cyl\":4,\"origin\":3},{\"cyl\":4,\"origin\":3},{\"cyl\":4,\"origin\":3},{\"cyl\":4,\"origin\":3},{\"cyl\":4,\"origin\":3},{\"cyl\":4,\"origin\":3},{\"cyl\":4,\"origin\":3},{\"cyl\":4,\"origin\":3}],\"cyl\":[4,4,4,4,4,4,4,4,4,4,4,4,4,4,4,4,4,4,4,4,4,4,4,4,4,4,4,4,4,4,4,4,4,4,4,4,4,4,4,4,4,4,4,4,4,4,4,4,4,4,4,4,4,4,4,4,4,4,4,4,4,4,4,4,4,4,4,4,4],\"origin\":[3,3,3,3,3,3,3,3,3,3,3,3,3,3,3,3,3,3,3,3,3,3,3,3,3,3,3,3,3,3,3,3,3,3,3,3,3,3,3,3,3,3,3,3,3,3,3,3,3,3,3,3,3,3,3,3,3,3,3,3,3,3,3,3,3,3,3,3,3],\"x_values\":[24.0,27.0,27.0,25.0,31.0,35.0,24.0,28.0,23.0,27.0,20.0,22.0,31.0,32.0,31.0,32.0,24.0,26.0,29.0,24.0,24.0,33.0,33.0,32.0,28.0,31.5,33.5,26.0,30.0,32.8,39.4,36.1,27.5,27.2,21.1,23.9,29.5,34.1,31.8,38.1,37.2,29.8,31.3,37.0,32.2,46.6,40.8,44.6,33.8,32.4,39.1,35.1,32.3,37.0,37.7,34.1,33.7,32.4,32.9,31.6,37.0,31.0,36.0,36.0,34.0,38.0,32.0,38.0,32.0],\"y_values\":[95,88,88,95,65,69,95,92,97,88,88,94,67,65,52,61,97,93,75,96,97,53,53,70,75,68,70,75,67,52,70,60,95,97,95,97,68,65,65,60,65,90,75,92,75,65,65,67,67,72,58,60,67,65,62,68,75,75,100,74,68,68,88,75,70,67,67,67,96]}},\"id\":\"e8062575-3126-4b15-ba60-a9a86e7de52f\",\"type\":\"ColumnDataSource\"},{\"attributes\":{\"callback\":null,\"end\":248.4,\"start\":27.599999999999998},\"id\":\"d537b213-7e38-454b-83bb-54c9f563b882\",\"type\":\"Range1d\"},{\"attributes\":{},\"id\":\"1983cd7a-d313-4250-ba6c-d906d6a31698\",\"type\":\"BasicTickFormatter\"},{\"attributes\":{\"data_source\":{\"id\":\"bf41a890-ddd7-47f6-98ed-23cdc401cc18\",\"type\":\"ColumnDataSource\"},\"glyph\":{\"id\":\"376ccedd-9640-487d-9380-b81c1a61bc31\",\"type\":\"Square\"},\"hover_glyph\":null,\"nonselection_glyph\":null,\"selection_glyph\":null},\"id\":\"2b0cbba9-391d-47f8-8802-d1428f3ab54b\",\"type\":\"GlyphRenderer\"},{\"attributes\":{\"plot\":null,\"text\":\"Auto MPG\"},\"id\":\"62ce19cc-b441-47cb-af94-eb15f26a6d09\",\"type\":\"Title\"},{\"attributes\":{\"data_source\":{\"id\":\"69b06b43-0ad8-4df9-b0a4-dacb79f35d83\",\"type\":\"ColumnDataSource\"},\"glyph\":{\"id\":\"9be59f4b-6026-4f25-9be4-7d6876465fa9\",\"type\":\"Circle\"},\"hover_glyph\":null,\"nonselection_glyph\":null,\"selection_glyph\":null},\"id\":\"dbe07ded-b6b4-40a2-a9fe-c4ae0e0eea88\",\"type\":\"GlyphRenderer\"},{\"attributes\":{\"legends\":[[\"(1, 8)\",[{\"id\":\"53fea69d-3a62-48e9-9420-4cd387baf74c\",\"type\":\"GlyphRenderer\"}]],[\"(3, 4)\",[{\"id\":\"2dc6dc32-f302-43a2-8e1f-9011ede5219a\",\"type\":\"GlyphRenderer\"}]],[\"(1, 6)\",[{\"id\":\"4a285e8e-779c-4b4b-986a-e7ef83176b99\",\"type\":\"GlyphRenderer\"}]],[\"(2, 4)\",[{\"id\":\"2b0cbba9-391d-47f8-8802-d1428f3ab54b\",\"type\":\"GlyphRenderer\"}]],[\"(1, 4)\",[{\"id\":\"dbe07ded-b6b4-40a2-a9fe-c4ae0e0eea88\",\"type\":\"GlyphRenderer\"}]],[\"(3, 3)\",[{\"id\":\"8abd6c0a-1d4c-453b-9e57-bd03c7462cf9\",\"type\":\"GlyphRenderer\"}]],[\"(3, 6)\",[{\"id\":\"d1aa057d-9aa8-4e42-9edb-a2c6309f7d70\",\"type\":\"GlyphRenderer\"}]],[\"(2, 6)\",[{\"id\":\"3402ee04-2024-4a7f-b7e8-ffc3c30c9901\",\"type\":\"GlyphRenderer\"}]],[\"(2, 5)\",[{\"id\":\"8892a369-8671-4fba-80cc-04e4fb58f311\",\"type\":\"GlyphRenderer\"}]]],\"location\":\"top_left\",\"plot\":{\"id\":\"dd547871-a75f-4a16-b63f-5b2a4517af03\",\"subtype\":\"Chart\",\"type\":\"Plot\"}},\"id\":\"1d407f0e-e369-4291-8d80-fe66dd64755a\",\"type\":\"Legend\"},{\"attributes\":{\"plot\":{\"id\":\"dd547871-a75f-4a16-b63f-5b2a4517af03\",\"subtype\":\"Chart\",\"type\":\"Plot\"}},\"id\":\"666ae584-dd9e-43f0-a9ed-dc54a025b88a\",\"type\":\"WheelZoomTool\"},{\"attributes\":{\"callback\":null,\"end\":50.36,\"start\":5.24},\"id\":\"de451f14-ade2-4c4d-a5f5-2984e062d8dc\",\"type\":\"Range1d\"},{\"attributes\":{\"callback\":null,\"column_names\":[\"x_values\",\"y_values\"],\"data\":{\"chart_index\":[{\"cyl\":6,\"origin\":2},{\"cyl\":6,\"origin\":2},{\"cyl\":6,\"origin\":2},{\"cyl\":6,\"origin\":2}],\"cyl\":[6,6,6,6],\"origin\":[2,2,2,2],\"x_values\":[16.5,17.0,16.2,30.7],\"y_values\":[120,125,133,76]}},\"id\":\"d7e1169f-013a-4831-a739-647a90057739\",\"type\":\"ColumnDataSource\"},{\"attributes\":{\"dimension\":1,\"plot\":{\"id\":\"dd547871-a75f-4a16-b63f-5b2a4517af03\",\"subtype\":\"Chart\",\"type\":\"Plot\"},\"ticker\":{\"id\":\"4dbb28e1-a99d-4beb-9330-1e99fd6a1603\",\"type\":\"BasicTicker\"}},\"id\":\"4cfbbf8e-3135-42d4-87c2-e2044a5dbbfc\",\"type\":\"Grid\"},{\"attributes\":{\"fill_alpha\":{\"value\":0.7},\"fill_color\":{\"value\":\"#5ab738\"},\"line_color\":{\"value\":\"#5ab738\"},\"size\":{\"units\":\"screen\",\"value\":8},\"x\":{\"field\":\"x_values\"},\"y\":{\"field\":\"y_values\"}},\"id\":\"9be59f4b-6026-4f25-9be4-7d6876465fa9\",\"type\":\"Circle\"},{\"attributes\":{},\"id\":\"f0d061cc-807d-4ca9-8208-f37d9309effe\",\"type\":\"BasicTicker\"},{\"attributes\":{},\"id\":\"4dbb28e1-a99d-4beb-9330-1e99fd6a1603\",\"type\":\"BasicTicker\"},{\"attributes\":{\"axis_label\":\"Miles Per Gallon\",\"formatter\":{\"id\":\"23bf2d08-0e3a-47db-839b-18f3caaf44be\",\"type\":\"BasicTickFormatter\"},\"plot\":{\"id\":\"dd547871-a75f-4a16-b63f-5b2a4517af03\",\"subtype\":\"Chart\",\"type\":\"Plot\"},\"ticker\":{\"id\":\"f0d061cc-807d-4ca9-8208-f37d9309effe\",\"type\":\"BasicTicker\"}},\"id\":\"7f0a7919-c076-4f18-838d-8acc4ed0dd0d\",\"type\":\"LinearAxis\"},{\"attributes\":{\"fill_alpha\":{\"value\":0.7},\"fill_color\":{\"value\":\"#5ab738\"},\"line_color\":{\"value\":\"#5ab738\"},\"size\":{\"units\":\"screen\",\"value\":8},\"x\":{\"field\":\"x_values\"},\"y\":{\"field\":\"y_values\"}},\"id\":\"376ccedd-9640-487d-9380-b81c1a61bc31\",\"type\":\"Square\"},{\"attributes\":{\"fill_alpha\":{\"value\":0.7},\"fill_color\":{\"value\":\"#407ee7\"},\"line_color\":{\"value\":\"#407ee7\"},\"size\":{\"units\":\"screen\",\"value\":8},\"x\":{\"field\":\"x_values\"},\"y\":{\"field\":\"y_values\"}},\"id\":\"7cde409f-f6e5-4092-9464-5646c44ef004\",\"type\":\"Square\"},{\"attributes\":{\"data_source\":{\"id\":\"be6965dc-f915-46d3-9061-3ed867e98148\",\"type\":\"ColumnDataSource\"},\"glyph\":{\"id\":\"7c2a62c3-947d-457f-915c-ddc800ba4143\",\"type\":\"Triangle\"},\"hover_glyph\":null,\"nonselection_glyph\":null,\"selection_glyph\":null},\"id\":\"8abd6c0a-1d4c-453b-9e57-bd03c7462cf9\",\"type\":\"GlyphRenderer\"},{\"attributes\":{\"callback\":null,\"column_names\":[\"x_values\",\"y_values\"],\"data\":{\"chart_index\":[{\"cyl\":6,\"origin\":1},{\"cyl\":6,\"origin\":1},{\"cyl\":6,\"origin\":1},{\"cyl\":6,\"origin\":1},{\"cyl\":6,\"origin\":1},{\"cyl\":6,\"origin\":1},{\"cyl\":6,\"origin\":1},{\"cyl\":6,\"origin\":1},{\"cyl\":6,\"origin\":1},{\"cyl\":6,\"origin\":1},{\"cyl\":6,\"origin\":1},{\"cyl\":6,\"origin\":1},{\"cyl\":6,\"origin\":1},{\"cyl\":6,\"origin\":1},{\"cyl\":6,\"origin\":1},{\"cyl\":6,\"origin\":1},{\"cyl\":6,\"origin\":1},{\"cyl\":6,\"origin\":1},{\"cyl\":6,\"origin\":1},{\"cyl\":6,\"origin\":1},{\"cyl\":6,\"origin\":1},{\"cyl\":6,\"origin\":1},{\"cyl\":6,\"origin\":1},{\"cyl\":6,\"origin\":1},{\"cyl\":6,\"origin\":1},{\"cyl\":6,\"origin\":1},{\"cyl\":6,\"origin\":1},{\"cyl\":6,\"origin\":1},{\"cyl\":6,\"origin\":1},{\"cyl\":6,\"origin\":1},{\"cyl\":6,\"origin\":1},{\"cyl\":6,\"origin\":1},{\"cyl\":6,\"origin\":1},{\"cyl\":6,\"origin\":1},{\"cyl\":6,\"origin\":1},{\"cyl\":6,\"origin\":1},{\"cyl\":6,\"origin\":1},{\"cyl\":6,\"origin\":1},{\"cyl\":6,\"origin\":1},{\"cyl\":6,\"origin\":1},{\"cyl\":6,\"origin\":1},{\"cyl\":6,\"origin\":1},{\"cyl\":6,\"origin\":1},{\"cyl\":6,\"origin\":1},{\"cyl\":6,\"origin\":1},{\"cyl\":6,\"origin\":1},{\"cyl\":6,\"origin\":1},{\"cyl\":6,\"origin\":1},{\"cyl\":6,\"origin\":1},{\"cyl\":6,\"origin\":1},{\"cyl\":6,\"origin\":1},{\"cyl\":6,\"origin\":1},{\"cyl\":6,\"origin\":1},{\"cyl\":6,\"origin\":1},{\"cyl\":6,\"origin\":1},{\"cyl\":6,\"origin\":1},{\"cyl\":6,\"origin\":1},{\"cyl\":6,\"origin\":1},{\"cyl\":6,\"origin\":1},{\"cyl\":6,\"origin\":1},{\"cyl\":6,\"origin\":1},{\"cyl\":6,\"origin\":1},{\"cyl\":6,\"origin\":1},{\"cyl\":6,\"origin\":1},{\"cyl\":6,\"origin\":1},{\"cyl\":6,\"origin\":1},{\"cyl\":6,\"origin\":1},{\"cyl\":6,\"origin\":1},{\"cyl\":6,\"origin\":1},{\"cyl\":6,\"origin\":1},{\"cyl\":6,\"origin\":1},{\"cyl\":6,\"origin\":1},{\"cyl\":6,\"origin\":1}],\"cyl\":[6,6,6,6,6,6,6,6,6,6,6,6,6,6,6,6,6,6,6,6,6,6,6,6,6,6,6,6,6,6,6,6,6,6,6,6,6,6,6,6,6,6,6,6,6,6,6,6,6,6,6,6,6,6,6,6,6,6,6,6,6,6,6,6,6,6,6,6,6,6,6,6,6],\"origin\":[1,1,1,1,1,1,1,1,1,1,1,1,1,1,1,1,1,1,1,1,1,1,1,1,1,1,1,1,1,1,1,1,1,1,1,1,1,1,1,1,1,1,1,1,1,1,1,1,1,1,1,1,1,1,1,1,1,1,1,1,1,1,1,1,1,1,1,1,1,1,1,1,1],\"x_values\":[22.0,18.0,21.0,21.0,19.0,16.0,17.0,19.0,18.0,18.0,19.0,18.0,18.0,16.0,18.0,18.0,23.0,18.0,21.0,20.0,19.0,15.0,16.0,16.0,18.0,19.0,18.0,15.0,15.0,17.0,16.0,15.0,18.0,21.0,20.0,18.0,19.0,22.0,22.0,24.0,22.5,20.0,18.0,18.5,17.5,17.5,20.5,19.0,18.5,19.2,20.5,20.2,20.5,19.4,20.6,20.8,18.6,18.1,17.7,21.5,19.8,20.2,20.6,28.8,26.8,19.1,23.5,22.4,20.2,17.6,25.0,38.0,22.0],\"y_values\":[95,97,85,90,100,105,100,88,100,110,100,88,105,100,100,88,95,100,107,95,100,100,100,110,105,95,105,72,72,110,105,110,95,110,100,97,90,100,105,81,90,100,78,110,95,110,105,100,98,105,95,85,100,90,105,85,110,120,165,115,85,90,110,115,115,90,110,110,88,85,110,85,112]}},\"id\":\"1f88a488-3a53-43ff-90ab-39098a134a32\",\"type\":\"ColumnDataSource\"},{\"attributes\":{\"data_source\":{\"id\":\"01593296-9abb-4651-bab5-f2b6cc027fc4\",\"type\":\"ColumnDataSource\"},\"glyph\":{\"id\":\"7293aae4-2dcd-423d-8acd-44dbc1251770\",\"type\":\"Triangle\"},\"hover_glyph\":null,\"nonselection_glyph\":null,\"selection_glyph\":null},\"id\":\"d1aa057d-9aa8-4e42-9edb-a2c6309f7d70\",\"type\":\"GlyphRenderer\"},{\"attributes\":{\"callback\":null,\"column_names\":[\"x_values\",\"y_values\"],\"data\":{\"chart_index\":[{\"cyl\":4,\"origin\":1},{\"cyl\":4,\"origin\":1},{\"cyl\":4,\"origin\":1},{\"cyl\":4,\"origin\":1},{\"cyl\":4,\"origin\":1},{\"cyl\":4,\"origin\":1},{\"cyl\":4,\"origin\":1},{\"cyl\":4,\"origin\":1},{\"cyl\":4,\"origin\":1},{\"cyl\":4,\"origin\":1},{\"cyl\":4,\"origin\":1},{\"cyl\":4,\"origin\":1},{\"cyl\":4,\"origin\":1},{\"cyl\":4,\"origin\":1},{\"cyl\":4,\"origin\":1},{\"cyl\":4,\"origin\":1},{\"cyl\":4,\"origin\":1},{\"cyl\":4,\"origin\":1},{\"cyl\":4,\"origin\":1},{\"cyl\":4,\"origin\":1},{\"cyl\":4,\"origin\":1},{\"cyl\":4,\"origin\":1},{\"cyl\":4,\"origin\":1},{\"cyl\":4,\"origin\":1},{\"cyl\":4,\"origin\":1},{\"cyl\":4,\"origin\":1},{\"cyl\":4,\"origin\":1},{\"cyl\":4,\"origin\":1},{\"cyl\":4,\"origin\":1},{\"cyl\":4,\"origin\":1},{\"cyl\":4,\"origin\":1},{\"cyl\":4,\"origin\":1},{\"cyl\":4,\"origin\":1},{\"cyl\":4,\"origin\":1},{\"cyl\":4,\"origin\":1},{\"cyl\":4,\"origin\":1},{\"cyl\":4,\"origin\":1},{\"cyl\":4,\"origin\":1},{\"cyl\":4,\"origin\":1},{\"cyl\":4,\"origin\":1},{\"cyl\":4,\"origin\":1},{\"cyl\":4,\"origin\":1},{\"cyl\":4,\"origin\":1},{\"cyl\":4,\"origin\":1},{\"cyl\":4,\"origin\":1},{\"cyl\":4,\"origin\":1},{\"cyl\":4,\"origin\":1},{\"cyl\":4,\"origin\":1},{\"cyl\":4,\"origin\":1},{\"cyl\":4,\"origin\":1},{\"cyl\":4,\"origin\":1},{\"cyl\":4,\"origin\":1},{\"cyl\":4,\"origin\":1},{\"cyl\":4,\"origin\":1},{\"cyl\":4,\"origin\":1},{\"cyl\":4,\"origin\":1},{\"cyl\":4,\"origin\":1},{\"cyl\":4,\"origin\":1},{\"cyl\":4,\"origin\":1},{\"cyl\":4,\"origin\":1},{\"cyl\":4,\"origin\":1},{\"cyl\":4,\"origin\":1},{\"cyl\":4,\"origin\":1},{\"cyl\":4,\"origin\":1},{\"cyl\":4,\"origin\":1},{\"cyl\":4,\"origin\":1},{\"cyl\":4,\"origin\":1},{\"cyl\":4,\"origin\":1},{\"cyl\":4,\"origin\":1}],\"cyl\":[4,4,4,4,4,4,4,4,4,4,4,4,4,4,4,4,4,4,4,4,4,4,4,4,4,4,4,4,4,4,4,4,4,4,4,4,4,4,4,4,4,4,4,4,4,4,4,4,4,4,4,4,4,4,4,4,4,4,4,4,4,4,4,4,4,4,4,4,4],\"origin\":[1,1,1,1,1,1,1,1,1,1,1,1,1,1,1,1,1,1,1,1,1,1,1,1,1,1,1,1,1,1,1,1,1,1,1,1,1,1,1,1,1,1,1,1,1,1,1,1,1,1,1,1,1,1,1,1,1,1,1,1,1,1,1,1,1,1,1,1,1],\"x_values\":[28.0,22.0,23.0,26.0,25.0,20.0,21.0,22.0,28.0,21.0,19.0,26.0,25.0,28.0,23.0,23.0,25.0,26.0,29.0,24.5,26.5,30.0,25.5,24.5,25.5,30.5,33.5,36.1,25.1,30.0,30.9,23.2,23.8,22.3,35.7,27.4,34.2,34.5,28.4,33.5,32.1,28.0,26.4,24.3,27.9,27.2,26.6,25.8,30.0,39.0,34.7,34.4,29.9,28.0,27.0,34.0,31.0,29.0,27.0,24.0,38.0,36.0,26.0,36.0,27.0,27.0,32.0,28.0,31.0],\"y_values\":[90,72,86,70,80,90,86,86,80,72,85,80,75,75,83,78,92,79,52,60,72,80,96,88,89,63,83,66,88,68,75,105,85,88,80,80,70,70,90,90,70,90,88,90,105,84,84,92,84,64,63,65,65,88,88,88,85,84,90,92,63,70,92,84,90,86,84,79,82]}},\"id\":\"69b06b43-0ad8-4df9-b0a4-dacb79f35d83\",\"type\":\"ColumnDataSource\"},{\"attributes\":{\"plot\":{\"id\":\"dd547871-a75f-4a16-b63f-5b2a4517af03\",\"subtype\":\"Chart\",\"type\":\"Plot\"}},\"id\":\"16f24b18-b930-48be-9c13-85a94afc5b7e\",\"type\":\"ResetTool\"},{\"attributes\":{\"callback\":null,\"column_names\":[\"x_values\",\"y_values\"],\"data\":{\"chart_index\":[{\"cyl\":4,\"origin\":2},{\"cyl\":4,\"origin\":2},{\"cyl\":4,\"origin\":2},{\"cyl\":4,\"origin\":2},{\"cyl\":4,\"origin\":2},{\"cyl\":4,\"origin\":2},{\"cyl\":4,\"origin\":2},{\"cyl\":4,\"origin\":2},{\"cyl\":4,\"origin\":2},{\"cyl\":4,\"origin\":2},{\"cyl\":4,\"origin\":2},{\"cyl\":4,\"origin\":2},{\"cyl\":4,\"origin\":2},{\"cyl\":4,\"origin\":2},{\"cyl\":4,\"origin\":2},{\"cyl\":4,\"origin\":2},{\"cyl\":4,\"origin\":2},{\"cyl\":4,\"origin\":2},{\"cyl\":4,\"origin\":2},{\"cyl\":4,\"origin\":2},{\"cyl\":4,\"origin\":2},{\"cyl\":4,\"origin\":2},{\"cyl\":4,\"origin\":2},{\"cyl\":4,\"origin\":2},{\"cyl\":4,\"origin\":2},{\"cyl\":4,\"origin\":2},{\"cyl\":4,\"origin\":2},{\"cyl\":4,\"origin\":2},{\"cyl\":4,\"origin\":2},{\"cyl\":4,\"origin\":2},{\"cyl\":4,\"origin\":2},{\"cyl\":4,\"origin\":2},{\"cyl\":4,\"origin\":2},{\"cyl\":4,\"origin\":2},{\"cyl\":4,\"origin\":2},{\"cyl\":4,\"origin\":2},{\"cyl\":4,\"origin\":2},{\"cyl\":4,\"origin\":2},{\"cyl\":4,\"origin\":2},{\"cyl\":4,\"origin\":2},{\"cyl\":4,\"origin\":2},{\"cyl\":4,\"origin\":2},{\"cyl\":4,\"origin\":2},{\"cyl\":4,\"origin\":2},{\"cyl\":4,\"origin\":2},{\"cyl\":4,\"origin\":2},{\"cyl\":4,\"origin\":2},{\"cyl\":4,\"origin\":2},{\"cyl\":4,\"origin\":2},{\"cyl\":4,\"origin\":2},{\"cyl\":4,\"origin\":2},{\"cyl\":4,\"origin\":2},{\"cyl\":4,\"origin\":2},{\"cyl\":4,\"origin\":2},{\"cyl\":4,\"origin\":2},{\"cyl\":4,\"origin\":2},{\"cyl\":4,\"origin\":2},{\"cyl\":4,\"origin\":2},{\"cyl\":4,\"origin\":2},{\"cyl\":4,\"origin\":2},{\"cyl\":4,\"origin\":2}],\"cyl\":[4,4,4,4,4,4,4,4,4,4,4,4,4,4,4,4,4,4,4,4,4,4,4,4,4,4,4,4,4,4,4,4,4,4,4,4,4,4,4,4,4,4,4,4,4,4,4,4,4,4,4,4,4,4,4,4,4,4,4,4,4],\"origin\":[2,2,2,2,2,2,2,2,2,2,2,2,2,2,2,2,2,2,2,2,2,2,2,2,2,2,2,2,2,2,2,2,2,2,2,2,2,2,2,2,2,2,2,2,2,2,2,2,2,2,2,2,2,2,2,2,2,2,2,2,2],\"x_values\":[26.0,25.0,24.0,25.0,26.0,28.0,30.0,30.0,27.0,23.0,18.0,22.0,21.0,26.0,26.0,26.0,29.0,24.0,20.0,19.0,24.0,29.0,26.0,26.0,24.0,26.0,31.0,25.0,29.0,23.0,23.0,22.0,25.0,28.0,25.0,27.0,29.0,29.5,20.0,19.0,36.0,29.0,30.5,21.5,43.1,21.6,31.5,31.9,27.2,37.3,41.5,34.3,44.3,43.4,30.0,29.8,35.0,33.0,28.1,36.0,44.0],\"y_values\":[46,87,90,95,113,90,70,76,60,54,112,76,87,69,46,90,49,75,91,112,110,83,67,78,75,75,67,71,70,95,88,98,115,86,81,83,70,71,102,88,58,78,78,110,48,115,71,71,71,69,76,78,48,48,67,62,88,74,80,74,52]}},\"id\":\"bf41a890-ddd7-47f6-98ed-23cdc401cc18\",\"type\":\"ColumnDataSource\"},{\"attributes\":{},\"id\":\"dd71471f-ce50-4bc9-a5fc-dc6d2c4b6c8d\",\"type\":\"ToolEvents\"},{\"attributes\":{\"callback\":null,\"column_names\":[\"x_values\",\"y_values\"],\"data\":{\"chart_index\":[{\"cyl\":3,\"origin\":3},{\"cyl\":3,\"origin\":3},{\"cyl\":3,\"origin\":3},{\"cyl\":3,\"origin\":3}],\"cyl\":[3,3,3,3],\"origin\":[3,3,3,3],\"x_values\":[19.0,18.0,21.5,23.7],\"y_values\":[97,90,110,100]}},\"id\":\"be6965dc-f915-46d3-9061-3ed867e98148\",\"type\":\"ColumnDataSource\"},{\"attributes\":{\"bottom_units\":\"screen\",\"fill_alpha\":{\"value\":0.5},\"fill_color\":{\"value\":\"lightgrey\"},\"left_units\":\"screen\",\"level\":\"overlay\",\"line_alpha\":{\"value\":1.0},\"line_color\":{\"value\":\"black\"},\"line_dash\":[4,4],\"line_width\":{\"value\":2},\"plot\":null,\"render_mode\":\"css\",\"right_units\":\"screen\",\"top_units\":\"screen\"},\"id\":\"192e3d79-b915-41a9-94bc-ce90ab483af0\",\"type\":\"BoxAnnotation\"},{\"attributes\":{\"plot\":{\"id\":\"dd547871-a75f-4a16-b63f-5b2a4517af03\",\"subtype\":\"Chart\",\"type\":\"Plot\"},\"ticker\":{\"id\":\"f0d061cc-807d-4ca9-8208-f37d9309effe\",\"type\":\"BasicTicker\"}},\"id\":\"621d421b-12a6-45c7-8a6f-ba28cad34227\",\"type\":\"Grid\"},{\"attributes\":{\"data_source\":{\"id\":\"dd937841-4fc8-4a20-b601-9b5980e27d46\",\"type\":\"ColumnDataSource\"},\"glyph\":{\"id\":\"fda42dc4-bf2f-4ea6-a313-dd6b02490125\",\"type\":\"Circle\"},\"hover_glyph\":null,\"nonselection_glyph\":null,\"selection_glyph\":null},\"id\":\"53fea69d-3a62-48e9-9420-4cd387baf74c\",\"type\":\"GlyphRenderer\"},{\"attributes\":{\"data_source\":{\"id\":\"1f88a488-3a53-43ff-90ab-39098a134a32\",\"type\":\"ColumnDataSource\"},\"glyph\":{\"id\":\"fd8e5823-6c7a-4b2f-b56e-ec962d32c44b\",\"type\":\"Circle\"},\"hover_glyph\":null,\"nonselection_glyph\":null,\"selection_glyph\":null},\"id\":\"4a285e8e-779c-4b4b-986a-e7ef83176b99\",\"type\":\"GlyphRenderer\"},{\"attributes\":{\"plot\":{\"id\":\"dd547871-a75f-4a16-b63f-5b2a4517af03\",\"subtype\":\"Chart\",\"type\":\"Plot\"}},\"id\":\"99f1766e-596f-49e0-a7c5-8eb30839a26b\",\"type\":\"HelpTool\"},{\"attributes\":{\"overlay\":{\"id\":\"192e3d79-b915-41a9-94bc-ce90ab483af0\",\"type\":\"BoxAnnotation\"},\"plot\":{\"id\":\"dd547871-a75f-4a16-b63f-5b2a4517af03\",\"subtype\":\"Chart\",\"type\":\"Plot\"}},\"id\":\"619073a6-b82b-4df1-8a74-9c8d359b16ad\",\"type\":\"BoxZoomTool\"},{\"attributes\":{\"plot\":{\"id\":\"dd547871-a75f-4a16-b63f-5b2a4517af03\",\"subtype\":\"Chart\",\"type\":\"Plot\"}},\"id\":\"2cd9b889-4234-45bc-985b-c651765e068e\",\"type\":\"SaveTool\"},{\"attributes\":{\"fill_alpha\":{\"value\":0.7},\"fill_color\":{\"value\":\"#df5320\"},\"line_color\":{\"value\":\"#df5320\"},\"size\":{\"units\":\"screen\",\"value\":8},\"x\":{\"field\":\"x_values\"},\"y\":{\"field\":\"y_values\"}},\"id\":\"6f189db7-a2f7-4012-ac1e-71fae06cc635\",\"type\":\"Square\"},{\"attributes\":{\"fill_alpha\":{\"value\":0.7},\"fill_color\":{\"value\":\"#f22c40\"},\"line_color\":{\"value\":\"#f22c40\"},\"size\":{\"units\":\"screen\",\"value\":8},\"x\":{\"field\":\"x_values\"},\"y\":{\"field\":\"y_values\"}},\"id\":\"7c2a62c3-947d-457f-915c-ddc800ba4143\",\"type\":\"Triangle\"},{\"attributes\":{\"callback\":null,\"column_names\":[\"x_values\",\"y_values\"],\"data\":{\"chart_index\":[{\"cyl\":6,\"origin\":3},{\"cyl\":6,\"origin\":3},{\"cyl\":6,\"origin\":3},{\"cyl\":6,\"origin\":3},{\"cyl\":6,\"origin\":3},{\"cyl\":6,\"origin\":3}],\"cyl\":[6,6,6,6,6,6],\"origin\":[3,3,3,3,3,3],\"x_values\":[20.0,19.0,22.0,32.7,25.4,24.2],\"y_values\":[122,108,97,132,116,120]}},\"id\":\"01593296-9abb-4651-bab5-f2b6cc027fc4\",\"type\":\"ColumnDataSource\"},{\"attributes\":{\"axis_label\":\"Horsepower\",\"formatter\":{\"id\":\"1983cd7a-d313-4250-ba6c-d906d6a31698\",\"type\":\"BasicTickFormatter\"},\"plot\":{\"id\":\"dd547871-a75f-4a16-b63f-5b2a4517af03\",\"subtype\":\"Chart\",\"type\":\"Plot\"},\"ticker\":{\"id\":\"4dbb28e1-a99d-4beb-9330-1e99fd6a1603\",\"type\":\"BasicTicker\"}},\"id\":\"83f6f3b7-17fb-475f-8e7a-622703da75ed\",\"type\":\"LinearAxis\"},{\"attributes\":{\"callback\":null,\"column_names\":[\"x_values\",\"y_values\"],\"data\":{\"chart_index\":[{\"cyl\":8,\"origin\":1},{\"cyl\":8,\"origin\":1},{\"cyl\":8,\"origin\":1},{\"cyl\":8,\"origin\":1},{\"cyl\":8,\"origin\":1},{\"cyl\":8,\"origin\":1},{\"cyl\":8,\"origin\":1},{\"cyl\":8,\"origin\":1},{\"cyl\":8,\"origin\":1},{\"cyl\":8,\"origin\":1},{\"cyl\":8,\"origin\":1},{\"cyl\":8,\"origin\":1},{\"cyl\":8,\"origin\":1},{\"cyl\":8,\"origin\":1},{\"cyl\":8,\"origin\":1},{\"cyl\":8,\"origin\":1},{\"cyl\":8,\"origin\":1},{\"cyl\":8,\"origin\":1},{\"cyl\":8,\"origin\":1},{\"cyl\":8,\"origin\":1},{\"cyl\":8,\"origin\":1},{\"cyl\":8,\"origin\":1},{\"cyl\":8,\"origin\":1},{\"cyl\":8,\"origin\":1},{\"cyl\":8,\"origin\":1},{\"cyl\":8,\"origin\":1},{\"cyl\":8,\"origin\":1},{\"cyl\":8,\"origin\":1},{\"cyl\":8,\"origin\":1},{\"cyl\":8,\"origin\":1},{\"cyl\":8,\"origin\":1},{\"cyl\":8,\"origin\":1},{\"cyl\":8,\"origin\":1},{\"cyl\":8,\"origin\":1},{\"cyl\":8,\"origin\":1},{\"cyl\":8,\"origin\":1},{\"cyl\":8,\"origin\":1},{\"cyl\":8,\"origin\":1},{\"cyl\":8,\"origin\":1},{\"cyl\":8,\"origin\":1},{\"cyl\":8,\"origin\":1},{\"cyl\":8,\"origin\":1},{\"cyl\":8,\"origin\":1},{\"cyl\":8,\"origin\":1},{\"cyl\":8,\"origin\":1},{\"cyl\":8,\"origin\":1},{\"cyl\":8,\"origin\":1},{\"cyl\":8,\"origin\":1},{\"cyl\":8,\"origin\":1},{\"cyl\":8,\"origin\":1},{\"cyl\":8,\"origin\":1},{\"cyl\":8,\"origin\":1},{\"cyl\":8,\"origin\":1},{\"cyl\":8,\"origin\":1},{\"cyl\":8,\"origin\":1},{\"cyl\":8,\"origin\":1},{\"cyl\":8,\"origin\":1},{\"cyl\":8,\"origin\":1},{\"cyl\":8,\"origin\":1},{\"cyl\":8,\"origin\":1},{\"cyl\":8,\"origin\":1},{\"cyl\":8,\"origin\":1},{\"cyl\":8,\"origin\":1},{\"cyl\":8,\"origin\":1},{\"cyl\":8,\"origin\":1},{\"cyl\":8,\"origin\":1},{\"cyl\":8,\"origin\":1},{\"cyl\":8,\"origin\":1},{\"cyl\":8,\"origin\":1},{\"cyl\":8,\"origin\":1},{\"cyl\":8,\"origin\":1},{\"cyl\":8,\"origin\":1},{\"cyl\":8,\"origin\":1},{\"cyl\":8,\"origin\":1},{\"cyl\":8,\"origin\":1},{\"cyl\":8,\"origin\":1},{\"cyl\":8,\"origin\":1},{\"cyl\":8,\"origin\":1},{\"cyl\":8,\"origin\":1},{\"cyl\":8,\"origin\":1},{\"cyl\":8,\"origin\":1},{\"cyl\":8,\"origin\":1},{\"cyl\":8,\"origin\":1},{\"cyl\":8,\"origin\":1},{\"cyl\":8,\"origin\":1},{\"cyl\":8,\"origin\":1},{\"cyl\":8,\"origin\":1},{\"cyl\":8,\"origin\":1},{\"cyl\":8,\"origin\":1},{\"cyl\":8,\"origin\":1},{\"cyl\":8,\"origin\":1},{\"cyl\":8,\"origin\":1},{\"cyl\":8,\"origin\":1},{\"cyl\":8,\"origin\":1},{\"cyl\":8,\"origin\":1},{\"cyl\":8,\"origin\":1},{\"cyl\":8,\"origin\":1},{\"cyl\":8,\"origin\":1},{\"cyl\":8,\"origin\":1},{\"cyl\":8,\"origin\":1},{\"cyl\":8,\"origin\":1},{\"cyl\":8,\"origin\":1},{\"cyl\":8,\"origin\":1}],\"cyl\":[8,8,8,8,8,8,8,8,8,8,8,8,8,8,8,8,8,8,8,8,8,8,8,8,8,8,8,8,8,8,8,8,8,8,8,8,8,8,8,8,8,8,8,8,8,8,8,8,8,8,8,8,8,8,8,8,8,8,8,8,8,8,8,8,8,8,8,8,8,8,8,8,8,8,8,8,8,8,8,8,8,8,8,8,8,8,8,8,8,8,8,8,8,8,8,8,8,8,8,8,8,8,8],\"origin\":[1,1,1,1,1,1,1,1,1,1,1,1,1,1,1,1,1,1,1,1,1,1,1,1,1,1,1,1,1,1,1,1,1,1,1,1,1,1,1,1,1,1,1,1,1,1,1,1,1,1,1,1,1,1,1,1,1,1,1,1,1,1,1,1,1,1,1,1,1,1,1,1,1,1,1,1,1,1,1,1,1,1,1,1,1,1,1,1,1,1,1,1,1,1,1,1,1,1,1,1,1,1,1],\"x_values\":[18.0,15.0,18.0,16.0,17.0,15.0,14.0,14.0,14.0,15.0,15.0,14.0,15.0,14.0,10.0,10.0,11.0,9.0,14.0,14.0,14.0,14.0,12.0,13.0,13.0,13.0,14.0,15.0,14.0,17.0,11.0,13.0,12.0,13.0,15.0,13.0,13.0,14.0,13.0,14.0,13.0,14.0,15.0,12.0,13.0,13.0,14.0,13.0,12.0,13.0,11.0,12.0,13.0,12.0,15.0,16.0,15.0,11.0,16.0,13.0,14.0,14.0,14.0,16.0,15.0,16.0,14.0,20.0,13.0,17.5,16.0,15.5,14.5,13.0,16.5,13.0,13.0,13.0,17.5,17.0,15.5,15.0,16.0,15.5,15.5,16.0,19.9,19.4,20.2,19.2,18.1,17.5,17.0,17.6,16.5,18.2,16.9,15.5,19.2,18.5,23.0,23.9,26.6],\"y_values\":[130,165,150,150,140,198,220,215,225,190,170,160,150,225,215,200,210,193,165,175,153,150,180,170,175,165,175,150,153,150,208,155,160,190,150,130,140,150,175,150,145,137,150,198,150,158,150,215,225,175,150,167,170,180,145,230,150,180,140,150,150,140,150,170,145,150,148,110,129,140,150,120,152,150,180,145,130,150,145,110,145,130,180,170,190,149,110,140,139,145,139,140,130,129,138,135,155,142,125,150,125,90,105]}},\"id\":\"dd937841-4fc8-4a20-b601-9b5980e27d46\",\"type\":\"ColumnDataSource\"},{\"attributes\":{\"active_drag\":\"auto\",\"active_scroll\":\"auto\",\"active_tap\":\"auto\",\"tools\":[{\"id\":\"075d19d3-0ead-4da3-b4db-0b643ab15d72\",\"type\":\"PanTool\"},{\"id\":\"666ae584-dd9e-43f0-a9ed-dc54a025b88a\",\"type\":\"WheelZoomTool\"},{\"id\":\"619073a6-b82b-4df1-8a74-9c8d359b16ad\",\"type\":\"BoxZoomTool\"},{\"id\":\"2cd9b889-4234-45bc-985b-c651765e068e\",\"type\":\"SaveTool\"},{\"id\":\"16f24b18-b930-48be-9c13-85a94afc5b7e\",\"type\":\"ResetTool\"},{\"id\":\"99f1766e-596f-49e0-a7c5-8eb30839a26b\",\"type\":\"HelpTool\"}]},\"id\":\"b391a869-0504-47be-9cca-36246c9ccc5c\",\"type\":\"Toolbar\"},{\"attributes\":{\"data_source\":{\"id\":\"d7e1169f-013a-4831-a739-647a90057739\",\"type\":\"ColumnDataSource\"},\"glyph\":{\"id\":\"6f189db7-a2f7-4012-ac1e-71fae06cc635\",\"type\":\"Square\"},\"hover_glyph\":null,\"nonselection_glyph\":null,\"selection_glyph\":null},\"id\":\"3402ee04-2024-4a7f-b7e8-ffc3c30c9901\",\"type\":\"GlyphRenderer\"},{\"attributes\":{\"fill_alpha\":{\"value\":0.7},\"fill_color\":{\"value\":\"#00ad9c\"},\"line_color\":{\"value\":\"#00ad9c\"},\"size\":{\"units\":\"screen\",\"value\":8},\"x\":{\"field\":\"x_values\"},\"y\":{\"field\":\"y_values\"}},\"id\":\"fda42dc4-bf2f-4ea6-a313-dd6b02490125\",\"type\":\"Circle\"},{\"attributes\":{},\"id\":\"23bf2d08-0e3a-47db-839b-18f3caaf44be\",\"type\":\"BasicTickFormatter\"}],\"root_ids\":[\"dd547871-a75f-4a16-b63f-5b2a4517af03\"]},\"title\":\"Bokeh Application\",\"version\":\"0.12.1\"}};\n",
       "            var render_items = [{\"docid\":\"4e15fa2a-16d8-4592-bf8c-0b64019f650b\",\"elementid\":\"b96d116c-d760-499d-9394-1c23f58449cb\",\"modelid\":\"dd547871-a75f-4a16-b63f-5b2a4517af03\",\"notebook_comms_target\":\"2b361173-ffcc-4c84-8c3b-e9234f758e5c\"}];\n",
       "            \n",
       "            Bokeh.embed.embed_items(docs_json, render_items);\n",
       "        });\n",
       "      },\n",
       "      function(Bokeh) {\n",
       "      }\n",
       "    ];\n",
       "  \n",
       "    function run_inline_js() {\n",
       "      for (var i = 0; i < inline_js.length; i++) {\n",
       "        inline_js[i](window.Bokeh);\n",
       "      }\n",
       "    }\n",
       "  \n",
       "    if (window._bokeh_is_loading === 0) {\n",
       "      console.log(\"Bokeh: BokehJS loaded, going straight to plotting\");\n",
       "      run_inline_js();\n",
       "    } else {\n",
       "      load_libs(js_urls, function() {\n",
       "        console.log(\"Bokeh: BokehJS plotting callback run at\", now());\n",
       "        run_inline_js();\n",
       "      });\n",
       "    }\n",
       "  }(this));\n",
       "</script>"
      ]
     },
     "metadata": {},
     "output_type": "display_data"
    },
    {
     "data": {
      "text/html": [
       "<p><code>&lt;Bokeh Notebook handle for <strong>In[3]</strong>&gt;</code></p>"
      ],
      "text/plain": [
       "<bokeh.io._CommsHandle at 0x10b7acb50>"
      ]
     },
     "execution_count": 3,
     "metadata": {},
     "output_type": "execute_result"
    }
   ],
   "source": [
    "scatter = Scatter(df, x='mpg', y='hp', color='cyl', marker='origin',\n",
    "                  title=\"Auto MPG\", xlabel=\"Miles Per Gallon\",\n",
    "                  ylabel=\"Horsepower\")\n",
    "\n",
    "# output_file('scatter.html')\n",
    "show(scatter)"
   ]
  },
  {
   "cell_type": "markdown",
   "metadata": {},
   "source": [
    "# Bar\n"
   ]
  },
  {
   "cell_type": "code",
   "execution_count": 5,
   "metadata": {
    "collapsed": true
   },
   "outputs": [],
   "source": [
    "from bokeh.charts import Bar\n",
    "from bokeh.charts.attributes import cat, color\n",
    "from bokeh.charts.operations import blend\n",
    "from bokeh.charts.utils import df_from_json\n",
    "from bokeh.sampledata.olympics2014 import data\n",
    "\n"
   ]
  },
  {
   "cell_type": "code",
   "execution_count": 15,
   "metadata": {
    "collapsed": false
   },
   "outputs": [
    {
     "data": {
      "text/plain": [
       "dict"
      ]
     },
     "execution_count": 15,
     "metadata": {},
     "output_type": "execute_result"
    }
   ],
   "source": [
    "# Test \n",
    "type(data)\n"
   ]
  },
  {
   "cell_type": "code",
   "execution_count": 16,
   "metadata": {
    "collapsed": true
   },
   "outputs": [],
   "source": [
    "# utilize utility to make it easy to get json/dict data converted to a dataframe\n",
    "df = df_from_json(data)\n",
    "\n",
    "# filter by countries with at least one medal and sort by total medals\n",
    "df = df[df['total'] > 0]\n",
    "df = df.sort_values(by=\"total\", ascending=False) # descending "
   ]
  },
  {
   "cell_type": "code",
   "execution_count": 17,
   "metadata": {
    "collapsed": false
   },
   "outputs": [
    {
     "data": {
      "text/html": [
       "<div>\n",
       "<table border=\"1\" class=\"dataframe\">\n",
       "  <thead>\n",
       "    <tr style=\"text-align: right;\">\n",
       "      <th></th>\n",
       "      <th>abbr</th>\n",
       "      <th>bronze</th>\n",
       "      <th>gold</th>\n",
       "      <th>silver</th>\n",
       "      <th>total</th>\n",
       "      <th>name</th>\n",
       "    </tr>\n",
       "  </thead>\n",
       "  <tbody>\n",
       "    <tr>\n",
       "      <th>65</th>\n",
       "      <td>RUS</td>\n",
       "      <td>7</td>\n",
       "      <td>6</td>\n",
       "      <td>8</td>\n",
       "      <td>21</td>\n",
       "      <td>Russian Fed.</td>\n",
       "    </tr>\n",
       "    <tr>\n",
       "      <th>81</th>\n",
       "      <td>USA</td>\n",
       "      <td>10</td>\n",
       "      <td>6</td>\n",
       "      <td>4</td>\n",
       "      <td>20</td>\n",
       "      <td>United States</td>\n",
       "    </tr>\n",
       "    <tr>\n",
       "      <th>54</th>\n",
       "      <td>NLD</td>\n",
       "      <td>8</td>\n",
       "      <td>6</td>\n",
       "      <td>6</td>\n",
       "      <td>20</td>\n",
       "      <td>Netherlands</td>\n",
       "    </tr>\n",
       "    <tr>\n",
       "      <th>56</th>\n",
       "      <td>NOR</td>\n",
       "      <td>7</td>\n",
       "      <td>8</td>\n",
       "      <td>4</td>\n",
       "      <td>19</td>\n",
       "      <td>Norway</td>\n",
       "    </tr>\n",
       "    <tr>\n",
       "      <th>13</th>\n",
       "      <td>CAN</td>\n",
       "      <td>4</td>\n",
       "      <td>4</td>\n",
       "      <td>8</td>\n",
       "      <td>16</td>\n",
       "      <td>Canada</td>\n",
       "    </tr>\n",
       "  </tbody>\n",
       "</table>\n",
       "</div>"
      ],
      "text/plain": [
       "   abbr  bronze  gold  silver  total           name\n",
       "65  RUS       7     6       8     21   Russian Fed.\n",
       "81  USA      10     6       4     20  United States\n",
       "54  NLD       8     6       6     20    Netherlands\n",
       "56  NOR       7     8       4     19         Norway\n",
       "13  CAN       4     4       8     16         Canada"
      ]
     },
     "execution_count": 17,
     "metadata": {},
     "output_type": "execute_result"
    }
   ],
   "source": [
    "df.head()"
   ]
  },
  {
   "cell_type": "code",
   "execution_count": 56,
   "metadata": {
    "collapsed": false
   },
   "outputs": [
    {
     "data": {
      "text/html": [
       "\n",
       "\n",
       "    <div class=\"bk-root\">\n",
       "        <div class=\"plotdiv\" id=\"5fd45994-72d6-4191-8085-c54fd1fbc40d\"></div>\n",
       "    </div>\n",
       "<script type=\"text/javascript\">\n",
       "  \n",
       "  (function(global) {\n",
       "    function now() {\n",
       "      return new Date();\n",
       "    }\n",
       "  \n",
       "    var force = \"\";\n",
       "  \n",
       "    if (typeof (window._bokeh_onload_callbacks) === \"undefined\" || force !== \"\") {\n",
       "      window._bokeh_onload_callbacks = [];\n",
       "      window._bokeh_is_loading = undefined;\n",
       "    }\n",
       "  \n",
       "    function run_callbacks() {\n",
       "      window._bokeh_onload_callbacks.forEach(function(callback) { callback() });\n",
       "      delete window._bokeh_onload_callbacks\n",
       "      console.info(\"Bokeh: all callbacks have finished\");\n",
       "    }\n",
       "  \n",
       "    function load_libs(js_urls, callback) {\n",
       "      window._bokeh_onload_callbacks.push(callback);\n",
       "      if (window._bokeh_is_loading > 0) {\n",
       "        console.log(\"Bokeh: BokehJS is being loaded, scheduling callback at\", now());\n",
       "        return null;\n",
       "      }\n",
       "      if (js_urls == null || js_urls.length === 0) {\n",
       "        run_callbacks();\n",
       "        return null;\n",
       "      }\n",
       "      console.log(\"Bokeh: BokehJS not loaded, scheduling load and callback at\", now());\n",
       "      window._bokeh_is_loading = js_urls.length;\n",
       "      for (var i = 0; i < js_urls.length; i++) {\n",
       "        var url = js_urls[i];\n",
       "        var s = document.createElement('script');\n",
       "        s.src = url;\n",
       "        s.async = false;\n",
       "        s.onreadystatechange = s.onload = function() {\n",
       "          window._bokeh_is_loading--;\n",
       "          if (window._bokeh_is_loading === 0) {\n",
       "            console.log(\"Bokeh: all BokehJS libraries loaded\");\n",
       "            run_callbacks()\n",
       "          }\n",
       "        };\n",
       "        s.onerror = function() {\n",
       "          console.warn(\"failed to load library \" + url);\n",
       "        };\n",
       "        console.log(\"Bokeh: injecting script tag for BokehJS library: \", url);\n",
       "        document.getElementsByTagName(\"head\")[0].appendChild(s);\n",
       "      }\n",
       "    };var element = document.getElementById(\"5fd45994-72d6-4191-8085-c54fd1fbc40d\");\n",
       "    if (element == null) {\n",
       "      console.log(\"Bokeh: ERROR: autoload.js configured with elementid '5fd45994-72d6-4191-8085-c54fd1fbc40d' but no matching script tag was found. \")\n",
       "      return false;\n",
       "    }\n",
       "  \n",
       "    var js_urls = [];\n",
       "  \n",
       "    var inline_js = [\n",
       "      function(Bokeh) {\n",
       "        Bokeh.$(function() {\n",
       "            var docs_json = {\"f49ef2a7-bd43-4956-acf5-a227c340d319\":{\"roots\":{\"references\":[{\"attributes\":{\"data_source\":{\"id\":\"e3fe9986-3bac-4c70-b945-bd126788df30\",\"type\":\"ColumnDataSource\"},\"glyph\":{\"id\":\"ab2773fc-5dc3-47d3-b965-343e125f198c\",\"type\":\"Rect\"},\"hover_glyph\":null,\"nonselection_glyph\":null,\"selection_glyph\":null},\"id\":\"75e27364-64bd-42d0-91cb-b69349a1ca69\",\"type\":\"GlyphRenderer\"},{\"attributes\":{\"callback\":null,\"column_names\":[\"line_color\",\"line_alpha\",\"color\",\"fill_alpha\",\"height\",\"width\",\"y\",\"x\",\"label\"],\"data\":{\"abbr\":[\"RUS\"],\"chart_index\":[{\"abbr\":\"RUS\",\"medal\":\"silver\"}],\"color\":[\"Silver\"],\"fill_alpha\":[0.8],\"height\":[8.0],\"label\":[{\"abbr\":\"RUS\",\"medal\":\"silver\"}],\"line_alpha\":[1.0],\"line_color\":[\"white\"],\"medal\":[\"silver\"],\"width\":[0.8],\"x\":[\"RUS\"],\"y\":[11.0]}},\"id\":\"8212301b-5f4e-4bc2-81d6-3c376f209cec\",\"type\":\"ColumnDataSource\"},{\"attributes\":{\"fill_alpha\":{\"field\":\"fill_alpha\"},\"fill_color\":{\"field\":\"color\"},\"height\":{\"field\":\"height\",\"units\":\"data\"},\"line_color\":{\"field\":\"line_color\"},\"width\":{\"field\":\"width\",\"units\":\"data\"},\"x\":{\"field\":\"x\"},\"y\":{\"field\":\"y\"}},\"id\":\"1de59d1d-3ce2-4a6d-a9ad-3a0cc6bebee2\",\"type\":\"Rect\"},{\"attributes\":{\"callback\":null,\"column_names\":[\"line_color\",\"line_alpha\",\"color\",\"fill_alpha\",\"height\",\"width\",\"y\",\"x\",\"label\"],\"data\":{\"abbr\":[\"JPN\"],\"chart_index\":[{\"abbr\":\"JPN\",\"medal\":\"silver\"}],\"color\":[\"Silver\"],\"fill_alpha\":[0.8],\"height\":[4.0],\"label\":[{\"abbr\":\"JPN\",\"medal\":\"silver\"}],\"line_alpha\":[1.0],\"line_color\":[\"white\"],\"medal\":[\"silver\"],\"width\":[0.8],\"x\":[\"JPN\"],\"y\":[4.0]}},\"id\":\"3f5cb53c-b94b-44fc-af11-a543710bea16\",\"type\":\"ColumnDataSource\"},{\"attributes\":{\"fill_alpha\":{\"field\":\"fill_alpha\"},\"fill_color\":{\"field\":\"color\"},\"height\":{\"field\":\"height\",\"units\":\"data\"},\"line_color\":{\"field\":\"line_color\"},\"width\":{\"field\":\"width\",\"units\":\"data\"},\"x\":{\"field\":\"x\"},\"y\":{\"field\":\"y\"}},\"id\":\"15880fee-9a1e-47bc-9509-c7a8ef15ae0d\",\"type\":\"Rect\"},{\"attributes\":{\"fill_alpha\":{\"field\":\"fill_alpha\"},\"fill_color\":{\"field\":\"color\"},\"height\":{\"field\":\"height\",\"units\":\"data\"},\"line_color\":{\"field\":\"line_color\"},\"width\":{\"field\":\"width\",\"units\":\"data\"},\"x\":{\"field\":\"x\"},\"y\":{\"field\":\"y\"}},\"id\":\"b970058f-f285-49e8-9115-de00577062f2\",\"type\":\"Rect\"},{\"attributes\":{\"data_source\":{\"id\":\"3291e244-50dc-4e5e-94bd-34dbc868d8d3\",\"type\":\"ColumnDataSource\"},\"glyph\":{\"id\":\"3033e8ba-35ed-4f5d-a612-c299f526d7d2\",\"type\":\"Rect\"},\"hover_glyph\":null,\"nonselection_glyph\":null,\"selection_glyph\":null},\"id\":\"14c9ce3d-0d2d-47c6-a3b8-0db4b1c0c875\",\"type\":\"GlyphRenderer\"},{\"attributes\":{\"data_source\":{\"id\":\"7d84fc1d-3901-4935-87d4-b53b4c7e04fe\",\"type\":\"ColumnDataSource\"},\"glyph\":{\"id\":\"f43b064c-8b72-40fa-aa04-f9ee14f7e726\",\"type\":\"Rect\"},\"hover_glyph\":null,\"nonselection_glyph\":null,\"selection_glyph\":null},\"id\":\"b79d0ec7-cd8f-4202-a2ef-6e2b8617cf43\",\"type\":\"GlyphRenderer\"},{\"attributes\":{\"fill_alpha\":{\"field\":\"fill_alpha\"},\"fill_color\":{\"field\":\"color\"},\"height\":{\"field\":\"height\",\"units\":\"data\"},\"line_color\":{\"field\":\"line_color\"},\"width\":{\"field\":\"width\",\"units\":\"data\"},\"x\":{\"field\":\"x\"},\"y\":{\"field\":\"y\"}},\"id\":\"84ebbc90-1bfd-4473-9402-7cfd7cce9f9a\",\"type\":\"Rect\"},{\"attributes\":{\"data_source\":{\"id\":\"95ffd35a-098d-4723-ba77-ca6f114afd08\",\"type\":\"ColumnDataSource\"},\"glyph\":{\"id\":\"f6c5d4ed-fafd-43fe-843f-31d1c47a8e2d\",\"type\":\"Rect\"},\"hover_glyph\":null,\"nonselection_glyph\":null,\"selection_glyph\":null},\"id\":\"34aade2e-eda6-4874-a8ed-443fbcb4aa7f\",\"type\":\"GlyphRenderer\"},{\"attributes\":{\"data_source\":{\"id\":\"d1c71a80-8ade-4195-99e0-1e602fc96b56\",\"type\":\"ColumnDataSource\"},\"glyph\":{\"id\":\"7fe0e902-d8b9-4c82-85c0-cd98832169a8\",\"type\":\"Rect\"},\"hover_glyph\":null,\"nonselection_glyph\":null,\"selection_glyph\":null},\"id\":\"8b0ef290-81f2-4e68-96df-0de260a5f311\",\"type\":\"GlyphRenderer\"},{\"attributes\":{\"data_source\":{\"id\":\"356b9605-74eb-496f-b9ca-e3f03e5a031b\",\"type\":\"ColumnDataSource\"},\"glyph\":{\"id\":\"fea5270e-61de-4b66-a7e4-42c2b08a75ba\",\"type\":\"Rect\"},\"hover_glyph\":null,\"nonselection_glyph\":null,\"selection_glyph\":null},\"id\":\"40bfbc50-9cd7-4550-8222-b0ffa880717c\",\"type\":\"GlyphRenderer\"},{\"attributes\":{\"data_source\":{\"id\":\"0e5a9960-b879-4bd8-9bb4-c4055f9bd4d2\",\"type\":\"ColumnDataSource\"},\"glyph\":{\"id\":\"cd552ede-ad90-4cd5-9300-df4df02607d3\",\"type\":\"Rect\"},\"hover_glyph\":null,\"nonselection_glyph\":null,\"selection_glyph\":null},\"id\":\"9d3a4c73-6321-4f9a-b52f-563be4b4afb9\",\"type\":\"GlyphRenderer\"},{\"attributes\":{\"callback\":null,\"column_names\":[\"line_color\",\"line_alpha\",\"color\",\"fill_alpha\",\"height\",\"width\",\"y\",\"x\",\"label\"],\"data\":{\"abbr\":[\"LVA\"],\"chart_index\":[{\"abbr\":\"LVA\",\"medal\":\"bronze\"}],\"color\":[\"SaddleBrown\"],\"fill_alpha\":[0.8],\"height\":[2.0],\"label\":[{\"abbr\":\"LVA\",\"medal\":\"bronze\"}],\"line_alpha\":[1.0],\"line_color\":[\"white\"],\"medal\":[\"bronze\"],\"width\":[0.8],\"x\":[\"LVA\"],\"y\":[1.0]}},\"id\":\"ca603a66-74ba-4e0f-9d05-9961ddc02601\",\"type\":\"ColumnDataSource\"},{\"attributes\":{\"data_source\":{\"id\":\"debe1645-8e3e-4e73-84e9-5738aa99c469\",\"type\":\"ColumnDataSource\"},\"glyph\":{\"id\":\"94fc347b-a81d-4456-a76b-62f0d56e2b5f\",\"type\":\"Rect\"},\"hover_glyph\":null,\"nonselection_glyph\":null,\"selection_glyph\":null},\"id\":\"39ba8d35-4731-42ac-9c6b-4f5e645920cf\",\"type\":\"GlyphRenderer\"},{\"attributes\":{\"data_source\":{\"id\":\"3f5cb53c-b94b-44fc-af11-a543710bea16\",\"type\":\"ColumnDataSource\"},\"glyph\":{\"id\":\"d1e561cf-66df-4d44-acff-0e1c5ce8ac71\",\"type\":\"Rect\"},\"hover_glyph\":null,\"nonselection_glyph\":null,\"selection_glyph\":null},\"id\":\"1bfa2c3f-5255-4822-8ac0-2d4df4059275\",\"type\":\"GlyphRenderer\"},{\"attributes\":{\"callback\":null,\"column_names\":[\"line_color\",\"line_alpha\",\"color\",\"fill_alpha\",\"height\",\"width\",\"y\",\"x\",\"label\"],\"data\":{\"abbr\":[\"SVN\"],\"chart_index\":[{\"abbr\":\"SVN\",\"medal\":\"bronze\"}],\"color\":[\"SaddleBrown\"],\"fill_alpha\":[0.8],\"height\":[4.0],\"label\":[{\"abbr\":\"SVN\",\"medal\":\"bronze\"}],\"line_alpha\":[1.0],\"line_color\":[\"white\"],\"medal\":[\"bronze\"],\"width\":[0.8],\"x\":[\"SVN\"],\"y\":[2.0]}},\"id\":\"1a64d558-22aa-4256-b0ba-bf3bae545c82\",\"type\":\"ColumnDataSource\"},{\"attributes\":{\"fill_alpha\":{\"field\":\"fill_alpha\"},\"fill_color\":{\"field\":\"color\"},\"height\":{\"field\":\"height\",\"units\":\"data\"},\"line_color\":{\"field\":\"line_color\"},\"width\":{\"field\":\"width\",\"units\":\"data\"},\"x\":{\"field\":\"x\"},\"y\":{\"field\":\"y\"}},\"id\":\"26dfd165-ae24-4b2d-852e-9dfd5e75978c\",\"type\":\"Rect\"},{\"attributes\":{\"data_source\":{\"id\":\"63d22992-da9c-4f34-9663-d4a09a64a77c\",\"type\":\"ColumnDataSource\"},\"glyph\":{\"id\":\"1ec99d70-f612-424c-8846-c4639e50714d\",\"type\":\"Rect\"},\"hover_glyph\":null,\"nonselection_glyph\":null,\"selection_glyph\":null},\"id\":\"edb368f0-d205-42a3-9589-bab644f246ff\",\"type\":\"GlyphRenderer\"},{\"attributes\":{\"fill_alpha\":{\"field\":\"fill_alpha\"},\"fill_color\":{\"field\":\"color\"},\"height\":{\"field\":\"height\",\"units\":\"data\"},\"line_color\":{\"field\":\"line_color\"},\"width\":{\"field\":\"width\",\"units\":\"data\"},\"x\":{\"field\":\"x\"},\"y\":{\"field\":\"y\"}},\"id\":\"d652c624-b9c6-4a75-9f8b-3c11163b0ee8\",\"type\":\"Rect\"},{\"attributes\":{\"fill_alpha\":{\"field\":\"fill_alpha\"},\"fill_color\":{\"field\":\"color\"},\"height\":{\"field\":\"height\",\"units\":\"data\"},\"line_color\":{\"field\":\"line_color\"},\"width\":{\"field\":\"width\",\"units\":\"data\"},\"x\":{\"field\":\"x\"},\"y\":{\"field\":\"y\"}},\"id\":\"a63b11b3-6a8b-4418-a6f9-ac1937e8e266\",\"type\":\"Rect\"},{\"attributes\":{\"callback\":null,\"column_names\":[\"line_color\",\"line_alpha\",\"color\",\"fill_alpha\",\"height\",\"width\",\"y\",\"x\",\"label\"],\"data\":{\"abbr\":[\"USA\"],\"chart_index\":[{\"abbr\":\"USA\",\"medal\":\"bronze\"}],\"color\":[\"SaddleBrown\"],\"fill_alpha\":[0.8],\"height\":[10.0],\"label\":[{\"abbr\":\"USA\",\"medal\":\"bronze\"}],\"line_alpha\":[1.0],\"line_color\":[\"white\"],\"medal\":[\"bronze\"],\"width\":[0.8],\"x\":[\"USA\"],\"y\":[5.0]}},\"id\":\"5a736953-96e9-4251-98be-20b197b49b42\",\"type\":\"ColumnDataSource\"},{\"attributes\":{\"callback\":null,\"column_names\":[\"line_color\",\"line_alpha\",\"color\",\"fill_alpha\",\"height\",\"width\",\"y\",\"x\",\"label\"],\"data\":{\"abbr\":[\"AUS\"],\"chart_index\":[{\"abbr\":\"AUS\",\"medal\":\"silver\"}],\"color\":[\"Silver\"],\"fill_alpha\":[0.8],\"height\":[2.0],\"label\":[{\"abbr\":\"AUS\",\"medal\":\"silver\"}],\"line_alpha\":[1.0],\"line_color\":[\"white\"],\"medal\":[\"silver\"],\"width\":[0.8],\"x\":[\"AUS\"],\"y\":[2.0]}},\"id\":\"3e1a25ab-f35b-42ad-9d57-3d0fd83d9c73\",\"type\":\"ColumnDataSource\"},{\"attributes\":{\"data_source\":{\"id\":\"b63fc7c4-ba9d-4c5e-bcd5-027ba02df004\",\"type\":\"ColumnDataSource\"},\"glyph\":{\"id\":\"3013dc39-72a8-4f26-a9ee-09f3f81cc55a\",\"type\":\"Rect\"},\"hover_glyph\":null,\"nonselection_glyph\":null,\"selection_glyph\":null},\"id\":\"8a09d28a-cc56-4ab4-aea0-212caa07e646\",\"type\":\"GlyphRenderer\"},{\"attributes\":{\"fill_alpha\":{\"field\":\"fill_alpha\"},\"fill_color\":{\"field\":\"color\"},\"height\":{\"field\":\"height\",\"units\":\"data\"},\"line_color\":{\"field\":\"line_color\"},\"width\":{\"field\":\"width\",\"units\":\"data\"},\"x\":{\"field\":\"x\"},\"y\":{\"field\":\"y\"}},\"id\":\"4b542609-b434-4a55-81dc-bd5aba193ae4\",\"type\":\"Rect\"},{\"attributes\":{\"fill_alpha\":{\"field\":\"fill_alpha\"},\"fill_color\":{\"field\":\"color\"},\"height\":{\"field\":\"height\",\"units\":\"data\"},\"line_color\":{\"field\":\"line_color\"},\"width\":{\"field\":\"width\",\"units\":\"data\"},\"x\":{\"field\":\"x\"},\"y\":{\"field\":\"y\"}},\"id\":\"a97e65ad-9979-4a0b-a8b6-295baec2daac\",\"type\":\"Rect\"},{\"attributes\":{\"callback\":null,\"column_names\":[\"line_color\",\"line_alpha\",\"color\",\"fill_alpha\",\"height\",\"width\",\"y\",\"x\",\"label\"],\"data\":{\"abbr\":[\"AUT\"],\"chart_index\":[{\"abbr\":\"AUT\",\"medal\":\"bronze\"}],\"color\":[\"SaddleBrown\"],\"fill_alpha\":[0.8],\"height\":[1.0],\"label\":[{\"abbr\":\"AUT\",\"medal\":\"bronze\"}],\"line_alpha\":[1.0],\"line_color\":[\"white\"],\"medal\":[\"bronze\"],\"width\":[0.8],\"x\":[\"AUT\"],\"y\":[0.5]}},\"id\":\"2d93dbfa-26a1-4bac-b1db-7f72351e0be6\",\"type\":\"ColumnDataSource\"},{\"attributes\":{\"callback\":null,\"plot\":{\"id\":\"c6aa0766-a2cb-473c-bb7b-c3ade858df3a\",\"subtype\":\"Chart\",\"type\":\"Plot\"},\"tooltips\":[[\"medal\",\"@medal\"],[\"country\",\"@abbr\"]]},\"id\":\"81c744ec-9c6a-4843-a134-8284dc7e6867\",\"type\":\"HoverTool\"},{\"attributes\":{\"data_source\":{\"id\":\"a614e3fc-d6a4-446e-8a35-78e55db928f7\",\"type\":\"ColumnDataSource\"},\"glyph\":{\"id\":\"2624f805-f131-4daa-946f-3a7e0ac67c44\",\"type\":\"Rect\"},\"hover_glyph\":null,\"nonselection_glyph\":null,\"selection_glyph\":null},\"id\":\"17f012e3-2aa7-4a3d-a220-af49cbe358a5\",\"type\":\"GlyphRenderer\"},{\"attributes\":{\"data_source\":{\"id\":\"a828992f-3a87-4969-ac90-b724afb0364b\",\"type\":\"ColumnDataSource\"},\"glyph\":{\"id\":\"dcd40ae5-329f-4952-847b-10069d6749b3\",\"type\":\"Rect\"},\"hover_glyph\":null,\"nonselection_glyph\":null,\"selection_glyph\":null},\"id\":\"8d5ee6fc-c222-4b96-9694-d204ac7279ac\",\"type\":\"GlyphRenderer\"},{\"attributes\":{\"fill_alpha\":{\"field\":\"fill_alpha\"},\"fill_color\":{\"field\":\"color\"},\"height\":{\"field\":\"height\",\"units\":\"data\"},\"line_color\":{\"field\":\"line_color\"},\"width\":{\"field\":\"width\",\"units\":\"data\"},\"x\":{\"field\":\"x\"},\"y\":{\"field\":\"y\"}},\"id\":\"7bb711ef-1765-4dcb-ab51-8fe411606097\",\"type\":\"Rect\"},{\"attributes\":{\"fill_alpha\":{\"field\":\"fill_alpha\"},\"fill_color\":{\"field\":\"color\"},\"height\":{\"field\":\"height\",\"units\":\"data\"},\"line_color\":{\"field\":\"line_color\"},\"width\":{\"field\":\"width\",\"units\":\"data\"},\"x\":{\"field\":\"x\"},\"y\":{\"field\":\"y\"}},\"id\":\"83f34a7e-5510-4606-8f76-bc8899e96648\",\"type\":\"Rect\"},{\"attributes\":{\"data_source\":{\"id\":\"8df4382f-656d-4e6d-82a2-949262d84c99\",\"type\":\"ColumnDataSource\"},\"glyph\":{\"id\":\"a63b11b3-6a8b-4418-a6f9-ac1937e8e266\",\"type\":\"Rect\"},\"hover_glyph\":null,\"nonselection_glyph\":null,\"selection_glyph\":null},\"id\":\"02cc9de0-5aaa-4421-9245-85971674a7e0\",\"type\":\"GlyphRenderer\"},{\"attributes\":{\"data_source\":{\"id\":\"67d34d8a-e9ea-4cd3-90ff-54386130bd9f\",\"type\":\"ColumnDataSource\"},\"glyph\":{\"id\":\"2d2b553f-d551-4936-bc32-379adfea766d\",\"type\":\"Rect\"},\"hover_glyph\":null,\"nonselection_glyph\":null,\"selection_glyph\":null},\"id\":\"936266bd-15e9-4888-9362-0f7cc3144195\",\"type\":\"GlyphRenderer\"},{\"attributes\":{\"data_source\":{\"id\":\"225a17d2-e943-434c-bc23-4411049ed912\",\"type\":\"ColumnDataSource\"},\"glyph\":{\"id\":\"99130e70-3041-4b80-b93e-31dd632c8aa6\",\"type\":\"Rect\"},\"hover_glyph\":null,\"nonselection_glyph\":null,\"selection_glyph\":null},\"id\":\"845c93bd-655c-4d39-8467-45fd0dac1f3b\",\"type\":\"GlyphRenderer\"},{\"attributes\":{\"data_source\":{\"id\":\"d52da70d-ca57-45ff-b075-900faa1d2ab6\",\"type\":\"ColumnDataSource\"},\"glyph\":{\"id\":\"930c4aa0-2cbc-4f1f-bb95-982f58feab2e\",\"type\":\"Rect\"},\"hover_glyph\":null,\"nonselection_glyph\":null,\"selection_glyph\":null},\"id\":\"e181b848-861a-4822-b8ce-8cbd996413d5\",\"type\":\"GlyphRenderer\"},{\"attributes\":{\"fill_alpha\":{\"field\":\"fill_alpha\"},\"fill_color\":{\"field\":\"color\"},\"height\":{\"field\":\"height\",\"units\":\"data\"},\"line_color\":{\"field\":\"line_color\"},\"width\":{\"field\":\"width\",\"units\":\"data\"},\"x\":{\"field\":\"x\"},\"y\":{\"field\":\"y\"}},\"id\":\"4d92a103-904a-45d3-bc6b-f7c584f7013a\",\"type\":\"Rect\"},{\"attributes\":{\"fill_alpha\":{\"field\":\"fill_alpha\"},\"fill_color\":{\"field\":\"color\"},\"height\":{\"field\":\"height\",\"units\":\"data\"},\"line_color\":{\"field\":\"line_color\"},\"width\":{\"field\":\"width\",\"units\":\"data\"},\"x\":{\"field\":\"x\"},\"y\":{\"field\":\"y\"}},\"id\":\"36407255-0c5f-41da-af44-a61ac10da99b\",\"type\":\"Rect\"},{\"attributes\":{\"data_source\":{\"id\":\"1a14e095-5976-4e7b-887c-eb6bbd59947d\",\"type\":\"ColumnDataSource\"},\"glyph\":{\"id\":\"7c006a83-761d-419a-8853-c6065c1451fe\",\"type\":\"Rect\"},\"hover_glyph\":null,\"nonselection_glyph\":null,\"selection_glyph\":null},\"id\":\"568a221d-6e56-48bb-9f82-46c2ff46cf42\",\"type\":\"GlyphRenderer\"},{\"attributes\":{\"fill_alpha\":{\"field\":\"fill_alpha\"},\"fill_color\":{\"field\":\"color\"},\"height\":{\"field\":\"height\",\"units\":\"data\"},\"line_color\":{\"field\":\"line_color\"},\"width\":{\"field\":\"width\",\"units\":\"data\"},\"x\":{\"field\":\"x\"},\"y\":{\"field\":\"y\"}},\"id\":\"4d9bff60-d3ff-4aaa-b309-29c919dde36c\",\"type\":\"Rect\"},{\"attributes\":{\"callback\":null,\"column_names\":[\"line_color\",\"line_alpha\",\"color\",\"fill_alpha\",\"height\",\"width\",\"y\",\"x\",\"label\"],\"data\":{\"abbr\":[\"SWE\"],\"chart_index\":[{\"abbr\":\"SWE\",\"medal\":\"bronze\"}],\"color\":[\"SaddleBrown\"],\"fill_alpha\":[0.8],\"height\":[2.0],\"label\":[{\"abbr\":\"SWE\",\"medal\":\"bronze\"}],\"line_alpha\":[1.0],\"line_color\":[\"white\"],\"medal\":[\"bronze\"],\"width\":[0.8],\"x\":[\"SWE\"],\"y\":[1.0]}},\"id\":\"7d84fc1d-3901-4935-87d4-b53b4c7e04fe\",\"type\":\"ColumnDataSource\"},{\"attributes\":{\"fill_alpha\":{\"field\":\"fill_alpha\"},\"fill_color\":{\"field\":\"color\"},\"height\":{\"field\":\"height\",\"units\":\"data\"},\"line_color\":{\"field\":\"line_color\"},\"width\":{\"field\":\"width\",\"units\":\"data\"},\"x\":{\"field\":\"x\"},\"y\":{\"field\":\"y\"}},\"id\":\"930c4aa0-2cbc-4f1f-bb95-982f58feab2e\",\"type\":\"Rect\"},{\"attributes\":{\"callback\":null,\"column_names\":[\"line_color\",\"line_alpha\",\"color\",\"fill_alpha\",\"height\",\"width\",\"y\",\"x\",\"label\"],\"data\":{\"abbr\":[\"CHN\"],\"chart_index\":[{\"abbr\":\"CHN\",\"medal\":\"silver\"}],\"color\":[\"Silver\"],\"fill_alpha\":[0.8],\"height\":[2.0],\"label\":[{\"abbr\":\"CHN\",\"medal\":\"silver\"}],\"line_alpha\":[1.0],\"line_color\":[\"white\"],\"medal\":[\"silver\"],\"width\":[0.8],\"x\":[\"CHN\"],\"y\":[2.0]}},\"id\":\"79b592d6-6e0e-4b34-b32c-68267300e04a\",\"type\":\"ColumnDataSource\"},{\"attributes\":{\"callback\":null,\"column_names\":[\"line_color\",\"line_alpha\",\"color\",\"fill_alpha\",\"height\",\"width\",\"y\",\"x\",\"label\"],\"data\":{\"abbr\":[\"NLD\"],\"chart_index\":[{\"abbr\":\"NLD\",\"medal\":\"silver\"}],\"color\":[\"Silver\"],\"fill_alpha\":[0.8],\"height\":[6.0],\"label\":[{\"abbr\":\"NLD\",\"medal\":\"silver\"}],\"line_alpha\":[1.0],\"line_color\":[\"white\"],\"medal\":[\"silver\"],\"width\":[0.8],\"x\":[\"NLD\"],\"y\":[11.0]}},\"id\":\"bd106b15-0b3c-4377-af82-6af271836747\",\"type\":\"ColumnDataSource\"},{\"attributes\":{\"fill_alpha\":{\"field\":\"fill_alpha\"},\"fill_color\":{\"field\":\"color\"},\"height\":{\"field\":\"height\",\"units\":\"data\"},\"line_color\":{\"field\":\"line_color\"},\"width\":{\"field\":\"width\",\"units\":\"data\"},\"x\":{\"field\":\"x\"},\"y\":{\"field\":\"y\"}},\"id\":\"de9eda22-d08a-4398-8beb-69cb1f94ef52\",\"type\":\"Rect\"},{\"attributes\":{\"callback\":null,\"column_names\":[\"line_color\",\"line_alpha\",\"color\",\"fill_alpha\",\"height\",\"width\",\"y\",\"x\",\"label\"],\"data\":{\"abbr\":[\"KAZ\"],\"chart_index\":[{\"abbr\":\"KAZ\",\"medal\":\"silver\"}],\"color\":[\"Silver\"],\"fill_alpha\":[0.8],\"height\":[0.0],\"label\":[{\"abbr\":\"KAZ\",\"medal\":\"silver\"}],\"line_alpha\":[1.0],\"line_color\":[\"white\"],\"medal\":[\"silver\"],\"width\":[0.8],\"x\":[\"KAZ\"],\"y\":[1.0]}},\"id\":\"4f8c2f9c-ca35-4499-9db2-ec0b8f32ad8d\",\"type\":\"ColumnDataSource\"},{\"attributes\":{\"fill_alpha\":{\"field\":\"fill_alpha\"},\"fill_color\":{\"field\":\"color\"},\"height\":{\"field\":\"height\",\"units\":\"data\"},\"line_color\":{\"field\":\"line_color\"},\"width\":{\"field\":\"width\",\"units\":\"data\"},\"x\":{\"field\":\"x\"},\"y\":{\"field\":\"y\"}},\"id\":\"a97cddd4-32f7-42a2-bf21-703b1e88375b\",\"type\":\"Rect\"},{\"attributes\":{\"callback\":null,\"column_names\":[\"line_color\",\"line_alpha\",\"color\",\"fill_alpha\",\"height\",\"width\",\"y\",\"x\",\"label\"],\"data\":{\"abbr\":[\"SWE\"],\"chart_index\":[{\"abbr\":\"SWE\",\"medal\":\"gold\"}],\"color\":[\"Goldenrod\"],\"fill_alpha\":[0.8],\"height\":[2.0],\"label\":[{\"abbr\":\"SWE\",\"medal\":\"gold\"}],\"line_alpha\":[1.0],\"line_color\":[\"white\"],\"medal\":[\"gold\"],\"width\":[0.8],\"x\":[\"SWE\"],\"y\":[8.0]}},\"id\":\"9ade62aa-b35b-478d-bb09-e20e5aa2e1fd\",\"type\":\"ColumnDataSource\"},{\"attributes\":{\"plot\":{\"id\":\"c6aa0766-a2cb-473c-bb7b-c3ade858df3a\",\"subtype\":\"Chart\",\"type\":\"Plot\"}},\"id\":\"703d532e-7467-486a-80c6-e0fbf35fa3c4\",\"type\":\"SaveTool\"},{\"attributes\":{\"data_source\":{\"id\":\"e3396b8a-a0e0-430f-9735-fcd3c090b3a3\",\"type\":\"ColumnDataSource\"},\"glyph\":{\"id\":\"1a387b8c-9119-478b-a093-cba05eaf2986\",\"type\":\"Rect\"},\"hover_glyph\":null,\"nonselection_glyph\":null,\"selection_glyph\":null},\"id\":\"681685b8-487c-40fa-94e8-a6195f6aa59d\",\"type\":\"GlyphRenderer\"},{\"attributes\":{\"callback\":null,\"column_names\":[\"line_color\",\"line_alpha\",\"color\",\"fill_alpha\",\"height\",\"width\",\"y\",\"x\",\"label\"],\"data\":{\"abbr\":[\"FRA\"],\"chart_index\":[{\"abbr\":\"FRA\",\"medal\":\"bronze\"}],\"color\":[\"SaddleBrown\"],\"fill_alpha\":[0.8],\"height\":[5.0],\"label\":[{\"abbr\":\"FRA\",\"medal\":\"bronze\"}],\"line_alpha\":[1.0],\"line_color\":[\"white\"],\"medal\":[\"bronze\"],\"width\":[0.8],\"x\":[\"FRA\"],\"y\":[2.5]}},\"id\":\"944fb235-172c-46be-84aa-bcfb54dc4c60\",\"type\":\"ColumnDataSource\"},{\"attributes\":{\"callback\":null,\"column_names\":[\"line_color\",\"line_alpha\",\"color\",\"fill_alpha\",\"height\",\"width\",\"y\",\"x\",\"label\"],\"data\":{\"abbr\":[\"CHN\"],\"chart_index\":[{\"abbr\":\"CHN\",\"medal\":\"gold\"}],\"color\":[\"Goldenrod\"],\"fill_alpha\":[0.8],\"height\":[3.0],\"label\":[{\"abbr\":\"CHN\",\"medal\":\"gold\"}],\"line_alpha\":[1.0],\"line_color\":[\"white\"],\"medal\":[\"gold\"],\"width\":[0.8],\"x\":[\"CHN\"],\"y\":[4.5]}},\"id\":\"25df0ee9-f5d8-4be8-98a5-ccfb3c5a970a\",\"type\":\"ColumnDataSource\"},{\"attributes\":{\"fill_alpha\":{\"field\":\"fill_alpha\"},\"fill_color\":{\"field\":\"color\"},\"height\":{\"field\":\"height\",\"units\":\"data\"},\"line_color\":{\"field\":\"line_color\"},\"width\":{\"field\":\"width\",\"units\":\"data\"},\"x\":{\"field\":\"x\"},\"y\":{\"field\":\"y\"}},\"id\":\"641a19b4-f6f4-4367-9403-2f42b0dfa69e\",\"type\":\"Rect\"},{\"attributes\":{\"callback\":null,\"factors\":[\"RUS\",\"USA\",\"NLD\",\"NOR\",\"CAN\",\"DEU\",\"CHE\",\"FRA\",\"SWE\",\"AUT\",\"SVN\",\"JPN\",\"CHN\",\"CZE\",\"ITA\",\"BLR\",\"POL\",\"KOR\",\"AUS\",\"LVA\",\"FIN\",\"GBR\",\"SVK\",\"HRV\",\"UKR\",\"KAZ\"]},\"id\":\"7227751b-7d93-42a4-a037-6732d2c13e73\",\"type\":\"FactorRange\"},{\"attributes\":{\"data_source\":{\"id\":\"a5b68938-8aba-443b-b04c-921d4264a337\",\"type\":\"ColumnDataSource\"},\"glyph\":{\"id\":\"0fc32f21-db41-40a0-a850-94c5d29d0519\",\"type\":\"Rect\"},\"hover_glyph\":null,\"nonselection_glyph\":null,\"selection_glyph\":null},\"id\":\"faa87ffb-3f2f-4517-8332-13401274b251\",\"type\":\"GlyphRenderer\"},{\"attributes\":{\"callback\":null,\"column_names\":[\"line_color\",\"line_alpha\",\"color\",\"fill_alpha\",\"height\",\"width\",\"y\",\"x\",\"label\"],\"data\":{\"abbr\":[\"HRV\"],\"chart_index\":[{\"abbr\":\"HRV\",\"medal\":\"silver\"}],\"color\":[\"Silver\"],\"fill_alpha\":[0.8],\"height\":[1.0],\"label\":[{\"abbr\":\"HRV\",\"medal\":\"silver\"}],\"line_alpha\":[1.0],\"line_color\":[\"white\"],\"medal\":[\"silver\"],\"width\":[0.8],\"x\":[\"HRV\"],\"y\":[0.5]}},\"id\":\"b488abbb-c0c1-4638-b056-1ce465eec95d\",\"type\":\"ColumnDataSource\"},{\"attributes\":{\"data_source\":{\"id\":\"c00a6e6c-856e-490b-80e2-db7e4c4ca312\",\"type\":\"ColumnDataSource\"},\"glyph\":{\"id\":\"0c477e82-cf65-4f76-afb0-385e8ec713de\",\"type\":\"Rect\"},\"hover_glyph\":null,\"nonselection_glyph\":null,\"selection_glyph\":null},\"id\":\"6a58f97a-b14a-43b9-a42b-a44793a242c2\",\"type\":\"GlyphRenderer\"},{\"attributes\":{\"callback\":null,\"column_names\":[\"line_color\",\"line_alpha\",\"color\",\"fill_alpha\",\"height\",\"width\",\"y\",\"x\",\"label\"],\"data\":{\"abbr\":[\"CHE\"],\"chart_index\":[{\"abbr\":\"CHE\",\"medal\":\"gold\"}],\"color\":[\"Goldenrod\"],\"fill_alpha\":[0.8],\"height\":[6.0],\"label\":[{\"abbr\":\"CHE\",\"medal\":\"gold\"}],\"line_alpha\":[1.0],\"line_color\":[\"white\"],\"medal\":[\"gold\"],\"width\":[0.8],\"x\":[\"CHE\"],\"y\":[7.0]}},\"id\":\"51ddb2ab-6123-4e04-b6cc-cb3c98ddfc18\",\"type\":\"ColumnDataSource\"},{\"attributes\":{\"data_source\":{\"id\":\"6acb6312-158f-4b47-af7a-10835c1ce24c\",\"type\":\"ColumnDataSource\"},\"glyph\":{\"id\":\"b970058f-f285-49e8-9115-de00577062f2\",\"type\":\"Rect\"},\"hover_glyph\":null,\"nonselection_glyph\":null,\"selection_glyph\":null},\"id\":\"5efed139-5c0d-47cc-80cb-05548b2b252b\",\"type\":\"GlyphRenderer\"},{\"attributes\":{\"callback\":null,\"column_names\":[\"line_color\",\"line_alpha\",\"color\",\"fill_alpha\",\"height\",\"width\",\"y\",\"x\",\"label\"],\"data\":{\"abbr\":[\"USA\"],\"chart_index\":[{\"abbr\":\"USA\",\"medal\":\"silver\"}],\"color\":[\"Silver\"],\"fill_alpha\":[0.8],\"height\":[4.0],\"label\":[{\"abbr\":\"USA\",\"medal\":\"silver\"}],\"line_alpha\":[1.0],\"line_color\":[\"white\"],\"medal\":[\"silver\"],\"width\":[0.8],\"x\":[\"USA\"],\"y\":[12.0]}},\"id\":\"225a17d2-e943-434c-bc23-4411049ed912\",\"type\":\"ColumnDataSource\"},{\"attributes\":{\"data_source\":{\"id\":\"1a64d558-22aa-4256-b0ba-bf3bae545c82\",\"type\":\"ColumnDataSource\"},\"glyph\":{\"id\":\"0b2f3b73-fc4d-45b8-9b2e-1640aada5707\",\"type\":\"Rect\"},\"hover_glyph\":null,\"nonselection_glyph\":null,\"selection_glyph\":null},\"id\":\"16dd5770-3bc7-433e-9588-1b2b138f14be\",\"type\":\"GlyphRenderer\"},{\"attributes\":{\"fill_alpha\":{\"field\":\"fill_alpha\"},\"fill_color\":{\"field\":\"color\"},\"height\":{\"field\":\"height\",\"units\":\"data\"},\"line_color\":{\"field\":\"line_color\"},\"width\":{\"field\":\"width\",\"units\":\"data\"},\"x\":{\"field\":\"x\"},\"y\":{\"field\":\"y\"}},\"id\":\"dc2b21bb-df09-463f-b58a-60f82169f8ba\",\"type\":\"Rect\"},{\"attributes\":{\"callback\":null,\"column_names\":[\"line_color\",\"line_alpha\",\"color\",\"fill_alpha\",\"height\",\"width\",\"y\",\"x\",\"label\"],\"data\":{\"abbr\":[\"FRA\"],\"chart_index\":[{\"abbr\":\"FRA\",\"medal\":\"gold\"}],\"color\":[\"Goldenrod\"],\"fill_alpha\":[0.8],\"height\":[3.0],\"label\":[{\"abbr\":\"FRA\",\"medal\":\"gold\"}],\"line_alpha\":[1.0],\"line_color\":[\"white\"],\"medal\":[\"gold\"],\"width\":[0.8],\"x\":[\"FRA\"],\"y\":[8.5]}},\"id\":\"200cb5ce-fbbb-4d31-8458-b2853ddd85d7\",\"type\":\"ColumnDataSource\"},{\"attributes\":{\"fill_alpha\":{\"field\":\"fill_alpha\"},\"fill_color\":{\"field\":\"color\"},\"height\":{\"field\":\"height\",\"units\":\"data\"},\"line_color\":{\"field\":\"line_color\"},\"width\":{\"field\":\"width\",\"units\":\"data\"},\"x\":{\"field\":\"x\"},\"y\":{\"field\":\"y\"}},\"id\":\"d9d7f290-d7f1-47a5-9953-3cf06fe32986\",\"type\":\"Rect\"},{\"attributes\":{\"data_source\":{\"id\":\"ca603a66-74ba-4e0f-9d05-9961ddc02601\",\"type\":\"ColumnDataSource\"},\"glyph\":{\"id\":\"886c6f38-748e-431a-9528-7dc309ede2ed\",\"type\":\"Rect\"},\"hover_glyph\":null,\"nonselection_glyph\":null,\"selection_glyph\":null},\"id\":\"bb285848-1e8a-492e-be48-f4a4dbd13ac4\",\"type\":\"GlyphRenderer\"},{\"attributes\":{\"plot\":null,\"text\":\"Medals per Country, Sorted by Total Medals\"},\"id\":\"7e75877f-e6bb-4116-9adf-c7df0da97750\",\"type\":\"Title\"},{\"attributes\":{\"fill_alpha\":{\"field\":\"fill_alpha\"},\"fill_color\":{\"field\":\"color\"},\"height\":{\"field\":\"height\",\"units\":\"data\"},\"line_color\":{\"field\":\"line_color\"},\"width\":{\"field\":\"width\",\"units\":\"data\"},\"x\":{\"field\":\"x\"},\"y\":{\"field\":\"y\"}},\"id\":\"3013dc39-72a8-4f26-a9ee-09f3f81cc55a\",\"type\":\"Rect\"},{\"attributes\":{\"callback\":null,\"column_names\":[\"line_color\",\"line_alpha\",\"color\",\"fill_alpha\",\"height\",\"width\",\"y\",\"x\",\"label\"],\"data\":{\"abbr\":[\"ITA\"],\"chart_index\":[{\"abbr\":\"ITA\",\"medal\":\"silver\"}],\"color\":[\"Silver\"],\"fill_alpha\":[0.8],\"height\":[2.0],\"label\":[{\"abbr\":\"ITA\",\"medal\":\"silver\"}],\"line_alpha\":[1.0],\"line_color\":[\"white\"],\"medal\":[\"silver\"],\"width\":[0.8],\"x\":[\"ITA\"],\"y\":[5.0]}},\"id\":\"e3396b8a-a0e0-430f-9735-fcd3c090b3a3\",\"type\":\"ColumnDataSource\"},{\"attributes\":{\"callback\":null,\"column_names\":[\"line_color\",\"line_alpha\",\"color\",\"fill_alpha\",\"height\",\"width\",\"y\",\"x\",\"label\"],\"data\":{\"abbr\":[\"AUT\"],\"chart_index\":[{\"abbr\":\"AUT\",\"medal\":\"silver\"}],\"color\":[\"Silver\"],\"fill_alpha\":[0.8],\"height\":[6.0],\"label\":[{\"abbr\":\"AUT\",\"medal\":\"silver\"}],\"line_alpha\":[1.0],\"line_color\":[\"white\"],\"medal\":[\"silver\"],\"width\":[0.8],\"x\":[\"AUT\"],\"y\":[4.0]}},\"id\":\"20fe95a6-a31f-4bbd-a142-a97e859250c8\",\"type\":\"ColumnDataSource\"},{\"attributes\":{},\"id\":\"39114ed7-271e-4c61-bc76-356d9303fa34\",\"type\":\"BasicTicker\"},{\"attributes\":{\"callback\":null,\"column_names\":[\"line_color\",\"line_alpha\",\"color\",\"fill_alpha\",\"height\",\"width\",\"y\",\"x\",\"label\"],\"data\":{\"abbr\":[\"BLR\"],\"chart_index\":[{\"abbr\":\"BLR\",\"medal\":\"gold\"}],\"color\":[\"Goldenrod\"],\"fill_alpha\":[0.8],\"height\":[5.0],\"label\":[{\"abbr\":\"BLR\",\"medal\":\"gold\"}],\"line_alpha\":[1.0],\"line_color\":[\"white\"],\"medal\":[\"gold\"],\"width\":[0.8],\"x\":[\"BLR\"],\"y\":[3.5]}},\"id\":\"95ffd35a-098d-4723-ba77-ca6f114afd08\",\"type\":\"ColumnDataSource\"},{\"attributes\":{\"callback\":null,\"column_names\":[\"line_color\",\"line_alpha\",\"color\",\"fill_alpha\",\"height\",\"width\",\"y\",\"x\",\"label\"],\"data\":{\"abbr\":[\"NOR\"],\"chart_index\":[{\"abbr\":\"NOR\",\"medal\":\"gold\"}],\"color\":[\"Goldenrod\"],\"fill_alpha\":[0.8],\"height\":[8.0],\"label\":[{\"abbr\":\"NOR\",\"medal\":\"gold\"}],\"line_alpha\":[1.0],\"line_color\":[\"white\"],\"medal\":[\"gold\"],\"width\":[0.8],\"x\":[\"NOR\"],\"y\":[15.0]}},\"id\":\"debe1645-8e3e-4e73-84e9-5738aa99c469\",\"type\":\"ColumnDataSource\"},{\"attributes\":{\"data_source\":{\"id\":\"ea78f8d2-b08b-4ae3-b633-95cd66b6de50\",\"type\":\"ColumnDataSource\"},\"glyph\":{\"id\":\"7e08a02f-7d0d-4f7a-a6b0-18aa2c36f3d4\",\"type\":\"Rect\"},\"hover_glyph\":null,\"nonselection_glyph\":null,\"selection_glyph\":null},\"id\":\"cbd6814c-a789-40b5-ab9c-02f40b5ba23b\",\"type\":\"GlyphRenderer\"},{\"attributes\":{\"fill_alpha\":{\"field\":\"fill_alpha\"},\"fill_color\":{\"field\":\"color\"},\"height\":{\"field\":\"height\",\"units\":\"data\"},\"line_color\":{\"field\":\"line_color\"},\"width\":{\"field\":\"width\",\"units\":\"data\"},\"x\":{\"field\":\"x\"},\"y\":{\"field\":\"y\"}},\"id\":\"d1e561cf-66df-4d44-acff-0e1c5ce8ac71\",\"type\":\"Rect\"},{\"attributes\":{\"data_source\":{\"id\":\"51ddb2ab-6123-4e04-b6cc-cb3c98ddfc18\",\"type\":\"ColumnDataSource\"},\"glyph\":{\"id\":\"84ebbc90-1bfd-4473-9402-7cfd7cce9f9a\",\"type\":\"Rect\"},\"hover_glyph\":null,\"nonselection_glyph\":null,\"selection_glyph\":null},\"id\":\"86fbb5e8-2a10-4d12-ab5a-2ee2d70e548e\",\"type\":\"GlyphRenderer\"},{\"attributes\":{\"callback\":null,\"column_names\":[\"line_color\",\"line_alpha\",\"color\",\"fill_alpha\",\"height\",\"width\",\"y\",\"x\",\"label\"],\"data\":{\"abbr\":[\"JPN\"],\"chart_index\":[{\"abbr\":\"JPN\",\"medal\":\"bronze\"}],\"color\":[\"SaddleBrown\"],\"fill_alpha\":[0.8],\"height\":[2.0],\"label\":[{\"abbr\":\"JPN\",\"medal\":\"bronze\"}],\"line_alpha\":[1.0],\"line_color\":[\"white\"],\"medal\":[\"bronze\"],\"width\":[0.8],\"x\":[\"JPN\"],\"y\":[1.0]}},\"id\":\"ea78f8d2-b08b-4ae3-b633-95cd66b6de50\",\"type\":\"ColumnDataSource\"},{\"attributes\":{\"data_source\":{\"id\":\"bee3944b-a9b6-4192-ab51-ca787fc7aef3\",\"type\":\"ColumnDataSource\"},\"glyph\":{\"id\":\"c1b8e795-1454-42bc-b837-0e11ad2c1877\",\"type\":\"Rect\"},\"hover_glyph\":null,\"nonselection_glyph\":null,\"selection_glyph\":null},\"id\":\"6fe76d1b-c145-4ceb-86ab-ba8b6e2746e7\",\"type\":\"GlyphRenderer\"},{\"attributes\":{\"fill_alpha\":{\"field\":\"fill_alpha\"},\"fill_color\":{\"field\":\"color\"},\"height\":{\"field\":\"height\",\"units\":\"data\"},\"line_color\":{\"field\":\"line_color\"},\"width\":{\"field\":\"width\",\"units\":\"data\"},\"x\":{\"field\":\"x\"},\"y\":{\"field\":\"y\"}},\"id\":\"8061f530-5b38-41c1-a78d-8e4e99c84737\",\"type\":\"Rect\"},{\"attributes\":{\"data_source\":{\"id\":\"eb5cc8aa-ca38-41fd-b212-1f243753e11b\",\"type\":\"ColumnDataSource\"},\"glyph\":{\"id\":\"9023fe0a-bb85-404e-a90e-1df73ed60753\",\"type\":\"Rect\"},\"hover_glyph\":null,\"nonselection_glyph\":null,\"selection_glyph\":null},\"id\":\"e1272ad8-3846-46e9-9581-9e86b153bc40\",\"type\":\"GlyphRenderer\"},{\"attributes\":{\"fill_alpha\":{\"field\":\"fill_alpha\"},\"fill_color\":{\"field\":\"color\"},\"height\":{\"field\":\"height\",\"units\":\"data\"},\"line_color\":{\"field\":\"line_color\"},\"width\":{\"field\":\"width\",\"units\":\"data\"},\"x\":{\"field\":\"x\"},\"y\":{\"field\":\"y\"}},\"id\":\"7b0fbfe3-6bfc-4479-a2ac-bb01fdf080b9\",\"type\":\"Rect\"},{\"attributes\":{\"callback\":null,\"column_names\":[\"line_color\",\"line_alpha\",\"color\",\"fill_alpha\",\"height\",\"width\",\"y\",\"x\",\"label\"],\"data\":{\"abbr\":[\"SWE\"],\"chart_index\":[{\"abbr\":\"SWE\",\"medal\":\"silver\"}],\"color\":[\"Silver\"],\"fill_alpha\":[0.8],\"height\":[5.0],\"label\":[{\"abbr\":\"SWE\",\"medal\":\"silver\"}],\"line_alpha\":[1.0],\"line_color\":[\"white\"],\"medal\":[\"silver\"],\"width\":[0.8],\"x\":[\"SWE\"],\"y\":[4.5]}},\"id\":\"a11c8fab-3bb9-4c55-a3d3-e6cac9dafda4\",\"type\":\"ColumnDataSource\"},{\"attributes\":{\"callback\":null,\"column_names\":[\"line_color\",\"line_alpha\",\"color\",\"fill_alpha\",\"height\",\"width\",\"y\",\"x\",\"label\"],\"data\":{\"abbr\":[\"KAZ\"],\"chart_index\":[{\"abbr\":\"KAZ\",\"medal\":\"gold\"}],\"color\":[\"Goldenrod\"],\"fill_alpha\":[0.8],\"height\":[0.0],\"label\":[{\"abbr\":\"KAZ\",\"medal\":\"gold\"}],\"line_alpha\":[1.0],\"line_color\":[\"white\"],\"medal\":[\"gold\"],\"width\":[0.8],\"x\":[\"KAZ\"],\"y\":[1.0]}},\"id\":\"71da787f-5366-4251-98a7-569f917a0e1a\",\"type\":\"ColumnDataSource\"},{\"attributes\":{\"data_source\":{\"id\":\"b0a25da5-0f16-4009-9612-7e2a53c47f90\",\"type\":\"ColumnDataSource\"},\"glyph\":{\"id\":\"183c64b5-7c04-4f73-b273-8402f21853ac\",\"type\":\"Rect\"},\"hover_glyph\":null,\"nonselection_glyph\":null,\"selection_glyph\":null},\"id\":\"64daaf81-7518-4837-bec3-ea3aad541fc4\",\"type\":\"GlyphRenderer\"},{\"attributes\":{\"data_source\":{\"id\":\"79b592d6-6e0e-4b34-b32c-68267300e04a\",\"type\":\"ColumnDataSource\"},\"glyph\":{\"id\":\"83f34a7e-5510-4606-8f76-bc8899e96648\",\"type\":\"Rect\"},\"hover_glyph\":null,\"nonselection_glyph\":null,\"selection_glyph\":null},\"id\":\"9598be91-4b4b-484a-b274-ea2f0762510e\",\"type\":\"GlyphRenderer\"},{\"attributes\":{\"callback\":null,\"column_names\":[\"line_color\",\"line_alpha\",\"color\",\"fill_alpha\",\"height\",\"width\",\"y\",\"x\",\"label\"],\"data\":{\"abbr\":[\"CHE\"],\"chart_index\":[{\"abbr\":\"CHE\",\"medal\":\"bronze\"}],\"color\":[\"SaddleBrown\"],\"fill_alpha\":[0.8],\"height\":[1.0],\"label\":[{\"abbr\":\"CHE\",\"medal\":\"bronze\"}],\"line_alpha\":[1.0],\"line_color\":[\"white\"],\"medal\":[\"bronze\"],\"width\":[0.8],\"x\":[\"CHE\"],\"y\":[0.5]}},\"id\":\"e3fe9986-3bac-4c70-b945-bd126788df30\",\"type\":\"ColumnDataSource\"},{\"attributes\":{\"data_source\":{\"id\":\"7808377d-811b-4b28-81e1-c8dcef590d91\",\"type\":\"ColumnDataSource\"},\"glyph\":{\"id\":\"4c6df3dd-315e-4828-a6be-1bb378a05e0e\",\"type\":\"Rect\"},\"hover_glyph\":null,\"nonselection_glyph\":null,\"selection_glyph\":null},\"id\":\"d9629e09-2cfd-4195-9e33-f23d11c3a482\",\"type\":\"GlyphRenderer\"},{\"attributes\":{\"callback\":null,\"column_names\":[\"line_color\",\"line_alpha\",\"color\",\"fill_alpha\",\"height\",\"width\",\"y\",\"x\",\"label\"],\"data\":{\"abbr\":[\"RUS\"],\"chart_index\":[{\"abbr\":\"RUS\",\"medal\":\"gold\"}],\"color\":[\"Goldenrod\"],\"fill_alpha\":[0.8],\"height\":[6.0],\"label\":[{\"abbr\":\"RUS\",\"medal\":\"gold\"}],\"line_alpha\":[1.0],\"line_color\":[\"white\"],\"medal\":[\"gold\"],\"width\":[0.8],\"x\":[\"RUS\"],\"y\":[18.0]}},\"id\":\"e87aeefc-7154-4c02-a1c8-f0a942b730be\",\"type\":\"ColumnDataSource\"},{\"attributes\":{\"axis_label\":\"Sum( Medals )\",\"formatter\":{\"id\":\"27efa66e-f55b-4d25-8706-0638181853ab\",\"type\":\"BasicTickFormatter\"},\"plot\":{\"id\":\"c6aa0766-a2cb-473c-bb7b-c3ade858df3a\",\"subtype\":\"Chart\",\"type\":\"Plot\"},\"ticker\":{\"id\":\"39114ed7-271e-4c61-bc76-356d9303fa34\",\"type\":\"BasicTicker\"}},\"id\":\"066e9e3d-1d8f-4106-841f-4275ec0bab0b\",\"type\":\"LinearAxis\"},{\"attributes\":{\"callback\":null,\"column_names\":[\"line_color\",\"line_alpha\",\"color\",\"fill_alpha\",\"height\",\"width\",\"y\",\"x\",\"label\"],\"data\":{\"abbr\":[\"BLR\"],\"chart_index\":[{\"abbr\":\"BLR\",\"medal\":\"bronze\"}],\"color\":[\"SaddleBrown\"],\"fill_alpha\":[0.8],\"height\":[1.0],\"label\":[{\"abbr\":\"BLR\",\"medal\":\"bronze\"}],\"line_alpha\":[1.0],\"line_color\":[\"white\"],\"medal\":[\"bronze\"],\"width\":[0.8],\"x\":[\"BLR\"],\"y\":[0.5]}},\"id\":\"a828992f-3a87-4969-ac90-b724afb0364b\",\"type\":\"ColumnDataSource\"},{\"attributes\":{\"callback\":null,\"column_names\":[\"line_color\",\"line_alpha\",\"color\",\"fill_alpha\",\"height\",\"width\",\"y\",\"x\",\"label\"],\"data\":{\"abbr\":[\"KOR\"],\"chart_index\":[{\"abbr\":\"KOR\",\"medal\":\"silver\"}],\"color\":[\"Silver\"],\"fill_alpha\":[0.8],\"height\":[1.0],\"label\":[{\"abbr\":\"KOR\",\"medal\":\"silver\"}],\"line_alpha\":[1.0],\"line_color\":[\"white\"],\"medal\":[\"silver\"],\"width\":[0.8],\"x\":[\"KOR\"],\"y\":[1.5]}},\"id\":\"0809806c-c073-4c5b-87be-2fcb74339e0d\",\"type\":\"ColumnDataSource\"},{\"attributes\":{\"data_source\":{\"id\":\"e18671de-f97a-4277-ad52-e133c92ff60f\",\"type\":\"ColumnDataSource\"},\"glyph\":{\"id\":\"5d5953c7-7f93-4bad-a5b3-001cbc0cc579\",\"type\":\"Rect\"},\"hover_glyph\":null,\"nonselection_glyph\":null,\"selection_glyph\":null},\"id\":\"5188632c-c07b-4caa-b4ef-de66fb7d6428\",\"type\":\"GlyphRenderer\"},{\"attributes\":{\"fill_alpha\":{\"field\":\"fill_alpha\"},\"fill_color\":{\"field\":\"color\"},\"height\":{\"field\":\"height\",\"units\":\"data\"},\"line_color\":{\"field\":\"line_color\"},\"width\":{\"field\":\"width\",\"units\":\"data\"},\"x\":{\"field\":\"x\"},\"y\":{\"field\":\"y\"}},\"id\":\"0c477e82-cf65-4f76-afb0-385e8ec713de\",\"type\":\"Rect\"},{\"attributes\":{\"fill_alpha\":{\"field\":\"fill_alpha\"},\"fill_color\":{\"field\":\"color\"},\"height\":{\"field\":\"height\",\"units\":\"data\"},\"line_color\":{\"field\":\"line_color\"},\"width\":{\"field\":\"width\",\"units\":\"data\"},\"x\":{\"field\":\"x\"},\"y\":{\"field\":\"y\"}},\"id\":\"99130e70-3041-4b80-b93e-31dd632c8aa6\",\"type\":\"Rect\"},{\"attributes\":{\"fill_alpha\":{\"field\":\"fill_alpha\"},\"fill_color\":{\"field\":\"color\"},\"height\":{\"field\":\"height\",\"units\":\"data\"},\"line_color\":{\"field\":\"line_color\"},\"width\":{\"field\":\"width\",\"units\":\"data\"},\"x\":{\"field\":\"x\"},\"y\":{\"field\":\"y\"}},\"id\":\"4c6df3dd-315e-4828-a6be-1bb378a05e0e\",\"type\":\"Rect\"},{\"attributes\":{\"data_source\":{\"id\":\"8d01d6aa-aca4-484e-aada-cd85245e399e\",\"type\":\"ColumnDataSource\"},\"glyph\":{\"id\":\"b6beaf0d-4ce9-4ca3-ad64-4d5470bbac24\",\"type\":\"Rect\"},\"hover_glyph\":null,\"nonselection_glyph\":null,\"selection_glyph\":null},\"id\":\"e97bc725-70d7-43c5-b7bf-ccc417725c91\",\"type\":\"GlyphRenderer\"},{\"attributes\":{\"data_source\":{\"id\":\"ccafa628-a7b0-4873-8f42-2f2415ff9632\",\"type\":\"ColumnDataSource\"},\"glyph\":{\"id\":\"eaf3d2b4-fba5-4709-b8c3-23a5ffd1889d\",\"type\":\"Rect\"},\"hover_glyph\":null,\"nonselection_glyph\":null,\"selection_glyph\":null},\"id\":\"07f6698e-334c-4274-98f6-691658af9cf3\",\"type\":\"GlyphRenderer\"},{\"attributes\":{\"data_source\":{\"id\":\"1aa4e55c-7268-4d13-9418-ebfc72db6366\",\"type\":\"ColumnDataSource\"},\"glyph\":{\"id\":\"bf69e5ac-a290-4c89-b6c9-fa936ae1e0ee\",\"type\":\"Rect\"},\"hover_glyph\":null,\"nonselection_glyph\":null,\"selection_glyph\":null},\"id\":\"cc5bb8b3-2300-48b3-ad6f-c48cdecc0b2a\",\"type\":\"GlyphRenderer\"},{\"attributes\":{\"plot\":{\"id\":\"c6aa0766-a2cb-473c-bb7b-c3ade858df3a\",\"subtype\":\"Chart\",\"type\":\"Plot\"}},\"id\":\"6025b90a-be14-4781-bf61-cf127e0fee10\",\"type\":\"ResetTool\"},{\"attributes\":{\"fill_alpha\":{\"field\":\"fill_alpha\"},\"fill_color\":{\"field\":\"color\"},\"height\":{\"field\":\"height\",\"units\":\"data\"},\"line_color\":{\"field\":\"line_color\"},\"width\":{\"field\":\"width\",\"units\":\"data\"},\"x\":{\"field\":\"x\"},\"y\":{\"field\":\"y\"}},\"id\":\"f6c5d4ed-fafd-43fe-843f-31d1c47a8e2d\",\"type\":\"Rect\"},{\"attributes\":{\"callback\":null,\"column_names\":[\"line_color\",\"line_alpha\",\"color\",\"fill_alpha\",\"height\",\"width\",\"y\",\"x\",\"label\"],\"data\":{\"abbr\":[\"GBR\"],\"chart_index\":[{\"abbr\":\"GBR\",\"medal\":\"silver\"}],\"color\":[\"Silver\"],\"fill_alpha\":[0.8],\"height\":[0.0],\"label\":[{\"abbr\":\"GBR\",\"medal\":\"silver\"}],\"line_alpha\":[1.0],\"line_color\":[\"white\"],\"medal\":[\"silver\"],\"width\":[0.8],\"x\":[\"GBR\"],\"y\":[1.0]}},\"id\":\"6ada4da8-ba2e-48e3-a18e-6d14f920a28b\",\"type\":\"ColumnDataSource\"},{\"attributes\":{\"fill_alpha\":{\"field\":\"fill_alpha\"},\"fill_color\":{\"field\":\"color\"},\"height\":{\"field\":\"height\",\"units\":\"data\"},\"line_color\":{\"field\":\"line_color\"},\"width\":{\"field\":\"width\",\"units\":\"data\"},\"x\":{\"field\":\"x\"},\"y\":{\"field\":\"y\"}},\"id\":\"7c006a83-761d-419a-8853-c6065c1451fe\",\"type\":\"Rect\"},{\"attributes\":{\"fill_alpha\":{\"field\":\"fill_alpha\"},\"fill_color\":{\"field\":\"color\"},\"height\":{\"field\":\"height\",\"units\":\"data\"},\"line_color\":{\"field\":\"line_color\"},\"width\":{\"field\":\"width\",\"units\":\"data\"},\"x\":{\"field\":\"x\"},\"y\":{\"field\":\"y\"}},\"id\":\"8b690aa6-afd6-496d-9c6f-0af006fa9c3a\",\"type\":\"Rect\"},{\"attributes\":{\"callback\":null,\"column_names\":[\"line_color\",\"line_alpha\",\"color\",\"fill_alpha\",\"height\",\"width\",\"y\",\"x\",\"label\"],\"data\":{\"abbr\":[\"SVK\"],\"chart_index\":[{\"abbr\":\"SVK\",\"medal\":\"silver\"}],\"color\":[\"Silver\"],\"fill_alpha\":[0.8],\"height\":[0.0],\"label\":[{\"abbr\":\"SVK\",\"medal\":\"silver\"}],\"line_alpha\":[1.0],\"line_color\":[\"white\"],\"medal\":[\"silver\"],\"width\":[0.8],\"x\":[\"SVK\"],\"y\":[0.0]}},\"id\":\"8d01d6aa-aca4-484e-aada-cd85245e399e\",\"type\":\"ColumnDataSource\"},{\"attributes\":{\"fill_alpha\":{\"field\":\"fill_alpha\"},\"fill_color\":{\"field\":\"color\"},\"height\":{\"field\":\"height\",\"units\":\"data\"},\"line_color\":{\"field\":\"line_color\"},\"width\":{\"field\":\"width\",\"units\":\"data\"},\"x\":{\"field\":\"x\"},\"y\":{\"field\":\"y\"}},\"id\":\"1a387b8c-9119-478b-a093-cba05eaf2986\",\"type\":\"Rect\"},{\"attributes\":{\"fill_alpha\":{\"field\":\"fill_alpha\"},\"fill_color\":{\"field\":\"color\"},\"height\":{\"field\":\"height\",\"units\":\"data\"},\"line_color\":{\"field\":\"line_color\"},\"width\":{\"field\":\"width\",\"units\":\"data\"},\"x\":{\"field\":\"x\"},\"y\":{\"field\":\"y\"}},\"id\":\"3033e8ba-35ed-4f5d-a612-c299f526d7d2\",\"type\":\"Rect\"},{\"attributes\":{\"data_source\":{\"id\":\"3f8b1455-9b87-4318-aa24-8e7e4c6383ea\",\"type\":\"ColumnDataSource\"},\"glyph\":{\"id\":\"291543ea-ab35-4a97-b56f-2841f72afe65\",\"type\":\"Rect\"},\"hover_glyph\":null,\"nonselection_glyph\":null,\"selection_glyph\":null},\"id\":\"c70e573d-b1c1-4311-940f-4119e278c993\",\"type\":\"GlyphRenderer\"},{\"attributes\":{\"callback\":null,\"column_names\":[\"line_color\",\"line_alpha\",\"color\",\"fill_alpha\",\"height\",\"width\",\"y\",\"x\",\"label\"],\"data\":{\"abbr\":[\"UKR\"],\"chart_index\":[{\"abbr\":\"UKR\",\"medal\":\"gold\"}],\"color\":[\"Goldenrod\"],\"fill_alpha\":[0.8],\"height\":[0.0],\"label\":[{\"abbr\":\"UKR\",\"medal\":\"gold\"}],\"line_alpha\":[1.0],\"line_color\":[\"white\"],\"medal\":[\"gold\"],\"width\":[0.8],\"x\":[\"UKR\"],\"y\":[1.0]}},\"id\":\"356b9605-74eb-496f-b9ca-e3f03e5a031b\",\"type\":\"ColumnDataSource\"},{\"attributes\":{\"fill_alpha\":{\"field\":\"fill_alpha\"},\"fill_color\":{\"field\":\"color\"},\"height\":{\"field\":\"height\",\"units\":\"data\"},\"line_color\":{\"field\":\"line_color\"},\"width\":{\"field\":\"width\",\"units\":\"data\"},\"x\":{\"field\":\"x\"},\"y\":{\"field\":\"y\"}},\"id\":\"fa23a7f2-8c01-4a4f-beb5-8d0714bec4b2\",\"type\":\"Rect\"},{\"attributes\":{\"fill_alpha\":{\"field\":\"fill_alpha\"},\"fill_color\":{\"field\":\"color\"},\"height\":{\"field\":\"height\",\"units\":\"data\"},\"line_color\":{\"field\":\"line_color\"},\"width\":{\"field\":\"width\",\"units\":\"data\"},\"x\":{\"field\":\"x\"},\"y\":{\"field\":\"y\"}},\"id\":\"1ec99d70-f612-424c-8846-c4639e50714d\",\"type\":\"Rect\"},{\"attributes\":{\"data_source\":{\"id\":\"2a1fdc07-576a-445e-9cd7-5583ed870fac\",\"type\":\"ColumnDataSource\"},\"glyph\":{\"id\":\"d9d7f290-d7f1-47a5-9953-3cf06fe32986\",\"type\":\"Rect\"},\"hover_glyph\":null,\"nonselection_glyph\":null,\"selection_glyph\":null},\"id\":\"c1f63bc0-e5a3-4b6f-95cc-073fca8328d8\",\"type\":\"GlyphRenderer\"},{\"attributes\":{\"fill_alpha\":{\"field\":\"fill_alpha\"},\"fill_color\":{\"field\":\"color\"},\"height\":{\"field\":\"height\",\"units\":\"data\"},\"line_color\":{\"field\":\"line_color\"},\"width\":{\"field\":\"width\",\"units\":\"data\"},\"x\":{\"field\":\"x\"},\"y\":{\"field\":\"y\"}},\"id\":\"cd552ede-ad90-4cd5-9300-df4df02607d3\",\"type\":\"Rect\"},{\"attributes\":{},\"id\":\"27efa66e-f55b-4d25-8706-0638181853ab\",\"type\":\"BasicTickFormatter\"},{\"attributes\":{\"callback\":null,\"column_names\":[\"line_color\",\"line_alpha\",\"color\",\"fill_alpha\",\"height\",\"width\",\"y\",\"x\",\"label\"],\"data\":{\"abbr\":[\"UKR\"],\"chart_index\":[{\"abbr\":\"UKR\",\"medal\":\"silver\"}],\"color\":[\"Silver\"],\"fill_alpha\":[0.8],\"height\":[0.0],\"label\":[{\"abbr\":\"UKR\",\"medal\":\"silver\"}],\"line_alpha\":[1.0],\"line_color\":[\"white\"],\"medal\":[\"silver\"],\"width\":[0.8],\"x\":[\"UKR\"],\"y\":[1.0]}},\"id\":\"18dd8484-e00b-4848-aadd-121a30f12ef5\",\"type\":\"ColumnDataSource\"},{\"attributes\":{\"callback\":null,\"column_names\":[\"line_color\",\"line_alpha\",\"color\",\"fill_alpha\",\"height\",\"width\",\"y\",\"x\",\"label\"],\"data\":{\"abbr\":[\"CZE\"],\"chart_index\":[{\"abbr\":\"CZE\",\"medal\":\"bronze\"}],\"color\":[\"SaddleBrown\"],\"fill_alpha\":[0.8],\"height\":[2.0],\"label\":[{\"abbr\":\"CZE\",\"medal\":\"bronze\"}],\"line_alpha\":[1.0],\"line_color\":[\"white\"],\"medal\":[\"bronze\"],\"width\":[0.8],\"x\":[\"CZE\"],\"y\":[1.0]}},\"id\":\"15559224-c564-46b2-a219-140edfc118d8\",\"type\":\"ColumnDataSource\"},{\"attributes\":{\"data_source\":{\"id\":\"3e1a25ab-f35b-42ad-9d57-3d0fd83d9c73\",\"type\":\"ColumnDataSource\"},\"glyph\":{\"id\":\"1de59d1d-3ce2-4a6d-a9ad-3a0cc6bebee2\",\"type\":\"Rect\"},\"hover_glyph\":null,\"nonselection_glyph\":null,\"selection_glyph\":null},\"id\":\"98dda1b2-c38d-4b5c-9aa6-cd0be2313856\",\"type\":\"GlyphRenderer\"},{\"attributes\":{\"callback\":null,\"column_names\":[\"line_color\",\"line_alpha\",\"color\",\"fill_alpha\",\"height\",\"width\",\"y\",\"x\",\"label\"],\"data\":{\"abbr\":[\"SVN\"],\"chart_index\":[{\"abbr\":\"SVN\",\"medal\":\"gold\"}],\"color\":[\"Goldenrod\"],\"fill_alpha\":[0.8],\"height\":[2.0],\"label\":[{\"abbr\":\"SVN\",\"medal\":\"gold\"}],\"line_alpha\":[1.0],\"line_color\":[\"white\"],\"medal\":[\"gold\"],\"width\":[0.8],\"x\":[\"SVN\"],\"y\":[6.0]}},\"id\":\"3542789c-127e-414b-a4d1-267cfcbd1ea4\",\"type\":\"ColumnDataSource\"},{\"attributes\":{\"callback\":null,\"column_names\":[\"line_color\",\"line_alpha\",\"color\",\"fill_alpha\",\"height\",\"width\",\"y\",\"x\",\"label\"],\"data\":{\"abbr\":[\"NLD\"],\"chart_index\":[{\"abbr\":\"NLD\",\"medal\":\"bronze\"}],\"color\":[\"SaddleBrown\"],\"fill_alpha\":[0.8],\"height\":[8.0],\"label\":[{\"abbr\":\"NLD\",\"medal\":\"bronze\"}],\"line_alpha\":[1.0],\"line_color\":[\"white\"],\"medal\":[\"bronze\"],\"width\":[0.8],\"x\":[\"NLD\"],\"y\":[4.0]}},\"id\":\"ae349897-4184-4449-8115-d13a961bf578\",\"type\":\"ColumnDataSource\"},{\"attributes\":{\"data_source\":{\"id\":\"25df0ee9-f5d8-4be8-98a5-ccfb3c5a970a\",\"type\":\"ColumnDataSource\"},\"glyph\":{\"id\":\"f1f51f68-0b97-4be4-8be7-9dde7dbeeef8\",\"type\":\"Rect\"},\"hover_glyph\":null,\"nonselection_glyph\":null,\"selection_glyph\":null},\"id\":\"65d69a19-e82a-4b61-9a59-7bd7ab853681\",\"type\":\"GlyphRenderer\"},{\"attributes\":{\"fill_alpha\":{\"field\":\"fill_alpha\"},\"fill_color\":{\"field\":\"color\"},\"height\":{\"field\":\"height\",\"units\":\"data\"},\"line_color\":{\"field\":\"line_color\"},\"width\":{\"field\":\"width\",\"units\":\"data\"},\"x\":{\"field\":\"x\"},\"y\":{\"field\":\"y\"}},\"id\":\"3cfb346b-78ac-49da-bb43-3f637462110b\",\"type\":\"Rect\"},{\"attributes\":{\"callback\":null,\"column_names\":[\"line_color\",\"line_alpha\",\"color\",\"fill_alpha\",\"height\",\"width\",\"y\",\"x\",\"label\"],\"data\":{\"abbr\":[\"KOR\"],\"chart_index\":[{\"abbr\":\"KOR\",\"medal\":\"bronze\"}],\"color\":[\"SaddleBrown\"],\"fill_alpha\":[0.8],\"height\":[1.0],\"label\":[{\"abbr\":\"KOR\",\"medal\":\"bronze\"}],\"line_alpha\":[1.0],\"line_color\":[\"white\"],\"medal\":[\"bronze\"],\"width\":[0.8],\"x\":[\"KOR\"],\"y\":[0.5]}},\"id\":\"7808377d-811b-4b28-81e1-c8dcef590d91\",\"type\":\"ColumnDataSource\"},{\"attributes\":{\"data_source\":{\"id\":\"00b6754b-fdae-4ea5-b0f3-1318f6cb8b07\",\"type\":\"ColumnDataSource\"},\"glyph\":{\"id\":\"3cfb346b-78ac-49da-bb43-3f637462110b\",\"type\":\"Rect\"},\"hover_glyph\":null,\"nonselection_glyph\":null,\"selection_glyph\":null},\"id\":\"e41f999b-f495-41d5-8898-488576e1a4ce\",\"type\":\"GlyphRenderer\"},{\"attributes\":{\"data_source\":{\"id\":\"5a736953-96e9-4251-98be-20b197b49b42\",\"type\":\"ColumnDataSource\"},\"glyph\":{\"id\":\"e212bf2c-c2b6-4421-92ce-e522b1893db9\",\"type\":\"Rect\"},\"hover_glyph\":null,\"nonselection_glyph\":null,\"selection_glyph\":null},\"id\":\"0d603e28-2c50-4e79-8c78-cd15c4cd9221\",\"type\":\"GlyphRenderer\"},{\"attributes\":{\"fill_alpha\":{\"field\":\"fill_alpha\"},\"fill_color\":{\"field\":\"color\"},\"height\":{\"field\":\"height\",\"units\":\"data\"},\"line_color\":{\"field\":\"line_color\"},\"width\":{\"field\":\"width\",\"units\":\"data\"},\"x\":{\"field\":\"x\"},\"y\":{\"field\":\"y\"}},\"id\":\"fea5270e-61de-4b66-a7e4-42c2b08a75ba\",\"type\":\"Rect\"},{\"attributes\":{\"fill_alpha\":{\"field\":\"fill_alpha\"},\"fill_color\":{\"field\":\"color\"},\"height\":{\"field\":\"height\",\"units\":\"data\"},\"line_color\":{\"field\":\"line_color\"},\"width\":{\"field\":\"width\",\"units\":\"data\"},\"x\":{\"field\":\"x\"},\"y\":{\"field\":\"y\"}},\"id\":\"12df2323-3b3d-4996-9e80-f5c95ae2d148\",\"type\":\"Rect\"},{\"attributes\":{\"callback\":null,\"column_names\":[\"line_color\",\"line_alpha\",\"color\",\"fill_alpha\",\"height\",\"width\",\"y\",\"x\",\"label\"],\"data\":{\"abbr\":[\"CZE\"],\"chart_index\":[{\"abbr\":\"CZE\",\"medal\":\"silver\"}],\"color\":[\"Silver\"],\"fill_alpha\":[0.8],\"height\":[3.0],\"label\":[{\"abbr\":\"CZE\",\"medal\":\"silver\"}],\"line_alpha\":[1.0],\"line_color\":[\"white\"],\"medal\":[\"silver\"],\"width\":[0.8],\"x\":[\"CZE\"],\"y\":[3.5]}},\"id\":\"1aa4e55c-7268-4d13-9418-ebfc72db6366\",\"type\":\"ColumnDataSource\"},{\"attributes\":{\"callback\":null,\"column_names\":[\"line_color\",\"line_alpha\",\"color\",\"fill_alpha\",\"height\",\"width\",\"y\",\"x\",\"label\"],\"data\":{\"abbr\":[\"NOR\"],\"chart_index\":[{\"abbr\":\"NOR\",\"medal\":\"bronze\"}],\"color\":[\"SaddleBrown\"],\"fill_alpha\":[0.8],\"height\":[7.0],\"label\":[{\"abbr\":\"NOR\",\"medal\":\"bronze\"}],\"line_alpha\":[1.0],\"line_color\":[\"white\"],\"medal\":[\"bronze\"],\"width\":[0.8],\"x\":[\"NOR\"],\"y\":[3.5]}},\"id\":\"1bd52634-bb20-4903-82b5-4813bdab0735\",\"type\":\"ColumnDataSource\"},{\"attributes\":{\"plot\":{\"id\":\"c6aa0766-a2cb-473c-bb7b-c3ade858df3a\",\"subtype\":\"Chart\",\"type\":\"Plot\"}},\"id\":\"53978d47-d818-4bb2-88db-753a2b430958\",\"type\":\"HelpTool\"},{\"attributes\":{\"callback\":null,\"column_names\":[\"line_color\",\"line_alpha\",\"color\",\"fill_alpha\",\"height\",\"width\",\"y\",\"x\",\"label\"],\"data\":{\"abbr\":[\"ITA\"],\"chart_index\":[{\"abbr\":\"ITA\",\"medal\":\"gold\"}],\"color\":[\"Goldenrod\"],\"fill_alpha\":[0.8],\"height\":[0.0],\"label\":[{\"abbr\":\"ITA\",\"medal\":\"gold\"}],\"line_alpha\":[1.0],\"line_color\":[\"white\"],\"medal\":[\"gold\"],\"width\":[0.8],\"x\":[\"ITA\"],\"y\":[6.0]}},\"id\":\"349d976a-c178-4f1f-839d-84aeadab72ae\",\"type\":\"ColumnDataSource\"},{\"attributes\":{\"fill_alpha\":{\"field\":\"fill_alpha\"},\"fill_color\":{\"field\":\"color\"},\"height\":{\"field\":\"height\",\"units\":\"data\"},\"line_color\":{\"field\":\"line_color\"},\"width\":{\"field\":\"width\",\"units\":\"data\"},\"x\":{\"field\":\"x\"},\"y\":{\"field\":\"y\"}},\"id\":\"7e08a02f-7d0d-4f7a-a6b0-18aa2c36f3d4\",\"type\":\"Rect\"},{\"attributes\":{\"fill_alpha\":{\"field\":\"fill_alpha\"},\"fill_color\":{\"field\":\"color\"},\"height\":{\"field\":\"height\",\"units\":\"data\"},\"line_color\":{\"field\":\"line_color\"},\"width\":{\"field\":\"width\",\"units\":\"data\"},\"x\":{\"field\":\"x\"},\"y\":{\"field\":\"y\"}},\"id\":\"853f5bf8-5cd7-463b-92cc-01f14fe0a815\",\"type\":\"Rect\"},{\"attributes\":{\"callback\":null,\"column_names\":[\"line_color\",\"line_alpha\",\"color\",\"fill_alpha\",\"height\",\"width\",\"y\",\"x\",\"label\"],\"data\":{\"abbr\":[\"POL\"],\"chart_index\":[{\"abbr\":\"POL\",\"medal\":\"silver\"}],\"color\":[\"Silver\"],\"fill_alpha\":[0.8],\"height\":[0.0],\"label\":[{\"abbr\":\"POL\",\"medal\":\"silver\"}],\"line_alpha\":[1.0],\"line_color\":[\"white\"],\"medal\":[\"silver\"],\"width\":[0.8],\"x\":[\"POL\"],\"y\":[0.0]}},\"id\":\"b63fc7c4-ba9d-4c5e-bcd5-027ba02df004\",\"type\":\"ColumnDataSource\"},{\"attributes\":{\"callback\":null,\"column_names\":[\"line_color\",\"line_alpha\",\"color\",\"fill_alpha\",\"height\",\"width\",\"y\",\"x\",\"label\"],\"data\":{\"abbr\":[\"UKR\"],\"chart_index\":[{\"abbr\":\"UKR\",\"medal\":\"bronze\"}],\"color\":[\"SaddleBrown\"],\"fill_alpha\":[0.8],\"height\":[1.0],\"label\":[{\"abbr\":\"UKR\",\"medal\":\"bronze\"}],\"line_alpha\":[1.0],\"line_color\":[\"white\"],\"medal\":[\"bronze\"],\"width\":[0.8],\"x\":[\"UKR\"],\"y\":[0.5]}},\"id\":\"9f7c4104-9e91-41d4-8030-e435fbd1e389\",\"type\":\"ColumnDataSource\"},{\"attributes\":{\"fill_alpha\":{\"field\":\"fill_alpha\"},\"fill_color\":{\"field\":\"color\"},\"height\":{\"field\":\"height\",\"units\":\"data\"},\"line_color\":{\"field\":\"line_color\"},\"width\":{\"field\":\"width\",\"units\":\"data\"},\"x\":{\"field\":\"x\"},\"y\":{\"field\":\"y\"}},\"id\":\"7fe0e902-d8b9-4c82-85c0-cd98832169a8\",\"type\":\"Rect\"},{\"attributes\":{\"callback\":null,\"column_names\":[\"line_color\",\"line_alpha\",\"color\",\"fill_alpha\",\"height\",\"width\",\"y\",\"x\",\"label\"],\"data\":{\"abbr\":[\"BLR\"],\"chart_index\":[{\"abbr\":\"BLR\",\"medal\":\"silver\"}],\"color\":[\"Silver\"],\"fill_alpha\":[0.8],\"height\":[0.0],\"label\":[{\"abbr\":\"BLR\",\"medal\":\"silver\"}],\"line_alpha\":[1.0],\"line_color\":[\"white\"],\"medal\":[\"silver\"],\"width\":[0.8],\"x\":[\"BLR\"],\"y\":[1.0]}},\"id\":\"2a1fdc07-576a-445e-9cd7-5583ed870fac\",\"type\":\"ColumnDataSource\"},{\"attributes\":{\"fill_alpha\":{\"field\":\"fill_alpha\"},\"fill_color\":{\"field\":\"color\"},\"height\":{\"field\":\"height\",\"units\":\"data\"},\"line_color\":{\"field\":\"line_color\"},\"width\":{\"field\":\"width\",\"units\":\"data\"},\"x\":{\"field\":\"x\"},\"y\":{\"field\":\"y\"}},\"id\":\"ab2773fc-5dc3-47d3-b965-343e125f198c\",\"type\":\"Rect\"},{\"attributes\":{\"data_source\":{\"id\":\"2d93dbfa-26a1-4bac-b1db-7f72351e0be6\",\"type\":\"ColumnDataSource\"},\"glyph\":{\"id\":\"3fd9acad-75b8-40d3-8347-7a2c5e9d6ab8\",\"type\":\"Rect\"},\"hover_glyph\":null,\"nonselection_glyph\":null,\"selection_glyph\":null},\"id\":\"5b6498e3-48d9-45c9-8d72-1ddf30c2d789\",\"type\":\"GlyphRenderer\"},{\"attributes\":{\"legends\":[[\"bronze\",[{\"id\":\"c70e573d-b1c1-4311-940f-4119e278c993\",\"type\":\"GlyphRenderer\"}]],[\"silver\",[{\"id\":\"ac943ea6-297a-4a6b-9260-672237f57167\",\"type\":\"GlyphRenderer\"}]],[\"gold\",[{\"id\":\"cde1f446-695f-4ea3-b1e6-332b57d25216\",\"type\":\"GlyphRenderer\"}]]],\"plot\":{\"id\":\"c6aa0766-a2cb-473c-bb7b-c3ade858df3a\",\"subtype\":\"Chart\",\"type\":\"Plot\"}},\"id\":\"cbc26b4a-adde-472c-b393-1583ae4ba36e\",\"type\":\"Legend\"},{\"attributes\":{\"data_source\":{\"id\":\"e87aeefc-7154-4c02-a1c8-f0a942b730be\",\"type\":\"ColumnDataSource\"},\"glyph\":{\"id\":\"15f54ea8-0fb8-40e9-afc2-0cd280937bbf\",\"type\":\"Rect\"},\"hover_glyph\":null,\"nonselection_glyph\":null,\"selection_glyph\":null},\"id\":\"cde1f446-695f-4ea3-b1e6-332b57d25216\",\"type\":\"GlyphRenderer\"},{\"attributes\":{\"data_source\":{\"id\":\"184cc95e-4a6d-4e59-86b0-738824b997bd\",\"type\":\"ColumnDataSource\"},\"glyph\":{\"id\":\"f5c99e8a-cb17-463a-818d-6334eb73db43\",\"type\":\"Rect\"},\"hover_glyph\":null,\"nonselection_glyph\":null,\"selection_glyph\":null},\"id\":\"919109a0-d380-4632-8e23-a1c639b9d414\",\"type\":\"GlyphRenderer\"},{\"attributes\":{\"data_source\":{\"id\":\"a11c8fab-3bb9-4c55-a3d3-e6cac9dafda4\",\"type\":\"ColumnDataSource\"},\"glyph\":{\"id\":\"b35e2a4f-1295-4e42-8b17-ea2d228b8119\",\"type\":\"Rect\"},\"hover_glyph\":null,\"nonselection_glyph\":null,\"selection_glyph\":null},\"id\":\"6163e226-2243-4fcf-8e0f-26afa0adca7b\",\"type\":\"GlyphRenderer\"},{\"attributes\":{\"fill_alpha\":{\"field\":\"fill_alpha\"},\"fill_color\":{\"field\":\"color\"},\"height\":{\"field\":\"height\",\"units\":\"data\"},\"line_color\":{\"field\":\"line_color\"},\"width\":{\"field\":\"width\",\"units\":\"data\"},\"x\":{\"field\":\"x\"},\"y\":{\"field\":\"y\"}},\"id\":\"183c64b5-7c04-4f73-b273-8402f21853ac\",\"type\":\"Rect\"},{\"attributes\":{\"callback\":null,\"column_names\":[\"line_color\",\"line_alpha\",\"color\",\"fill_alpha\",\"height\",\"width\",\"y\",\"x\",\"label\"],\"data\":{\"abbr\":[\"SVN\"],\"chart_index\":[{\"abbr\":\"SVN\",\"medal\":\"silver\"}],\"color\":[\"Silver\"],\"fill_alpha\":[0.8],\"height\":[1.0],\"label\":[{\"abbr\":\"SVN\",\"medal\":\"silver\"}],\"line_alpha\":[1.0],\"line_color\":[\"white\"],\"medal\":[\"silver\"],\"width\":[0.8],\"x\":[\"SVN\"],\"y\":[4.5]}},\"id\":\"657dbfd3-631a-4181-b373-754b5590cca7\",\"type\":\"ColumnDataSource\"},{\"attributes\":{\"callback\":null,\"column_names\":[\"line_color\",\"line_alpha\",\"color\",\"fill_alpha\",\"height\",\"width\",\"y\",\"x\",\"label\"],\"data\":{\"abbr\":[\"NLD\"],\"chart_index\":[{\"abbr\":\"NLD\",\"medal\":\"gold\"}],\"color\":[\"Goldenrod\"],\"fill_alpha\":[0.8],\"height\":[6.0],\"label\":[{\"abbr\":\"NLD\",\"medal\":\"gold\"}],\"line_alpha\":[1.0],\"line_color\":[\"white\"],\"medal\":[\"gold\"],\"width\":[0.8],\"x\":[\"NLD\"],\"y\":[17.0]}},\"id\":\"fe468016-c54a-427c-9aee-d56135640cf3\",\"type\":\"ColumnDataSource\"},{\"attributes\":{\"data_source\":{\"id\":\"936e1539-ba0e-4fe3-ac90-83f9ab9b48ab\",\"type\":\"ColumnDataSource\"},\"glyph\":{\"id\":\"8890e856-9e0b-4b46-82ee-f84d37ab2061\",\"type\":\"Rect\"},\"hover_glyph\":null,\"nonselection_glyph\":null,\"selection_glyph\":null},\"id\":\"0e5b42e8-b40b-4875-9abc-b240ceba2c66\",\"type\":\"GlyphRenderer\"},{\"attributes\":{\"fill_alpha\":{\"field\":\"fill_alpha\"},\"fill_color\":{\"field\":\"color\"},\"height\":{\"field\":\"height\",\"units\":\"data\"},\"line_color\":{\"field\":\"line_color\"},\"width\":{\"field\":\"width\",\"units\":\"data\"},\"x\":{\"field\":\"x\"},\"y\":{\"field\":\"y\"}},\"id\":\"78d7e7d4-223a-482d-8263-375c52378837\",\"type\":\"Rect\"},{\"attributes\":{\"fill_alpha\":{\"field\":\"fill_alpha\"},\"fill_color\":{\"field\":\"color\"},\"height\":{\"field\":\"height\",\"units\":\"data\"},\"line_color\":{\"field\":\"line_color\"},\"width\":{\"field\":\"width\",\"units\":\"data\"},\"x\":{\"field\":\"x\"},\"y\":{\"field\":\"y\"}},\"id\":\"33e3555c-f5c7-4bf8-a427-1ba54bf5a53c\",\"type\":\"Rect\"},{\"attributes\":{\"data_source\":{\"id\":\"2b873ac2-d7ea-4b96-b187-b85eddd7c04a\",\"type\":\"ColumnDataSource\"},\"glyph\":{\"id\":\"4d9bff60-d3ff-4aaa-b309-29c919dde36c\",\"type\":\"Rect\"},\"hover_glyph\":null,\"nonselection_glyph\":null,\"selection_glyph\":null},\"id\":\"28a76be9-dc79-448c-ba70-7e751acd6654\",\"type\":\"GlyphRenderer\"},{\"attributes\":{\"fill_alpha\":{\"field\":\"fill_alpha\"},\"fill_color\":{\"field\":\"color\"},\"height\":{\"field\":\"height\",\"units\":\"data\"},\"line_color\":{\"field\":\"line_color\"},\"width\":{\"field\":\"width\",\"units\":\"data\"},\"x\":{\"field\":\"x\"},\"y\":{\"field\":\"y\"}},\"id\":\"7a997437-4815-434e-8855-1d1e581af59f\",\"type\":\"Rect\"},{\"attributes\":{\"callback\":null,\"column_names\":[\"line_color\",\"line_alpha\",\"color\",\"fill_alpha\",\"height\",\"width\",\"y\",\"x\",\"label\"],\"data\":{\"abbr\":[\"POL\"],\"chart_index\":[{\"abbr\":\"POL\",\"medal\":\"gold\"}],\"color\":[\"Goldenrod\"],\"fill_alpha\":[0.8],\"height\":[4.0],\"label\":[{\"abbr\":\"POL\",\"medal\":\"gold\"}],\"line_alpha\":[1.0],\"line_color\":[\"white\"],\"medal\":[\"gold\"],\"width\":[0.8],\"x\":[\"POL\"],\"y\":[2.0]}},\"id\":\"936e1539-ba0e-4fe3-ac90-83f9ab9b48ab\",\"type\":\"ColumnDataSource\"},{\"attributes\":{\"callback\":null,\"column_names\":[\"line_color\",\"line_alpha\",\"color\",\"fill_alpha\",\"height\",\"width\",\"y\",\"x\",\"label\"],\"data\":{\"abbr\":[\"FRA\"],\"chart_index\":[{\"abbr\":\"FRA\",\"medal\":\"silver\"}],\"color\":[\"Silver\"],\"fill_alpha\":[0.8],\"height\":[2.0],\"label\":[{\"abbr\":\"FRA\",\"medal\":\"silver\"}],\"line_alpha\":[1.0],\"line_color\":[\"white\"],\"medal\":[\"silver\"],\"width\":[0.8],\"x\":[\"FRA\"],\"y\":[6.0]}},\"id\":\"0e5a9960-b879-4bd8-9bb4-c4055f9bd4d2\",\"type\":\"ColumnDataSource\"},{\"attributes\":{\"callback\":null,\"column_names\":[\"line_color\",\"line_alpha\",\"color\",\"fill_alpha\",\"height\",\"width\",\"y\",\"x\",\"label\"],\"data\":{\"abbr\":[\"NOR\"],\"chart_index\":[{\"abbr\":\"NOR\",\"medal\":\"silver\"}],\"color\":[\"Silver\"],\"fill_alpha\":[0.8],\"height\":[4.0],\"label\":[{\"abbr\":\"NOR\",\"medal\":\"silver\"}],\"line_alpha\":[1.0],\"line_color\":[\"white\"],\"medal\":[\"silver\"],\"width\":[0.8],\"x\":[\"NOR\"],\"y\":[9.0]}},\"id\":\"428e657a-29b9-4462-ada8-e07f426224ff\",\"type\":\"ColumnDataSource\"},{\"attributes\":{\"data_source\":{\"id\":\"0809806c-c073-4c5b-87be-2fcb74339e0d\",\"type\":\"ColumnDataSource\"},\"glyph\":{\"id\":\"78d7e7d4-223a-482d-8263-375c52378837\",\"type\":\"Rect\"},\"hover_glyph\":null,\"nonselection_glyph\":null,\"selection_glyph\":null},\"id\":\"40479001-8175-4863-9b13-abc09e84b4ab\",\"type\":\"GlyphRenderer\"},{\"attributes\":{\"data_source\":{\"id\":\"ae349897-4184-4449-8115-d13a961bf578\",\"type\":\"ColumnDataSource\"},\"glyph\":{\"id\":\"8b690aa6-afd6-496d-9c6f-0af006fa9c3a\",\"type\":\"Rect\"},\"hover_glyph\":null,\"nonselection_glyph\":null,\"selection_glyph\":null},\"id\":\"d336bf1e-b374-4227-a1f3-1d4a4d4b28b5\",\"type\":\"GlyphRenderer\"},{\"attributes\":{\"callback\":null,\"column_names\":[\"line_color\",\"line_alpha\",\"color\",\"fill_alpha\",\"height\",\"width\",\"y\",\"x\",\"label\"],\"data\":{\"abbr\":[\"GBR\"],\"chart_index\":[{\"abbr\":\"GBR\",\"medal\":\"gold\"}],\"color\":[\"Goldenrod\"],\"fill_alpha\":[0.8],\"height\":[1.0],\"label\":[{\"abbr\":\"GBR\",\"medal\":\"gold\"}],\"line_alpha\":[1.0],\"line_color\":[\"white\"],\"medal\":[\"gold\"],\"width\":[0.8],\"x\":[\"GBR\"],\"y\":[1.5]}},\"id\":\"ac126b30-ac78-4a5f-971f-7d0704f040d1\",\"type\":\"ColumnDataSource\"},{\"attributes\":{\"callback\":null,\"column_names\":[\"line_color\",\"line_alpha\",\"color\",\"fill_alpha\",\"height\",\"width\",\"y\",\"x\",\"label\"],\"data\":{\"abbr\":[\"FIN\"],\"chart_index\":[{\"abbr\":\"FIN\",\"medal\":\"gold\"}],\"color\":[\"Goldenrod\"],\"fill_alpha\":[0.8],\"height\":[0.0],\"label\":[{\"abbr\":\"FIN\",\"medal\":\"gold\"}],\"line_alpha\":[1.0],\"line_color\":[\"white\"],\"medal\":[\"gold\"],\"width\":[0.8],\"x\":[\"FIN\"],\"y\":[3.0]}},\"id\":\"d1c71a80-8ade-4195-99e0-1e602fc96b56\",\"type\":\"ColumnDataSource\"},{\"attributes\":{\"fill_alpha\":{\"field\":\"fill_alpha\"},\"fill_color\":{\"field\":\"color\"},\"height\":{\"field\":\"height\",\"units\":\"data\"},\"line_color\":{\"field\":\"line_color\"},\"width\":{\"field\":\"width\",\"units\":\"data\"},\"x\":{\"field\":\"x\"},\"y\":{\"field\":\"y\"}},\"id\":\"bf69e5ac-a290-4c89-b6c9-fa936ae1e0ee\",\"type\":\"Rect\"},{\"attributes\":{\"callback\":null,\"column_names\":[\"line_color\",\"line_alpha\",\"color\",\"fill_alpha\",\"height\",\"width\",\"y\",\"x\",\"label\"],\"data\":{\"abbr\":[\"ITA\"],\"chart_index\":[{\"abbr\":\"ITA\",\"medal\":\"bronze\"}],\"color\":[\"SaddleBrown\"],\"fill_alpha\":[0.8],\"height\":[4.0],\"label\":[{\"abbr\":\"ITA\",\"medal\":\"bronze\"}],\"line_alpha\":[1.0],\"line_color\":[\"white\"],\"medal\":[\"bronze\"],\"width\":[0.8],\"x\":[\"ITA\"],\"y\":[2.0]}},\"id\":\"e18671de-f97a-4277-ad52-e133c92ff60f\",\"type\":\"ColumnDataSource\"},{\"attributes\":{\"data_source\":{\"id\":\"6ada4da8-ba2e-48e3-a18e-6d14f920a28b\",\"type\":\"ColumnDataSource\"},\"glyph\":{\"id\":\"3a289336-acd2-41f9-aa26-9360ce5056a0\",\"type\":\"Rect\"},\"hover_glyph\":null,\"nonselection_glyph\":null,\"selection_glyph\":null},\"id\":\"94f1fb74-9cd7-4d78-bbb0-ce23f24b8536\",\"type\":\"GlyphRenderer\"},{\"attributes\":{\"callback\":null,\"column_names\":[\"line_color\",\"line_alpha\",\"color\",\"fill_alpha\",\"height\",\"width\",\"y\",\"x\",\"label\"],\"data\":{\"abbr\":[\"DEU\"],\"chart_index\":[{\"abbr\":\"DEU\",\"medal\":\"gold\"}],\"color\":[\"Goldenrod\"],\"fill_alpha\":[0.8],\"height\":[8.0],\"label\":[{\"abbr\":\"DEU\",\"medal\":\"gold\"}],\"line_alpha\":[1.0],\"line_color\":[\"white\"],\"medal\":[\"gold\"],\"width\":[0.8],\"x\":[\"DEU\"],\"y\":[11.0]}},\"id\":\"5f5e8e95-a73b-467e-9fcf-b9aeb8a8985a\",\"type\":\"ColumnDataSource\"},{\"attributes\":{\"axis_label\":\"Abbr\",\"formatter\":{\"id\":\"b55417f5-18c0-4bc5-aa62-97af1e245e06\",\"type\":\"CategoricalTickFormatter\"},\"major_label_orientation\":0.7853981633974483,\"plot\":{\"id\":\"c6aa0766-a2cb-473c-bb7b-c3ade858df3a\",\"subtype\":\"Chart\",\"type\":\"Plot\"},\"ticker\":{\"id\":\"991fa323-1e89-4a6b-bf92-32ee196f63e3\",\"type\":\"CategoricalTicker\"}},\"id\":\"1b982c6f-7469-42bd-adbd-ead81e212688\",\"type\":\"CategoricalAxis\"},{\"attributes\":{\"fill_alpha\":{\"field\":\"fill_alpha\"},\"fill_color\":{\"field\":\"color\"},\"height\":{\"field\":\"height\",\"units\":\"data\"},\"line_color\":{\"field\":\"line_color\"},\"width\":{\"field\":\"width\",\"units\":\"data\"},\"x\":{\"field\":\"x\"},\"y\":{\"field\":\"y\"}},\"id\":\"b6beaf0d-4ce9-4ca3-ad64-4d5470bbac24\",\"type\":\"Rect\"},{\"attributes\":{\"fill_alpha\":{\"field\":\"fill_alpha\"},\"fill_color\":{\"field\":\"color\"},\"height\":{\"field\":\"height\",\"units\":\"data\"},\"line_color\":{\"field\":\"line_color\"},\"width\":{\"field\":\"width\",\"units\":\"data\"},\"x\":{\"field\":\"x\"},\"y\":{\"field\":\"y\"}},\"id\":\"0b2f3b73-fc4d-45b8-9b2e-1640aada5707\",\"type\":\"Rect\"},{\"attributes\":{\"callback\":null,\"column_names\":[\"line_color\",\"line_alpha\",\"color\",\"fill_alpha\",\"height\",\"width\",\"y\",\"x\",\"label\"],\"data\":{\"abbr\":[\"RUS\"],\"chart_index\":[{\"abbr\":\"RUS\",\"medal\":\"bronze\"}],\"color\":[\"SaddleBrown\"],\"fill_alpha\":[0.8],\"height\":[7.0],\"label\":[{\"abbr\":\"RUS\",\"medal\":\"bronze\"}],\"line_alpha\":[1.0],\"line_color\":[\"white\"],\"medal\":[\"bronze\"],\"width\":[0.8],\"x\":[\"RUS\"],\"y\":[3.5]}},\"id\":\"3f8b1455-9b87-4318-aa24-8e7e4c6383ea\",\"type\":\"ColumnDataSource\"},{\"attributes\":{\"data_source\":{\"id\":\"b4a2d142-586d-43fe-9752-cda55d9a2d36\",\"type\":\"ColumnDataSource\"},\"glyph\":{\"id\":\"2523425b-763a-41cd-87cd-459a2452e535\",\"type\":\"Rect\"},\"hover_glyph\":null,\"nonselection_glyph\":null,\"selection_glyph\":null},\"id\":\"c7e45c5f-dd0e-40b0-9953-cf042bede531\",\"type\":\"GlyphRenderer\"},{\"attributes\":{\"fill_alpha\":{\"field\":\"fill_alpha\"},\"fill_color\":{\"field\":\"color\"},\"height\":{\"field\":\"height\",\"units\":\"data\"},\"line_color\":{\"field\":\"line_color\"},\"width\":{\"field\":\"width\",\"units\":\"data\"},\"x\":{\"field\":\"x\"},\"y\":{\"field\":\"y\"}},\"id\":\"4d4eac1d-e773-48d9-a73f-2dc7f2fb2050\",\"type\":\"Rect\"},{\"attributes\":{\"data_source\":{\"id\":\"4f8c2f9c-ca35-4499-9db2-ec0b8f32ad8d\",\"type\":\"ColumnDataSource\"},\"glyph\":{\"id\":\"d652c624-b9c6-4a75-9f8b-3c11163b0ee8\",\"type\":\"Rect\"},\"hover_glyph\":null,\"nonselection_glyph\":null,\"selection_glyph\":null},\"id\":\"d8215904-a8b6-492f-8878-f2a2940d41c9\",\"type\":\"GlyphRenderer\"},{\"attributes\":{\"data_source\":{\"id\":\"1bd52634-bb20-4903-82b5-4813bdab0735\",\"type\":\"ColumnDataSource\"},\"glyph\":{\"id\":\"853f5bf8-5cd7-463b-92cc-01f14fe0a815\",\"type\":\"Rect\"},\"hover_glyph\":null,\"nonselection_glyph\":null,\"selection_glyph\":null},\"id\":\"e57d2161-f262-4837-a6b3-06361533c2d3\",\"type\":\"GlyphRenderer\"},{\"attributes\":{\"callback\":null,\"column_names\":[\"line_color\",\"line_alpha\",\"color\",\"fill_alpha\",\"height\",\"width\",\"y\",\"x\",\"label\"],\"data\":{\"abbr\":[\"FIN\"],\"chart_index\":[{\"abbr\":\"FIN\",\"medal\":\"silver\"}],\"color\":[\"Silver\"],\"fill_alpha\":[0.8],\"height\":[3.0],\"label\":[{\"abbr\":\"FIN\",\"medal\":\"silver\"}],\"line_alpha\":[1.0],\"line_color\":[\"white\"],\"medal\":[\"silver\"],\"width\":[0.8],\"x\":[\"FIN\"],\"y\":[1.5]}},\"id\":\"2846c144-3ccf-48ea-ba21-d98fbae4f5df\",\"type\":\"ColumnDataSource\"},{\"attributes\":{\"fill_alpha\":{\"field\":\"fill_alpha\"},\"fill_color\":{\"field\":\"color\"},\"height\":{\"field\":\"height\",\"units\":\"data\"},\"line_color\":{\"field\":\"line_color\"},\"width\":{\"field\":\"width\",\"units\":\"data\"},\"x\":{\"field\":\"x\"},\"y\":{\"field\":\"y\"}},\"id\":\"3fd9acad-75b8-40d3-8347-7a2c5e9d6ab8\",\"type\":\"Rect\"},{\"attributes\":{},\"id\":\"991fa323-1e89-4a6b-bf92-32ee196f63e3\",\"type\":\"CategoricalTicker\"},{\"attributes\":{\"fill_alpha\":{\"field\":\"fill_alpha\"},\"fill_color\":{\"field\":\"color\"},\"height\":{\"field\":\"height\",\"units\":\"data\"},\"line_color\":{\"field\":\"line_color\"},\"width\":{\"field\":\"width\",\"units\":\"data\"},\"x\":{\"field\":\"x\"},\"y\":{\"field\":\"y\"}},\"id\":\"3a289336-acd2-41f9-aa26-9360ce5056a0\",\"type\":\"Rect\"},{\"attributes\":{},\"id\":\"b55417f5-18c0-4bc5-aa62-97af1e245e06\",\"type\":\"CategoricalTickFormatter\"},{\"attributes\":{\"fill_alpha\":{\"field\":\"fill_alpha\"},\"fill_color\":{\"field\":\"color\"},\"height\":{\"field\":\"height\",\"units\":\"data\"},\"line_color\":{\"field\":\"line_color\"},\"width\":{\"field\":\"width\",\"units\":\"data\"},\"x\":{\"field\":\"x\"},\"y\":{\"field\":\"y\"}},\"id\":\"d771ad3e-cbca-49a0-bc3f-c968c7b79c4f\",\"type\":\"Rect\"},{\"attributes\":{\"fill_alpha\":{\"field\":\"fill_alpha\"},\"fill_color\":{\"field\":\"color\"},\"height\":{\"field\":\"height\",\"units\":\"data\"},\"line_color\":{\"field\":\"line_color\"},\"width\":{\"field\":\"width\",\"units\":\"data\"},\"x\":{\"field\":\"x\"},\"y\":{\"field\":\"y\"}},\"id\":\"5d5953c7-7f93-4bad-a5b3-001cbc0cc579\",\"type\":\"Rect\"},{\"attributes\":{\"callback\":null,\"column_names\":[\"line_color\",\"line_alpha\",\"color\",\"fill_alpha\",\"height\",\"width\",\"y\",\"x\",\"label\"],\"data\":{\"abbr\":[\"AUS\"],\"chart_index\":[{\"abbr\":\"AUS\",\"medal\":\"bronze\"}],\"color\":[\"SaddleBrown\"],\"fill_alpha\":[0.8],\"height\":[1.0],\"label\":[{\"abbr\":\"AUS\",\"medal\":\"bronze\"}],\"line_alpha\":[1.0],\"line_color\":[\"white\"],\"medal\":[\"bronze\"],\"width\":[0.8],\"x\":[\"AUS\"],\"y\":[0.5]}},\"id\":\"63d22992-da9c-4f34-9663-d4a09a64a77c\",\"type\":\"ColumnDataSource\"},{\"attributes\":{\"fill_alpha\":{\"field\":\"fill_alpha\"},\"fill_color\":{\"field\":\"color\"},\"height\":{\"field\":\"height\",\"units\":\"data\"},\"line_color\":{\"field\":\"line_color\"},\"width\":{\"field\":\"width\",\"units\":\"data\"},\"x\":{\"field\":\"x\"},\"y\":{\"field\":\"y\"}},\"id\":\"2624f805-f131-4daa-946f-3a7e0ac67c44\",\"type\":\"Rect\"},{\"attributes\":{\"callback\":null,\"column_names\":[\"line_color\",\"line_alpha\",\"color\",\"fill_alpha\",\"height\",\"width\",\"y\",\"x\",\"label\"],\"data\":{\"abbr\":[\"CHE\"],\"chart_index\":[{\"abbr\":\"CHE\",\"medal\":\"silver\"}],\"color\":[\"Silver\"],\"fill_alpha\":[0.8],\"height\":[3.0],\"label\":[{\"abbr\":\"CHE\",\"medal\":\"silver\"}],\"line_alpha\":[1.0],\"line_color\":[\"white\"],\"medal\":[\"silver\"],\"width\":[0.8],\"x\":[\"CHE\"],\"y\":[2.5]}},\"id\":\"2b873ac2-d7ea-4b96-b187-b85eddd7c04a\",\"type\":\"ColumnDataSource\"},{\"attributes\":{},\"id\":\"c39aa7c1-5eef-44b0-bd4d-473e38e87dc0\",\"type\":\"ToolEvents\"},{\"attributes\":{\"fill_alpha\":{\"field\":\"fill_alpha\"},\"fill_color\":{\"field\":\"color\"},\"height\":{\"field\":\"height\",\"units\":\"data\"},\"line_color\":{\"field\":\"line_color\"},\"width\":{\"field\":\"width\",\"units\":\"data\"},\"x\":{\"field\":\"x\"},\"y\":{\"field\":\"y\"}},\"id\":\"968b7afc-d364-4a1d-87df-c61735ee4454\",\"type\":\"Rect\"},{\"attributes\":{\"callback\":null,\"column_names\":[\"line_color\",\"line_alpha\",\"color\",\"fill_alpha\",\"height\",\"width\",\"y\",\"x\",\"label\"],\"data\":{\"abbr\":[\"CAN\"],\"chart_index\":[{\"abbr\":\"CAN\",\"medal\":\"gold\"}],\"color\":[\"Goldenrod\"],\"fill_alpha\":[0.8],\"height\":[4.0],\"label\":[{\"abbr\":\"CAN\",\"medal\":\"gold\"}],\"line_alpha\":[1.0],\"line_color\":[\"white\"],\"medal\":[\"gold\"],\"width\":[0.8],\"x\":[\"CAN\"],\"y\":[14.0]}},\"id\":\"3291e244-50dc-4e5e-94bd-34dbc868d8d3\",\"type\":\"ColumnDataSource\"},{\"attributes\":{\"callback\":null,\"column_names\":[\"line_color\",\"line_alpha\",\"color\",\"fill_alpha\",\"height\",\"width\",\"y\",\"x\",\"label\"],\"data\":{\"abbr\":[\"LVA\"],\"chart_index\":[{\"abbr\":\"LVA\",\"medal\":\"gold\"}],\"color\":[\"Goldenrod\"],\"fill_alpha\":[0.8],\"height\":[0.0],\"label\":[{\"abbr\":\"LVA\",\"medal\":\"gold\"}],\"line_alpha\":[1.0],\"line_color\":[\"white\"],\"medal\":[\"gold\"],\"width\":[0.8],\"x\":[\"LVA\"],\"y\":[3.0]}},\"id\":\"68e8ffd0-9fc0-4b7f-91b1-d237b1efaa36\",\"type\":\"ColumnDataSource\"},{\"attributes\":{\"callback\":null,\"column_names\":[\"line_color\",\"line_alpha\",\"color\",\"fill_alpha\",\"height\",\"width\",\"y\",\"x\",\"label\"],\"data\":{\"abbr\":[\"HRV\"],\"chart_index\":[{\"abbr\":\"HRV\",\"medal\":\"gold\"}],\"color\":[\"Goldenrod\"],\"fill_alpha\":[0.8],\"height\":[0.0],\"label\":[{\"abbr\":\"HRV\",\"medal\":\"gold\"}],\"line_alpha\":[1.0],\"line_color\":[\"white\"],\"medal\":[\"gold\"],\"width\":[0.8],\"x\":[\"HRV\"],\"y\":[1.0]}},\"id\":\"00b6754b-fdae-4ea5-b0f3-1318f6cb8b07\",\"type\":\"ColumnDataSource\"},{\"attributes\":{\"fill_alpha\":{\"field\":\"fill_alpha\"},\"fill_color\":{\"field\":\"color\"},\"height\":{\"field\":\"height\",\"units\":\"data\"},\"line_color\":{\"field\":\"line_color\"},\"width\":{\"field\":\"width\",\"units\":\"data\"},\"x\":{\"field\":\"x\"},\"y\":{\"field\":\"y\"}},\"id\":\"291543ea-ab35-4a97-b56f-2841f72afe65\",\"type\":\"Rect\"},{\"attributes\":{\"callback\":null,\"column_names\":[\"line_color\",\"line_alpha\",\"color\",\"fill_alpha\",\"height\",\"width\",\"y\",\"x\",\"label\"],\"data\":{\"abbr\":[\"CAN\"],\"chart_index\":[{\"abbr\":\"CAN\",\"medal\":\"bronze\"}],\"color\":[\"SaddleBrown\"],\"fill_alpha\":[0.8],\"height\":[4.0],\"label\":[{\"abbr\":\"CAN\",\"medal\":\"bronze\"}],\"line_alpha\":[1.0],\"line_color\":[\"white\"],\"medal\":[\"bronze\"],\"width\":[0.8],\"x\":[\"CAN\"],\"y\":[2.0]}},\"id\":\"87e561a6-b894-41c6-8ae5-376f77dea158\",\"type\":\"ColumnDataSource\"},{\"attributes\":{\"fill_alpha\":{\"field\":\"fill_alpha\"},\"fill_color\":{\"field\":\"color\"},\"height\":{\"field\":\"height\",\"units\":\"data\"},\"line_color\":{\"field\":\"line_color\"},\"width\":{\"field\":\"width\",\"units\":\"data\"},\"x\":{\"field\":\"x\"},\"y\":{\"field\":\"y\"}},\"id\":\"8890e856-9e0b-4b46-82ee-f84d37ab2061\",\"type\":\"Rect\"},{\"attributes\":{\"fill_alpha\":{\"field\":\"fill_alpha\"},\"fill_color\":{\"field\":\"color\"},\"height\":{\"field\":\"height\",\"units\":\"data\"},\"line_color\":{\"field\":\"line_color\"},\"width\":{\"field\":\"width\",\"units\":\"data\"},\"x\":{\"field\":\"x\"},\"y\":{\"field\":\"y\"}},\"id\":\"9023fe0a-bb85-404e-a90e-1df73ed60753\",\"type\":\"Rect\"},{\"attributes\":{\"data_source\":{\"id\":\"68e8ffd0-9fc0-4b7f-91b1-d237b1efaa36\",\"type\":\"ColumnDataSource\"},\"glyph\":{\"id\":\"07427c29-f733-41b3-a1c3-5a9eda307443\",\"type\":\"Rect\"},\"hover_glyph\":null,\"nonselection_glyph\":null,\"selection_glyph\":null},\"id\":\"4409330b-ea55-4c91-bd2f-a92c474347dc\",\"type\":\"GlyphRenderer\"},{\"attributes\":{\"bottom_units\":\"screen\",\"fill_alpha\":{\"value\":0.5},\"fill_color\":{\"value\":\"lightgrey\"},\"left_units\":\"screen\",\"level\":\"overlay\",\"line_alpha\":{\"value\":1.0},\"line_color\":{\"value\":\"black\"},\"line_dash\":[4,4],\"line_width\":{\"value\":2},\"plot\":null,\"render_mode\":\"css\",\"right_units\":\"screen\",\"top_units\":\"screen\"},\"id\":\"f2c7a9b8-7968-467b-890e-feb3366c6254\",\"type\":\"BoxAnnotation\"},{\"attributes\":{\"plot\":{\"id\":\"c6aa0766-a2cb-473c-bb7b-c3ade858df3a\",\"subtype\":\"Chart\",\"type\":\"Plot\"}},\"id\":\"71e6c5d0-b539-4a4d-8d12-3cb91924091d\",\"type\":\"PanTool\"},{\"attributes\":{\"fill_alpha\":{\"field\":\"fill_alpha\"},\"fill_color\":{\"field\":\"color\"},\"height\":{\"field\":\"height\",\"units\":\"data\"},\"line_color\":{\"field\":\"line_color\"},\"width\":{\"field\":\"width\",\"units\":\"data\"},\"x\":{\"field\":\"x\"},\"y\":{\"field\":\"y\"}},\"id\":\"e212bf2c-c2b6-4421-92ce-e522b1893db9\",\"type\":\"Rect\"},{\"attributes\":{\"dimension\":1,\"plot\":{\"id\":\"c6aa0766-a2cb-473c-bb7b-c3ade858df3a\",\"subtype\":\"Chart\",\"type\":\"Plot\"},\"ticker\":{\"id\":\"39114ed7-271e-4c61-bc76-356d9303fa34\",\"type\":\"BasicTicker\"}},\"id\":\"ae05b238-e970-43c4-83d3-efbb63f56df3\",\"type\":\"Grid\"},{\"attributes\":{\"fill_alpha\":{\"field\":\"fill_alpha\"},\"fill_color\":{\"field\":\"color\"},\"height\":{\"field\":\"height\",\"units\":\"data\"},\"line_color\":{\"field\":\"line_color\"},\"width\":{\"field\":\"width\",\"units\":\"data\"},\"x\":{\"field\":\"x\"},\"y\":{\"field\":\"y\"}},\"id\":\"886c6f38-748e-431a-9528-7dc309ede2ed\",\"type\":\"Rect\"},{\"attributes\":{\"data_source\":{\"id\":\"b488abbb-c0c1-4638-b056-1ce465eec95d\",\"type\":\"ColumnDataSource\"},\"glyph\":{\"id\":\"d725a984-e1fc-4067-bc96-4c918a2016e0\",\"type\":\"Rect\"},\"hover_glyph\":null,\"nonselection_glyph\":null,\"selection_glyph\":null},\"id\":\"269faf28-bf79-4691-8046-4c9d5e8f58c8\",\"type\":\"GlyphRenderer\"},{\"attributes\":{\"overlay\":{\"id\":\"f2c7a9b8-7968-467b-890e-feb3366c6254\",\"type\":\"BoxAnnotation\"},\"plot\":{\"id\":\"c6aa0766-a2cb-473c-bb7b-c3ade858df3a\",\"subtype\":\"Chart\",\"type\":\"Plot\"}},\"id\":\"138981bf-e58b-4322-82b9-035f1abed68c\",\"type\":\"BoxZoomTool\"},{\"attributes\":{\"fill_alpha\":{\"field\":\"fill_alpha\"},\"fill_color\":{\"field\":\"color\"},\"height\":{\"field\":\"height\",\"units\":\"data\"},\"line_color\":{\"field\":\"line_color\"},\"width\":{\"field\":\"width\",\"units\":\"data\"},\"x\":{\"field\":\"x\"},\"y\":{\"field\":\"y\"}},\"id\":\"f43b064c-8b72-40fa-aa04-f9ee14f7e726\",\"type\":\"Rect\"},{\"attributes\":{\"data_source\":{\"id\":\"20fe95a6-a31f-4bbd-a142-a97e859250c8\",\"type\":\"ColumnDataSource\"},\"glyph\":{\"id\":\"4d4eac1d-e773-48d9-a73f-2dc7f2fb2050\",\"type\":\"Rect\"},\"hover_glyph\":null,\"nonselection_glyph\":null,\"selection_glyph\":null},\"id\":\"ffff1b5d-74f4-4781-b469-807355e55f65\",\"type\":\"GlyphRenderer\"},{\"attributes\":{\"callback\":null,\"end\":22.05},\"id\":\"a7a2f25c-7d22-4892-a73c-b090eb0c1864\",\"type\":\"Range1d\"},{\"attributes\":{\"data_source\":{\"id\":\"657dbfd3-631a-4181-b373-754b5590cca7\",\"type\":\"ColumnDataSource\"},\"glyph\":{\"id\":\"968b7afc-d364-4a1d-87df-c61735ee4454\",\"type\":\"Rect\"},\"hover_glyph\":null,\"nonselection_glyph\":null,\"selection_glyph\":null},\"id\":\"acfbfadf-4493-4188-b071-888322134454\",\"type\":\"GlyphRenderer\"},{\"attributes\":{\"data_source\":{\"id\":\"bd106b15-0b3c-4377-af82-6af271836747\",\"type\":\"ColumnDataSource\"},\"glyph\":{\"id\":\"fa23a7f2-8c01-4a4f-beb5-8d0714bec4b2\",\"type\":\"Rect\"},\"hover_glyph\":null,\"nonselection_glyph\":null,\"selection_glyph\":null},\"id\":\"98d065c8-ba67-47ad-bcca-f01bc9d35d0e\",\"type\":\"GlyphRenderer\"},{\"attributes\":{\"data_source\":{\"id\":\"87e561a6-b894-41c6-8ae5-376f77dea158\",\"type\":\"ColumnDataSource\"},\"glyph\":{\"id\":\"7bb711ef-1765-4dcb-ab51-8fe411606097\",\"type\":\"Rect\"},\"hover_glyph\":null,\"nonselection_glyph\":null,\"selection_glyph\":null},\"id\":\"e46ae8b2-34d8-45ed-a593-faeafc964b08\",\"type\":\"GlyphRenderer\"},{\"attributes\":{\"callback\":null,\"column_names\":[\"line_color\",\"line_alpha\",\"color\",\"fill_alpha\",\"height\",\"width\",\"y\",\"x\",\"label\"],\"data\":{\"abbr\":[\"GBR\"],\"chart_index\":[{\"abbr\":\"GBR\",\"medal\":\"bronze\"}],\"color\":[\"SaddleBrown\"],\"fill_alpha\":[0.8],\"height\":[1.0],\"label\":[{\"abbr\":\"GBR\",\"medal\":\"bronze\"}],\"line_alpha\":[1.0],\"line_color\":[\"white\"],\"medal\":[\"bronze\"],\"width\":[0.8],\"x\":[\"GBR\"],\"y\":[0.5]}},\"id\":\"a614e3fc-d6a4-446e-8a35-78e55db928f7\",\"type\":\"ColumnDataSource\"},{\"attributes\":{\"data_source\":{\"id\":\"71da787f-5366-4251-98a7-569f917a0e1a\",\"type\":\"ColumnDataSource\"},\"glyph\":{\"id\":\"36407255-0c5f-41da-af44-a61ac10da99b\",\"type\":\"Rect\"},\"hover_glyph\":null,\"nonselection_glyph\":null,\"selection_glyph\":null},\"id\":\"af20ed56-b8c6-4394-a4cd-b4600db7014b\",\"type\":\"GlyphRenderer\"},{\"attributes\":{\"plot\":{\"id\":\"c6aa0766-a2cb-473c-bb7b-c3ade858df3a\",\"subtype\":\"Chart\",\"type\":\"Plot\"}},\"id\":\"52353771-5d35-44c5-8044-5656607fa0f9\",\"type\":\"WheelZoomTool\"},{\"attributes\":{\"data_source\":{\"id\":\"01b74aaf-0e00-40fa-b153-0a3c3c7b1f65\",\"type\":\"ColumnDataSource\"},\"glyph\":{\"id\":\"d771ad3e-cbca-49a0-bc3f-c968c7b79c4f\",\"type\":\"Rect\"},\"hover_glyph\":null,\"nonselection_glyph\":null,\"selection_glyph\":null},\"id\":\"47a7190d-80dd-44b7-983e-e6997d92ea31\",\"type\":\"GlyphRenderer\"},{\"attributes\":{\"callback\":null,\"column_names\":[\"line_color\",\"line_alpha\",\"color\",\"fill_alpha\",\"height\",\"width\",\"y\",\"x\",\"label\"],\"data\":{\"abbr\":[\"KAZ\"],\"chart_index\":[{\"abbr\":\"KAZ\",\"medal\":\"bronze\"}],\"color\":[\"SaddleBrown\"],\"fill_alpha\":[0.8],\"height\":[1.0],\"label\":[{\"abbr\":\"KAZ\",\"medal\":\"bronze\"}],\"line_alpha\":[1.0],\"line_color\":[\"white\"],\"medal\":[\"bronze\"],\"width\":[0.8],\"x\":[\"KAZ\"],\"y\":[0.5]}},\"id\":\"b0a25da5-0f16-4009-9612-7e2a53c47f90\",\"type\":\"ColumnDataSource\"},{\"attributes\":{\"data_source\":{\"id\":\"15559224-c564-46b2-a219-140edfc118d8\",\"type\":\"ColumnDataSource\"},\"glyph\":{\"id\":\"7a997437-4815-434e-8855-1d1e581af59f\",\"type\":\"Rect\"},\"hover_glyph\":null,\"nonselection_glyph\":null,\"selection_glyph\":null},\"id\":\"c450b536-38b6-46a8-ab7c-93c331b5dd4f\",\"type\":\"GlyphRenderer\"},{\"attributes\":{\"data_source\":{\"id\":\"8212301b-5f4e-4bc2-81d6-3c376f209cec\",\"type\":\"ColumnDataSource\"},\"glyph\":{\"id\":\"4b542609-b434-4a55-81dc-bd5aba193ae4\",\"type\":\"Rect\"},\"hover_glyph\":null,\"nonselection_glyph\":null,\"selection_glyph\":null},\"id\":\"ac943ea6-297a-4a6b-9260-672237f57167\",\"type\":\"GlyphRenderer\"},{\"attributes\":{\"data_source\":{\"id\":\"200cb5ce-fbbb-4d31-8458-b2853ddd85d7\",\"type\":\"ColumnDataSource\"},\"glyph\":{\"id\":\"de9eda22-d08a-4398-8beb-69cb1f94ef52\",\"type\":\"Rect\"},\"hover_glyph\":null,\"nonselection_glyph\":null,\"selection_glyph\":null},\"id\":\"c93f5a3e-0ff1-495a-bd0c-a5d38b8d486d\",\"type\":\"GlyphRenderer\"},{\"attributes\":{\"callback\":null,\"column_names\":[\"line_color\",\"line_alpha\",\"color\",\"fill_alpha\",\"height\",\"width\",\"y\",\"x\",\"label\"],\"data\":{\"abbr\":[\"KOR\"],\"chart_index\":[{\"abbr\":\"KOR\",\"medal\":\"gold\"}],\"color\":[\"Goldenrod\"],\"fill_alpha\":[0.8],\"height\":[2.0],\"label\":[{\"abbr\":\"KOR\",\"medal\":\"gold\"}],\"line_alpha\":[1.0],\"line_color\":[\"white\"],\"medal\":[\"gold\"],\"width\":[0.8],\"x\":[\"KOR\"],\"y\":[3.0]}},\"id\":\"cb14b2cd-97b2-42f7-bba6-065b36fa0ad4\",\"type\":\"ColumnDataSource\"},{\"attributes\":{\"fill_alpha\":{\"field\":\"fill_alpha\"},\"fill_color\":{\"field\":\"color\"},\"height\":{\"field\":\"height\",\"units\":\"data\"},\"line_color\":{\"field\":\"line_color\"},\"width\":{\"field\":\"width\",\"units\":\"data\"},\"x\":{\"field\":\"x\"},\"y\":{\"field\":\"y\"}},\"id\":\"15f54ea8-0fb8-40e9-afc2-0cd280937bbf\",\"type\":\"Rect\"},{\"attributes\":{\"fill_alpha\":{\"field\":\"fill_alpha\"},\"fill_color\":{\"field\":\"color\"},\"height\":{\"field\":\"height\",\"units\":\"data\"},\"line_color\":{\"field\":\"line_color\"},\"width\":{\"field\":\"width\",\"units\":\"data\"},\"x\":{\"field\":\"x\"},\"y\":{\"field\":\"y\"}},\"id\":\"0fc32f21-db41-40a0-a850-94c5d29d0519\",\"type\":\"Rect\"},{\"attributes\":{\"fill_alpha\":{\"field\":\"fill_alpha\"},\"fill_color\":{\"field\":\"color\"},\"height\":{\"field\":\"height\",\"units\":\"data\"},\"line_color\":{\"field\":\"line_color\"},\"width\":{\"field\":\"width\",\"units\":\"data\"},\"x\":{\"field\":\"x\"},\"y\":{\"field\":\"y\"}},\"id\":\"80baa673-6f8b-4968-8f81-3887e8b2d7ba\",\"type\":\"Rect\"},{\"attributes\":{\"fill_alpha\":{\"field\":\"fill_alpha\"},\"fill_color\":{\"field\":\"color\"},\"height\":{\"field\":\"height\",\"units\":\"data\"},\"line_color\":{\"field\":\"line_color\"},\"width\":{\"field\":\"width\",\"units\":\"data\"},\"x\":{\"field\":\"x\"},\"y\":{\"field\":\"y\"}},\"id\":\"f1f51f68-0b97-4be4-8be7-9dde7dbeeef8\",\"type\":\"Rect\"},{\"attributes\":{\"fill_alpha\":{\"field\":\"fill_alpha\"},\"fill_color\":{\"field\":\"color\"},\"height\":{\"field\":\"height\",\"units\":\"data\"},\"line_color\":{\"field\":\"line_color\"},\"width\":{\"field\":\"width\",\"units\":\"data\"},\"x\":{\"field\":\"x\"},\"y\":{\"field\":\"y\"}},\"id\":\"d4f9189a-658c-4fd3-8deb-61de5ac040b2\",\"type\":\"Rect\"},{\"attributes\":{\"below\":[{\"id\":\"1b982c6f-7469-42bd-adbd-ead81e212688\",\"type\":\"CategoricalAxis\"}],\"left\":[{\"id\":\"066e9e3d-1d8f-4106-841f-4275ec0bab0b\",\"type\":\"LinearAxis\"}],\"renderers\":[{\"id\":\"f2c7a9b8-7968-467b-890e-feb3366c6254\",\"type\":\"BoxAnnotation\"},{\"id\":\"c70e573d-b1c1-4311-940f-4119e278c993\",\"type\":\"GlyphRenderer\"},{\"id\":\"0d603e28-2c50-4e79-8c78-cd15c4cd9221\",\"type\":\"GlyphRenderer\"},{\"id\":\"d336bf1e-b374-4227-a1f3-1d4a4d4b28b5\",\"type\":\"GlyphRenderer\"},{\"id\":\"e57d2161-f262-4837-a6b3-06361533c2d3\",\"type\":\"GlyphRenderer\"},{\"id\":\"e46ae8b2-34d8-45ed-a593-faeafc964b08\",\"type\":\"GlyphRenderer\"},{\"id\":\"faa87ffb-3f2f-4517-8332-13401274b251\",\"type\":\"GlyphRenderer\"},{\"id\":\"75e27364-64bd-42d0-91cb-b69349a1ca69\",\"type\":\"GlyphRenderer\"},{\"id\":\"efe1dff1-4276-4711-87ba-e4d0ba1c05a0\",\"type\":\"GlyphRenderer\"},{\"id\":\"b79d0ec7-cd8f-4202-a2ef-6e2b8617cf43\",\"type\":\"GlyphRenderer\"},{\"id\":\"5b6498e3-48d9-45c9-8d72-1ddf30c2d789\",\"type\":\"GlyphRenderer\"},{\"id\":\"16dd5770-3bc7-433e-9588-1b2b138f14be\",\"type\":\"GlyphRenderer\"},{\"id\":\"cbd6814c-a789-40b5-ab9c-02f40b5ba23b\",\"type\":\"GlyphRenderer\"},{\"id\":\"6fe76d1b-c145-4ceb-86ab-ba8b6e2746e7\",\"type\":\"GlyphRenderer\"},{\"id\":\"c450b536-38b6-46a8-ab7c-93c331b5dd4f\",\"type\":\"GlyphRenderer\"},{\"id\":\"5188632c-c07b-4caa-b4ef-de66fb7d6428\",\"type\":\"GlyphRenderer\"},{\"id\":\"8d5ee6fc-c222-4b96-9694-d204ac7279ac\",\"type\":\"GlyphRenderer\"},{\"id\":\"e1272ad8-3846-46e9-9581-9e86b153bc40\",\"type\":\"GlyphRenderer\"},{\"id\":\"d9629e09-2cfd-4195-9e33-f23d11c3a482\",\"type\":\"GlyphRenderer\"},{\"id\":\"edb368f0-d205-42a3-9589-bab644f246ff\",\"type\":\"GlyphRenderer\"},{\"id\":\"bb285848-1e8a-492e-be48-f4a4dbd13ac4\",\"type\":\"GlyphRenderer\"},{\"id\":\"02cc9de0-5aaa-4421-9245-85971674a7e0\",\"type\":\"GlyphRenderer\"},{\"id\":\"17f012e3-2aa7-4a3d-a220-af49cbe358a5\",\"type\":\"GlyphRenderer\"},{\"id\":\"919109a0-d380-4632-8e23-a1c639b9d414\",\"type\":\"GlyphRenderer\"},{\"id\":\"6a58f97a-b14a-43b9-a42b-a44793a242c2\",\"type\":\"GlyphRenderer\"},{\"id\":\"11cfdc4d-f2f6-4cac-8fb3-d09d14f041f8\",\"type\":\"GlyphRenderer\"},{\"id\":\"64daaf81-7518-4837-bec3-ea3aad541fc4\",\"type\":\"GlyphRenderer\"},{\"id\":\"ac943ea6-297a-4a6b-9260-672237f57167\",\"type\":\"GlyphRenderer\"},{\"id\":\"845c93bd-655c-4d39-8467-45fd0dac1f3b\",\"type\":\"GlyphRenderer\"},{\"id\":\"98d065c8-ba67-47ad-bcca-f01bc9d35d0e\",\"type\":\"GlyphRenderer\"},{\"id\":\"412cd7ca-5ca7-4600-83da-a7406de1382e\",\"type\":\"GlyphRenderer\"},{\"id\":\"cdf0f831-48f8-4053-98fd-63e7ef94abdc\",\"type\":\"GlyphRenderer\"},{\"id\":\"568a221d-6e56-48bb-9f82-46c2ff46cf42\",\"type\":\"GlyphRenderer\"},{\"id\":\"28a76be9-dc79-448c-ba70-7e751acd6654\",\"type\":\"GlyphRenderer\"},{\"id\":\"9d3a4c73-6321-4f9a-b52f-563be4b4afb9\",\"type\":\"GlyphRenderer\"},{\"id\":\"6163e226-2243-4fcf-8e0f-26afa0adca7b\",\"type\":\"GlyphRenderer\"},{\"id\":\"ffff1b5d-74f4-4781-b469-807355e55f65\",\"type\":\"GlyphRenderer\"},{\"id\":\"acfbfadf-4493-4188-b071-888322134454\",\"type\":\"GlyphRenderer\"},{\"id\":\"1bfa2c3f-5255-4822-8ac0-2d4df4059275\",\"type\":\"GlyphRenderer\"},{\"id\":\"9598be91-4b4b-484a-b274-ea2f0762510e\",\"type\":\"GlyphRenderer\"},{\"id\":\"cc5bb8b3-2300-48b3-ad6f-c48cdecc0b2a\",\"type\":\"GlyphRenderer\"},{\"id\":\"681685b8-487c-40fa-94e8-a6195f6aa59d\",\"type\":\"GlyphRenderer\"},{\"id\":\"c1f63bc0-e5a3-4b6f-95cc-073fca8328d8\",\"type\":\"GlyphRenderer\"},{\"id\":\"8a09d28a-cc56-4ab4-aea0-212caa07e646\",\"type\":\"GlyphRenderer\"},{\"id\":\"40479001-8175-4863-9b13-abc09e84b4ab\",\"type\":\"GlyphRenderer\"},{\"id\":\"98dda1b2-c38d-4b5c-9aa6-cd0be2313856\",\"type\":\"GlyphRenderer\"},{\"id\":\"5efed139-5c0d-47cc-80cb-05548b2b252b\",\"type\":\"GlyphRenderer\"},{\"id\":\"c35dd9ef-e344-4e1b-8916-9ccdbc3bb3ab\",\"type\":\"GlyphRenderer\"},{\"id\":\"94f1fb74-9cd7-4d78-bbb0-ce23f24b8536\",\"type\":\"GlyphRenderer\"},{\"id\":\"e97bc725-70d7-43c5-b7bf-ccc417725c91\",\"type\":\"GlyphRenderer\"},{\"id\":\"269faf28-bf79-4691-8046-4c9d5e8f58c8\",\"type\":\"GlyphRenderer\"},{\"id\":\"f0d189ea-6a09-4d72-ae0d-58194092c0eb\",\"type\":\"GlyphRenderer\"},{\"id\":\"d8215904-a8b6-492f-8878-f2a2940d41c9\",\"type\":\"GlyphRenderer\"},{\"id\":\"cde1f446-695f-4ea3-b1e6-332b57d25216\",\"type\":\"GlyphRenderer\"},{\"id\":\"936266bd-15e9-4888-9362-0f7cc3144195\",\"type\":\"GlyphRenderer\"},{\"id\":\"5d4fb937-13ef-4e82-b497-54873e1202cd\",\"type\":\"GlyphRenderer\"},{\"id\":\"39ba8d35-4731-42ac-9c6b-4f5e645920cf\",\"type\":\"GlyphRenderer\"},{\"id\":\"14c9ce3d-0d2d-47c6-a3b8-0db4b1c0c875\",\"type\":\"GlyphRenderer\"},{\"id\":\"0573fdac-bb11-4efa-9e05-3b7df77e0243\",\"type\":\"GlyphRenderer\"},{\"id\":\"86fbb5e8-2a10-4d12-ab5a-2ee2d70e548e\",\"type\":\"GlyphRenderer\"},{\"id\":\"c93f5a3e-0ff1-495a-bd0c-a5d38b8d486d\",\"type\":\"GlyphRenderer\"},{\"id\":\"68b47ef0-28f4-4580-87ce-0724a05ce9c9\",\"type\":\"GlyphRenderer\"},{\"id\":\"07f6698e-334c-4274-98f6-691658af9cf3\",\"type\":\"GlyphRenderer\"},{\"id\":\"b7fe852f-89b2-456a-a1eb-49f5186cb796\",\"type\":\"GlyphRenderer\"},{\"id\":\"47a7190d-80dd-44b7-983e-e6997d92ea31\",\"type\":\"GlyphRenderer\"},{\"id\":\"65d69a19-e82a-4b61-9a59-7bd7ab853681\",\"type\":\"GlyphRenderer\"},{\"id\":\"e181b848-861a-4822-b8ce-8cbd996413d5\",\"type\":\"GlyphRenderer\"},{\"id\":\"4e934c2d-a3ec-442e-b158-5581d734cd70\",\"type\":\"GlyphRenderer\"},{\"id\":\"34aade2e-eda6-4874-a8ed-443fbcb4aa7f\",\"type\":\"GlyphRenderer\"},{\"id\":\"0e5b42e8-b40b-4875-9abc-b240ceba2c66\",\"type\":\"GlyphRenderer\"},{\"id\":\"b746efc5-2e66-4873-bcf9-87ad383c980b\",\"type\":\"GlyphRenderer\"},{\"id\":\"c7e45c5f-dd0e-40b0-9953-cf042bede531\",\"type\":\"GlyphRenderer\"},{\"id\":\"4409330b-ea55-4c91-bd2f-a92c474347dc\",\"type\":\"GlyphRenderer\"},{\"id\":\"8b0ef290-81f2-4e68-96df-0de260a5f311\",\"type\":\"GlyphRenderer\"},{\"id\":\"05669646-c01b-40db-b8ba-15933dbae240\",\"type\":\"GlyphRenderer\"},{\"id\":\"ff7f17f4-f6eb-4498-8996-5aa043182866\",\"type\":\"GlyphRenderer\"},{\"id\":\"e41f999b-f495-41d5-8898-488576e1a4ce\",\"type\":\"GlyphRenderer\"},{\"id\":\"40bfbc50-9cd7-4550-8222-b0ffa880717c\",\"type\":\"GlyphRenderer\"},{\"id\":\"af20ed56-b8c6-4394-a4cd-b4600db7014b\",\"type\":\"GlyphRenderer\"},{\"id\":\"cbc26b4a-adde-472c-b393-1583ae4ba36e\",\"type\":\"Legend\"},{\"id\":\"1b982c6f-7469-42bd-adbd-ead81e212688\",\"type\":\"CategoricalAxis\"},{\"id\":\"066e9e3d-1d8f-4106-841f-4275ec0bab0b\",\"type\":\"LinearAxis\"},{\"id\":\"ae05b238-e970-43c4-83d3-efbb63f56df3\",\"type\":\"Grid\"}],\"title\":{\"id\":\"7e75877f-e6bb-4116-9adf-c7df0da97750\",\"type\":\"Title\"},\"tool_events\":{\"id\":\"c39aa7c1-5eef-44b0-bd4d-473e38e87dc0\",\"type\":\"ToolEvents\"},\"toolbar\":{\"id\":\"29e7c542-f716-400a-a0f1-33dc3532c1b8\",\"type\":\"Toolbar\"},\"x_mapper_type\":\"auto\",\"x_range\":{\"id\":\"7227751b-7d93-42a4-a037-6732d2c13e73\",\"type\":\"FactorRange\"},\"y_mapper_type\":\"auto\",\"y_range\":{\"id\":\"a7a2f25c-7d22-4892-a73c-b090eb0c1864\",\"type\":\"Range1d\"}},\"id\":\"c6aa0766-a2cb-473c-bb7b-c3ade858df3a\",\"subtype\":\"Chart\",\"type\":\"Plot\"},{\"attributes\":{\"fill_alpha\":{\"field\":\"fill_alpha\"},\"fill_color\":{\"field\":\"color\"},\"height\":{\"field\":\"height\",\"units\":\"data\"},\"line_color\":{\"field\":\"line_color\"},\"width\":{\"field\":\"width\",\"units\":\"data\"},\"x\":{\"field\":\"x\"},\"y\":{\"field\":\"y\"}},\"id\":\"c4a59044-f15e-4a63-92a5-bebf9cbd7c38\",\"type\":\"Rect\"},{\"attributes\":{\"fill_alpha\":{\"field\":\"fill_alpha\"},\"fill_color\":{\"field\":\"color\"},\"height\":{\"field\":\"height\",\"units\":\"data\"},\"line_color\":{\"field\":\"line_color\"},\"width\":{\"field\":\"width\",\"units\":\"data\"},\"x\":{\"field\":\"x\"},\"y\":{\"field\":\"y\"}},\"id\":\"eaf3d2b4-fba5-4709-b8c3-23a5ffd1889d\",\"type\":\"Rect\"},{\"attributes\":{\"fill_alpha\":{\"field\":\"fill_alpha\"},\"fill_color\":{\"field\":\"color\"},\"height\":{\"field\":\"height\",\"units\":\"data\"},\"line_color\":{\"field\":\"line_color\"},\"width\":{\"field\":\"width\",\"units\":\"data\"},\"x\":{\"field\":\"x\"},\"y\":{\"field\":\"y\"}},\"id\":\"c1b8e795-1454-42bc-b837-0e11ad2c1877\",\"type\":\"Rect\"},{\"attributes\":{\"data_source\":{\"id\":\"0c39c3af-a049-4786-9439-b404f1630ed3\",\"type\":\"ColumnDataSource\"},\"glyph\":{\"id\":\"c4a59044-f15e-4a63-92a5-bebf9cbd7c38\",\"type\":\"Rect\"},\"hover_glyph\":null,\"nonselection_glyph\":null,\"selection_glyph\":null},\"id\":\"cdf0f831-48f8-4053-98fd-63e7ef94abdc\",\"type\":\"GlyphRenderer\"},{\"attributes\":{\"data_source\":{\"id\":\"9ade62aa-b35b-478d-bb09-e20e5aa2e1fd\",\"type\":\"ColumnDataSource\"},\"glyph\":{\"id\":\"a97e65ad-9979-4a0b-a8b6-295baec2daac\",\"type\":\"Rect\"},\"hover_glyph\":null,\"nonselection_glyph\":null,\"selection_glyph\":null},\"id\":\"68b47ef0-28f4-4580-87ce-0724a05ce9c9\",\"type\":\"GlyphRenderer\"},{\"attributes\":{\"data_source\":{\"id\":\"428e657a-29b9-4462-ada8-e07f426224ff\",\"type\":\"ColumnDataSource\"},\"glyph\":{\"id\":\"a97cddd4-32f7-42a2-bf21-703b1e88375b\",\"type\":\"Rect\"},\"hover_glyph\":null,\"nonselection_glyph\":null,\"selection_glyph\":null},\"id\":\"412cd7ca-5ca7-4600-83da-a7406de1382e\",\"type\":\"GlyphRenderer\"},{\"attributes\":{\"data_source\":{\"id\":\"7765a84e-6df1-4e00-ac76-04e980e3912d\",\"type\":\"ColumnDataSource\"},\"glyph\":{\"id\":\"12df2323-3b3d-4996-9e80-f5c95ae2d148\",\"type\":\"Rect\"},\"hover_glyph\":null,\"nonselection_glyph\":null,\"selection_glyph\":null},\"id\":\"ff7f17f4-f6eb-4498-8996-5aa043182866\",\"type\":\"GlyphRenderer\"},{\"attributes\":{\"fill_alpha\":{\"field\":\"fill_alpha\"},\"fill_color\":{\"field\":\"color\"},\"height\":{\"field\":\"height\",\"units\":\"data\"},\"line_color\":{\"field\":\"line_color\"},\"width\":{\"field\":\"width\",\"units\":\"data\"},\"x\":{\"field\":\"x\"},\"y\":{\"field\":\"y\"}},\"id\":\"07427c29-f733-41b3-a1c3-5a9eda307443\",\"type\":\"Rect\"},{\"attributes\":{\"callback\":null,\"column_names\":[\"line_color\",\"line_alpha\",\"color\",\"fill_alpha\",\"height\",\"width\",\"y\",\"x\",\"label\"],\"data\":{\"abbr\":[\"CAN\"],\"chart_index\":[{\"abbr\":\"CAN\",\"medal\":\"silver\"}],\"color\":[\"Silver\"],\"fill_alpha\":[0.8],\"height\":[8.0],\"label\":[{\"abbr\":\"CAN\",\"medal\":\"silver\"}],\"line_alpha\":[1.0],\"line_color\":[\"white\"],\"medal\":[\"silver\"],\"width\":[0.8],\"x\":[\"CAN\"],\"y\":[8.0]}},\"id\":\"0c39c3af-a049-4786-9439-b404f1630ed3\",\"type\":\"ColumnDataSource\"},{\"attributes\":{\"callback\":null,\"column_names\":[\"line_color\",\"line_alpha\",\"color\",\"fill_alpha\",\"height\",\"width\",\"y\",\"x\",\"label\"],\"data\":{\"abbr\":[\"JPN\"],\"chart_index\":[{\"abbr\":\"JPN\",\"medal\":\"gold\"}],\"color\":[\"Goldenrod\"],\"fill_alpha\":[0.8],\"height\":[1.0],\"label\":[{\"abbr\":\"JPN\",\"medal\":\"gold\"}],\"line_alpha\":[1.0],\"line_color\":[\"white\"],\"medal\":[\"gold\"],\"width\":[0.8],\"x\":[\"JPN\"],\"y\":[6.5]}},\"id\":\"01b74aaf-0e00-40fa-b153-0a3c3c7b1f65\",\"type\":\"ColumnDataSource\"},{\"attributes\":{\"callback\":null,\"column_names\":[\"line_color\",\"line_alpha\",\"color\",\"fill_alpha\",\"height\",\"width\",\"y\",\"x\",\"label\"],\"data\":{\"abbr\":[\"CHN\"],\"chart_index\":[{\"abbr\":\"CHN\",\"medal\":\"bronze\"}],\"color\":[\"SaddleBrown\"],\"fill_alpha\":[0.8],\"height\":[1.0],\"label\":[{\"abbr\":\"CHN\",\"medal\":\"bronze\"}],\"line_alpha\":[1.0],\"line_color\":[\"white\"],\"medal\":[\"bronze\"],\"width\":[0.8],\"x\":[\"CHN\"],\"y\":[0.5]}},\"id\":\"bee3944b-a9b6-4192-ab51-ca787fc7aef3\",\"type\":\"ColumnDataSource\"},{\"attributes\":{\"fill_alpha\":{\"field\":\"fill_alpha\"},\"fill_color\":{\"field\":\"color\"},\"height\":{\"field\":\"height\",\"units\":\"data\"},\"line_color\":{\"field\":\"line_color\"},\"width\":{\"field\":\"width\",\"units\":\"data\"},\"x\":{\"field\":\"x\"},\"y\":{\"field\":\"y\"}},\"id\":\"2d2b553f-d551-4936-bc32-379adfea766d\",\"type\":\"Rect\"},{\"attributes\":{\"fill_alpha\":{\"field\":\"fill_alpha\"},\"fill_color\":{\"field\":\"color\"},\"height\":{\"field\":\"height\",\"units\":\"data\"},\"line_color\":{\"field\":\"line_color\"},\"width\":{\"field\":\"width\",\"units\":\"data\"},\"x\":{\"field\":\"x\"},\"y\":{\"field\":\"y\"}},\"id\":\"dcd40ae5-329f-4952-847b-10069d6749b3\",\"type\":\"Rect\"},{\"attributes\":{\"callback\":null,\"column_names\":[\"line_color\",\"line_alpha\",\"color\",\"fill_alpha\",\"height\",\"width\",\"y\",\"x\",\"label\"],\"data\":{\"abbr\":[\"AUT\"],\"chart_index\":[{\"abbr\":\"AUT\",\"medal\":\"gold\"}],\"color\":[\"Goldenrod\"],\"fill_alpha\":[0.8],\"height\":[2.0],\"label\":[{\"abbr\":\"AUT\",\"medal\":\"gold\"}],\"line_alpha\":[1.0],\"line_color\":[\"white\"],\"medal\":[\"gold\"],\"width\":[0.8],\"x\":[\"AUT\"],\"y\":[8.0]}},\"id\":\"ccafa628-a7b0-4873-8f42-2f2415ff9632\",\"type\":\"ColumnDataSource\"},{\"attributes\":{\"fill_alpha\":{\"field\":\"fill_alpha\"},\"fill_color\":{\"field\":\"color\"},\"height\":{\"field\":\"height\",\"units\":\"data\"},\"line_color\":{\"field\":\"line_color\"},\"width\":{\"field\":\"width\",\"units\":\"data\"},\"x\":{\"field\":\"x\"},\"y\":{\"field\":\"y\"}},\"id\":\"f5c99e8a-cb17-463a-818d-6334eb73db43\",\"type\":\"Rect\"},{\"attributes\":{\"data_source\":{\"id\":\"3542789c-127e-414b-a4d1-267cfcbd1ea4\",\"type\":\"ColumnDataSource\"},\"glyph\":{\"id\":\"8061f530-5b38-41c1-a78d-8e4e99c84737\",\"type\":\"Rect\"},\"hover_glyph\":null,\"nonselection_glyph\":null,\"selection_glyph\":null},\"id\":\"b7fe852f-89b2-456a-a1eb-49f5186cb796\",\"type\":\"GlyphRenderer\"},{\"attributes\":{\"fill_alpha\":{\"field\":\"fill_alpha\"},\"fill_color\":{\"field\":\"color\"},\"height\":{\"field\":\"height\",\"units\":\"data\"},\"line_color\":{\"field\":\"line_color\"},\"width\":{\"field\":\"width\",\"units\":\"data\"},\"x\":{\"field\":\"x\"},\"y\":{\"field\":\"y\"}},\"id\":\"d725a984-e1fc-4067-bc96-4c918a2016e0\",\"type\":\"Rect\"},{\"attributes\":{\"data_source\":{\"id\":\"fe468016-c54a-427c-9aee-d56135640cf3\",\"type\":\"ColumnDataSource\"},\"glyph\":{\"id\":\"dc2b21bb-df09-463f-b58a-60f82169f8ba\",\"type\":\"Rect\"},\"hover_glyph\":null,\"nonselection_glyph\":null,\"selection_glyph\":null},\"id\":\"5d4fb937-13ef-4e82-b497-54873e1202cd\",\"type\":\"GlyphRenderer\"},{\"attributes\":{\"callback\":null,\"column_names\":[\"line_color\",\"line_alpha\",\"color\",\"fill_alpha\",\"height\",\"width\",\"y\",\"x\",\"label\"],\"data\":{\"abbr\":[\"CZE\"],\"chart_index\":[{\"abbr\":\"CZE\",\"medal\":\"gold\"}],\"color\":[\"Goldenrod\"],\"fill_alpha\":[0.8],\"height\":[1.0],\"label\":[{\"abbr\":\"CZE\",\"medal\":\"gold\"}],\"line_alpha\":[1.0],\"line_color\":[\"white\"],\"medal\":[\"gold\"],\"width\":[0.8],\"x\":[\"CZE\"],\"y\":[5.5]}},\"id\":\"d52da70d-ca57-45ff-b075-900faa1d2ab6\",\"type\":\"ColumnDataSource\"},{\"attributes\":{\"data_source\":{\"id\":\"9f7c4104-9e91-41d4-8030-e435fbd1e389\",\"type\":\"ColumnDataSource\"},\"glyph\":{\"id\":\"641a19b4-f6f4-4367-9403-2f42b0dfa69e\",\"type\":\"Rect\"},\"hover_glyph\":null,\"nonselection_glyph\":null,\"selection_glyph\":null},\"id\":\"11cfdc4d-f2f6-4cac-8fb3-d09d14f041f8\",\"type\":\"GlyphRenderer\"},{\"attributes\":{\"data_source\":{\"id\":\"18dd8484-e00b-4848-aadd-121a30f12ef5\",\"type\":\"ColumnDataSource\"},\"glyph\":{\"id\":\"d4f9189a-658c-4fd3-8deb-61de5ac040b2\",\"type\":\"Rect\"},\"hover_glyph\":null,\"nonselection_glyph\":null,\"selection_glyph\":null},\"id\":\"f0d189ea-6a09-4d72-ae0d-58194092c0eb\",\"type\":\"GlyphRenderer\"},{\"attributes\":{\"data_source\":{\"id\":\"349d976a-c178-4f1f-839d-84aeadab72ae\",\"type\":\"ColumnDataSource\"},\"glyph\":{\"id\":\"7b0fbfe3-6bfc-4479-a2ac-bb01fdf080b9\",\"type\":\"Rect\"},\"hover_glyph\":null,\"nonselection_glyph\":null,\"selection_glyph\":null},\"id\":\"4e934c2d-a3ec-442e-b158-5581d734cd70\",\"type\":\"GlyphRenderer\"},{\"attributes\":{\"data_source\":{\"id\":\"944fb235-172c-46be-84aa-bcfb54dc4c60\",\"type\":\"ColumnDataSource\"},\"glyph\":{\"id\":\"80baa673-6f8b-4968-8f81-3887e8b2d7ba\",\"type\":\"Rect\"},\"hover_glyph\":null,\"nonselection_glyph\":null,\"selection_glyph\":null},\"id\":\"efe1dff1-4276-4711-87ba-e4d0ba1c05a0\",\"type\":\"GlyphRenderer\"},{\"attributes\":{\"fill_alpha\":{\"field\":\"fill_alpha\"},\"fill_color\":{\"field\":\"color\"},\"height\":{\"field\":\"height\",\"units\":\"data\"},\"line_color\":{\"field\":\"line_color\"},\"width\":{\"field\":\"width\",\"units\":\"data\"},\"x\":{\"field\":\"x\"},\"y\":{\"field\":\"y\"}},\"id\":\"94fc347b-a81d-4456-a76b-62f0d56e2b5f\",\"type\":\"Rect\"},{\"attributes\":{\"callback\":null,\"column_names\":[\"line_color\",\"line_alpha\",\"color\",\"fill_alpha\",\"height\",\"width\",\"y\",\"x\",\"label\"],\"data\":{\"abbr\":[\"USA\"],\"chart_index\":[{\"abbr\":\"USA\",\"medal\":\"gold\"}],\"color\":[\"Goldenrod\"],\"fill_alpha\":[0.8],\"height\":[6.0],\"label\":[{\"abbr\":\"USA\",\"medal\":\"gold\"}],\"line_alpha\":[1.0],\"line_color\":[\"white\"],\"medal\":[\"gold\"],\"width\":[0.8],\"x\":[\"USA\"],\"y\":[17.0]}},\"id\":\"67d34d8a-e9ea-4cd3-90ff-54386130bd9f\",\"type\":\"ColumnDataSource\"},{\"attributes\":{\"data_source\":{\"id\":\"5f5e8e95-a73b-467e-9fcf-b9aeb8a8985a\",\"type\":\"ColumnDataSource\"},\"glyph\":{\"id\":\"33e3555c-f5c7-4bf8-a427-1ba54bf5a53c\",\"type\":\"Rect\"},\"hover_glyph\":null,\"nonselection_glyph\":null,\"selection_glyph\":null},\"id\":\"0573fdac-bb11-4efa-9e05-3b7df77e0243\",\"type\":\"GlyphRenderer\"},{\"attributes\":{\"callback\":null,\"column_names\":[\"line_color\",\"line_alpha\",\"color\",\"fill_alpha\",\"height\",\"width\",\"y\",\"x\",\"label\"],\"data\":{\"abbr\":[\"FIN\"],\"chart_index\":[{\"abbr\":\"FIN\",\"medal\":\"bronze\"}],\"color\":[\"SaddleBrown\"],\"fill_alpha\":[0.8],\"height\":[0.0],\"label\":[{\"abbr\":\"FIN\",\"medal\":\"bronze\"}],\"line_alpha\":[1.0],\"line_color\":[\"white\"],\"medal\":[\"bronze\"],\"width\":[0.8],\"x\":[\"FIN\"],\"y\":[0.0]}},\"id\":\"8df4382f-656d-4e6d-82a2-949262d84c99\",\"type\":\"ColumnDataSource\"},{\"attributes\":{\"data_source\":{\"id\":\"2846c144-3ccf-48ea-ba21-d98fbae4f5df\",\"type\":\"ColumnDataSource\"},\"glyph\":{\"id\":\"26dfd165-ae24-4b2d-852e-9dfd5e75978c\",\"type\":\"Rect\"},\"hover_glyph\":null,\"nonselection_glyph\":null,\"selection_glyph\":null},\"id\":\"c35dd9ef-e344-4e1b-8916-9ccdbc3bb3ab\",\"type\":\"GlyphRenderer\"},{\"attributes\":{\"callback\":null,\"column_names\":[\"line_color\",\"line_alpha\",\"color\",\"fill_alpha\",\"height\",\"width\",\"y\",\"x\",\"label\"],\"data\":{\"abbr\":[\"AUS\"],\"chart_index\":[{\"abbr\":\"AUS\",\"medal\":\"gold\"}],\"color\":[\"Goldenrod\"],\"fill_alpha\":[0.8],\"height\":[0.0],\"label\":[{\"abbr\":\"AUS\",\"medal\":\"gold\"}],\"line_alpha\":[1.0],\"line_color\":[\"white\"],\"medal\":[\"gold\"],\"width\":[0.8],\"x\":[\"AUS\"],\"y\":[3.0]}},\"id\":\"b4a2d142-586d-43fe-9752-cda55d9a2d36\",\"type\":\"ColumnDataSource\"},{\"attributes\":{\"fill_alpha\":{\"field\":\"fill_alpha\"},\"fill_color\":{\"field\":\"color\"},\"height\":{\"field\":\"height\",\"units\":\"data\"},\"line_color\":{\"field\":\"line_color\"},\"width\":{\"field\":\"width\",\"units\":\"data\"},\"x\":{\"field\":\"x\"},\"y\":{\"field\":\"y\"}},\"id\":\"2523425b-763a-41cd-87cd-459a2452e535\",\"type\":\"Rect\"},{\"attributes\":{\"fill_alpha\":{\"field\":\"fill_alpha\"},\"fill_color\":{\"field\":\"color\"},\"height\":{\"field\":\"height\",\"units\":\"data\"},\"line_color\":{\"field\":\"line_color\"},\"width\":{\"field\":\"width\",\"units\":\"data\"},\"x\":{\"field\":\"x\"},\"y\":{\"field\":\"y\"}},\"id\":\"b35e2a4f-1295-4e42-8b17-ea2d228b8119\",\"type\":\"Rect\"},{\"attributes\":{\"callback\":null,\"column_names\":[\"line_color\",\"line_alpha\",\"color\",\"fill_alpha\",\"height\",\"width\",\"y\",\"x\",\"label\"],\"data\":{\"abbr\":[\"SVK\"],\"chart_index\":[{\"abbr\":\"SVK\",\"medal\":\"bronze\"}],\"color\":[\"SaddleBrown\"],\"fill_alpha\":[0.8],\"height\":[0.0],\"label\":[{\"abbr\":\"SVK\",\"medal\":\"bronze\"}],\"line_alpha\":[1.0],\"line_color\":[\"white\"],\"medal\":[\"bronze\"],\"width\":[0.8],\"x\":[\"SVK\"],\"y\":[0.0]}},\"id\":\"184cc95e-4a6d-4e59-86b0-738824b997bd\",\"type\":\"ColumnDataSource\"},{\"attributes\":{\"callback\":null,\"column_names\":[\"line_color\",\"line_alpha\",\"color\",\"fill_alpha\",\"height\",\"width\",\"y\",\"x\",\"label\"],\"data\":{\"abbr\":[\"POL\"],\"chart_index\":[{\"abbr\":\"POL\",\"medal\":\"bronze\"}],\"color\":[\"SaddleBrown\"],\"fill_alpha\":[0.8],\"height\":[0.0],\"label\":[{\"abbr\":\"POL\",\"medal\":\"bronze\"}],\"line_alpha\":[1.0],\"line_color\":[\"white\"],\"medal\":[\"bronze\"],\"width\":[0.8],\"x\":[\"POL\"],\"y\":[0.0]}},\"id\":\"eb5cc8aa-ca38-41fd-b212-1f243753e11b\",\"type\":\"ColumnDataSource\"},{\"attributes\":{\"data_source\":{\"id\":\"ac126b30-ac78-4a5f-971f-7d0704f040d1\",\"type\":\"ColumnDataSource\"},\"glyph\":{\"id\":\"4d92a103-904a-45d3-bc6b-f7c584f7013a\",\"type\":\"Rect\"},\"hover_glyph\":null,\"nonselection_glyph\":null,\"selection_glyph\":null},\"id\":\"05669646-c01b-40db-b8ba-15933dbae240\",\"type\":\"GlyphRenderer\"},{\"attributes\":{\"callback\":null,\"column_names\":[\"line_color\",\"line_alpha\",\"color\",\"fill_alpha\",\"height\",\"width\",\"y\",\"x\",\"label\"],\"data\":{\"abbr\":[\"HRV\"],\"chart_index\":[{\"abbr\":\"HRV\",\"medal\":\"bronze\"}],\"color\":[\"SaddleBrown\"],\"fill_alpha\":[0.8],\"height\":[0.0],\"label\":[{\"abbr\":\"HRV\",\"medal\":\"bronze\"}],\"line_alpha\":[1.0],\"line_color\":[\"white\"],\"medal\":[\"bronze\"],\"width\":[0.8],\"x\":[\"HRV\"],\"y\":[0.0]}},\"id\":\"c00a6e6c-856e-490b-80e2-db7e4c4ca312\",\"type\":\"ColumnDataSource\"},{\"attributes\":{\"active_drag\":\"auto\",\"active_scroll\":\"auto\",\"active_tap\":\"auto\",\"tools\":[{\"id\":\"71e6c5d0-b539-4a4d-8d12-3cb91924091d\",\"type\":\"PanTool\"},{\"id\":\"52353771-5d35-44c5-8044-5656607fa0f9\",\"type\":\"WheelZoomTool\"},{\"id\":\"138981bf-e58b-4322-82b9-035f1abed68c\",\"type\":\"BoxZoomTool\"},{\"id\":\"703d532e-7467-486a-80c6-e0fbf35fa3c4\",\"type\":\"SaveTool\"},{\"id\":\"6025b90a-be14-4781-bf61-cf127e0fee10\",\"type\":\"ResetTool\"},{\"id\":\"53978d47-d818-4bb2-88db-753a2b430958\",\"type\":\"HelpTool\"},{\"id\":\"81c744ec-9c6a-4843-a134-8284dc7e6867\",\"type\":\"HoverTool\"}]},\"id\":\"29e7c542-f716-400a-a0f1-33dc3532c1b8\",\"type\":\"Toolbar\"},{\"attributes\":{\"callback\":null,\"column_names\":[\"line_color\",\"line_alpha\",\"color\",\"fill_alpha\",\"height\",\"width\",\"y\",\"x\",\"label\"],\"data\":{\"abbr\":[\"DEU\"],\"chart_index\":[{\"abbr\":\"DEU\",\"medal\":\"bronze\"}],\"color\":[\"SaddleBrown\"],\"fill_alpha\":[0.8],\"height\":[4.0],\"label\":[{\"abbr\":\"DEU\",\"medal\":\"bronze\"}],\"line_alpha\":[1.0],\"line_color\":[\"white\"],\"medal\":[\"bronze\"],\"width\":[0.8],\"x\":[\"DEU\"],\"y\":[2.0]}},\"id\":\"a5b68938-8aba-443b-b04c-921d4264a337\",\"type\":\"ColumnDataSource\"},{\"attributes\":{\"callback\":null,\"column_names\":[\"line_color\",\"line_alpha\",\"color\",\"fill_alpha\",\"height\",\"width\",\"y\",\"x\",\"label\"],\"data\":{\"abbr\":[\"DEU\"],\"chart_index\":[{\"abbr\":\"DEU\",\"medal\":\"silver\"}],\"color\":[\"Silver\"],\"fill_alpha\":[0.8],\"height\":[3.0],\"label\":[{\"abbr\":\"DEU\",\"medal\":\"silver\"}],\"line_alpha\":[1.0],\"line_color\":[\"white\"],\"medal\":[\"silver\"],\"width\":[0.8],\"x\":[\"DEU\"],\"y\":[5.5]}},\"id\":\"1a14e095-5976-4e7b-887c-eb6bbd59947d\",\"type\":\"ColumnDataSource\"},{\"attributes\":{\"data_source\":{\"id\":\"cb14b2cd-97b2-42f7-bba6-065b36fa0ad4\",\"type\":\"ColumnDataSource\"},\"glyph\":{\"id\":\"15880fee-9a1e-47bc-9509-c7a8ef15ae0d\",\"type\":\"Rect\"},\"hover_glyph\":null,\"nonselection_glyph\":null,\"selection_glyph\":null},\"id\":\"b746efc5-2e66-4873-bcf9-87ad383c980b\",\"type\":\"GlyphRenderer\"},{\"attributes\":{\"callback\":null,\"column_names\":[\"line_color\",\"line_alpha\",\"color\",\"fill_alpha\",\"height\",\"width\",\"y\",\"x\",\"label\"],\"data\":{\"abbr\":[\"SVK\"],\"chart_index\":[{\"abbr\":\"SVK\",\"medal\":\"gold\"}],\"color\":[\"Goldenrod\"],\"fill_alpha\":[0.8],\"height\":[1.0],\"label\":[{\"abbr\":\"SVK\",\"medal\":\"gold\"}],\"line_alpha\":[1.0],\"line_color\":[\"white\"],\"medal\":[\"gold\"],\"width\":[0.8],\"x\":[\"SVK\"],\"y\":[0.5]}},\"id\":\"7765a84e-6df1-4e00-ac76-04e980e3912d\",\"type\":\"ColumnDataSource\"},{\"attributes\":{\"callback\":null,\"column_names\":[\"line_color\",\"line_alpha\",\"color\",\"fill_alpha\",\"height\",\"width\",\"y\",\"x\",\"label\"],\"data\":{\"abbr\":[\"LVA\"],\"chart_index\":[{\"abbr\":\"LVA\",\"medal\":\"silver\"}],\"color\":[\"Silver\"],\"fill_alpha\":[0.8],\"height\":[1.0],\"label\":[{\"abbr\":\"LVA\",\"medal\":\"silver\"}],\"line_alpha\":[1.0],\"line_color\":[\"white\"],\"medal\":[\"silver\"],\"width\":[0.8],\"x\":[\"LVA\"],\"y\":[2.5]}},\"id\":\"6acb6312-158f-4b47-af7a-10835c1ce24c\",\"type\":\"ColumnDataSource\"}],\"root_ids\":[\"c6aa0766-a2cb-473c-bb7b-c3ade858df3a\"]},\"title\":\"Bokeh Application\",\"version\":\"0.12.1\"}};\n",
       "            var render_items = [{\"docid\":\"f49ef2a7-bd43-4956-acf5-a227c340d319\",\"elementid\":\"5fd45994-72d6-4191-8085-c54fd1fbc40d\",\"modelid\":\"c6aa0766-a2cb-473c-bb7b-c3ade858df3a\",\"notebook_comms_target\":\"e84733c7-2981-452d-9762-a5f07fcb0cdf\"}];\n",
       "            \n",
       "            Bokeh.embed.embed_items(docs_json, render_items);\n",
       "        });\n",
       "      },\n",
       "      function(Bokeh) {\n",
       "      }\n",
       "    ];\n",
       "  \n",
       "    function run_inline_js() {\n",
       "      for (var i = 0; i < inline_js.length; i++) {\n",
       "        inline_js[i](window.Bokeh);\n",
       "      }\n",
       "    }\n",
       "  \n",
       "    if (window._bokeh_is_loading === 0) {\n",
       "      console.log(\"Bokeh: BokehJS loaded, going straight to plotting\");\n",
       "      run_inline_js();\n",
       "    } else {\n",
       "      load_libs(js_urls, function() {\n",
       "        console.log(\"Bokeh: BokehJS plotting callback run at\", now());\n",
       "        run_inline_js();\n",
       "      });\n",
       "    }\n",
       "  }(this));\n",
       "</script>"
      ]
     },
     "metadata": {},
     "output_type": "display_data"
    },
    {
     "data": {
      "text/html": [
       "<p><code>&lt;Bokeh Notebook handle for <strong>In[56]</strong>&gt;</code></p>"
      ],
      "text/plain": [
       "<bokeh.io._CommsHandle at 0x10c20bc10>"
      ]
     },
     "execution_count": 56,
     "metadata": {},
     "output_type": "execute_result"
    }
   ],
   "source": [
    "bar = Bar(df,\n",
    "          values=blend('bronze', 'silver', 'gold', name='medals', labels_name='medal'),\n",
    "          label=cat(columns='abbr', sort=False),\n",
    "          stack=cat(columns='medal', sort=False),\n",
    "          color=color(columns='medal', palette=['SaddleBrown', 'Silver', 'Goldenrod'],\n",
    "                      sort=False),\n",
    "          legend='top_right',\n",
    "          title=\"Medals per Country, Sorted by Total Medals\",\n",
    "          tooltips=[('medal', '@medal'), ('country', '@abbr')]\n",
    "         )\n",
    "\n",
    "show(bar)"
   ]
  },
  {
   "cell_type": "markdown",
   "metadata": {},
   "source": [
    "# Histogram"
   ]
  },
  {
   "cell_type": "code",
   "execution_count": 21,
   "metadata": {
    "collapsed": false
   },
   "outputs": [
    {
     "data": {
      "text/html": [
       "\n",
       "    <div class=\"bk-root\">\n",
       "        <a href=\"http://bokeh.pydata.org\" target=\"_blank\" class=\"bk-logo bk-logo-small bk-logo-notebook\"></a>\n",
       "        <span id=\"e89606fd-d8f7-4d6a-9452-868b3090fdfc\">Loading BokehJS ...</span>\n",
       "    </div>"
      ]
     },
     "metadata": {},
     "output_type": "display_data"
    },
    {
     "data": {
      "application/javascript": [
       "\n",
       "(function(global) {\n",
       "  function now() {\n",
       "    return new Date();\n",
       "  }\n",
       "\n",
       "  var force = \"1\";\n",
       "\n",
       "  if (typeof (window._bokeh_onload_callbacks) === \"undefined\" || force !== \"\") {\n",
       "    window._bokeh_onload_callbacks = [];\n",
       "    window._bokeh_is_loading = undefined;\n",
       "  }\n",
       "\n",
       "  function run_callbacks() {\n",
       "    window._bokeh_onload_callbacks.forEach(function(callback) { callback() });\n",
       "    delete window._bokeh_onload_callbacks\n",
       "    console.info(\"Bokeh: all callbacks have finished\");\n",
       "  }\n",
       "\n",
       "  function load_libs(js_urls, callback) {\n",
       "    window._bokeh_onload_callbacks.push(callback);\n",
       "    if (window._bokeh_is_loading > 0) {\n",
       "      console.log(\"Bokeh: BokehJS is being loaded, scheduling callback at\", now());\n",
       "      return null;\n",
       "    }\n",
       "    if (js_urls == null || js_urls.length === 0) {\n",
       "      run_callbacks();\n",
       "      return null;\n",
       "    }\n",
       "    console.log(\"Bokeh: BokehJS not loaded, scheduling load and callback at\", now());\n",
       "    window._bokeh_is_loading = js_urls.length;\n",
       "    for (var i = 0; i < js_urls.length; i++) {\n",
       "      var url = js_urls[i];\n",
       "      var s = document.createElement('script');\n",
       "      s.src = url;\n",
       "      s.async = false;\n",
       "      s.onreadystatechange = s.onload = function() {\n",
       "        window._bokeh_is_loading--;\n",
       "        if (window._bokeh_is_loading === 0) {\n",
       "          console.log(\"Bokeh: all BokehJS libraries loaded\");\n",
       "          run_callbacks()\n",
       "        }\n",
       "      };\n",
       "      s.onerror = function() {\n",
       "        console.warn(\"failed to load library \" + url);\n",
       "      };\n",
       "      console.log(\"Bokeh: injecting script tag for BokehJS library: \", url);\n",
       "      document.getElementsByTagName(\"head\")[0].appendChild(s);\n",
       "    }\n",
       "  };\n",
       "\n",
       "  var js_urls = ['https://cdn.pydata.org/bokeh/release/bokeh-0.12.1.min.js', 'https://cdn.pydata.org/bokeh/release/bokeh-widgets-0.12.1.min.js', 'https://cdn.pydata.org/bokeh/release/bokeh-compiler-0.12.1.min.js'];\n",
       "\n",
       "  var inline_js = [\n",
       "    function(Bokeh) {\n",
       "      Bokeh.set_log_level(\"info\");\n",
       "    },\n",
       "    \n",
       "    function(Bokeh) {\n",
       "      \n",
       "      Bokeh.$(\"#e89606fd-d8f7-4d6a-9452-868b3090fdfc\").text(\"BokehJS successfully loaded\");\n",
       "      var kernel = Jupyter.notebook.kernel\n",
       "      if (kernel.execute !== undefined) {\n",
       "          kernel.execute(\"import bokeh.io; bokeh.io._nb_loaded = True\");\n",
       "      }\n",
       "    },\n",
       "    function(Bokeh) {\n",
       "      console.log(\"Bokeh: injecting CSS: https://cdn.pydata.org/bokeh/release/bokeh-0.12.1.min.css\");\n",
       "      Bokeh.embed.inject_css(\"https://cdn.pydata.org/bokeh/release/bokeh-0.12.1.min.css\");\n",
       "      console.log(\"Bokeh: injecting CSS: https://cdn.pydata.org/bokeh/release/bokeh-widgets-0.12.1.min.css\");\n",
       "      Bokeh.embed.inject_css(\"https://cdn.pydata.org/bokeh/release/bokeh-widgets-0.12.1.min.css\");\n",
       "    }\n",
       "  ];\n",
       "\n",
       "  function run_inline_js() {\n",
       "    for (var i = 0; i < inline_js.length; i++) {\n",
       "      inline_js[i](window.Bokeh);\n",
       "    }\n",
       "  }\n",
       "\n",
       "  if (window._bokeh_is_loading === 0) {\n",
       "    console.log(\"Bokeh: BokehJS loaded, going straight to plotting\");\n",
       "    run_inline_js();\n",
       "  } else {\n",
       "    load_libs(js_urls, function() {\n",
       "      console.log(\"Bokeh: BokehJS plotting callback run at\", now());\n",
       "      run_inline_js();\n",
       "    });\n",
       "  }\n",
       "}(this));"
      ]
     },
     "metadata": {},
     "output_type": "display_data"
    }
   ],
   "source": [
    "from bokeh.charts import Histogram, show, output_notebook\n",
    "from bokeh.sampledata.autompg import autompg as df\n",
    "output_notebook()"
   ]
  },
  {
   "cell_type": "code",
   "execution_count": 29,
   "metadata": {
    "collapsed": false
   },
   "outputs": [
    {
     "name": "stdout",
     "output_type": "stream",
     "text": [
      "Index([u'mpg', u'cyl', u'displ', u'hp', u'weight', u'accel', u'yr', u'origin',\n",
      "       u'name'],\n",
      "      dtype='object')\n",
      "      mpg  cyl  displ   hp  weight  accel  yr  origin                name\n",
      "241  21.5    3   80.0  110    2720   13.5  77       3          mazda rx-4\n",
      "331  23.7    3   70.0  100    2420   12.5  80       3       mazda rx-7 gs\n",
      "110  18.0    3   70.0   90    2124   13.5  73       3           maxda rx3\n",
      "70   19.0    3   70.0   97    2330   13.5  72       3     mazda rx2 coupe\n",
      "235  30.5    4   98.0   63    2051   17.0  77       1  chevrolet chevette\n"
     ]
    },
    {
     "data": {
      "text/html": [
       "<div>\n",
       "<table border=\"1\" class=\"dataframe\">\n",
       "  <thead>\n",
       "    <tr style=\"text-align: right;\">\n",
       "      <th></th>\n",
       "      <th>mpg</th>\n",
       "      <th>cyl</th>\n",
       "      <th>displ</th>\n",
       "      <th>hp</th>\n",
       "      <th>weight</th>\n",
       "      <th>accel</th>\n",
       "      <th>yr</th>\n",
       "      <th>origin</th>\n",
       "      <th>name</th>\n",
       "    </tr>\n",
       "  </thead>\n",
       "  <tbody>\n",
       "    <tr>\n",
       "      <th>0</th>\n",
       "      <td>18.0</td>\n",
       "      <td>8</td>\n",
       "      <td>307.0</td>\n",
       "      <td>130</td>\n",
       "      <td>3504</td>\n",
       "      <td>12.0</td>\n",
       "      <td>70</td>\n",
       "      <td>1</td>\n",
       "      <td>chevrolet chevelle malibu</td>\n",
       "    </tr>\n",
       "    <tr>\n",
       "      <th>163</th>\n",
       "      <td>20.0</td>\n",
       "      <td>8</td>\n",
       "      <td>262.0</td>\n",
       "      <td>110</td>\n",
       "      <td>3221</td>\n",
       "      <td>13.5</td>\n",
       "      <td>75</td>\n",
       "      <td>1</td>\n",
       "      <td>chevrolet monza 2+2</td>\n",
       "    </tr>\n",
       "    <tr>\n",
       "      <th>63</th>\n",
       "      <td>15.0</td>\n",
       "      <td>8</td>\n",
       "      <td>318.0</td>\n",
       "      <td>150</td>\n",
       "      <td>4135</td>\n",
       "      <td>13.5</td>\n",
       "      <td>72</td>\n",
       "      <td>1</td>\n",
       "      <td>plymouth fury iii</td>\n",
       "    </tr>\n",
       "    <tr>\n",
       "      <th>211</th>\n",
       "      <td>13.0</td>\n",
       "      <td>8</td>\n",
       "      <td>350.0</td>\n",
       "      <td>145</td>\n",
       "      <td>4055</td>\n",
       "      <td>12.0</td>\n",
       "      <td>76</td>\n",
       "      <td>1</td>\n",
       "      <td>chevy c10</td>\n",
       "    </tr>\n",
       "    <tr>\n",
       "      <th>212</th>\n",
       "      <td>13.0</td>\n",
       "      <td>8</td>\n",
       "      <td>302.0</td>\n",
       "      <td>130</td>\n",
       "      <td>3870</td>\n",
       "      <td>15.0</td>\n",
       "      <td>76</td>\n",
       "      <td>1</td>\n",
       "      <td>ford f108</td>\n",
       "    </tr>\n",
       "  </tbody>\n",
       "</table>\n",
       "</div>"
      ],
      "text/plain": [
       "      mpg  cyl  displ   hp  weight  accel  yr  origin  \\\n",
       "0    18.0    8  307.0  130    3504   12.0  70       1   \n",
       "163  20.0    8  262.0  110    3221   13.5  75       1   \n",
       "63   15.0    8  318.0  150    4135   13.5  72       1   \n",
       "211  13.0    8  350.0  145    4055   12.0  76       1   \n",
       "212  13.0    8  302.0  130    3870   15.0  76       1   \n",
       "\n",
       "                          name  \n",
       "0    chevrolet chevelle malibu  \n",
       "163        chevrolet monza 2+2  \n",
       "63           plymouth fury iii  \n",
       "211                  chevy c10  \n",
       "212                  ford f108  "
      ]
     },
     "execution_count": 29,
     "metadata": {},
     "output_type": "execute_result"
    }
   ],
   "source": [
    "print(df.columns)\n",
    "print(df.head())\n",
    "df.sort_values('cyl', inplace=True, ascending=False)\n",
    "df.head()"
   ]
  },
  {
   "cell_type": "code",
   "execution_count": 25,
   "metadata": {
    "collapsed": false
   },
   "outputs": [
    {
     "data": {
      "text/html": [
       "\n",
       "\n",
       "    <div class=\"bk-root\">\n",
       "        <div class=\"plotdiv\" id=\"d11e679e-7bc0-4559-9c20-7c0c727b4674\"></div>\n",
       "    </div>\n",
       "<script type=\"text/javascript\">\n",
       "  \n",
       "  (function(global) {\n",
       "    function now() {\n",
       "      return new Date();\n",
       "    }\n",
       "  \n",
       "    var force = \"\";\n",
       "  \n",
       "    if (typeof (window._bokeh_onload_callbacks) === \"undefined\" || force !== \"\") {\n",
       "      window._bokeh_onload_callbacks = [];\n",
       "      window._bokeh_is_loading = undefined;\n",
       "    }\n",
       "  \n",
       "    function run_callbacks() {\n",
       "      window._bokeh_onload_callbacks.forEach(function(callback) { callback() });\n",
       "      delete window._bokeh_onload_callbacks\n",
       "      console.info(\"Bokeh: all callbacks have finished\");\n",
       "    }\n",
       "  \n",
       "    function load_libs(js_urls, callback) {\n",
       "      window._bokeh_onload_callbacks.push(callback);\n",
       "      if (window._bokeh_is_loading > 0) {\n",
       "        console.log(\"Bokeh: BokehJS is being loaded, scheduling callback at\", now());\n",
       "        return null;\n",
       "      }\n",
       "      if (js_urls == null || js_urls.length === 0) {\n",
       "        run_callbacks();\n",
       "        return null;\n",
       "      }\n",
       "      console.log(\"Bokeh: BokehJS not loaded, scheduling load and callback at\", now());\n",
       "      window._bokeh_is_loading = js_urls.length;\n",
       "      for (var i = 0; i < js_urls.length; i++) {\n",
       "        var url = js_urls[i];\n",
       "        var s = document.createElement('script');\n",
       "        s.src = url;\n",
       "        s.async = false;\n",
       "        s.onreadystatechange = s.onload = function() {\n",
       "          window._bokeh_is_loading--;\n",
       "          if (window._bokeh_is_loading === 0) {\n",
       "            console.log(\"Bokeh: all BokehJS libraries loaded\");\n",
       "            run_callbacks()\n",
       "          }\n",
       "        };\n",
       "        s.onerror = function() {\n",
       "          console.warn(\"failed to load library \" + url);\n",
       "        };\n",
       "        console.log(\"Bokeh: injecting script tag for BokehJS library: \", url);\n",
       "        document.getElementsByTagName(\"head\")[0].appendChild(s);\n",
       "      }\n",
       "    };var element = document.getElementById(\"d11e679e-7bc0-4559-9c20-7c0c727b4674\");\n",
       "    if (element == null) {\n",
       "      console.log(\"Bokeh: ERROR: autoload.js configured with elementid 'd11e679e-7bc0-4559-9c20-7c0c727b4674' but no matching script tag was found. \")\n",
       "      return false;\n",
       "    }\n",
       "  \n",
       "    var js_urls = [];\n",
       "  \n",
       "    var inline_js = [\n",
       "      function(Bokeh) {\n",
       "        Bokeh.$(function() {\n",
       "            var docs_json = {\"0b8db967-6948-4cea-adc0-d47bdbe4280f\":{\"roots\":{\"references\":[{\"attributes\":{\"data_source\":{\"id\":\"f7a6738d-79b0-43c4-b41d-e34961f2b543\",\"type\":\"ColumnDataSource\"},\"glyph\":{\"id\":\"720f698a-9de3-4ff6-8962-f3839c7880c5\",\"type\":\"Rect\"},\"hover_glyph\":null,\"nonselection_glyph\":null,\"selection_glyph\":null},\"id\":\"f4c1517a-4f01-4ac3-987d-8a3420c85c24\",\"type\":\"GlyphRenderer\"},{\"attributes\":{\"fill_alpha\":{\"field\":\"fill_alpha\"},\"fill_color\":{\"field\":\"color\"},\"height\":{\"field\":\"height\",\"units\":\"data\"},\"line_color\":{\"field\":\"line_color\"},\"width\":{\"field\":\"width\",\"units\":\"data\"},\"x\":{\"field\":\"x\"},\"y\":{\"field\":\"y\"}},\"id\":\"457f6f39-f2cb-4d3b-9468-48ea4fd35a9d\",\"type\":\"Rect\"},{\"attributes\":{\"active_drag\":\"auto\",\"active_scroll\":\"auto\",\"active_tap\":\"auto\",\"tools\":[{\"id\":\"4287a596-16eb-4be9-80a7-1aeafbe5e10c\",\"type\":\"PanTool\"},{\"id\":\"5505066e-c63b-403a-badb-f93f7c40501f\",\"type\":\"WheelZoomTool\"},{\"id\":\"46dfea10-6378-441a-8529-7e3f10ea7a81\",\"type\":\"BoxZoomTool\"},{\"id\":\"4bbdf679-4984-4332-a980-1f431d4dae1c\",\"type\":\"SaveTool\"},{\"id\":\"7f6154c9-e0f9-4f86-b340-47fc8c89ad32\",\"type\":\"ResetTool\"},{\"id\":\"648bac0c-52a2-4a70-b567-1f719d02e626\",\"type\":\"HelpTool\"}]},\"id\":\"10549f7e-dfde-446d-9930-fa188fcd7ca3\",\"type\":\"Toolbar\"},{\"attributes\":{\"fill_alpha\":{\"field\":\"fill_alpha\"},\"fill_color\":{\"field\":\"color\"},\"height\":{\"field\":\"height\",\"units\":\"data\"},\"line_color\":{\"field\":\"line_color\"},\"width\":{\"field\":\"width\",\"units\":\"data\"},\"x\":{\"field\":\"x\"},\"y\":{\"field\":\"y\"}},\"id\":\"7009cf07-5427-444b-a8e6-aed3f47a6172\",\"type\":\"Rect\"},{\"attributes\":{\"plot\":{\"id\":\"676233aa-4087-4618-8155-1fd2b7d30e64\",\"subtype\":\"Chart\",\"type\":\"Plot\"}},\"id\":\"4bbdf679-4984-4332-a980-1f431d4dae1c\",\"type\":\"SaveTool\"},{\"attributes\":{\"fill_alpha\":{\"field\":\"fill_alpha\"},\"fill_color\":{\"field\":\"color\"},\"height\":{\"field\":\"height\",\"units\":\"data\"},\"line_color\":{\"field\":\"line_color\"},\"width\":{\"field\":\"width\",\"units\":\"data\"},\"x\":{\"field\":\"x\"},\"y\":{\"field\":\"y\"}},\"id\":\"3eaab4ed-3045-49e4-9b4c-02d4bfc2ea36\",\"type\":\"Rect\"},{\"attributes\":{\"data_source\":{\"id\":\"9278ed12-a792-4550-a497-d9b70a41d799\",\"type\":\"ColumnDataSource\"},\"glyph\":{\"id\":\"e32f4454-2001-406a-9b0b-710afa71d2b1\",\"type\":\"Rect\"},\"hover_glyph\":null,\"nonselection_glyph\":null,\"selection_glyph\":null},\"id\":\"4bdf347f-0598-420a-a2db-fe3402b77d1f\",\"type\":\"GlyphRenderer\"},{\"attributes\":{\"data_source\":{\"id\":\"f9c6e0ee-6d64-464d-8e29-ed60ac3c1c26\",\"type\":\"ColumnDataSource\"},\"glyph\":{\"id\":\"a60adbff-477e-4282-ac65-657c7ad3dacf\",\"type\":\"Rect\"},\"hover_glyph\":null,\"nonselection_glyph\":null,\"selection_glyph\":null},\"id\":\"bd689e76-2908-4c85-89f6-6e1680d8bc8f\",\"type\":\"GlyphRenderer\"},{\"attributes\":{\"callback\":null,\"column_names\":[\"line_color\",\"line_alpha\",\"color\",\"fill_alpha\",\"height\",\"width\",\"y\",\"x\",\"label\"],\"data\":{\"chart_index\":[\"(123.3, 133.0]\"],\"color\":[\"#5ab738\"],\"fill_alpha\":[0.6],\"height\":[2.0],\"label\":[\"(123.3, 133.0]\"],\"line_alpha\":[1.0],\"line_color\":[\"black\"],\"width\":[9.666666666666671],\"x\":[\"128.15\"],\"y\":[1.0]}},\"id\":\"db41c249-f0c1-41b3-b848-4c1d9076b8b6\",\"type\":\"ColumnDataSource\"},{\"attributes\":{\"data_source\":{\"id\":\"72fcd17b-edec-4272-9fe7-16d5799a676e\",\"type\":\"ColumnDataSource\"},\"glyph\":{\"id\":\"bcc82090-3569-438d-8962-7cc8ccbd4d2b\",\"type\":\"Rect\"},\"hover_glyph\":null,\"nonselection_glyph\":null,\"selection_glyph\":null},\"id\":\"9b6108dc-83dc-47a5-b980-2ad176136de3\",\"type\":\"GlyphRenderer\"},{\"attributes\":{\"callback\":null,\"column_names\":[\"line_color\",\"line_alpha\",\"color\",\"fill_alpha\",\"height\",\"width\",\"y\",\"x\",\"label\"],\"data\":{\"chart_index\":[\"(111.3, 131.1]\"],\"color\":[\"#f22c40\"],\"fill_alpha\":[0.6],\"height\":[15.0],\"label\":[\"(111.3, 131.1]\"],\"line_alpha\":[1.0],\"line_color\":[\"black\"],\"width\":[19.77777777777777],\"x\":[\"121.2\"],\"y\":[7.5]}},\"id\":\"4f562ddc-7cba-4630-afcb-424dd6a9b01f\",\"type\":\"ColumnDataSource\"},{\"attributes\":{\"callback\":null,\"column_names\":[\"line_color\",\"line_alpha\",\"color\",\"fill_alpha\",\"height\",\"width\",\"y\",\"x\",\"label\"],\"data\":{\"chart_index\":[\"(170.7, 190.4]\"],\"color\":[\"#f22c40\"],\"fill_alpha\":[0.6],\"height\":[13.0],\"label\":[\"(170.7, 190.4]\"],\"line_alpha\":[1.0],\"line_color\":[\"black\"],\"width\":[19.77777777777777],\"x\":[\"180.55\"],\"y\":[6.5]}},\"id\":\"9d1ea04e-5ad9-4de1-9a1f-4e6feffd9ade\",\"type\":\"ColumnDataSource\"},{\"attributes\":{\"callback\":null,\"column_names\":[\"line_color\",\"line_alpha\",\"color\",\"fill_alpha\",\"height\",\"width\",\"y\",\"x\",\"label\"],\"data\":{\"chart_index\":[\"(55.7, 65.3]\"],\"color\":[\"#5ab738\"],\"fill_alpha\":[0.6],\"height\":[3.0],\"label\":[\"(55.7, 65.3]\"],\"line_alpha\":[1.0],\"line_color\":[\"black\"],\"width\":[9.666666666666664],\"x\":[\"60.5\"],\"y\":[1.5]}},\"id\":\"0ff0ba32-549c-4fb7-b5e9-05fc51bf4b3f\",\"type\":\"ColumnDataSource\"},{\"attributes\":{\"callback\":null,\"column_names\":[\"line_color\",\"line_alpha\",\"color\",\"fill_alpha\",\"height\",\"width\",\"y\",\"x\",\"label\"],\"data\":{\"chart_index\":[\"(84.7, 94.3]\"],\"color\":[\"#5ab738\"],\"fill_alpha\":[0.6],\"height\":[10.0],\"label\":[\"(84.7, 94.3]\"],\"line_alpha\":[1.0],\"line_color\":[\"black\"],\"width\":[9.666666666666671],\"x\":[\"89.5\"],\"y\":[5.0]}},\"id\":\"0cfdbbca-6e1d-4b5b-a9f6-452799e893b7\",\"type\":\"ColumnDataSource\"},{\"attributes\":{\"callback\":null,\"column_names\":[\"line_color\",\"line_alpha\",\"color\",\"fill_alpha\",\"height\",\"width\",\"y\",\"x\",\"label\"],\"data\":{\"chart_index\":[\"(71.8, 91.6]\"],\"color\":[\"#f22c40\"],\"fill_alpha\":[0.6],\"height\":[68.0],\"label\":[\"(71.8, 91.6]\"],\"line_alpha\":[1.0],\"line_color\":[\"black\"],\"width\":[19.777777777777786],\"x\":[\"81.7\"],\"y\":[34.0]}},\"id\":\"c84ddd75-9006-4157-bf81-8ba3732caf24\",\"type\":\"ColumnDataSource\"},{\"attributes\":{\"fill_alpha\":{\"field\":\"fill_alpha\"},\"fill_color\":{\"field\":\"color\"},\"height\":{\"field\":\"height\",\"units\":\"data\"},\"line_color\":{\"field\":\"line_color\"},\"width\":{\"field\":\"width\",\"units\":\"data\"},\"x\":{\"field\":\"x\"},\"y\":{\"field\":\"y\"}},\"id\":\"3625e725-9a58-4cef-9e5b-055909e2fc78\",\"type\":\"Rect\"},{\"attributes\":{\"fill_alpha\":{\"field\":\"fill_alpha\"},\"fill_color\":{\"field\":\"color\"},\"height\":{\"field\":\"height\",\"units\":\"data\"},\"line_color\":{\"field\":\"line_color\"},\"width\":{\"field\":\"width\",\"units\":\"data\"},\"x\":{\"field\":\"x\"},\"y\":{\"field\":\"y\"}},\"id\":\"7c30eae4-bb6d-40a6-aff1-aa5059442d91\",\"type\":\"Rect\"},{\"attributes\":{\"fill_alpha\":{\"field\":\"fill_alpha\"},\"fill_color\":{\"field\":\"color\"},\"height\":{\"field\":\"height\",\"units\":\"data\"},\"line_color\":{\"field\":\"line_color\"},\"width\":{\"field\":\"width\",\"units\":\"data\"},\"x\":{\"field\":\"x\"},\"y\":{\"field\":\"y\"}},\"id\":\"e32f4454-2001-406a-9b0b-710afa71d2b1\",\"type\":\"Rect\"},{\"attributes\":{\"data_source\":{\"id\":\"ed5bb587-f465-4be1-8513-920cceed8ee5\",\"type\":\"ColumnDataSource\"},\"glyph\":{\"id\":\"15e9dd65-7bc4-4f8a-ab00-5cf3fe9d5704\",\"type\":\"Rect\"},\"hover_glyph\":null,\"nonselection_glyph\":null,\"selection_glyph\":null},\"id\":\"72d84bd7-71f8-496f-b8f3-76841be50d23\",\"type\":\"GlyphRenderer\"},{\"attributes\":{\"axis_label\":\"Count( Hp )\",\"formatter\":{\"id\":\"68543fdd-6e51-4849-8ecd-6cabfa49389f\",\"type\":\"BasicTickFormatter\"},\"plot\":{\"id\":\"676233aa-4087-4618-8155-1fd2b7d30e64\",\"subtype\":\"Chart\",\"type\":\"Plot\"},\"ticker\":{\"id\":\"4af432a5-504e-4c36-a479-6b2238e50387\",\"type\":\"BasicTicker\"}},\"id\":\"c7a0a0ca-ce89-49f6-af19-15b628335b4c\",\"type\":\"LinearAxis\"},{\"attributes\":{\"data_source\":{\"id\":\"227529f3-8699-4e76-bb6c-302ecea23b39\",\"type\":\"ColumnDataSource\"},\"glyph\":{\"id\":\"49ad6d9b-e9fb-4f67-a902-6c9dc1c6c38f\",\"type\":\"Rect\"},\"hover_glyph\":null,\"nonselection_glyph\":null,\"selection_glyph\":null},\"id\":\"424c62a2-670c-4a28-ae67-785733513b71\",\"type\":\"GlyphRenderer\"},{\"attributes\":{\"callback\":null,\"column_names\":[\"line_color\",\"line_alpha\",\"color\",\"fill_alpha\",\"height\",\"width\",\"y\",\"x\",\"label\"],\"data\":{\"chart_index\":[\"(210.2, 230.0]\"],\"color\":[\"#f22c40\"],\"fill_alpha\":[0.6],\"height\":[8.0],\"label\":[\"(210.2, 230.0]\"],\"line_alpha\":[1.0],\"line_color\":[\"black\"],\"width\":[19.77777777777777],\"x\":[\"220.1\"],\"y\":[4.0]}},\"id\":\"9278ed12-a792-4550-a497-d9b70a41d799\",\"type\":\"ColumnDataSource\"},{\"attributes\":{\"data_source\":{\"id\":\"9285328d-f8aa-4b22-9254-112b8ba1cf40\",\"type\":\"ColumnDataSource\"},\"glyph\":{\"id\":\"3ccac00b-ea20-4998-aca0-87fcf658d1b3\",\"type\":\"Rect\"},\"hover_glyph\":null,\"nonselection_glyph\":null,\"selection_glyph\":null},\"id\":\"ba304d59-605f-4014-9672-9a9bbd07e3a5\",\"type\":\"GlyphRenderer\"},{\"attributes\":{\"fill_alpha\":{\"field\":\"fill_alpha\"},\"fill_color\":{\"field\":\"color\"},\"height\":{\"field\":\"height\",\"units\":\"data\"},\"line_color\":{\"field\":\"line_color\"},\"width\":{\"field\":\"width\",\"units\":\"data\"},\"x\":{\"field\":\"x\"},\"y\":{\"field\":\"y\"}},\"id\":\"7e4ac9ca-33e7-4947-a211-c12abe53d862\",\"type\":\"Rect\"},{\"attributes\":{\"data_source\":{\"id\":\"23965005-f19c-48c6-bd5e-5ab9234a77ed\",\"type\":\"ColumnDataSource\"},\"glyph\":{\"id\":\"c4db203c-d5d7-42ce-8d74-73dde255a048\",\"type\":\"Rect\"},\"hover_glyph\":null,\"nonselection_glyph\":null,\"selection_glyph\":null},\"id\":\"d18687c0-892c-4e4c-9727-dbfa6e17858e\",\"type\":\"GlyphRenderer\"},{\"attributes\":{\"callback\":null,\"column_names\":[\"line_color\",\"line_alpha\",\"color\",\"fill_alpha\",\"height\",\"width\",\"y\",\"x\",\"label\"],\"data\":{\"chart_index\":[\"(75.0, 84.7]\"],\"color\":[\"#5ab738\"],\"fill_alpha\":[0.6],\"height\":[16.0],\"label\":[\"(75.0, 84.7]\"],\"line_alpha\":[1.0],\"line_color\":[\"black\"],\"width\":[9.666666666666657],\"x\":[\"79.85\"],\"y\":[8.0]}},\"id\":\"9285328d-f8aa-4b22-9254-112b8ba1cf40\",\"type\":\"ColumnDataSource\"},{\"attributes\":{\"data_source\":{\"id\":\"06e468c9-a23e-47e2-8742-c6d7be6a0bcd\",\"type\":\"ColumnDataSource\"},\"glyph\":{\"id\":\"7c30eae4-bb6d-40a6-aff1-aa5059442d91\",\"type\":\"Rect\"},\"hover_glyph\":null,\"nonselection_glyph\":null,\"selection_glyph\":null},\"id\":\"49351592-b214-4acf-a815-d7c6f7ecb073\",\"type\":\"GlyphRenderer\"},{\"attributes\":{\"bottom_units\":\"screen\",\"fill_alpha\":{\"value\":0.5},\"fill_color\":{\"value\":\"lightgrey\"},\"left_units\":\"screen\",\"level\":\"overlay\",\"line_alpha\":{\"value\":1.0},\"line_color\":{\"value\":\"black\"},\"line_dash\":[4,4],\"line_width\":{\"value\":2},\"plot\":null,\"render_mode\":\"css\",\"right_units\":\"screen\",\"top_units\":\"screen\"},\"id\":\"cdbb04ff-903f-42f1-a220-e39836866bd1\",\"type\":\"BoxAnnotation\"},{\"attributes\":{\"fill_alpha\":{\"field\":\"fill_alpha\"},\"fill_color\":{\"field\":\"color\"},\"height\":{\"field\":\"height\",\"units\":\"data\"},\"line_color\":{\"field\":\"line_color\"},\"width\":{\"field\":\"width\",\"units\":\"data\"},\"x\":{\"field\":\"x\"},\"y\":{\"field\":\"y\"}},\"id\":\"c4db203c-d5d7-42ce-8d74-73dde255a048\",\"type\":\"Rect\"},{\"attributes\":{\"data_source\":{\"id\":\"bcdf7df1-f0c2-40cb-b00a-9c4cb3a08e61\",\"type\":\"ColumnDataSource\"},\"glyph\":{\"id\":\"c7611c78-c4fb-41e1-a7d7-6e0609bae1d0\",\"type\":\"Rect\"},\"hover_glyph\":null,\"nonselection_glyph\":null,\"selection_glyph\":null},\"id\":\"250c7b01-8bba-4a34-9b9a-d9b6b3195aef\",\"type\":\"GlyphRenderer\"},{\"attributes\":{\"below\":[{\"id\":\"4107bf5f-f103-493b-8ef0-fd280c8762bb\",\"type\":\"LinearAxis\"}],\"left\":[{\"id\":\"c7a0a0ca-ce89-49f6-af19-15b628335b4c\",\"type\":\"LinearAxis\"}],\"renderers\":[{\"id\":\"cdbb04ff-903f-42f1-a220-e39836866bd1\",\"type\":\"BoxAnnotation\"},{\"id\":\"9b6108dc-83dc-47a5-b980-2ad176136de3\",\"type\":\"GlyphRenderer\"},{\"id\":\"f4c1517a-4f01-4ac3-987d-8a3420c85c24\",\"type\":\"GlyphRenderer\"},{\"id\":\"873844d5-b3a3-47d1-82c2-d469ec28a100\",\"type\":\"GlyphRenderer\"},{\"id\":\"250c7b01-8bba-4a34-9b9a-d9b6b3195aef\",\"type\":\"GlyphRenderer\"},{\"id\":\"859c23f1-1d5d-4cc2-91b4-1ec2725abe96\",\"type\":\"GlyphRenderer\"},{\"id\":\"cca0f429-6dd4-4ebe-9b6d-37501c5fb3e0\",\"type\":\"GlyphRenderer\"},{\"id\":\"4a6889b4-5c2f-4694-9d41-b6b92d98a9b2\",\"type\":\"GlyphRenderer\"},{\"id\":\"49351592-b214-4acf-a815-d7c6f7ecb073\",\"type\":\"GlyphRenderer\"},{\"id\":\"ff9de968-a10f-49a0-b2d4-3a16d170a2a6\",\"type\":\"GlyphRenderer\"},{\"id\":\"dc91f81b-292b-4ff1-aac5-d8f410ec0893\",\"type\":\"GlyphRenderer\"},{\"id\":\"112e3e03-2855-4b7f-9729-03b80ed6feeb\",\"type\":\"GlyphRenderer\"},{\"id\":\"424c62a2-670c-4a28-ae67-785733513b71\",\"type\":\"GlyphRenderer\"},{\"id\":\"689a0c2d-1067-4d5d-be21-77870250f039\",\"type\":\"GlyphRenderer\"},{\"id\":\"7ff2e86a-cd79-46dc-8325-c958afb1cf70\",\"type\":\"GlyphRenderer\"},{\"id\":\"72d84bd7-71f8-496f-b8f3-76841be50d23\",\"type\":\"GlyphRenderer\"},{\"id\":\"4bdf347f-0598-420a-a2db-fe3402b77d1f\",\"type\":\"GlyphRenderer\"},{\"id\":\"b5b96a97-8adb-4b24-a6e6-97ae0cbc79f6\",\"type\":\"GlyphRenderer\"},{\"id\":\"97511624-1de1-485b-ab81-b121524e0f2c\",\"type\":\"GlyphRenderer\"},{\"id\":\"74b6a8ef-d572-4b79-b058-eba3b7eec514\",\"type\":\"GlyphRenderer\"},{\"id\":\"ba304d59-605f-4014-9672-9a9bbd07e3a5\",\"type\":\"GlyphRenderer\"},{\"id\":\"7f49ca45-0c1b-46ac-9bda-9e347b98b4a6\",\"type\":\"GlyphRenderer\"},{\"id\":\"bd689e76-2908-4c85-89f6-6e1680d8bc8f\",\"type\":\"GlyphRenderer\"},{\"id\":\"d18687c0-892c-4e4c-9727-dbfa6e17858e\",\"type\":\"GlyphRenderer\"},{\"id\":\"540dbe60-d44c-4d5b-a2fe-876b62a9f171\",\"type\":\"GlyphRenderer\"},{\"id\":\"aeacd997-a290-4491-8d5c-2c39d7e95e41\",\"type\":\"GlyphRenderer\"},{\"id\":\"f3eb8ec7-88d2-4877-8b90-c059f18af06f\",\"type\":\"Legend\"},{\"id\":\"4107bf5f-f103-493b-8ef0-fd280c8762bb\",\"type\":\"LinearAxis\"},{\"id\":\"c7a0a0ca-ce89-49f6-af19-15b628335b4c\",\"type\":\"LinearAxis\"},{\"id\":\"7fa13314-732e-4e7a-b0cc-9dd08cf79ab7\",\"type\":\"Grid\"}],\"title\":{\"id\":\"e78d6d59-6363-48d8-ac5e-7681e360cedc\",\"type\":\"Title\"},\"tool_events\":{\"id\":\"ae8300e9-b6b1-4600-8d7a-5f82f4517eb0\",\"type\":\"ToolEvents\"},\"toolbar\":{\"id\":\"10549f7e-dfde-446d-9930-fa188fcd7ca3\",\"type\":\"Toolbar\"},\"x_mapper_type\":\"auto\",\"x_range\":{\"id\":\"d93d76d9-484a-4c36-923e-db73afb884d6\",\"type\":\"Range1d\"},\"y_mapper_type\":\"auto\",\"y_range\":{\"id\":\"ed12bab8-1058-4bef-830e-9c620942921c\",\"type\":\"Range1d\"}},\"id\":\"676233aa-4087-4618-8155-1fd2b7d30e64\",\"subtype\":\"Chart\",\"type\":\"Plot\"},{\"attributes\":{\"callback\":null,\"column_names\":[\"line_color\",\"line_alpha\",\"color\",\"fill_alpha\",\"height\",\"width\",\"y\",\"x\",\"label\"],\"data\":{\"chart_index\":[\"(150.9, 170.7]\"],\"color\":[\"#f22c40\"],\"fill_alpha\":[0.6],\"height\":[18.0],\"label\":[\"(150.9, 170.7]\"],\"line_alpha\":[1.0],\"line_color\":[\"black\"],\"width\":[19.7777777777778],\"x\":[\"160.8\"],\"y\":[9.0]}},\"id\":\"26adf23a-7cbf-4529-a1c9-4e10b92377fa\",\"type\":\"ColumnDataSource\"},{\"attributes\":{},\"id\":\"ae8300e9-b6b1-4600-8d7a-5f82f4517eb0\",\"type\":\"ToolEvents\"},{\"attributes\":{\"callback\":null,\"column_names\":[\"line_color\",\"line_alpha\",\"color\",\"fill_alpha\",\"height\",\"width\",\"y\",\"x\",\"label\"],\"data\":{\"chart_index\":[\"(86.3, 97.7]\"],\"color\":[\"#407ee7\"],\"fill_alpha\":[0.6],\"height\":[25.0],\"label\":[\"(86.3, 97.7]\"],\"line_alpha\":[1.0],\"line_color\":[\"black\"],\"width\":[11.428571428571445],\"x\":[\"92.0\"],\"y\":[12.5]}},\"id\":\"bcdf7df1-f0c2-40cb-b00a-9c4cb3a08e61\",\"type\":\"ColumnDataSource\"},{\"attributes\":{\"data_source\":{\"id\":\"8d229fec-f3b2-401c-81b7-031066891ccf\",\"type\":\"ColumnDataSource\"},\"glyph\":{\"id\":\"33c7254e-f93b-47ae-9c72-f3afbf665d8b\",\"type\":\"Rect\"},\"hover_glyph\":null,\"nonselection_glyph\":null,\"selection_glyph\":null},\"id\":\"859c23f1-1d5d-4cc2-91b4-1ec2725abe96\",\"type\":\"GlyphRenderer\"},{\"attributes\":{\"fill_alpha\":{\"field\":\"fill_alpha\"},\"fill_color\":{\"field\":\"color\"},\"height\":{\"field\":\"height\",\"units\":\"data\"},\"line_color\":{\"field\":\"line_color\"},\"width\":{\"field\":\"width\",\"units\":\"data\"},\"x\":{\"field\":\"x\"},\"y\":{\"field\":\"y\"}},\"id\":\"bcc82090-3569-438d-8962-7cc8ccbd4d2b\",\"type\":\"Rect\"},{\"attributes\":{\"fill_alpha\":{\"field\":\"fill_alpha\"},\"fill_color\":{\"field\":\"color\"},\"height\":{\"field\":\"height\",\"units\":\"data\"},\"line_color\":{\"field\":\"line_color\"},\"width\":{\"field\":\"width\",\"units\":\"data\"},\"x\":{\"field\":\"x\"},\"y\":{\"field\":\"y\"}},\"id\":\"15e9dd65-7bc4-4f8a-ab00-5cf3fe9d5704\",\"type\":\"Rect\"},{\"attributes\":{\"data_source\":{\"id\":\"3ba87015-7143-465f-8402-6df7ad83c720\",\"type\":\"ColumnDataSource\"},\"glyph\":{\"id\":\"7009cf07-5427-444b-a8e6-aed3f47a6172\",\"type\":\"Rect\"},\"hover_glyph\":null,\"nonselection_glyph\":null,\"selection_glyph\":null},\"id\":\"873844d5-b3a3-47d1-82c2-d469ec28a100\",\"type\":\"GlyphRenderer\"},{\"attributes\":{\"fill_alpha\":{\"field\":\"fill_alpha\"},\"fill_color\":{\"field\":\"color\"},\"height\":{\"field\":\"height\",\"units\":\"data\"},\"line_color\":{\"field\":\"line_color\"},\"width\":{\"field\":\"width\",\"units\":\"data\"},\"x\":{\"field\":\"x\"},\"y\":{\"field\":\"y\"}},\"id\":\"c4e9760c-07cd-420d-9ddc-75a541fc4399\",\"type\":\"Rect\"},{\"attributes\":{\"dimension\":1,\"plot\":{\"id\":\"676233aa-4087-4618-8155-1fd2b7d30e64\",\"subtype\":\"Chart\",\"type\":\"Plot\"},\"ticker\":{\"id\":\"4af432a5-504e-4c36-a479-6b2238e50387\",\"type\":\"BasicTicker\"}},\"id\":\"7fa13314-732e-4e7a-b0cc-9dd08cf79ab7\",\"type\":\"Grid\"},{\"attributes\":{\"plot\":{\"id\":\"676233aa-4087-4618-8155-1fd2b7d30e64\",\"subtype\":\"Chart\",\"type\":\"Plot\"}},\"id\":\"5505066e-c63b-403a-badb-f93f7c40501f\",\"type\":\"WheelZoomTool\"},{\"attributes\":{\"callback\":null,\"end\":236.88902777777776,\"start\":39.116527777777776},\"id\":\"d93d76d9-484a-4c36-923e-db73afb884d6\",\"type\":\"Range1d\"},{\"attributes\":{},\"id\":\"c33402bf-9db4-4db8-ad59-732833f7b80b\",\"type\":\"BasicTicker\"},{\"attributes\":{\"fill_alpha\":{\"field\":\"fill_alpha\"},\"fill_color\":{\"field\":\"color\"},\"height\":{\"field\":\"height\",\"units\":\"data\"},\"line_color\":{\"field\":\"line_color\"},\"width\":{\"field\":\"width\",\"units\":\"data\"},\"x\":{\"field\":\"x\"},\"y\":{\"field\":\"y\"}},\"id\":\"49ad6d9b-e9fb-4f67-a902-6c9dc1c6c38f\",\"type\":\"Rect\"},{\"attributes\":{\"fill_alpha\":{\"field\":\"fill_alpha\"},\"fill_color\":{\"field\":\"color\"},\"height\":{\"field\":\"height\",\"units\":\"data\"},\"line_color\":{\"field\":\"line_color\"},\"width\":{\"field\":\"width\",\"units\":\"data\"},\"x\":{\"field\":\"x\"},\"y\":{\"field\":\"y\"}},\"id\":\"6a14cac0-2ebf-41ab-a231-445400a4d4b0\",\"type\":\"Rect\"},{\"attributes\":{\"data_source\":{\"id\":\"9d1ea04e-5ad9-4de1-9a1f-4e6feffd9ade\",\"type\":\"ColumnDataSource\"},\"glyph\":{\"id\":\"7d5b98be-99e7-4a30-a8ff-d8e3e764a65c\",\"type\":\"Rect\"},\"hover_glyph\":null,\"nonselection_glyph\":null,\"selection_glyph\":null},\"id\":\"7ff2e86a-cd79-46dc-8325-c958afb1cf70\",\"type\":\"GlyphRenderer\"},{\"attributes\":{\"fill_alpha\":{\"field\":\"fill_alpha\"},\"fill_color\":{\"field\":\"color\"},\"height\":{\"field\":\"height\",\"units\":\"data\"},\"line_color\":{\"field\":\"line_color\"},\"width\":{\"field\":\"width\",\"units\":\"data\"},\"x\":{\"field\":\"x\"},\"y\":{\"field\":\"y\"}},\"id\":\"720f698a-9de3-4ff6-8962-f3839c7880c5\",\"type\":\"Rect\"},{\"attributes\":{\"fill_alpha\":{\"field\":\"fill_alpha\"},\"fill_color\":{\"field\":\"color\"},\"height\":{\"field\":\"height\",\"units\":\"data\"},\"line_color\":{\"field\":\"line_color\"},\"width\":{\"field\":\"width\",\"units\":\"data\"},\"x\":{\"field\":\"x\"},\"y\":{\"field\":\"y\"}},\"id\":\"a60adbff-477e-4282-ac65-657c7ad3dacf\",\"type\":\"Rect\"},{\"attributes\":{\"fill_alpha\":{\"field\":\"fill_alpha\"},\"fill_color\":{\"field\":\"color\"},\"height\":{\"field\":\"height\",\"units\":\"data\"},\"line_color\":{\"field\":\"line_color\"},\"width\":{\"field\":\"width\",\"units\":\"data\"},\"x\":{\"field\":\"x\"},\"y\":{\"field\":\"y\"}},\"id\":\"3ccac00b-ea20-4998-aca0-87fcf658d1b3\",\"type\":\"Rect\"},{\"attributes\":{\"plot\":{\"id\":\"676233aa-4087-4618-8155-1fd2b7d30e64\",\"subtype\":\"Chart\",\"type\":\"Plot\"}},\"id\":\"648bac0c-52a2-4a70-b567-1f719d02e626\",\"type\":\"HelpTool\"},{\"attributes\":{},\"id\":\"b2701624-317b-41a2-91c0-a8d2eff50c57\",\"type\":\"BasicTickFormatter\"},{\"attributes\":{\"data_source\":{\"id\":\"1caa6091-133a-4516-a79c-d285418a1852\",\"type\":\"ColumnDataSource\"},\"glyph\":{\"id\":\"c4e9760c-07cd-420d-9ddc-75a541fc4399\",\"type\":\"Rect\"},\"hover_glyph\":null,\"nonselection_glyph\":null,\"selection_glyph\":null},\"id\":\"4a6889b4-5c2f-4694-9d41-b6b92d98a9b2\",\"type\":\"GlyphRenderer\"},{\"attributes\":{\"fill_alpha\":{\"field\":\"fill_alpha\"},\"fill_color\":{\"field\":\"color\"},\"height\":{\"field\":\"height\",\"units\":\"data\"},\"line_color\":{\"field\":\"line_color\"},\"width\":{\"field\":\"width\",\"units\":\"data\"},\"x\":{\"field\":\"x\"},\"y\":{\"field\":\"y\"}},\"id\":\"3a246c9b-fbb5-4cb7-8bb7-4fc1b11215d3\",\"type\":\"Rect\"},{\"attributes\":{\"fill_alpha\":{\"field\":\"fill_alpha\"},\"fill_color\":{\"field\":\"color\"},\"height\":{\"field\":\"height\",\"units\":\"data\"},\"line_color\":{\"field\":\"line_color\"},\"width\":{\"field\":\"width\",\"units\":\"data\"},\"x\":{\"field\":\"x\"},\"y\":{\"field\":\"y\"}},\"id\":\"bc1ee213-13e6-45e5-b644-6b9226f899c4\",\"type\":\"Rect\"},{\"attributes\":{\"data_source\":{\"id\":\"0cfdbbca-6e1d-4b5b-a9f6-452799e893b7\",\"type\":\"ColumnDataSource\"},\"glyph\":{\"id\":\"bc1ee213-13e6-45e5-b644-6b9226f899c4\",\"type\":\"Rect\"},\"hover_glyph\":null,\"nonselection_glyph\":null,\"selection_glyph\":null},\"id\":\"7f49ca45-0c1b-46ac-9bda-9e347b98b4a6\",\"type\":\"GlyphRenderer\"},{\"attributes\":{\"plot\":{\"id\":\"676233aa-4087-4618-8155-1fd2b7d30e64\",\"subtype\":\"Chart\",\"type\":\"Plot\"}},\"id\":\"7f6154c9-e0f9-4f86-b340-47fc8c89ad32\",\"type\":\"ResetTool\"},{\"attributes\":{\"callback\":null,\"column_names\":[\"line_color\",\"line_alpha\",\"color\",\"fill_alpha\",\"height\",\"width\",\"y\",\"x\",\"label\"],\"data\":{\"chart_index\":[\"[52.0, 63.4]\"],\"color\":[\"#407ee7\"],\"fill_alpha\":[0.6],\"height\":[10.0],\"label\":[\"[52.0, 63.4]\"],\"line_alpha\":[1.0],\"line_color\":[\"black\"],\"width\":[11.42857142857143],\"x\":[\"57.7\"],\"y\":[5.0]}},\"id\":\"72fcd17b-edec-4272-9fe7-16d5799a676e\",\"type\":\"ColumnDataSource\"},{\"attributes\":{\"data_source\":{\"id\":\"c84ddd75-9006-4157-bf81-8ba3732caf24\",\"type\":\"ColumnDataSource\"},\"glyph\":{\"id\":\"dba0ca03-4120-4c47-92c0-f11da3151670\",\"type\":\"Rect\"},\"hover_glyph\":null,\"nonselection_glyph\":null,\"selection_glyph\":null},\"id\":\"ff9de968-a10f-49a0-b2d4-3a16d170a2a6\",\"type\":\"GlyphRenderer\"},{\"attributes\":{\"legends\":[[\"3\",[{\"id\":\"9b6108dc-83dc-47a5-b980-2ad176136de3\",\"type\":\"GlyphRenderer\"},{\"id\":\"f4c1517a-4f01-4ac3-987d-8a3420c85c24\",\"type\":\"GlyphRenderer\"},{\"id\":\"873844d5-b3a3-47d1-82c2-d469ec28a100\",\"type\":\"GlyphRenderer\"},{\"id\":\"250c7b01-8bba-4a34-9b9a-d9b6b3195aef\",\"type\":\"GlyphRenderer\"},{\"id\":\"859c23f1-1d5d-4cc2-91b4-1ec2725abe96\",\"type\":\"GlyphRenderer\"},{\"id\":\"cca0f429-6dd4-4ebe-9b6d-37501c5fb3e0\",\"type\":\"GlyphRenderer\"},{\"id\":\"4a6889b4-5c2f-4694-9d41-b6b92d98a9b2\",\"type\":\"GlyphRenderer\"}]],[\"1\",[{\"id\":\"49351592-b214-4acf-a815-d7c6f7ecb073\",\"type\":\"GlyphRenderer\"},{\"id\":\"ff9de968-a10f-49a0-b2d4-3a16d170a2a6\",\"type\":\"GlyphRenderer\"},{\"id\":\"dc91f81b-292b-4ff1-aac5-d8f410ec0893\",\"type\":\"GlyphRenderer\"},{\"id\":\"112e3e03-2855-4b7f-9729-03b80ed6feeb\",\"type\":\"GlyphRenderer\"},{\"id\":\"424c62a2-670c-4a28-ae67-785733513b71\",\"type\":\"GlyphRenderer\"},{\"id\":\"689a0c2d-1067-4d5d-be21-77870250f039\",\"type\":\"GlyphRenderer\"},{\"id\":\"7ff2e86a-cd79-46dc-8325-c958afb1cf70\",\"type\":\"GlyphRenderer\"},{\"id\":\"72d84bd7-71f8-496f-b8f3-76841be50d23\",\"type\":\"GlyphRenderer\"},{\"id\":\"4bdf347f-0598-420a-a2db-fe3402b77d1f\",\"type\":\"GlyphRenderer\"}]],[\"2\",[{\"id\":\"b5b96a97-8adb-4b24-a6e6-97ae0cbc79f6\",\"type\":\"GlyphRenderer\"},{\"id\":\"97511624-1de1-485b-ab81-b121524e0f2c\",\"type\":\"GlyphRenderer\"},{\"id\":\"74b6a8ef-d572-4b79-b058-eba3b7eec514\",\"type\":\"GlyphRenderer\"},{\"id\":\"ba304d59-605f-4014-9672-9a9bbd07e3a5\",\"type\":\"GlyphRenderer\"},{\"id\":\"7f49ca45-0c1b-46ac-9bda-9e347b98b4a6\",\"type\":\"GlyphRenderer\"},{\"id\":\"bd689e76-2908-4c85-89f6-6e1680d8bc8f\",\"type\":\"GlyphRenderer\"},{\"id\":\"d18687c0-892c-4e4c-9727-dbfa6e17858e\",\"type\":\"GlyphRenderer\"},{\"id\":\"540dbe60-d44c-4d5b-a2fe-876b62a9f171\",\"type\":\"GlyphRenderer\"},{\"id\":\"aeacd997-a290-4491-8d5c-2c39d7e95e41\",\"type\":\"GlyphRenderer\"}]]],\"plot\":{\"id\":\"676233aa-4087-4618-8155-1fd2b7d30e64\",\"subtype\":\"Chart\",\"type\":\"Plot\"}},\"id\":\"f3eb8ec7-88d2-4877-8b90-c059f18af06f\",\"type\":\"Legend\"},{\"attributes\":{\"callback\":null,\"end\":74.80000000000001},\"id\":\"ed12bab8-1058-4bef-830e-9c620942921c\",\"type\":\"Range1d\"},{\"attributes\":{\"fill_alpha\":{\"field\":\"fill_alpha\"},\"fill_color\":{\"field\":\"color\"},\"height\":{\"field\":\"height\",\"units\":\"data\"},\"line_color\":{\"field\":\"line_color\"},\"width\":{\"field\":\"width\",\"units\":\"data\"},\"x\":{\"field\":\"x\"},\"y\":{\"field\":\"y\"}},\"id\":\"7d5b98be-99e7-4a30-a8ff-d8e3e764a65c\",\"type\":\"Rect\"},{\"attributes\":{\"callback\":null,\"column_names\":[\"line_color\",\"line_alpha\",\"color\",\"fill_alpha\",\"height\",\"width\",\"y\",\"x\",\"label\"],\"data\":{\"chart_index\":[\"[52.0, 71.8]\"],\"color\":[\"#f22c40\"],\"fill_alpha\":[0.6],\"height\":[15.0],\"label\":[\"[52.0, 71.8]\"],\"line_alpha\":[1.0],\"line_color\":[\"black\"],\"width\":[19.77777777777777],\"x\":[\"61.9\"],\"y\":[7.5]}},\"id\":\"06e468c9-a23e-47e2-8742-c6d7be6a0bcd\",\"type\":\"ColumnDataSource\"},{\"attributes\":{\"data_source\":{\"id\":\"358d4a0d-a3ed-4d4d-b701-7a20bf9ffb7e\",\"type\":\"ColumnDataSource\"},\"glyph\":{\"id\":\"6a14cac0-2ebf-41ab-a231-445400a4d4b0\",\"type\":\"Rect\"},\"hover_glyph\":null,\"nonselection_glyph\":null,\"selection_glyph\":null},\"id\":\"cca0f429-6dd4-4ebe-9b6d-37501c5fb3e0\",\"type\":\"GlyphRenderer\"},{\"attributes\":{\"fill_alpha\":{\"field\":\"fill_alpha\"},\"fill_color\":{\"field\":\"color\"},\"height\":{\"field\":\"height\",\"units\":\"data\"},\"line_color\":{\"field\":\"line_color\"},\"width\":{\"field\":\"width\",\"units\":\"data\"},\"x\":{\"field\":\"x\"},\"y\":{\"field\":\"y\"}},\"id\":\"c7611c78-c4fb-41e1-a7d7-6e0609bae1d0\",\"type\":\"Rect\"},{\"attributes\":{\"data_source\":{\"id\":\"22313cf5-04e5-46fe-a6af-c30b0fe23c62\",\"type\":\"ColumnDataSource\"},\"glyph\":{\"id\":\"a0265c01-c0a4-422b-a090-3100c06a3e6d\",\"type\":\"Rect\"},\"hover_glyph\":null,\"nonselection_glyph\":null,\"selection_glyph\":null},\"id\":\"540dbe60-d44c-4d5b-a2fe-876b62a9f171\",\"type\":\"GlyphRenderer\"},{\"attributes\":{\"callback\":null,\"column_names\":[\"line_color\",\"line_alpha\",\"color\",\"fill_alpha\",\"height\",\"width\",\"y\",\"x\",\"label\"],\"data\":{\"chart_index\":[\"(74.9, 86.3]\"],\"color\":[\"#407ee7\"],\"fill_alpha\":[0.6],\"height\":[8.0],\"label\":[\"(74.9, 86.3]\"],\"line_alpha\":[1.0],\"line_color\":[\"black\"],\"width\":[11.428571428571416],\"x\":[\"80.6\"],\"y\":[4.0]}},\"id\":\"3ba87015-7143-465f-8402-6df7ad83c720\",\"type\":\"ColumnDataSource\"},{\"attributes\":{\"data_source\":{\"id\":\"26adf23a-7cbf-4529-a1c9-4e10b92377fa\",\"type\":\"ColumnDataSource\"},\"glyph\":{\"id\":\"3625e725-9a58-4cef-9e5b-055909e2fc78\",\"type\":\"Rect\"},\"hover_glyph\":null,\"nonselection_glyph\":null,\"selection_glyph\":null},\"id\":\"689a0c2d-1067-4d5d-be21-77870250f039\",\"type\":\"GlyphRenderer\"},{\"attributes\":{\"fill_alpha\":{\"field\":\"fill_alpha\"},\"fill_color\":{\"field\":\"color\"},\"height\":{\"field\":\"height\",\"units\":\"data\"},\"line_color\":{\"field\":\"line_color\"},\"width\":{\"field\":\"width\",\"units\":\"data\"},\"x\":{\"field\":\"x\"},\"y\":{\"field\":\"y\"}},\"id\":\"dba0ca03-4120-4c47-92c0-f11da3151670\",\"type\":\"Rect\"},{\"attributes\":{\"data_source\":{\"id\":\"a3138e6c-cb04-4bbe-909b-8bc8d8fc0ff4\",\"type\":\"ColumnDataSource\"},\"glyph\":{\"id\":\"7e4ac9ca-33e7-4947-a211-c12abe53d862\",\"type\":\"Rect\"},\"hover_glyph\":null,\"nonselection_glyph\":null,\"selection_glyph\":null},\"id\":\"74b6a8ef-d572-4b79-b058-eba3b7eec514\",\"type\":\"GlyphRenderer\"},{\"attributes\":{\"callback\":null,\"column_names\":[\"line_color\",\"line_alpha\",\"color\",\"fill_alpha\",\"height\",\"width\",\"y\",\"x\",\"label\"],\"data\":{\"chart_index\":[\"(190.4, 210.2]\"],\"color\":[\"#f22c40\"],\"fill_alpha\":[0.6],\"height\":[6.0],\"label\":[\"(190.4, 210.2]\"],\"line_alpha\":[1.0],\"line_color\":[\"black\"],\"width\":[19.77777777777777],\"x\":[\"200.3\"],\"y\":[3.0]}},\"id\":\"ed5bb587-f465-4be1-8513-920cceed8ee5\",\"type\":\"ColumnDataSource\"},{\"attributes\":{},\"id\":\"68543fdd-6e51-4849-8ecd-6cabfa49389f\",\"type\":\"BasicTickFormatter\"},{\"attributes\":{\"callback\":null,\"column_names\":[\"line_color\",\"line_alpha\",\"color\",\"fill_alpha\",\"height\",\"width\",\"y\",\"x\",\"label\"],\"data\":{\"chart_index\":[\"(120.6, 132.0]\"],\"color\":[\"#407ee7\"],\"fill_alpha\":[0.6],\"height\":[2.0],\"label\":[\"(120.6, 132.0]\"],\"line_alpha\":[1.0],\"line_color\":[\"black\"],\"width\":[11.42857142857143],\"x\":[\"126.3\"],\"y\":[1.0]}},\"id\":\"1caa6091-133a-4516-a79c-d285418a1852\",\"type\":\"ColumnDataSource\"},{\"attributes\":{},\"id\":\"4af432a5-504e-4c36-a479-6b2238e50387\",\"type\":\"BasicTicker\"},{\"attributes\":{\"fill_alpha\":{\"field\":\"fill_alpha\"},\"fill_color\":{\"field\":\"color\"},\"height\":{\"field\":\"height\",\"units\":\"data\"},\"line_color\":{\"field\":\"line_color\"},\"width\":{\"field\":\"width\",\"units\":\"data\"},\"x\":{\"field\":\"x\"},\"y\":{\"field\":\"y\"}},\"id\":\"f841e306-3c63-4803-99b3-cf9cd8005bc0\",\"type\":\"Rect\"},{\"attributes\":{\"data_source\":{\"id\":\"4f562ddc-7cba-4630-afcb-424dd6a9b01f\",\"type\":\"ColumnDataSource\"},\"glyph\":{\"id\":\"457f6f39-f2cb-4d3b-9468-48ea4fd35a9d\",\"type\":\"Rect\"},\"hover_glyph\":null,\"nonselection_glyph\":null,\"selection_glyph\":null},\"id\":\"112e3e03-2855-4b7f-9729-03b80ed6feeb\",\"type\":\"GlyphRenderer\"},{\"attributes\":{\"fill_alpha\":{\"field\":\"fill_alpha\"},\"fill_color\":{\"field\":\"color\"},\"height\":{\"field\":\"height\",\"units\":\"data\"},\"line_color\":{\"field\":\"line_color\"},\"width\":{\"field\":\"width\",\"units\":\"data\"},\"x\":{\"field\":\"x\"},\"y\":{\"field\":\"y\"}},\"id\":\"a0265c01-c0a4-422b-a090-3100c06a3e6d\",\"type\":\"Rect\"},{\"attributes\":{\"axis_label\":\"hp\",\"formatter\":{\"id\":\"b2701624-317b-41a2-91c0-a8d2eff50c57\",\"type\":\"BasicTickFormatter\"},\"plot\":{\"id\":\"676233aa-4087-4618-8155-1fd2b7d30e64\",\"subtype\":\"Chart\",\"type\":\"Plot\"},\"ticker\":{\"id\":\"c33402bf-9db4-4db8-ad59-732833f7b80b\",\"type\":\"BasicTicker\"}},\"id\":\"4107bf5f-f103-493b-8ef0-fd280c8762bb\",\"type\":\"LinearAxis\"},{\"attributes\":{\"callback\":null,\"column_names\":[\"line_color\",\"line_alpha\",\"color\",\"fill_alpha\",\"height\",\"width\",\"y\",\"x\",\"label\"],\"data\":{\"chart_index\":[\"[46.0, 55.7]\"],\"color\":[\"#5ab738\"],\"fill_alpha\":[0.6],\"height\":[8.0],\"label\":[\"[46.0, 55.7]\"],\"line_alpha\":[1.0],\"line_color\":[\"black\"],\"width\":[9.666666666666664],\"x\":[\"50.85\"],\"y\":[4.0]}},\"id\":\"10622180-494c-408c-b178-cef3361d8b77\",\"type\":\"ColumnDataSource\"},{\"attributes\":{\"callback\":null,\"column_names\":[\"line_color\",\"line_alpha\",\"color\",\"fill_alpha\",\"height\",\"width\",\"y\",\"x\",\"label\"],\"data\":{\"chart_index\":[\"(63.4, 74.9]\"],\"color\":[\"#407ee7\"],\"fill_alpha\":[0.6],\"height\":[28.0],\"label\":[\"(63.4, 74.9]\"],\"line_alpha\":[1.0],\"line_color\":[\"black\"],\"width\":[11.42857142857143],\"x\":[\"69.15\"],\"y\":[14.0]}},\"id\":\"f7a6738d-79b0-43c4-b41d-e34961f2b543\",\"type\":\"ColumnDataSource\"},{\"attributes\":{\"callback\":null,\"column_names\":[\"line_color\",\"line_alpha\",\"color\",\"fill_alpha\",\"height\",\"width\",\"y\",\"x\",\"label\"],\"data\":{\"chart_index\":[\"(94.3, 104.0]\"],\"color\":[\"#5ab738\"],\"fill_alpha\":[0.6],\"height\":[5.0],\"label\":[\"(94.3, 104.0]\"],\"line_alpha\":[1.0],\"line_color\":[\"black\"],\"width\":[9.666666666666671],\"x\":[\"99.15\"],\"y\":[2.5]}},\"id\":\"f9c6e0ee-6d64-464d-8e29-ed60ac3c1c26\",\"type\":\"ColumnDataSource\"},{\"attributes\":{\"callback\":null,\"column_names\":[\"line_color\",\"line_alpha\",\"color\",\"fill_alpha\",\"height\",\"width\",\"y\",\"x\",\"label\"],\"data\":{\"chart_index\":[\"(131.1, 150.9]\"],\"color\":[\"#f22c40\"],\"fill_alpha\":[0.6],\"height\":[44.0],\"label\":[\"(131.1, 150.9]\"],\"line_alpha\":[1.0],\"line_color\":[\"black\"],\"width\":[19.77777777777777],\"x\":[\"141.0\"],\"y\":[22.0]}},\"id\":\"227529f3-8699-4e76-bb6c-302ecea23b39\",\"type\":\"ColumnDataSource\"},{\"attributes\":{\"data_source\":{\"id\":\"db41c249-f0c1-41b3-b848-4c1d9076b8b6\",\"type\":\"ColumnDataSource\"},\"glyph\":{\"id\":\"3a246c9b-fbb5-4cb7-8bb7-4fc1b11215d3\",\"type\":\"Rect\"},\"hover_glyph\":null,\"nonselection_glyph\":null,\"selection_glyph\":null},\"id\":\"aeacd997-a290-4491-8d5c-2c39d7e95e41\",\"type\":\"GlyphRenderer\"},{\"attributes\":{\"callback\":null,\"column_names\":[\"line_color\",\"line_alpha\",\"color\",\"fill_alpha\",\"height\",\"width\",\"y\",\"x\",\"label\"],\"data\":{\"chart_index\":[\"(91.6, 111.3]\"],\"color\":[\"#f22c40\"],\"fill_alpha\":[0.6],\"height\":[58.0],\"label\":[\"(91.6, 111.3]\"],\"line_alpha\":[1.0],\"line_color\":[\"black\"],\"width\":[19.777777777777786],\"x\":[\"101.45\"],\"y\":[29.0]}},\"id\":\"c33f9596-9e95-4533-b106-1d5722833f7e\",\"type\":\"ColumnDataSource\"},{\"attributes\":{\"fill_alpha\":{\"field\":\"fill_alpha\"},\"fill_color\":{\"field\":\"color\"},\"height\":{\"field\":\"height\",\"units\":\"data\"},\"line_color\":{\"field\":\"line_color\"},\"width\":{\"field\":\"width\",\"units\":\"data\"},\"x\":{\"field\":\"x\"},\"y\":{\"field\":\"y\"}},\"id\":\"4c865186-18b9-44c8-9be0-46a751a11d39\",\"type\":\"Rect\"},{\"attributes\":{\"data_source\":{\"id\":\"0ff0ba32-549c-4fb7-b5e9-05fc51bf4b3f\",\"type\":\"ColumnDataSource\"},\"glyph\":{\"id\":\"3eaab4ed-3045-49e4-9b4c-02d4bfc2ea36\",\"type\":\"Rect\"},\"hover_glyph\":null,\"nonselection_glyph\":null,\"selection_glyph\":null},\"id\":\"97511624-1de1-485b-ab81-b121524e0f2c\",\"type\":\"GlyphRenderer\"},{\"attributes\":{\"plot\":{\"id\":\"676233aa-4087-4618-8155-1fd2b7d30e64\",\"subtype\":\"Chart\",\"type\":\"Plot\"}},\"id\":\"4287a596-16eb-4be9-80a7-1aeafbe5e10c\",\"type\":\"PanTool\"},{\"attributes\":{\"data_source\":{\"id\":\"10622180-494c-408c-b178-cef3361d8b77\",\"type\":\"ColumnDataSource\"},\"glyph\":{\"id\":\"f841e306-3c63-4803-99b3-cf9cd8005bc0\",\"type\":\"Rect\"},\"hover_glyph\":null,\"nonselection_glyph\":null,\"selection_glyph\":null},\"id\":\"b5b96a97-8adb-4b24-a6e6-97ae0cbc79f6\",\"type\":\"GlyphRenderer\"},{\"attributes\":{\"callback\":null,\"column_names\":[\"line_color\",\"line_alpha\",\"color\",\"fill_alpha\",\"height\",\"width\",\"y\",\"x\",\"label\"],\"data\":{\"chart_index\":[\"(65.3, 75.0]\"],\"color\":[\"#5ab738\"],\"fill_alpha\":[0.6],\"height\":[16.0],\"label\":[\"(65.3, 75.0]\"],\"line_alpha\":[1.0],\"line_color\":[\"black\"],\"width\":[9.666666666666671],\"x\":[\"70.15\"],\"y\":[8.0]}},\"id\":\"a3138e6c-cb04-4bbe-909b-8bc8d8fc0ff4\",\"type\":\"ColumnDataSource\"},{\"attributes\":{\"callback\":null,\"column_names\":[\"line_color\",\"line_alpha\",\"color\",\"fill_alpha\",\"height\",\"width\",\"y\",\"x\",\"label\"],\"data\":{\"chart_index\":[\"(113.7, 123.3]\"],\"color\":[\"#5ab738\"],\"fill_alpha\":[0.6],\"height\":[3.0],\"label\":[\"(113.7, 123.3]\"],\"line_alpha\":[1.0],\"line_color\":[\"black\"],\"width\":[9.666666666666671],\"x\":[\"118.5\"],\"y\":[1.5]}},\"id\":\"22313cf5-04e5-46fe-a6af-c30b0fe23c62\",\"type\":\"ColumnDataSource\"},{\"attributes\":{\"data_source\":{\"id\":\"c33f9596-9e95-4533-b106-1d5722833f7e\",\"type\":\"ColumnDataSource\"},\"glyph\":{\"id\":\"4c865186-18b9-44c8-9be0-46a751a11d39\",\"type\":\"Rect\"},\"hover_glyph\":null,\"nonselection_glyph\":null,\"selection_glyph\":null},\"id\":\"dc91f81b-292b-4ff1-aac5-d8f410ec0893\",\"type\":\"GlyphRenderer\"},{\"attributes\":{\"callback\":null,\"column_names\":[\"line_color\",\"line_alpha\",\"color\",\"fill_alpha\",\"height\",\"width\",\"y\",\"x\",\"label\"],\"data\":{\"chart_index\":[\"(97.7, 109.1]\"],\"color\":[\"#407ee7\"],\"fill_alpha\":[0.6],\"height\":[3.0],\"label\":[\"(97.7, 109.1]\"],\"line_alpha\":[1.0],\"line_color\":[\"black\"],\"width\":[11.428571428571416],\"x\":[\"103.4\"],\"y\":[1.5]}},\"id\":\"8d229fec-f3b2-401c-81b7-031066891ccf\",\"type\":\"ColumnDataSource\"},{\"attributes\":{\"callback\":null,\"column_names\":[\"line_color\",\"line_alpha\",\"color\",\"fill_alpha\",\"height\",\"width\",\"y\",\"x\",\"label\"],\"data\":{\"chart_index\":[\"(104.0, 113.7]\"],\"color\":[\"#5ab738\"],\"fill_alpha\":[0.6],\"height\":[5.0],\"label\":[\"(104.0, 113.7]\"],\"line_alpha\":[1.0],\"line_color\":[\"black\"],\"width\":[9.666666666666657],\"x\":[\"108.85\"],\"y\":[2.5]}},\"id\":\"23965005-f19c-48c6-bd5e-5ab9234a77ed\",\"type\":\"ColumnDataSource\"},{\"attributes\":{\"callback\":null,\"column_names\":[\"line_color\",\"line_alpha\",\"color\",\"fill_alpha\",\"height\",\"width\",\"y\",\"x\",\"label\"],\"data\":{\"chart_index\":[\"(109.1, 120.6]\"],\"color\":[\"#407ee7\"],\"fill_alpha\":[0.6],\"height\":[3.0],\"label\":[\"(109.1, 120.6]\"],\"line_alpha\":[1.0],\"line_color\":[\"black\"],\"width\":[11.42857142857143],\"x\":[\"114.85\"],\"y\":[1.5]}},\"id\":\"358d4a0d-a3ed-4d4d-b701-7a20bf9ffb7e\",\"type\":\"ColumnDataSource\"},{\"attributes\":{\"plot\":null,\"text\":\"HP Distribution by Cylinder Count\"},\"id\":\"e78d6d59-6363-48d8-ac5e-7681e360cedc\",\"type\":\"Title\"},{\"attributes\":{\"fill_alpha\":{\"field\":\"fill_alpha\"},\"fill_color\":{\"field\":\"color\"},\"height\":{\"field\":\"height\",\"units\":\"data\"},\"line_color\":{\"field\":\"line_color\"},\"width\":{\"field\":\"width\",\"units\":\"data\"},\"x\":{\"field\":\"x\"},\"y\":{\"field\":\"y\"}},\"id\":\"33c7254e-f93b-47ae-9c72-f3afbf665d8b\",\"type\":\"Rect\"},{\"attributes\":{\"overlay\":{\"id\":\"cdbb04ff-903f-42f1-a220-e39836866bd1\",\"type\":\"BoxAnnotation\"},\"plot\":{\"id\":\"676233aa-4087-4618-8155-1fd2b7d30e64\",\"subtype\":\"Chart\",\"type\":\"Plot\"}},\"id\":\"46dfea10-6378-441a-8529-7e3f10ea7a81\",\"type\":\"BoxZoomTool\"}],\"root_ids\":[\"676233aa-4087-4618-8155-1fd2b7d30e64\"]},\"title\":\"Bokeh Application\",\"version\":\"0.12.1\"}};\n",
       "            var render_items = [{\"docid\":\"0b8db967-6948-4cea-adc0-d47bdbe4280f\",\"elementid\":\"d11e679e-7bc0-4559-9c20-7c0c727b4674\",\"modelid\":\"676233aa-4087-4618-8155-1fd2b7d30e64\",\"notebook_comms_target\":\"9fb7afcc-e212-403f-add4-d3fa742169b1\"}];\n",
       "            \n",
       "            Bokeh.embed.embed_items(docs_json, render_items);\n",
       "        });\n",
       "      },\n",
       "      function(Bokeh) {\n",
       "      }\n",
       "    ];\n",
       "  \n",
       "    function run_inline_js() {\n",
       "      for (var i = 0; i < inline_js.length; i++) {\n",
       "        inline_js[i](window.Bokeh);\n",
       "      }\n",
       "    }\n",
       "  \n",
       "    if (window._bokeh_is_loading === 0) {\n",
       "      console.log(\"Bokeh: BokehJS loaded, going straight to plotting\");\n",
       "      run_inline_js();\n",
       "    } else {\n",
       "      load_libs(js_urls, function() {\n",
       "        console.log(\"Bokeh: BokehJS plotting callback run at\", now());\n",
       "        run_inline_js();\n",
       "      });\n",
       "    }\n",
       "  }(this));\n",
       "</script>"
      ]
     },
     "metadata": {},
     "output_type": "display_data"
    },
    {
     "data": {
      "text/html": [
       "<p><code>&lt;Bokeh Notebook handle for <strong>In[25]</strong>&gt;</code></p>"
      ],
      "text/plain": [
       "<bokeh.io._CommsHandle at 0x10b64cdd0>"
      ]
     },
     "execution_count": 25,
     "metadata": {},
     "output_type": "execute_result"
    }
   ],
   "source": [
    "hist = Histogram(df, values='hp', color = 'origin',\n",
    "                 title=\"HP Distribution by Cylinder Count\", legend='top_right')\n",
    "\n",
    "show(hist)"
   ]
  },
  {
   "cell_type": "markdown",
   "metadata": {},
   "source": [
    "# Boxplot"
   ]
  },
  {
   "cell_type": "code",
   "execution_count": 4,
   "metadata": {
    "collapsed": false
   },
   "outputs": [
    {
     "data": {
      "text/html": [
       "\n",
       "    <div class=\"bk-root\">\n",
       "        <a href=\"http://bokeh.pydata.org\" target=\"_blank\" class=\"bk-logo bk-logo-small bk-logo-notebook\"></a>\n",
       "        <span id=\"885176c6-1d64-423f-bf4c-3055b9c9caf2\">Loading BokehJS ...</span>\n",
       "    </div>"
      ]
     },
     "metadata": {},
     "output_type": "display_data"
    },
    {
     "data": {
      "application/javascript": [
       "\n",
       "(function(global) {\n",
       "  function now() {\n",
       "    return new Date();\n",
       "  }\n",
       "\n",
       "  var force = \"1\";\n",
       "\n",
       "  if (typeof (window._bokeh_onload_callbacks) === \"undefined\" || force !== \"\") {\n",
       "    window._bokeh_onload_callbacks = [];\n",
       "    window._bokeh_is_loading = undefined;\n",
       "  }\n",
       "\n",
       "  function run_callbacks() {\n",
       "    window._bokeh_onload_callbacks.forEach(function(callback) { callback() });\n",
       "    delete window._bokeh_onload_callbacks\n",
       "    console.info(\"Bokeh: all callbacks have finished\");\n",
       "  }\n",
       "\n",
       "  function load_libs(js_urls, callback) {\n",
       "    window._bokeh_onload_callbacks.push(callback);\n",
       "    if (window._bokeh_is_loading > 0) {\n",
       "      console.log(\"Bokeh: BokehJS is being loaded, scheduling callback at\", now());\n",
       "      return null;\n",
       "    }\n",
       "    if (js_urls == null || js_urls.length === 0) {\n",
       "      run_callbacks();\n",
       "      return null;\n",
       "    }\n",
       "    console.log(\"Bokeh: BokehJS not loaded, scheduling load and callback at\", now());\n",
       "    window._bokeh_is_loading = js_urls.length;\n",
       "    for (var i = 0; i < js_urls.length; i++) {\n",
       "      var url = js_urls[i];\n",
       "      var s = document.createElement('script');\n",
       "      s.src = url;\n",
       "      s.async = false;\n",
       "      s.onreadystatechange = s.onload = function() {\n",
       "        window._bokeh_is_loading--;\n",
       "        if (window._bokeh_is_loading === 0) {\n",
       "          console.log(\"Bokeh: all BokehJS libraries loaded\");\n",
       "          run_callbacks()\n",
       "        }\n",
       "      };\n",
       "      s.onerror = function() {\n",
       "        console.warn(\"failed to load library \" + url);\n",
       "      };\n",
       "      console.log(\"Bokeh: injecting script tag for BokehJS library: \", url);\n",
       "      document.getElementsByTagName(\"head\")[0].appendChild(s);\n",
       "    }\n",
       "  };\n",
       "\n",
       "  var js_urls = ['https://cdn.pydata.org/bokeh/release/bokeh-0.12.1.min.js', 'https://cdn.pydata.org/bokeh/release/bokeh-widgets-0.12.1.min.js', 'https://cdn.pydata.org/bokeh/release/bokeh-compiler-0.12.1.min.js'];\n",
       "\n",
       "  var inline_js = [\n",
       "    function(Bokeh) {\n",
       "      Bokeh.set_log_level(\"info\");\n",
       "    },\n",
       "    \n",
       "    function(Bokeh) {\n",
       "      \n",
       "      Bokeh.$(\"#885176c6-1d64-423f-bf4c-3055b9c9caf2\").text(\"BokehJS successfully loaded\");\n",
       "      var kernel = Jupyter.notebook.kernel\n",
       "      if (kernel.execute !== undefined) {\n",
       "          kernel.execute(\"import bokeh.io; bokeh.io._nb_loaded = True\");\n",
       "      }\n",
       "    },\n",
       "    function(Bokeh) {\n",
       "      console.log(\"Bokeh: injecting CSS: https://cdn.pydata.org/bokeh/release/bokeh-0.12.1.min.css\");\n",
       "      Bokeh.embed.inject_css(\"https://cdn.pydata.org/bokeh/release/bokeh-0.12.1.min.css\");\n",
       "      console.log(\"Bokeh: injecting CSS: https://cdn.pydata.org/bokeh/release/bokeh-widgets-0.12.1.min.css\");\n",
       "      Bokeh.embed.inject_css(\"https://cdn.pydata.org/bokeh/release/bokeh-widgets-0.12.1.min.css\");\n",
       "    }\n",
       "  ];\n",
       "\n",
       "  function run_inline_js() {\n",
       "    for (var i = 0; i < inline_js.length; i++) {\n",
       "      inline_js[i](window.Bokeh);\n",
       "    }\n",
       "  }\n",
       "\n",
       "  if (window._bokeh_is_loading === 0) {\n",
       "    console.log(\"Bokeh: BokehJS loaded, going straight to plotting\");\n",
       "    run_inline_js();\n",
       "  } else {\n",
       "    load_libs(js_urls, function() {\n",
       "      console.log(\"Bokeh: BokehJS plotting callback run at\", now());\n",
       "      run_inline_js();\n",
       "    });\n",
       "  }\n",
       "}(this));"
      ]
     },
     "metadata": {},
     "output_type": "display_data"
    }
   ],
   "source": [
    "from bokeh.charts import BoxPlot, output_notebook, show\n",
    "from bokeh.sampledata.autompg import autompg as df\n",
    "output_notebook()"
   ]
  },
  {
   "cell_type": "code",
   "execution_count": 6,
   "metadata": {
    "collapsed": false
   },
   "outputs": [
    {
     "data": {
      "text/html": [
       "\n",
       "\n",
       "    <div class=\"bk-root\">\n",
       "        <div class=\"plotdiv\" id=\"5289b99b-5933-492d-b82c-17b3fe60a33c\"></div>\n",
       "    </div>\n",
       "<script type=\"text/javascript\">\n",
       "  \n",
       "  (function(global) {\n",
       "    function now() {\n",
       "      return new Date();\n",
       "    }\n",
       "  \n",
       "    var force = \"\";\n",
       "  \n",
       "    if (typeof (window._bokeh_onload_callbacks) === \"undefined\" || force !== \"\") {\n",
       "      window._bokeh_onload_callbacks = [];\n",
       "      window._bokeh_is_loading = undefined;\n",
       "    }\n",
       "  \n",
       "    function run_callbacks() {\n",
       "      window._bokeh_onload_callbacks.forEach(function(callback) { callback() });\n",
       "      delete window._bokeh_onload_callbacks\n",
       "      console.info(\"Bokeh: all callbacks have finished\");\n",
       "    }\n",
       "  \n",
       "    function load_libs(js_urls, callback) {\n",
       "      window._bokeh_onload_callbacks.push(callback);\n",
       "      if (window._bokeh_is_loading > 0) {\n",
       "        console.log(\"Bokeh: BokehJS is being loaded, scheduling callback at\", now());\n",
       "        return null;\n",
       "      }\n",
       "      if (js_urls == null || js_urls.length === 0) {\n",
       "        run_callbacks();\n",
       "        return null;\n",
       "      }\n",
       "      console.log(\"Bokeh: BokehJS not loaded, scheduling load and callback at\", now());\n",
       "      window._bokeh_is_loading = js_urls.length;\n",
       "      for (var i = 0; i < js_urls.length; i++) {\n",
       "        var url = js_urls[i];\n",
       "        var s = document.createElement('script');\n",
       "        s.src = url;\n",
       "        s.async = false;\n",
       "        s.onreadystatechange = s.onload = function() {\n",
       "          window._bokeh_is_loading--;\n",
       "          if (window._bokeh_is_loading === 0) {\n",
       "            console.log(\"Bokeh: all BokehJS libraries loaded\");\n",
       "            run_callbacks()\n",
       "          }\n",
       "        };\n",
       "        s.onerror = function() {\n",
       "          console.warn(\"failed to load library \" + url);\n",
       "        };\n",
       "        console.log(\"Bokeh: injecting script tag for BokehJS library: \", url);\n",
       "        document.getElementsByTagName(\"head\")[0].appendChild(s);\n",
       "      }\n",
       "    };var element = document.getElementById(\"5289b99b-5933-492d-b82c-17b3fe60a33c\");\n",
       "    if (element == null) {\n",
       "      console.log(\"Bokeh: ERROR: autoload.js configured with elementid '5289b99b-5933-492d-b82c-17b3fe60a33c' but no matching script tag was found. \")\n",
       "      return false;\n",
       "    }\n",
       "  \n",
       "    var js_urls = [];\n",
       "  \n",
       "    var inline_js = [\n",
       "      function(Bokeh) {\n",
       "        Bokeh.$(function() {\n",
       "            var docs_json = {\"ee791e07-98fa-4f61-b1ba-542a893733f8\":{\"roots\":{\"references\":[{\"attributes\":{\"fill_alpha\":{\"field\":\"fill_alpha\"},\"fill_color\":{\"field\":\"color\"},\"height\":{\"field\":\"height\",\"units\":\"data\"},\"line_color\":{\"field\":\"line_color\"},\"width\":{\"field\":\"width\",\"units\":\"data\"},\"x\":{\"field\":\"x\"},\"y\":{\"field\":\"y\"}},\"id\":\"98847e0d-f326-4082-8d68-1ce8692011b9\",\"type\":\"Rect\"},{\"attributes\":{\"data_source\":{\"id\":\"61ed8fe6-dc8e-4829-a1f2-4fdaa292910b\",\"type\":\"ColumnDataSource\"},\"glyph\":{\"id\":\"98847e0d-f326-4082-8d68-1ce8692011b9\",\"type\":\"Rect\"},\"hover_glyph\":null,\"nonselection_glyph\":null,\"selection_glyph\":null},\"id\":\"51c06ec8-8020-4760-a063-796c504edd0a\",\"type\":\"GlyphRenderer\"},{\"attributes\":{},\"id\":\"0350f68a-71e8-46d4-93bc-5382bdd5253a\",\"type\":\"ToolEvents\"},{\"attributes\":{\"active_drag\":\"auto\",\"active_scroll\":\"auto\",\"active_tap\":\"auto\",\"tools\":[{\"id\":\"bc39b480-6af8-451c-b9b8-8cf288080cb6\",\"type\":\"PanTool\"},{\"id\":\"823e7109-3864-4425-b0e0-745288d246d1\",\"type\":\"WheelZoomTool\"},{\"id\":\"f5ba7113-003d-46ba-adf1-05d19185d26e\",\"type\":\"BoxZoomTool\"},{\"id\":\"06237fdb-8b79-4b4a-a7cc-46a404d5ef32\",\"type\":\"SaveTool\"},{\"id\":\"5f726da8-9648-442c-a974-54117fcd06a6\",\"type\":\"ResetTool\"},{\"id\":\"c3dded8b-aaaf-4a78-8f53-939fa31ae0a0\",\"type\":\"HelpTool\"}]},\"id\":\"c359b5b5-d990-4c8c-b4fc-738445d5e749\",\"type\":\"Toolbar\"},{\"attributes\":{\"data_source\":{\"id\":\"a2a8008f-555a-4f42-97bb-f8fcf42354af\",\"type\":\"ColumnDataSource\"},\"glyph\":{\"id\":\"65e8e51e-8734-41fc-9811-875b7a51efd9\",\"type\":\"Segment\"},\"hover_glyph\":null,\"nonselection_glyph\":null,\"selection_glyph\":null},\"id\":\"754a8b24-e45d-439f-966a-337409054d30\",\"type\":\"GlyphRenderer\"},{\"attributes\":{\"plot\":{\"id\":\"e0621487-541e-4391-bf1b-7347d669f820\",\"subtype\":\"Chart\",\"type\":\"Plot\"}},\"id\":\"bc39b480-6af8-451c-b9b8-8cf288080cb6\",\"type\":\"PanTool\"},{\"attributes\":{\"data_source\":{\"id\":\"59fe99dd-7ede-49fe-ba80-a8b465e76c37\",\"type\":\"ColumnDataSource\"},\"glyph\":{\"id\":\"4d252adc-009e-40fd-9f05-c2828e64a252\",\"type\":\"Rect\"},\"hover_glyph\":null,\"nonselection_glyph\":null,\"selection_glyph\":null},\"id\":\"7f6db45a-2ecf-42fb-9074-7e36f2efbcc3\",\"type\":\"GlyphRenderer\"},{\"attributes\":{\"data_source\":{\"id\":\"cb332dd3-07eb-4975-b151-56fbd8dad23c\",\"type\":\"ColumnDataSource\"},\"glyph\":{\"id\":\"4f437bd2-a368-46cf-bb77-e0a62d9944d9\",\"type\":\"Segment\"},\"hover_glyph\":null,\"nonselection_glyph\":null,\"selection_glyph\":null},\"id\":\"c48dcc0c-321f-4f0a-a93c-0497e64d1bd0\",\"type\":\"GlyphRenderer\"},{\"attributes\":{\"fill_alpha\":{\"value\":0.7},\"fill_color\":{\"value\":\"red\"},\"line_color\":{\"value\":\"red\"},\"size\":{\"units\":\"screen\",\"value\":5},\"x\":{\"field\":\"x_values\"},\"y\":{\"field\":\"y_values\"}},\"id\":\"fe733eb5-88f2-430f-b2e5-b9a547d9ee21\",\"type\":\"Circle\"},{\"attributes\":{\"data_source\":{\"id\":\"ebde3805-116e-4db6-bd65-8b6fb224f429\",\"type\":\"ColumnDataSource\"},\"glyph\":{\"id\":\"4d446ee8-723d-41d9-bd0d-a6195f81ef8f\",\"type\":\"Rect\"},\"hover_glyph\":null,\"nonselection_glyph\":null,\"selection_glyph\":null},\"id\":\"4e15b2a8-2e90-4419-a76e-c091b9fc5ce3\",\"type\":\"GlyphRenderer\"},{\"attributes\":{\"bottom_units\":\"screen\",\"fill_alpha\":{\"value\":0.5},\"fill_color\":{\"value\":\"lightgrey\"},\"left_units\":\"screen\",\"level\":\"overlay\",\"line_alpha\":{\"value\":1.0},\"line_color\":{\"value\":\"black\"},\"line_dash\":[4,4],\"line_width\":{\"value\":2},\"plot\":null,\"render_mode\":\"css\",\"right_units\":\"screen\",\"top_units\":\"screen\"},\"id\":\"051d9381-f1f4-4267-bac9-f7eb0125aea3\",\"type\":\"BoxAnnotation\"},{\"attributes\":{\"data_source\":{\"id\":\"c29a96ea-ca35-4edd-8b9e-67af8358af25\",\"type\":\"ColumnDataSource\"},\"glyph\":{\"id\":\"64ed6724-516e-408c-9d55-bbe7c2296549\",\"type\":\"Circle\"},\"hover_glyph\":null,\"nonselection_glyph\":null,\"selection_glyph\":null},\"id\":\"f5072142-856a-45e5-8363-28ce01c5fba4\",\"type\":\"GlyphRenderer\"},{\"attributes\":{\"fill_alpha\":{\"value\":0.7},\"fill_color\":{\"value\":\"red\"},\"line_color\":{\"value\":\"red\"},\"size\":{\"units\":\"screen\",\"value\":5},\"x\":{\"field\":\"x_values\"},\"y\":{\"field\":\"y_values\"}},\"id\":\"64ed6724-516e-408c-9d55-bbe7c2296549\",\"type\":\"Circle\"},{\"attributes\":{\"line_width\":{\"value\":2},\"x0\":{\"field\":\"x0s\"},\"x1\":{\"field\":\"x1s\"},\"y0\":{\"field\":\"y0s\"},\"y1\":{\"field\":\"y1s\"}},\"id\":\"65e8e51e-8734-41fc-9811-875b7a51efd9\",\"type\":\"Segment\"},{\"attributes\":{\"callback\":null,\"end\":49.38},\"id\":\"0a466b28-f358-4176-abcf-24dba4ef98c2\",\"type\":\"Range1d\"},{\"attributes\":{\"data_source\":{\"id\":\"5defc0d5-232b-471a-b619-1f8aed42c9cd\",\"type\":\"ColumnDataSource\"},\"glyph\":{\"id\":\"565fcb9f-bfe0-4643-87c9-441a48b3e0f6\",\"type\":\"Rect\"},\"hover_glyph\":null,\"nonselection_glyph\":null,\"selection_glyph\":null},\"id\":\"fd81255b-a2a7-40c3-bf61-3392dd21d8ac\",\"type\":\"GlyphRenderer\"},{\"attributes\":{\"callback\":null,\"column_names\":[\"x0s\",\"y0s\",\"x1s\",\"y1s\"],\"data\":{\"chart_index\":[{\"origin\":2},{\"origin\":2},{\"origin\":2},{\"origin\":2}],\"origin\":[2,2,2,2],\"x0s\":[\"2:0.5\",\"2:0.65\",\"2:0.5\",\"2:0.65\"],\"x1s\":[\"2:0.5\",\"2:0.35\",\"2:0.5\",\"2:0.35\"],\"y0s\":[16.2,16.2,30.125,39.6875],\"y1s\":[23.75,16.2,39.6875,39.6875]}},\"id\":\"a2a8008f-555a-4f42-97bb-f8fcf42354af\",\"type\":\"ColumnDataSource\"},{\"attributes\":{\"plot\":{\"id\":\"e0621487-541e-4391-bf1b-7347d669f820\",\"subtype\":\"Chart\",\"type\":\"Plot\"}},\"id\":\"823e7109-3864-4425-b0e0-745288d246d1\",\"type\":\"WheelZoomTool\"},{\"attributes\":{\"data_source\":{\"id\":\"8252e8d2-d534-4092-86a0-915caa2d0a28\",\"type\":\"ColumnDataSource\"},\"glyph\":{\"id\":\"fe733eb5-88f2-430f-b2e5-b9a547d9ee21\",\"type\":\"Circle\"},\"hover_glyph\":null,\"nonselection_glyph\":null,\"selection_glyph\":null},\"id\":\"812bb07b-5bd2-4b94-a3a2-fc2eed25a058\",\"type\":\"GlyphRenderer\"},{\"attributes\":{\"line_width\":{\"value\":2},\"x0\":{\"field\":\"x0s\"},\"x1\":{\"field\":\"x1s\"},\"y0\":{\"field\":\"y0s\"},\"y1\":{\"field\":\"y1s\"}},\"id\":\"4f437bd2-a368-46cf-bb77-e0a62d9944d9\",\"type\":\"Segment\"},{\"attributes\":{\"line_width\":{\"value\":2},\"x0\":{\"field\":\"x0s\"},\"x1\":{\"field\":\"x1s\"},\"y0\":{\"field\":\"y0s\"},\"y1\":{\"field\":\"y1s\"}},\"id\":\"3ec31468-23bb-46a5-a079-7e4702e93bbb\",\"type\":\"Segment\"},{\"attributes\":{\"data_source\":{\"id\":\"d308ca55-753a-4ea6-8522-b96a443fada5\",\"type\":\"ColumnDataSource\"},\"glyph\":{\"id\":\"456eb645-0c5c-4d26-a2a7-ab83d5c4c39d\",\"type\":\"Rect\"},\"hover_glyph\":null,\"nonselection_glyph\":null,\"selection_glyph\":null},\"id\":\"b61c9eab-42e1-449f-a2a7-3e93e38a0c5e\",\"type\":\"GlyphRenderer\"},{\"attributes\":{\"plot\":{\"id\":\"e0621487-541e-4391-bf1b-7347d669f820\",\"subtype\":\"Chart\",\"type\":\"Plot\"}},\"id\":\"06237fdb-8b79-4b4a-a7cc-46a404d5ef32\",\"type\":\"SaveTool\"},{\"attributes\":{\"callback\":null,\"column_names\":[\"x0s\",\"y0s\",\"x1s\",\"y1s\"],\"data\":{\"chart_index\":[{\"origin\":1},{\"origin\":1},{\"origin\":1},{\"origin\":1}],\"origin\":[1,1,1,1],\"x0s\":[\"1:0.5\",\"1:0.65\",\"1:0.5\",\"1:0.65\"],\"x1s\":[\"1:0.5\",\"1:0.35\",\"1:0.5\",\"1:0.35\"],\"y0s\":[9.0,9.0,24.0,37.5],\"y1s\":[15.0,9.0,37.5,37.5]}},\"id\":\"d5f511c8-5e3b-4d20-bd8c-0856afdd4538\",\"type\":\"ColumnDataSource\"},{\"attributes\":{\"callback\":null,\"column_names\":[\"line_color\",\"line_alpha\",\"color\",\"fill_alpha\",\"height\",\"width\",\"y\",\"x\",\"label\"],\"data\":{\"chart_index\":[{\"origin\":1}],\"color\":[\"#f22c40\"],\"fill_alpha\":[0.8],\"height\":[3.5],\"label\":[{\"origin\":1}],\"line_alpha\":[1.0],\"line_color\":[\"black\"],\"origin\":[1],\"width\":[0.8],\"x\":[\"1\"],\"y\":[16.75]}},\"id\":\"61ed8fe6-dc8e-4829-a1f2-4fdaa292910b\",\"type\":\"ColumnDataSource\"},{\"attributes\":{\"data_source\":{\"id\":\"507c0562-dc72-4104-9cd0-ba1332875e1b\",\"type\":\"ColumnDataSource\"},\"glyph\":{\"id\":\"30296c63-1dbf-4f52-bcbe-154059b721d9\",\"type\":\"Rect\"},\"hover_glyph\":null,\"nonselection_glyph\":null,\"selection_glyph\":null},\"id\":\"e60137a8-b9b3-4554-940e-d855edbe88e9\",\"type\":\"GlyphRenderer\"},{\"attributes\":{\"axis_label\":\"Origin\",\"formatter\":{\"id\":\"cc6fbad8-09b0-453b-abd0-f548eb8a538b\",\"type\":\"CategoricalTickFormatter\"},\"major_label_orientation\":0.7853981633974483,\"plot\":{\"id\":\"e0621487-541e-4391-bf1b-7347d669f820\",\"subtype\":\"Chart\",\"type\":\"Plot\"},\"ticker\":{\"id\":\"51c03b9a-ef9a-46f8-9076-5817681a6d5e\",\"type\":\"CategoricalTicker\"}},\"id\":\"1e1360aa-03b0-4795-8254-07317fa5575d\",\"type\":\"CategoricalAxis\"},{\"attributes\":{},\"id\":\"395b576c-4ee6-4e5a-8090-428b59f53a19\",\"type\":\"BasicTickFormatter\"},{\"attributes\":{\"fill_alpha\":{\"field\":\"fill_alpha\"},\"fill_color\":{\"field\":\"color\"},\"height\":{\"field\":\"height\",\"units\":\"data\"},\"line_color\":{\"field\":\"line_color\"},\"width\":{\"field\":\"width\",\"units\":\"data\"},\"x\":{\"field\":\"x\"},\"y\":{\"field\":\"y\"}},\"id\":\"4d252adc-009e-40fd-9f05-c2828e64a252\",\"type\":\"Rect\"},{\"attributes\":{},\"id\":\"cc6fbad8-09b0-453b-abd0-f548eb8a538b\",\"type\":\"CategoricalTickFormatter\"},{\"attributes\":{\"callback\":null,\"column_names\":[\"line_color\",\"line_alpha\",\"color\",\"fill_alpha\",\"height\",\"width\",\"y\",\"x\",\"label\"],\"data\":{\"chart_index\":[{\"origin\":3}],\"color\":[\"#407ee7\"],\"fill_alpha\":[0.8],\"height\":[5.900000000000002],\"label\":[{\"origin\":3}],\"line_alpha\":[1.0],\"line_color\":[\"black\"],\"origin\":[3],\"width\":[0.8],\"x\":[\"3\"],\"y\":[28.65]}},\"id\":\"5defc0d5-232b-471a-b619-1f8aed42c9cd\",\"type\":\"ColumnDataSource\"},{\"attributes\":{\"fill_alpha\":{\"field\":\"fill_alpha\"},\"fill_color\":{\"field\":\"color\"},\"height\":{\"field\":\"height\",\"units\":\"data\"},\"line_color\":{\"field\":\"line_color\"},\"width\":{\"field\":\"width\",\"units\":\"data\"},\"x\":{\"field\":\"x\"},\"y\":{\"field\":\"y\"}},\"id\":\"4d446ee8-723d-41d9-bd0d-a6195f81ef8f\",\"type\":\"Rect\"},{\"attributes\":{\"callback\":null,\"column_names\":[\"line_color\",\"line_alpha\",\"color\",\"fill_alpha\",\"height\",\"width\",\"y\",\"x\",\"label\"],\"data\":{\"chart_index\":[{\"origin\":3}],\"color\":[\"#407ee7\"],\"fill_alpha\":[0.8],\"height\":[2.4499999999999957],\"label\":[{\"origin\":3}],\"line_alpha\":[1.0],\"line_color\":[\"black\"],\"origin\":[3],\"width\":[0.8],\"x\":[\"3\"],\"y\":[32.825]}},\"id\":\"507c0562-dc72-4104-9cd0-ba1332875e1b\",\"type\":\"ColumnDataSource\"},{\"attributes\":{},\"id\":\"9ed18b28-25dc-4241-98d1-6ca5adc943ea\",\"type\":\"BasicTicker\"},{\"attributes\":{\"plot\":null,\"text\":\"MPG Summary (grouped and shaded by CYL)\"},\"id\":\"890838ca-f2c1-4955-97c8-5ec3ddac1bdf\",\"type\":\"Title\"},{\"attributes\":{\"fill_alpha\":{\"field\":\"fill_alpha\"},\"fill_color\":{\"field\":\"color\"},\"height\":{\"field\":\"height\",\"units\":\"data\"},\"line_color\":{\"field\":\"line_color\"},\"width\":{\"field\":\"width\",\"units\":\"data\"},\"x\":{\"field\":\"x\"},\"y\":{\"field\":\"y\"}},\"id\":\"30296c63-1dbf-4f52-bcbe-154059b721d9\",\"type\":\"Rect\"},{\"attributes\":{\"plot\":{\"id\":\"e0621487-541e-4391-bf1b-7347d669f820\",\"subtype\":\"Chart\",\"type\":\"Plot\"}},\"id\":\"5f726da8-9648-442c-a974-54117fcd06a6\",\"type\":\"ResetTool\"},{\"attributes\":{\"callback\":null,\"column_names\":[\"line_color\",\"line_alpha\",\"color\",\"fill_alpha\",\"height\",\"width\",\"y\",\"x\",\"label\"],\"data\":{\"chart_index\":[{\"origin\":1}],\"color\":[\"#f22c40\"],\"fill_alpha\":[0.8],\"height\":[5.5],\"label\":[{\"origin\":1}],\"line_alpha\":[1.0],\"line_color\":[\"black\"],\"origin\":[1],\"width\":[0.8],\"x\":[\"1\"],\"y\":[21.25]}},\"id\":\"ebde3805-116e-4db6-bd65-8b6fb224f429\",\"type\":\"ColumnDataSource\"},{\"attributes\":{\"data_source\":{\"id\":\"d5f511c8-5e3b-4d20-bd8c-0856afdd4538\",\"type\":\"ColumnDataSource\"},\"glyph\":{\"id\":\"3ec31468-23bb-46a5-a079-7e4702e93bbb\",\"type\":\"Segment\"},\"hover_glyph\":null,\"nonselection_glyph\":null,\"selection_glyph\":null},\"id\":\"403bc758-3f8c-4c9c-8a50-fa8538c315d2\",\"type\":\"GlyphRenderer\"},{\"attributes\":{\"fill_alpha\":{\"field\":\"fill_alpha\"},\"fill_color\":{\"field\":\"color\"},\"height\":{\"field\":\"height\",\"units\":\"data\"},\"line_color\":{\"field\":\"line_color\"},\"width\":{\"field\":\"width\",\"units\":\"data\"},\"x\":{\"field\":\"x\"},\"y\":{\"field\":\"y\"}},\"id\":\"565fcb9f-bfe0-4643-87c9-441a48b3e0f6\",\"type\":\"Rect\"},{\"attributes\":{\"overlay\":{\"id\":\"051d9381-f1f4-4267-bac9-f7eb0125aea3\",\"type\":\"BoxAnnotation\"},\"plot\":{\"id\":\"e0621487-541e-4391-bf1b-7347d669f820\",\"subtype\":\"Chart\",\"type\":\"Plot\"}},\"id\":\"f5ba7113-003d-46ba-adf1-05d19185d26e\",\"type\":\"BoxZoomTool\"},{\"attributes\":{\"dimension\":1,\"plot\":{\"id\":\"e0621487-541e-4391-bf1b-7347d669f820\",\"subtype\":\"Chart\",\"type\":\"Plot\"},\"ticker\":{\"id\":\"9ed18b28-25dc-4241-98d1-6ca5adc943ea\",\"type\":\"BasicTicker\"}},\"id\":\"3c228900-166c-4180-a1cb-43b0af35540e\",\"type\":\"Grid\"},{\"attributes\":{\"callback\":null,\"column_names\":[\"x0s\",\"y0s\",\"x1s\",\"y1s\"],\"data\":{\"chart_index\":[{\"origin\":3},{\"origin\":3},{\"origin\":3},{\"origin\":3}],\"origin\":[3,3,3,3],\"x0s\":[\"3:0.5\",\"3:0.65\",\"3:0.5\",\"3:0.65\"],\"x1s\":[\"3:0.5\",\"3:0.35\",\"3:0.5\",\"3:0.35\"],\"y0s\":[18.0,18.0,34.05,46.574999999999996],\"y1s\":[25.7,18.0,46.574999999999996,46.574999999999996]}},\"id\":\"cb332dd3-07eb-4975-b151-56fbd8dad23c\",\"type\":\"ColumnDataSource\"},{\"attributes\":{\"fill_alpha\":{\"value\":0.7},\"fill_color\":{\"value\":\"red\"},\"line_color\":{\"value\":\"red\"},\"size\":{\"units\":\"screen\",\"value\":5},\"x\":{\"field\":\"x_values\"},\"y\":{\"field\":\"y_values\"}},\"id\":\"3020acd4-c3be-4a55-aefa-fa769662eeb8\",\"type\":\"Circle\"},{\"attributes\":{\"callback\":null,\"column_names\":[\"x_values\",\"y_values\"],\"data\":{\"chart_index\":[{\"origin\":3}],\"origin\":[3],\"x_values\":[\"3:0.5\"],\"y_values\":[46.6]}},\"id\":\"8252e8d2-d534-4092-86a0-915caa2d0a28\",\"type\":\"ColumnDataSource\"},{\"attributes\":{},\"id\":\"51c03b9a-ef9a-46f8-9076-5817681a6d5e\",\"type\":\"CategoricalTicker\"},{\"attributes\":{\"callback\":null,\"column_names\":[\"x_values\",\"y_values\"],\"data\":{\"chart_index\":[{\"origin\":1},{\"origin\":1},{\"origin\":1}],\"origin\":[1,1,1],\"x_values\":[\"1:0.5\",\"1:0.5\",\"1:0.5\"],\"y_values\":[39.0,38.0,38.0]}},\"id\":\"c29a96ea-ca35-4edd-8b9e-67af8358af25\",\"type\":\"ColumnDataSource\"},{\"attributes\":{\"fill_alpha\":{\"field\":\"fill_alpha\"},\"fill_color\":{\"field\":\"color\"},\"height\":{\"field\":\"height\",\"units\":\"data\"},\"line_color\":{\"field\":\"line_color\"},\"width\":{\"field\":\"width\",\"units\":\"data\"},\"x\":{\"field\":\"x\"},\"y\":{\"field\":\"y\"}},\"id\":\"456eb645-0c5c-4d26-a2a7-ab83d5c4c39d\",\"type\":\"Rect\"},{\"attributes\":{\"callback\":null,\"column_names\":[\"line_color\",\"line_alpha\",\"color\",\"fill_alpha\",\"height\",\"width\",\"y\",\"x\",\"label\"],\"data\":{\"chart_index\":[{\"origin\":2}],\"color\":[\"#5ab738\"],\"fill_alpha\":[0.8],\"height\":[4.125],\"label\":[{\"origin\":2}],\"line_alpha\":[1.0],\"line_color\":[\"black\"],\"origin\":[2],\"width\":[0.8],\"x\":[\"2\"],\"y\":[28.0625]}},\"id\":\"d308ca55-753a-4ea6-8522-b96a443fada5\",\"type\":\"ColumnDataSource\"},{\"attributes\":{\"callback\":null,\"column_names\":[\"x_values\",\"y_values\"],\"data\":{\"chart_index\":[{\"origin\":2},{\"origin\":2},{\"origin\":2},{\"origin\":2},{\"origin\":2}],\"origin\":[2,2,2,2,2],\"x_values\":[\"2:0.5\",\"2:0.5\",\"2:0.5\",\"2:0.5\",\"2:0.5\"],\"y_values\":[43.1,41.5,44.3,43.4,44.0]}},\"id\":\"0f8460dc-7cf0-462c-a0ee-ba970874563b\",\"type\":\"ColumnDataSource\"},{\"attributes\":{\"plot\":{\"id\":\"e0621487-541e-4391-bf1b-7347d669f820\",\"subtype\":\"Chart\",\"type\":\"Plot\"}},\"id\":\"c3dded8b-aaaf-4a78-8f53-939fa31ae0a0\",\"type\":\"HelpTool\"},{\"attributes\":{\"axis_label\":\"Mpg\",\"formatter\":{\"id\":\"395b576c-4ee6-4e5a-8090-428b59f53a19\",\"type\":\"BasicTickFormatter\"},\"plot\":{\"id\":\"e0621487-541e-4391-bf1b-7347d669f820\",\"subtype\":\"Chart\",\"type\":\"Plot\"},\"ticker\":{\"id\":\"9ed18b28-25dc-4241-98d1-6ca5adc943ea\",\"type\":\"BasicTicker\"}},\"id\":\"29f32c42-f4ad-449a-ba0d-1faf09a86d85\",\"type\":\"LinearAxis\"},{\"attributes\":{\"callback\":null,\"factors\":[\"1\",\"2\",\"3\"]},\"id\":\"207d8fd1-96f1-4ed0-b176-1f3213b16c91\",\"type\":\"FactorRange\"},{\"attributes\":{\"below\":[{\"id\":\"1e1360aa-03b0-4795-8254-07317fa5575d\",\"type\":\"CategoricalAxis\"}],\"left\":[{\"id\":\"29f32c42-f4ad-449a-ba0d-1faf09a86d85\",\"type\":\"LinearAxis\"}],\"renderers\":[{\"id\":\"051d9381-f1f4-4267-bac9-f7eb0125aea3\",\"type\":\"BoxAnnotation\"},{\"id\":\"51c06ec8-8020-4760-a063-796c504edd0a\",\"type\":\"GlyphRenderer\"},{\"id\":\"4e15b2a8-2e90-4419-a76e-c091b9fc5ce3\",\"type\":\"GlyphRenderer\"},{\"id\":\"f5072142-856a-45e5-8363-28ce01c5fba4\",\"type\":\"GlyphRenderer\"},{\"id\":\"403bc758-3f8c-4c9c-8a50-fa8538c315d2\",\"type\":\"GlyphRenderer\"},{\"id\":\"fd81255b-a2a7-40c3-bf61-3392dd21d8ac\",\"type\":\"GlyphRenderer\"},{\"id\":\"e60137a8-b9b3-4554-940e-d855edbe88e9\",\"type\":\"GlyphRenderer\"},{\"id\":\"812bb07b-5bd2-4b94-a3a2-fc2eed25a058\",\"type\":\"GlyphRenderer\"},{\"id\":\"c48dcc0c-321f-4f0a-a93c-0497e64d1bd0\",\"type\":\"GlyphRenderer\"},{\"id\":\"7f6db45a-2ecf-42fb-9074-7e36f2efbcc3\",\"type\":\"GlyphRenderer\"},{\"id\":\"b61c9eab-42e1-449f-a2a7-3e93e38a0c5e\",\"type\":\"GlyphRenderer\"},{\"id\":\"b7353a21-e56a-4632-b96c-1ec017e566b9\",\"type\":\"GlyphRenderer\"},{\"id\":\"754a8b24-e45d-439f-966a-337409054d30\",\"type\":\"GlyphRenderer\"},{\"id\":\"5ade836e-3d56-43c4-a783-f807cb6ee53c\",\"type\":\"Legend\"},{\"id\":\"1e1360aa-03b0-4795-8254-07317fa5575d\",\"type\":\"CategoricalAxis\"},{\"id\":\"29f32c42-f4ad-449a-ba0d-1faf09a86d85\",\"type\":\"LinearAxis\"},{\"id\":\"3c228900-166c-4180-a1cb-43b0af35540e\",\"type\":\"Grid\"}],\"title\":{\"id\":\"890838ca-f2c1-4955-97c8-5ec3ddac1bdf\",\"type\":\"Title\"},\"tool_events\":{\"id\":\"0350f68a-71e8-46d4-93bc-5382bdd5253a\",\"type\":\"ToolEvents\"},\"toolbar\":{\"id\":\"c359b5b5-d990-4c8c-b4fc-738445d5e749\",\"type\":\"Toolbar\"},\"x_mapper_type\":\"auto\",\"x_range\":{\"id\":\"207d8fd1-96f1-4ed0-b176-1f3213b16c91\",\"type\":\"FactorRange\"},\"y_mapper_type\":\"auto\",\"y_range\":{\"id\":\"0a466b28-f358-4176-abcf-24dba4ef98c2\",\"type\":\"Range1d\"}},\"id\":\"e0621487-541e-4391-bf1b-7347d669f820\",\"subtype\":\"Chart\",\"type\":\"Plot\"},{\"attributes\":{\"data_source\":{\"id\":\"0f8460dc-7cf0-462c-a0ee-ba970874563b\",\"type\":\"ColumnDataSource\"},\"glyph\":{\"id\":\"3020acd4-c3be-4a55-aefa-fa769662eeb8\",\"type\":\"Circle\"},\"hover_glyph\":null,\"nonselection_glyph\":null,\"selection_glyph\":null},\"id\":\"b7353a21-e56a-4632-b96c-1ec017e566b9\",\"type\":\"GlyphRenderer\"},{\"attributes\":{\"legends\":[[\"1\",[{\"id\":\"51c06ec8-8020-4760-a063-796c504edd0a\",\"type\":\"GlyphRenderer\"},{\"id\":\"4e15b2a8-2e90-4419-a76e-c091b9fc5ce3\",\"type\":\"GlyphRenderer\"},{\"id\":\"f5072142-856a-45e5-8363-28ce01c5fba4\",\"type\":\"GlyphRenderer\"},{\"id\":\"403bc758-3f8c-4c9c-8a50-fa8538c315d2\",\"type\":\"GlyphRenderer\"}]],[\"3\",[{\"id\":\"fd81255b-a2a7-40c3-bf61-3392dd21d8ac\",\"type\":\"GlyphRenderer\"},{\"id\":\"e60137a8-b9b3-4554-940e-d855edbe88e9\",\"type\":\"GlyphRenderer\"},{\"id\":\"812bb07b-5bd2-4b94-a3a2-fc2eed25a058\",\"type\":\"GlyphRenderer\"},{\"id\":\"c48dcc0c-321f-4f0a-a93c-0497e64d1bd0\",\"type\":\"GlyphRenderer\"}]],[\"2\",[{\"id\":\"7f6db45a-2ecf-42fb-9074-7e36f2efbcc3\",\"type\":\"GlyphRenderer\"},{\"id\":\"b61c9eab-42e1-449f-a2a7-3e93e38a0c5e\",\"type\":\"GlyphRenderer\"},{\"id\":\"b7353a21-e56a-4632-b96c-1ec017e566b9\",\"type\":\"GlyphRenderer\"},{\"id\":\"754a8b24-e45d-439f-966a-337409054d30\",\"type\":\"GlyphRenderer\"}]]],\"location\":\"top_left\",\"plot\":{\"id\":\"e0621487-541e-4391-bf1b-7347d669f820\",\"subtype\":\"Chart\",\"type\":\"Plot\"}},\"id\":\"5ade836e-3d56-43c4-a783-f807cb6ee53c\",\"type\":\"Legend\"},{\"attributes\":{\"callback\":null,\"column_names\":[\"line_color\",\"line_alpha\",\"color\",\"fill_alpha\",\"height\",\"width\",\"y\",\"x\",\"label\"],\"data\":{\"chart_index\":[{\"origin\":2}],\"color\":[\"#5ab738\"],\"fill_alpha\":[0.8],\"height\":[2.25],\"label\":[{\"origin\":2}],\"line_alpha\":[1.0],\"line_color\":[\"black\"],\"origin\":[2],\"width\":[0.8],\"x\":[\"2\"],\"y\":[24.875]}},\"id\":\"59fe99dd-7ede-49fe-ba80-a8b465e76c37\",\"type\":\"ColumnDataSource\"}],\"root_ids\":[\"e0621487-541e-4391-bf1b-7347d669f820\"]},\"title\":\"Bokeh Application\",\"version\":\"0.12.1\"}};\n",
       "            var render_items = [{\"docid\":\"ee791e07-98fa-4f61-b1ba-542a893733f8\",\"elementid\":\"5289b99b-5933-492d-b82c-17b3fe60a33c\",\"modelid\":\"e0621487-541e-4391-bf1b-7347d669f820\",\"notebook_comms_target\":\"2d79233c-d45e-4e33-ac02-81af0b81e007\"}];\n",
       "            \n",
       "            Bokeh.embed.embed_items(docs_json, render_items);\n",
       "        });\n",
       "      },\n",
       "      function(Bokeh) {\n",
       "      }\n",
       "    ];\n",
       "  \n",
       "    function run_inline_js() {\n",
       "      for (var i = 0; i < inline_js.length; i++) {\n",
       "        inline_js[i](window.Bokeh);\n",
       "      }\n",
       "    }\n",
       "  \n",
       "    if (window._bokeh_is_loading === 0) {\n",
       "      console.log(\"Bokeh: BokehJS loaded, going straight to plotting\");\n",
       "      run_inline_js();\n",
       "    } else {\n",
       "      load_libs(js_urls, function() {\n",
       "        console.log(\"Bokeh: BokehJS plotting callback run at\", now());\n",
       "        run_inline_js();\n",
       "      });\n",
       "    }\n",
       "  }(this));\n",
       "</script>"
      ]
     },
     "metadata": {},
     "output_type": "display_data"
    },
    {
     "data": {
      "text/html": [
       "<p><code>&lt;Bokeh Notebook handle for <strong>In[6]</strong>&gt;</code></p>"
      ],
      "text/plain": [
       "<bokeh.io._CommsHandle at 0x10b6b6090>"
      ]
     },
     "execution_count": 6,
     "metadata": {},
     "output_type": "execute_result"
    }
   ],
   "source": [
    "p = BoxPlot(df, values='mpg', label='origin', color='origin',\n",
    "            title=\"MPG Summary (grouped and shaded by CYL)\")\n",
    "\n",
    "show(p)"
   ]
  },
  {
   "cell_type": "markdown",
   "metadata": {},
   "source": [
    "# Heatmap"
   ]
  },
  {
   "cell_type": "code",
   "execution_count": 1,
   "metadata": {
    "collapsed": false
   },
   "outputs": [
    {
     "data": {
      "text/html": [
       "\n",
       "    <div class=\"bk-root\">\n",
       "        <a href=\"http://bokeh.pydata.org\" target=\"_blank\" class=\"bk-logo bk-logo-small bk-logo-notebook\"></a>\n",
       "        <span id=\"9f215c09-835c-484f-9a0e-eb8998a569ad\">Loading BokehJS ...</span>\n",
       "    </div>"
      ]
     },
     "metadata": {},
     "output_type": "display_data"
    },
    {
     "data": {
      "application/javascript": [
       "\n",
       "(function(global) {\n",
       "  function now() {\n",
       "    return new Date();\n",
       "  }\n",
       "\n",
       "  var force = \"1\";\n",
       "\n",
       "  if (typeof (window._bokeh_onload_callbacks) === \"undefined\" || force !== \"\") {\n",
       "    window._bokeh_onload_callbacks = [];\n",
       "    window._bokeh_is_loading = undefined;\n",
       "  }\n",
       "\n",
       "  function run_callbacks() {\n",
       "    window._bokeh_onload_callbacks.forEach(function(callback) { callback() });\n",
       "    delete window._bokeh_onload_callbacks\n",
       "    console.info(\"Bokeh: all callbacks have finished\");\n",
       "  }\n",
       "\n",
       "  function load_libs(js_urls, callback) {\n",
       "    window._bokeh_onload_callbacks.push(callback);\n",
       "    if (window._bokeh_is_loading > 0) {\n",
       "      console.log(\"Bokeh: BokehJS is being loaded, scheduling callback at\", now());\n",
       "      return null;\n",
       "    }\n",
       "    if (js_urls == null || js_urls.length === 0) {\n",
       "      run_callbacks();\n",
       "      return null;\n",
       "    }\n",
       "    console.log(\"Bokeh: BokehJS not loaded, scheduling load and callback at\", now());\n",
       "    window._bokeh_is_loading = js_urls.length;\n",
       "    for (var i = 0; i < js_urls.length; i++) {\n",
       "      var url = js_urls[i];\n",
       "      var s = document.createElement('script');\n",
       "      s.src = url;\n",
       "      s.async = false;\n",
       "      s.onreadystatechange = s.onload = function() {\n",
       "        window._bokeh_is_loading--;\n",
       "        if (window._bokeh_is_loading === 0) {\n",
       "          console.log(\"Bokeh: all BokehJS libraries loaded\");\n",
       "          run_callbacks()\n",
       "        }\n",
       "      };\n",
       "      s.onerror = function() {\n",
       "        console.warn(\"failed to load library \" + url);\n",
       "      };\n",
       "      console.log(\"Bokeh: injecting script tag for BokehJS library: \", url);\n",
       "      document.getElementsByTagName(\"head\")[0].appendChild(s);\n",
       "    }\n",
       "  };\n",
       "\n",
       "  var js_urls = ['https://cdn.pydata.org/bokeh/release/bokeh-0.12.1.min.js', 'https://cdn.pydata.org/bokeh/release/bokeh-widgets-0.12.1.min.js', 'https://cdn.pydata.org/bokeh/release/bokeh-compiler-0.12.1.min.js'];\n",
       "\n",
       "  var inline_js = [\n",
       "    function(Bokeh) {\n",
       "      Bokeh.set_log_level(\"info\");\n",
       "    },\n",
       "    \n",
       "    function(Bokeh) {\n",
       "      \n",
       "      Bokeh.$(\"#9f215c09-835c-484f-9a0e-eb8998a569ad\").text(\"BokehJS successfully loaded\");\n",
       "      var kernel = Jupyter.notebook.kernel\n",
       "      if (kernel.execute !== undefined) {\n",
       "          kernel.execute(\"import bokeh.io; bokeh.io._nb_loaded = True\");\n",
       "      }\n",
       "    },\n",
       "    function(Bokeh) {\n",
       "      console.log(\"Bokeh: injecting CSS: https://cdn.pydata.org/bokeh/release/bokeh-0.12.1.min.css\");\n",
       "      Bokeh.embed.inject_css(\"https://cdn.pydata.org/bokeh/release/bokeh-0.12.1.min.css\");\n",
       "      console.log(\"Bokeh: injecting CSS: https://cdn.pydata.org/bokeh/release/bokeh-widgets-0.12.1.min.css\");\n",
       "      Bokeh.embed.inject_css(\"https://cdn.pydata.org/bokeh/release/bokeh-widgets-0.12.1.min.css\");\n",
       "    }\n",
       "  ];\n",
       "\n",
       "  function run_inline_js() {\n",
       "    for (var i = 0; i < inline_js.length; i++) {\n",
       "      inline_js[i](window.Bokeh);\n",
       "    }\n",
       "  }\n",
       "\n",
       "  if (window._bokeh_is_loading === 0) {\n",
       "    console.log(\"Bokeh: BokehJS loaded, going straight to plotting\");\n",
       "    run_inline_js();\n",
       "  } else {\n",
       "    load_libs(js_urls, function() {\n",
       "      console.log(\"Bokeh: BokehJS plotting callback run at\", now());\n",
       "      run_inline_js();\n",
       "    });\n",
       "  }\n",
       "}(this));"
      ]
     },
     "metadata": {},
     "output_type": "display_data"
    }
   ],
   "source": [
    "from bokeh.charts import HeatMap, bins, output_notebook, show\n",
    "from bokeh.sampledata.autompg import autompg\n",
    "\n",
    "output_notebook()"
   ]
  },
  {
   "cell_type": "code",
   "execution_count": 3,
   "metadata": {
    "collapsed": false
   },
   "outputs": [
    {
     "data": {
      "text/html": [
       "<div>\n",
       "<table border=\"1\" class=\"dataframe\">\n",
       "  <thead>\n",
       "    <tr style=\"text-align: right;\">\n",
       "      <th></th>\n",
       "      <th>mpg</th>\n",
       "      <th>cyl</th>\n",
       "      <th>displ</th>\n",
       "      <th>hp</th>\n",
       "      <th>weight</th>\n",
       "      <th>accel</th>\n",
       "      <th>yr</th>\n",
       "      <th>origin</th>\n",
       "      <th>name</th>\n",
       "    </tr>\n",
       "  </thead>\n",
       "  <tbody>\n",
       "    <tr>\n",
       "      <th>0</th>\n",
       "      <td>18.0</td>\n",
       "      <td>8</td>\n",
       "      <td>307.0</td>\n",
       "      <td>130</td>\n",
       "      <td>3504</td>\n",
       "      <td>12.0</td>\n",
       "      <td>70</td>\n",
       "      <td>1</td>\n",
       "      <td>chevrolet chevelle malibu</td>\n",
       "    </tr>\n",
       "    <tr>\n",
       "      <th>1</th>\n",
       "      <td>15.0</td>\n",
       "      <td>8</td>\n",
       "      <td>350.0</td>\n",
       "      <td>165</td>\n",
       "      <td>3693</td>\n",
       "      <td>11.5</td>\n",
       "      <td>70</td>\n",
       "      <td>1</td>\n",
       "      <td>buick skylark 320</td>\n",
       "    </tr>\n",
       "    <tr>\n",
       "      <th>2</th>\n",
       "      <td>18.0</td>\n",
       "      <td>8</td>\n",
       "      <td>318.0</td>\n",
       "      <td>150</td>\n",
       "      <td>3436</td>\n",
       "      <td>11.0</td>\n",
       "      <td>70</td>\n",
       "      <td>1</td>\n",
       "      <td>plymouth satellite</td>\n",
       "    </tr>\n",
       "    <tr>\n",
       "      <th>3</th>\n",
       "      <td>16.0</td>\n",
       "      <td>8</td>\n",
       "      <td>304.0</td>\n",
       "      <td>150</td>\n",
       "      <td>3433</td>\n",
       "      <td>12.0</td>\n",
       "      <td>70</td>\n",
       "      <td>1</td>\n",
       "      <td>amc rebel sst</td>\n",
       "    </tr>\n",
       "    <tr>\n",
       "      <th>4</th>\n",
       "      <td>17.0</td>\n",
       "      <td>8</td>\n",
       "      <td>302.0</td>\n",
       "      <td>140</td>\n",
       "      <td>3449</td>\n",
       "      <td>10.5</td>\n",
       "      <td>70</td>\n",
       "      <td>1</td>\n",
       "      <td>ford torino</td>\n",
       "    </tr>\n",
       "  </tbody>\n",
       "</table>\n",
       "</div>"
      ],
      "text/plain": [
       "    mpg  cyl  displ   hp  weight  accel  yr  origin                       name\n",
       "0  18.0    8  307.0  130    3504   12.0  70       1  chevrolet chevelle malibu\n",
       "1  15.0    8  350.0  165    3693   11.5  70       1          buick skylark 320\n",
       "2  18.0    8  318.0  150    3436   11.0  70       1         plymouth satellite\n",
       "3  16.0    8  304.0  150    3433   12.0  70       1              amc rebel sst\n",
       "4  17.0    8  302.0  140    3449   10.5  70       1                ford torino"
      ]
     },
     "execution_count": 3,
     "metadata": {},
     "output_type": "execute_result"
    }
   ],
   "source": [
    "autompg.head()"
   ]
  },
  {
   "cell_type": "code",
   "execution_count": 6,
   "metadata": {
    "collapsed": false
   },
   "outputs": [
    {
     "data": {
      "text/html": [
       "\n",
       "\n",
       "    <div class=\"bk-root\">\n",
       "        <div class=\"plotdiv\" id=\"e228651f-7abe-4ee9-b57c-1285f133021c\"></div>\n",
       "    </div>\n",
       "<script type=\"text/javascript\">\n",
       "  \n",
       "  (function(global) {\n",
       "    function now() {\n",
       "      return new Date();\n",
       "    }\n",
       "  \n",
       "    var force = \"\";\n",
       "  \n",
       "    if (typeof (window._bokeh_onload_callbacks) === \"undefined\" || force !== \"\") {\n",
       "      window._bokeh_onload_callbacks = [];\n",
       "      window._bokeh_is_loading = undefined;\n",
       "    }\n",
       "  \n",
       "    function run_callbacks() {\n",
       "      window._bokeh_onload_callbacks.forEach(function(callback) { callback() });\n",
       "      delete window._bokeh_onload_callbacks\n",
       "      console.info(\"Bokeh: all callbacks have finished\");\n",
       "    }\n",
       "  \n",
       "    function load_libs(js_urls, callback) {\n",
       "      window._bokeh_onload_callbacks.push(callback);\n",
       "      if (window._bokeh_is_loading > 0) {\n",
       "        console.log(\"Bokeh: BokehJS is being loaded, scheduling callback at\", now());\n",
       "        return null;\n",
       "      }\n",
       "      if (js_urls == null || js_urls.length === 0) {\n",
       "        run_callbacks();\n",
       "        return null;\n",
       "      }\n",
       "      console.log(\"Bokeh: BokehJS not loaded, scheduling load and callback at\", now());\n",
       "      window._bokeh_is_loading = js_urls.length;\n",
       "      for (var i = 0; i < js_urls.length; i++) {\n",
       "        var url = js_urls[i];\n",
       "        var s = document.createElement('script');\n",
       "        s.src = url;\n",
       "        s.async = false;\n",
       "        s.onreadystatechange = s.onload = function() {\n",
       "          window._bokeh_is_loading--;\n",
       "          if (window._bokeh_is_loading === 0) {\n",
       "            console.log(\"Bokeh: all BokehJS libraries loaded\");\n",
       "            run_callbacks()\n",
       "          }\n",
       "        };\n",
       "        s.onerror = function() {\n",
       "          console.warn(\"failed to load library \" + url);\n",
       "        };\n",
       "        console.log(\"Bokeh: injecting script tag for BokehJS library: \", url);\n",
       "        document.getElementsByTagName(\"head\")[0].appendChild(s);\n",
       "      }\n",
       "    };var element = document.getElementById(\"e228651f-7abe-4ee9-b57c-1285f133021c\");\n",
       "    if (element == null) {\n",
       "      console.log(\"Bokeh: ERROR: autoload.js configured with elementid 'e228651f-7abe-4ee9-b57c-1285f133021c' but no matching script tag was found. \")\n",
       "      return false;\n",
       "    }\n",
       "  \n",
       "    var js_urls = [];\n",
       "  \n",
       "    var inline_js = [\n",
       "      function(Bokeh) {\n",
       "        Bokeh.$(function() {\n",
       "            var docs_json = {\"b99df135-8f91-4448-a48d-9de06215a0be\":{\"roots\":{\"references\":[{\"attributes\":{},\"id\":\"acf29bcd-ce45-44b9-8f5b-a8f0bccc3d61\",\"type\":\"ToolEvents\"},{\"attributes\":{},\"id\":\"4ef7f189-223e-4dac-b9b8-d2c631d98a60\",\"type\":\"BasicTicker\"},{\"attributes\":{\"overlay\":{\"id\":\"7a95821e-cfe3-4e0d-bc46-29dbdbe77c14\",\"type\":\"BoxAnnotation\"},\"plot\":{\"id\":\"e6a3a9fd-d678-45bb-95c3-25c9ba193412\",\"subtype\":\"Chart\",\"type\":\"Plot\"}},\"id\":\"813568b7-f99c-471b-9008-ec4be67f9aca\",\"type\":\"BoxZoomTool\"},{\"attributes\":{\"plot\":{\"id\":\"e6a3a9fd-d678-45bb-95c3-25c9ba193412\",\"subtype\":\"Chart\",\"type\":\"Plot\"}},\"id\":\"e1f6e10b-96d4-49b4-a502-8fe675959dec\",\"type\":\"ResetTool\"},{\"attributes\":{\"axis_label\":\"hp_center\",\"formatter\":{\"id\":\"19380f0d-4d10-4e30-beb5-39e59681793e\",\"type\":\"BasicTickFormatter\"},\"plot\":{\"id\":\"e6a3a9fd-d678-45bb-95c3-25c9ba193412\",\"subtype\":\"Chart\",\"type\":\"Plot\"},\"ticker\":{\"id\":\"ead6d683-97c6-4e84-b8ad-2af7ca08731e\",\"type\":\"BasicTicker\"}},\"id\":\"3346499e-3306-4194-bcef-94266074babe\",\"type\":\"LinearAxis\"},{\"attributes\":{},\"id\":\"19380f0d-4d10-4e30-beb5-39e59681793e\",\"type\":\"BasicTickFormatter\"},{\"attributes\":{\"dilate\":true,\"fill_color\":{\"value\":\"#08519c\"},\"height\":{\"units\":\"data\",\"value\":40.85},\"line_color\":{\"value\":\"#08519c\"},\"width\":{\"units\":\"data\",\"value\":12.444999999999999},\"x\":{\"field\":\"x\"},\"y\":{\"field\":\"y\"}},\"id\":\"f19c26d5-d910-4ff9-94be-7148eac63e11\",\"type\":\"Rect\"},{\"attributes\":{\"callback\":null,\"column_names\":[\"y\",\"x\",\"values\"],\"data\":{\"Count\":[\"[0.9, 10.7]\",\"[0.9, 10.7]\",\"[0.9, 10.7]\",\"[0.9, 10.7]\",\"[0.9, 10.7]\",\"[0.9, 10.7]\",\"[0.9, 10.7]\",\"[0.9, 10.7]\",\"[0.9, 10.7]\",\"[0.9, 10.7]\",\"[0.9, 10.7]\",\"[0.9, 10.7]\",\"[0.9, 10.7]\",\"[0.9, 10.7]\",\"[0.9, 10.7]\",\"[0.9, 10.7]\",\"[0.9, 10.7]\",\"[0.9, 10.7]\",\"[0.9, 10.7]\",\"[0.9, 10.7]\",\"[0.9, 10.7]\",\"[0.9, 10.7]\",\"[0.9, 10.7]\",\"[0.9, 10.7]\",\"[0.9, 10.7]\",\"[0.9, 10.7]\",\"[0.9, 10.7]\",\"[0.9, 10.7]\",\"[0.9, 10.7]\",\"[0.9, 10.7]\",\"[0.9, 10.7]\",\"[0.9, 10.7]\",\"[0.9, 10.7]\",\"[0.9, 10.7]\",\"[0.9, 10.7]\"],\"chart_index\":[{\"Count\":\"[0.9, 10.7]\"},{\"Count\":\"[0.9, 10.7]\"},{\"Count\":\"[0.9, 10.7]\"},{\"Count\":\"[0.9, 10.7]\"},{\"Count\":\"[0.9, 10.7]\"},{\"Count\":\"[0.9, 10.7]\"},{\"Count\":\"[0.9, 10.7]\"},{\"Count\":\"[0.9, 10.7]\"},{\"Count\":\"[0.9, 10.7]\"},{\"Count\":\"[0.9, 10.7]\"},{\"Count\":\"[0.9, 10.7]\"},{\"Count\":\"[0.9, 10.7]\"},{\"Count\":\"[0.9, 10.7]\"},{\"Count\":\"[0.9, 10.7]\"},{\"Count\":\"[0.9, 10.7]\"},{\"Count\":\"[0.9, 10.7]\"},{\"Count\":\"[0.9, 10.7]\"},{\"Count\":\"[0.9, 10.7]\"},{\"Count\":\"[0.9, 10.7]\"},{\"Count\":\"[0.9, 10.7]\"},{\"Count\":\"[0.9, 10.7]\"},{\"Count\":\"[0.9, 10.7]\"},{\"Count\":\"[0.9, 10.7]\"},{\"Count\":\"[0.9, 10.7]\"},{\"Count\":\"[0.9, 10.7]\"},{\"Count\":\"[0.9, 10.7]\"},{\"Count\":\"[0.9, 10.7]\"},{\"Count\":\"[0.9, 10.7]\"},{\"Count\":\"[0.9, 10.7]\"},{\"Count\":\"[0.9, 10.7]\"},{\"Count\":\"[0.9, 10.7]\"},{\"Count\":\"[0.9, 10.7]\"},{\"Count\":\"[0.9, 10.7]\"},{\"Count\":\"[0.9, 10.7]\"},{\"Count\":\"[0.9, 10.7]\"}],\"values\":[9,7,2,4,3,5,7,8,3,6,6,1,2,1,6,6,9,3,6,1,5,5,2,3,1,2,2,1,1,3,2,2,1,1,1],\"x\":[131.45,170.85000000000002,197.14999999999998,223.45,210.3,184.0,170.85000000000002,157.7,144.55,78.85,118.30000000000001,210.3,197.14999999999998,210.3,92.0,65.7,144.55,184.0,105.15,223.45,105.15,118.30000000000001,65.7,92.0,118.30000000000001,78.85,105.15,118.30000000000001,170.85000000000002,131.45,118.30000000000001,131.45,131.45,78.85,105.15],\"y\":[304.5,347.5,433.5,433.5,433.5,390.5,390.5,347.5,390.5,218.5,132.5,347.5,304.5,304.5,261.5,132.5,347.5,347.5,175.5,390.5,132.5,175.5,261.5,175.5,304.5,261.5,89.3,261.5,218.5,175.5,218.5,347.5,261.5,175.5,347.5]}},\"id\":\"53914ccf-c237-4f88-8524-ad97cd205fc6\",\"type\":\"ColumnDataSource\"},{\"attributes\":{\"plot\":{\"id\":\"e6a3a9fd-d678-45bb-95c3-25c9ba193412\",\"subtype\":\"Chart\",\"type\":\"Plot\"}},\"id\":\"6c34eba1-1314-4651-880a-66bc189dd7d8\",\"type\":\"SaveTool\"},{\"attributes\":{},\"id\":\"ead6d683-97c6-4e84-b8ad-2af7ca08731e\",\"type\":\"BasicTicker\"},{\"attributes\":{\"data_source\":{\"id\":\"02e04535-cb2d-4b84-b53d-3e46a1cde01f\",\"type\":\"ColumnDataSource\"},\"glyph\":{\"id\":\"f19c26d5-d910-4ff9-94be-7148eac63e11\",\"type\":\"Rect\"},\"hover_glyph\":null,\"nonselection_glyph\":null,\"selection_glyph\":null},\"id\":\"8f4e8cb5-7d71-4b72-9ac5-9d99004ef7d5\",\"type\":\"GlyphRenderer\"},{\"attributes\":{\"plot\":{\"id\":\"e6a3a9fd-d678-45bb-95c3-25c9ba193412\",\"subtype\":\"Chart\",\"type\":\"Plot\"}},\"id\":\"f9f5c1bf-cd98-46a1-b2cd-06ee78b0d2e0\",\"type\":\"PanTool\"},{\"attributes\":{\"legends\":[[\"(49.3, 59]\",[{\"id\":\"8f4e8cb5-7d71-4b72-9ac5-9d99004ef7d5\",\"type\":\"GlyphRenderer\"}]],[\"(39.7, 49.3]\",[{\"id\":\"4721d0fc-9b27-434f-9bf7-abff78ee0d80\",\"type\":\"GlyphRenderer\"}]],[\"(20.3, 30]\",[{\"id\":\"72964f25-57f6-4002-8635-dfb1164e8bce\",\"type\":\"GlyphRenderer\"}]],[\"(10.7, 20.3]\",[{\"id\":\"015c444d-3fa8-4ba2-a96b-96b3fe8c9240\",\"type\":\"GlyphRenderer\"}]],[\"[0.9, 10.7]\",[{\"id\":\"d98ae9c1-532e-46d2-8c1f-e0aef312adab\",\"type\":\"GlyphRenderer\"}]]],\"location\":\"top_left\",\"plot\":{\"id\":\"e6a3a9fd-d678-45bb-95c3-25c9ba193412\",\"subtype\":\"Chart\",\"type\":\"Plot\"}},\"id\":\"13296921-d6e4-4059-aaab-0b310d7fffea\",\"type\":\"Legend\"},{\"attributes\":{\"callback\":null,\"end\":248.017,\"start\":27.883000000000006},\"id\":\"04877d87-69cb-4919-aa74-9c7ba2b8ec92\",\"type\":\"Range1d\"},{\"attributes\":{\"data_source\":{\"id\":\"0551807d-15bc-4aef-b2ad-5b2ec22e422c\",\"type\":\"ColumnDataSource\"},\"glyph\":{\"id\":\"a7afde8a-8190-4f0a-a159-fac3fc8ba5a9\",\"type\":\"Rect\"},\"hover_glyph\":null,\"nonselection_glyph\":null,\"selection_glyph\":null},\"id\":\"015c444d-3fa8-4ba2-a96b-96b3fe8c9240\",\"type\":\"GlyphRenderer\"},{\"attributes\":{\"data_source\":{\"id\":\"50c8942c-6ae9-4edd-b119-480fb91d610b\",\"type\":\"ColumnDataSource\"},\"glyph\":{\"id\":\"4d3b0f8c-9f6d-42a2-8ff7-9db5bb2dbfd8\",\"type\":\"Rect\"},\"hover_glyph\":null,\"nonselection_glyph\":null,\"selection_glyph\":null},\"id\":\"4721d0fc-9b27-434f-9bf7-abff78ee0d80\",\"type\":\"GlyphRenderer\"},{\"attributes\":{},\"id\":\"523c0d76-b8b9-436d-aaa4-86547c34f910\",\"type\":\"BasicTickFormatter\"},{\"attributes\":{\"axis_label\":\"displ_center\",\"formatter\":{\"id\":\"523c0d76-b8b9-436d-aaa4-86547c34f910\",\"type\":\"BasicTickFormatter\"},\"plot\":{\"id\":\"e6a3a9fd-d678-45bb-95c3-25c9ba193412\",\"subtype\":\"Chart\",\"type\":\"Plot\"},\"ticker\":{\"id\":\"4ef7f189-223e-4dac-b9b8-d2c631d98a60\",\"type\":\"BasicTicker\"}},\"id\":\"9bb98f88-c2f9-4482-9c34-cdbefdadd6c9\",\"type\":\"LinearAxis\"},{\"attributes\":{\"callback\":null,\"end\":492.43,\"start\":30.369999999999997},\"id\":\"12344a0a-a61f-4883-95f6-9cdd960c8a03\",\"type\":\"Range1d\"},{\"attributes\":{\"dilate\":true,\"fill_color\":{\"value\":\"#9ecae1\"},\"height\":{\"units\":\"data\",\"value\":40.85},\"line_color\":{\"value\":\"#9ecae1\"},\"width\":{\"units\":\"data\",\"value\":12.444999999999999},\"x\":{\"field\":\"x\"},\"y\":{\"field\":\"y\"}},\"id\":\"a7afde8a-8190-4f0a-a159-fac3fc8ba5a9\",\"type\":\"Rect\"},{\"attributes\":{\"data_source\":{\"id\":\"9b732716-055f-4e98-9a90-01746989a681\",\"type\":\"ColumnDataSource\"},\"glyph\":{\"id\":\"c2a53786-327c-4b48-82e4-8b0c2f6ec90f\",\"type\":\"Rect\"},\"hover_glyph\":null,\"nonselection_glyph\":null,\"selection_glyph\":null},\"id\":\"72964f25-57f6-4002-8635-dfb1164e8bce\",\"type\":\"GlyphRenderer\"},{\"attributes\":{\"data_source\":{\"id\":\"53914ccf-c237-4f88-8524-ad97cd205fc6\",\"type\":\"ColumnDataSource\"},\"glyph\":{\"id\":\"53ce94e3-24ae-47b0-bfdb-e23ac2191768\",\"type\":\"Rect\"},\"hover_glyph\":null,\"nonselection_glyph\":null,\"selection_glyph\":null},\"id\":\"d98ae9c1-532e-46d2-8c1f-e0aef312adab\",\"type\":\"GlyphRenderer\"},{\"attributes\":{\"plot\":{\"id\":\"e6a3a9fd-d678-45bb-95c3-25c9ba193412\",\"subtype\":\"Chart\",\"type\":\"Plot\"}},\"id\":\"ca631ceb-0c87-4848-8be2-841e9baf0224\",\"type\":\"HelpTool\"},{\"attributes\":{\"dilate\":true,\"fill_color\":{\"value\":\"#c6dbef\"},\"height\":{\"units\":\"data\",\"value\":40.85},\"line_color\":{\"value\":\"#c6dbef\"},\"width\":{\"units\":\"data\",\"value\":12.444999999999999},\"x\":{\"field\":\"x\"},\"y\":{\"field\":\"y\"}},\"id\":\"53ce94e3-24ae-47b0-bfdb-e23ac2191768\",\"type\":\"Rect\"},{\"attributes\":{\"callback\":null,\"column_names\":[\"y\",\"x\",\"values\"],\"data\":{\"Count\":[\"(10.7, 20.3]\",\"(10.7, 20.3]\",\"(10.7, 20.3]\",\"(10.7, 20.3]\"],\"chart_index\":[{\"Count\":\"(10.7, 20.3]\"},{\"Count\":\"(10.7, 20.3]\"},{\"Count\":\"(10.7, 20.3]\"},{\"Count\":\"(10.7, 20.3]\"}],\"values\":[14,14,15,16],\"x\":[92.0,92.0,52.45,105.15],\"y\":[218.5,89.3,89.3,261.5]}},\"id\":\"0551807d-15bc-4aef-b2ad-5b2ec22e422c\",\"type\":\"ColumnDataSource\"},{\"attributes\":{\"callback\":null,\"column_names\":[\"y\",\"x\",\"values\"],\"data\":{\"Count\":[\"(20.3, 30]\",\"(20.3, 30]\",\"(20.3, 30]\",\"(20.3, 30]\"],\"chart_index\":[{\"Count\":\"(20.3, 30]\"},{\"Count\":\"(20.3, 30]\"},{\"Count\":\"(20.3, 30]\"},{\"Count\":\"(20.3, 30]\"}],\"values\":[29,21,26,24],\"x\":[144.55,105.15,78.85,78.85],\"y\":[304.5,218.5,89.3,132.5]}},\"id\":\"9b732716-055f-4e98-9a90-01746989a681\",\"type\":\"ColumnDataSource\"},{\"attributes\":{\"callback\":null,\"column_names\":[\"y\",\"x\",\"values\"],\"data\":{\"Count\":[\"(39.7, 49.3]\"],\"chart_index\":[{\"Count\":\"(39.7, 49.3]\"}],\"values\":[47],\"x\":[92.0],\"y\":[132.5]}},\"id\":\"50c8942c-6ae9-4edd-b119-480fb91d610b\",\"type\":\"ColumnDataSource\"},{\"attributes\":{\"plot\":{\"id\":\"e6a3a9fd-d678-45bb-95c3-25c9ba193412\",\"subtype\":\"Chart\",\"type\":\"Plot\"}},\"id\":\"bbcdd7d3-6ab9-48bb-a277-2e296d1dc983\",\"type\":\"WheelZoomTool\"},{\"attributes\":{\"below\":[{\"id\":\"3346499e-3306-4194-bcef-94266074babe\",\"type\":\"LinearAxis\"}],\"left\":[{\"id\":\"9bb98f88-c2f9-4482-9c34-cdbefdadd6c9\",\"type\":\"LinearAxis\"}],\"renderers\":[{\"id\":\"7a95821e-cfe3-4e0d-bc46-29dbdbe77c14\",\"type\":\"BoxAnnotation\"},{\"id\":\"8f4e8cb5-7d71-4b72-9ac5-9d99004ef7d5\",\"type\":\"GlyphRenderer\"},{\"id\":\"4721d0fc-9b27-434f-9bf7-abff78ee0d80\",\"type\":\"GlyphRenderer\"},{\"id\":\"72964f25-57f6-4002-8635-dfb1164e8bce\",\"type\":\"GlyphRenderer\"},{\"id\":\"015c444d-3fa8-4ba2-a96b-96b3fe8c9240\",\"type\":\"GlyphRenderer\"},{\"id\":\"d98ae9c1-532e-46d2-8c1f-e0aef312adab\",\"type\":\"GlyphRenderer\"},{\"id\":\"13296921-d6e4-4059-aaab-0b310d7fffea\",\"type\":\"Legend\"},{\"id\":\"3346499e-3306-4194-bcef-94266074babe\",\"type\":\"LinearAxis\"},{\"id\":\"9bb98f88-c2f9-4482-9c34-cdbefdadd6c9\",\"type\":\"LinearAxis\"}],\"title\":{\"id\":\"2fb06632-3304-4611-be12-c3921aa693ce\",\"type\":\"Title\"},\"tool_events\":{\"id\":\"acf29bcd-ce45-44b9-8f5b-a8f0bccc3d61\",\"type\":\"ToolEvents\"},\"toolbar\":{\"id\":\"336d2ecc-dde6-4bf3-a76d-7a94a769a618\",\"type\":\"Toolbar\"},\"x_mapper_type\":\"auto\",\"x_range\":{\"id\":\"04877d87-69cb-4919-aa74-9c7ba2b8ec92\",\"type\":\"Range1d\"},\"y_mapper_type\":\"auto\",\"y_range\":{\"id\":\"12344a0a-a61f-4883-95f6-9cdd960c8a03\",\"type\":\"Range1d\"}},\"id\":\"e6a3a9fd-d678-45bb-95c3-25c9ba193412\",\"subtype\":\"Chart\",\"type\":\"Plot\"},{\"attributes\":{\"dilate\":true,\"fill_color\":{\"value\":\"#6baed6\"},\"height\":{\"units\":\"data\",\"value\":40.85},\"line_color\":{\"value\":\"#6baed6\"},\"width\":{\"units\":\"data\",\"value\":12.444999999999999},\"x\":{\"field\":\"x\"},\"y\":{\"field\":\"y\"}},\"id\":\"c2a53786-327c-4b48-82e4-8b0c2f6ec90f\",\"type\":\"Rect\"},{\"attributes\":{\"plot\":null,\"text\":null},\"id\":\"2fb06632-3304-4611-be12-c3921aa693ce\",\"type\":\"Title\"},{\"attributes\":{\"callback\":null,\"column_names\":[\"y\",\"x\",\"values\"],\"data\":{\"Count\":[\"(49.3, 59]\"],\"chart_index\":[{\"Count\":\"(49.3, 59]\"}],\"values\":[59],\"x\":[65.7],\"y\":[89.3]}},\"id\":\"02e04535-cb2d-4b84-b53d-3e46a1cde01f\",\"type\":\"ColumnDataSource\"},{\"attributes\":{\"active_drag\":\"auto\",\"active_scroll\":\"auto\",\"active_tap\":\"auto\",\"tools\":[{\"id\":\"f9f5c1bf-cd98-46a1-b2cd-06ee78b0d2e0\",\"type\":\"PanTool\"},{\"id\":\"bbcdd7d3-6ab9-48bb-a277-2e296d1dc983\",\"type\":\"WheelZoomTool\"},{\"id\":\"813568b7-f99c-471b-9008-ec4be67f9aca\",\"type\":\"BoxZoomTool\"},{\"id\":\"6c34eba1-1314-4651-880a-66bc189dd7d8\",\"type\":\"SaveTool\"},{\"id\":\"e1f6e10b-96d4-49b4-a502-8fe675959dec\",\"type\":\"ResetTool\"},{\"id\":\"ca631ceb-0c87-4848-8be2-841e9baf0224\",\"type\":\"HelpTool\"}]},\"id\":\"336d2ecc-dde6-4bf3-a76d-7a94a769a618\",\"type\":\"Toolbar\"},{\"attributes\":{\"dilate\":true,\"fill_color\":{\"value\":\"#3182bd\"},\"height\":{\"units\":\"data\",\"value\":40.85},\"line_color\":{\"value\":\"#3182bd\"},\"width\":{\"units\":\"data\",\"value\":12.444999999999999},\"x\":{\"field\":\"x\"},\"y\":{\"field\":\"y\"}},\"id\":\"4d3b0f8c-9f6d-42a2-8ff7-9db5bb2dbfd8\",\"type\":\"Rect\"},{\"attributes\":{\"bottom_units\":\"screen\",\"fill_alpha\":{\"value\":0.5},\"fill_color\":{\"value\":\"lightgrey\"},\"left_units\":\"screen\",\"level\":\"overlay\",\"line_alpha\":{\"value\":1.0},\"line_color\":{\"value\":\"black\"},\"line_dash\":[4,4],\"line_width\":{\"value\":2},\"plot\":null,\"render_mode\":\"css\",\"right_units\":\"screen\",\"top_units\":\"screen\"},\"id\":\"7a95821e-cfe3-4e0d-bc46-29dbdbe77c14\",\"type\":\"BoxAnnotation\"}],\"root_ids\":[\"e6a3a9fd-d678-45bb-95c3-25c9ba193412\"]},\"title\":\"Bokeh Application\",\"version\":\"0.12.1\"}};\n",
       "            var render_items = [{\"docid\":\"b99df135-8f91-4448-a48d-9de06215a0be\",\"elementid\":\"e228651f-7abe-4ee9-b57c-1285f133021c\",\"modelid\":\"e6a3a9fd-d678-45bb-95c3-25c9ba193412\",\"notebook_comms_target\":\"19cb0300-2337-4c7e-b5c0-19808bd22cf0\"}];\n",
       "            \n",
       "            Bokeh.embed.embed_items(docs_json, render_items);\n",
       "        });\n",
       "      },\n",
       "      function(Bokeh) {\n",
       "      }\n",
       "    ];\n",
       "  \n",
       "    function run_inline_js() {\n",
       "      for (var i = 0; i < inline_js.length; i++) {\n",
       "        inline_js[i](window.Bokeh);\n",
       "      }\n",
       "    }\n",
       "  \n",
       "    if (window._bokeh_is_loading === 0) {\n",
       "      console.log(\"Bokeh: BokehJS loaded, going straight to plotting\");\n",
       "      run_inline_js();\n",
       "    } else {\n",
       "      load_libs(js_urls, function() {\n",
       "        console.log(\"Bokeh: BokehJS plotting callback run at\", now());\n",
       "        run_inline_js();\n",
       "      });\n",
       "    }\n",
       "  }(this));\n",
       "</script>"
      ]
     },
     "metadata": {},
     "output_type": "display_data"
    },
    {
     "data": {
      "text/html": [
       "<p><code>&lt;Bokeh Notebook handle for <strong>In[6]</strong>&gt;</code></p>"
      ],
      "text/plain": [
       "<bokeh.io._CommsHandle at 0x10b6216d0>"
      ]
     },
     "execution_count": 6,
     "metadata": {},
     "output_type": "execute_result"
    }
   ],
   "source": [
    "hm = HeatMap(autompg, x=bins('hp'), y=bins('displ'))\n",
    "\n",
    "show(hm)"
   ]
  },
  {
   "cell_type": "markdown",
   "metadata": {},
   "source": [
    "# Step"
   ]
  },
  {
   "cell_type": "code",
   "execution_count": 12,
   "metadata": {
    "collapsed": true
   },
   "outputs": [],
   "source": [
    "from bokeh.charts import Step, output_notebook, show\n",
    "import pandas as pd"
   ]
  },
  {
   "cell_type": "code",
   "execution_count": 17,
   "metadata": {
    "collapsed": false
   },
   "outputs": [
    {
     "data": {
      "text/plain": [
       "[1999,\n",
       " 2000,\n",
       " 2001,\n",
       " 2002,\n",
       " 2003,\n",
       " 2004,\n",
       " 2005,\n",
       " 2006,\n",
       " 2007,\n",
       " 2008,\n",
       " 2009,\n",
       " 2010,\n",
       " 2011,\n",
       " 2012,\n",
       " 2013,\n",
       " 2014,\n",
       " 2015]"
      ]
     },
     "execution_count": 17,
     "metadata": {},
     "output_type": "execute_result"
    }
   ],
   "source": [
    "range(1999, 2016)"
   ]
  },
  {
   "cell_type": "code",
   "execution_count": 18,
   "metadata": {
    "collapsed": true
   },
   "outputs": [],
   "source": [
    "# build a dataset where multiple columns measure the same thing\n",
    "data = dict(stamp=[\n",
    "                .33, .33, .34, .37, .37, .37, .37, .39, .41, .42,\n",
    "                .44, .44, .44, .45, .46, .49, .49],\n",
    "            postcard=[\n",
    "                .20, .20, .21, .23, .23, .23, .23, .24, .26, .27,\n",
    "                .28, .28, .29, .32, .33, .34, .35],\n",
    "            year = range(1999, 2016),\n",
    "            )"
   ]
  },
  {
   "cell_type": "code",
   "execution_count": 23,
   "metadata": {
    "collapsed": false
   },
   "outputs": [
    {
     "data": {
      "text/html": [
       "\n",
       "\n",
       "    <div class=\"bk-root\">\n",
       "        <div class=\"plotdiv\" id=\"dd075835-ea55-4c30-8e25-ae20fab8579b\"></div>\n",
       "    </div>\n",
       "<script type=\"text/javascript\">\n",
       "  \n",
       "  (function(global) {\n",
       "    function now() {\n",
       "      return new Date();\n",
       "    }\n",
       "  \n",
       "    var force = \"\";\n",
       "  \n",
       "    if (typeof (window._bokeh_onload_callbacks) === \"undefined\" || force !== \"\") {\n",
       "      window._bokeh_onload_callbacks = [];\n",
       "      window._bokeh_is_loading = undefined;\n",
       "    }\n",
       "  \n",
       "    function run_callbacks() {\n",
       "      window._bokeh_onload_callbacks.forEach(function(callback) { callback() });\n",
       "      delete window._bokeh_onload_callbacks\n",
       "      console.info(\"Bokeh: all callbacks have finished\");\n",
       "    }\n",
       "  \n",
       "    function load_libs(js_urls, callback) {\n",
       "      window._bokeh_onload_callbacks.push(callback);\n",
       "      if (window._bokeh_is_loading > 0) {\n",
       "        console.log(\"Bokeh: BokehJS is being loaded, scheduling callback at\", now());\n",
       "        return null;\n",
       "      }\n",
       "      if (js_urls == null || js_urls.length === 0) {\n",
       "        run_callbacks();\n",
       "        return null;\n",
       "      }\n",
       "      console.log(\"Bokeh: BokehJS not loaded, scheduling load and callback at\", now());\n",
       "      window._bokeh_is_loading = js_urls.length;\n",
       "      for (var i = 0; i < js_urls.length; i++) {\n",
       "        var url = js_urls[i];\n",
       "        var s = document.createElement('script');\n",
       "        s.src = url;\n",
       "        s.async = false;\n",
       "        s.onreadystatechange = s.onload = function() {\n",
       "          window._bokeh_is_loading--;\n",
       "          if (window._bokeh_is_loading === 0) {\n",
       "            console.log(\"Bokeh: all BokehJS libraries loaded\");\n",
       "            run_callbacks()\n",
       "          }\n",
       "        };\n",
       "        s.onerror = function() {\n",
       "          console.warn(\"failed to load library \" + url);\n",
       "        };\n",
       "        console.log(\"Bokeh: injecting script tag for BokehJS library: \", url);\n",
       "        document.getElementsByTagName(\"head\")[0].appendChild(s);\n",
       "      }\n",
       "    };var element = document.getElementById(\"dd075835-ea55-4c30-8e25-ae20fab8579b\");\n",
       "    if (element == null) {\n",
       "      console.log(\"Bokeh: ERROR: autoload.js configured with elementid 'dd075835-ea55-4c30-8e25-ae20fab8579b' but no matching script tag was found. \")\n",
       "      return false;\n",
       "    }\n",
       "  \n",
       "    var js_urls = [];\n",
       "  \n",
       "    var inline_js = [\n",
       "      function(Bokeh) {\n",
       "        Bokeh.$(function() {\n",
       "            var docs_json = {\"e048a11e-c8ac-4912-9e97-acdc2287cf33\":{\"roots\":{\"references\":[{\"attributes\":{\"data_source\":{\"id\":\"cb8ef89e-3a61-4be2-bad3-3d79361a6aa1\",\"type\":\"ColumnDataSource\"},\"glyph\":{\"id\":\"fc5dc5ff-0979-4066-bea0-dd869fea5001\",\"type\":\"Line\"},\"hover_glyph\":null,\"nonselection_glyph\":null,\"selection_glyph\":null},\"id\":\"0978ff57-a1e4-4038-bcbe-0bdb9e2e4eaf\",\"type\":\"GlyphRenderer\"},{\"attributes\":{\"line_color\":{\"value\":\"#f22c40\"},\"line_width\":{\"value\":2},\"x\":{\"field\":\"x_values\"},\"y\":{\"field\":\"y_values\"}},\"id\":\"fc5dc5ff-0979-4066-bea0-dd869fea5001\",\"type\":\"Line\"},{\"attributes\":{},\"id\":\"1e088174-5669-450c-bac9-44c764e5e15c\",\"type\":\"BasicTickFormatter\"},{\"attributes\":{},\"id\":\"527c9d01-13d2-4928-a78e-8d1ecc07c1d8\",\"type\":\"BasicTicker\"},{\"attributes\":{\"plot\":{\"id\":\"58ddefc8-4e74-4bbb-8a3e-0bf97af33635\",\"subtype\":\"Chart\",\"type\":\"Plot\"}},\"id\":\"86d97a71-14c8-4163-86ad-07ac90b98147\",\"type\":\"SaveTool\"},{\"attributes\":{\"plot\":null,\"text\":\"U.S. Postage Rates (1999-2015)\"},\"id\":\"49a21562-abd3-47bf-acd6-e8780bb65ae3\",\"type\":\"Title\"},{\"attributes\":{\"plot\":{\"id\":\"58ddefc8-4e74-4bbb-8a3e-0bf97af33635\",\"subtype\":\"Chart\",\"type\":\"Plot\"}},\"id\":\"3a7e7381-52ad-4b42-9c33-4fd559292645\",\"type\":\"ResetTool\"},{\"attributes\":{},\"id\":\"2c54e410-9a78-4672-9090-da83ff93129c\",\"type\":\"ToolEvents\"},{\"attributes\":{\"callback\":null,\"column_names\":[\"x_values\",\"y_values\"],\"data\":{\"chart_index\":[\"None\",\"None\",\"None\",\"None\",\"None\",\"None\",\"None\",\"None\",\"None\",\"None\",\"None\",\"None\",\"None\",\"None\",\"None\",\"None\",\"None\",\"None\",\"None\",\"None\",\"None\",\"None\",\"None\",\"None\",\"None\",\"None\",\"None\",\"None\",\"None\",\"None\",\"None\",\"None\",\"None\"],\"x_values\":[1999,2000,2000,2001,2001,2002,2002,2003,2003,2004,2004,2005,2005,2006,2006,2007,2007,2008,2008,2009,2009,2010,2010,2011,2011,2012,2012,2013,2013,2014,2014,2015,2015],\"y_values\":[0.2,0.2,0.2,0.2,0.21,0.21,0.23,0.23,0.23,0.23,0.23,0.23,0.23,0.23,0.24,0.24,0.26,0.26,0.27,0.27,0.28,0.28,0.28,0.28,0.29,0.29,0.32,0.32,0.33,0.33,0.34,0.34,0.35]}},\"id\":\"cb8ef89e-3a61-4be2-bad3-3d79361a6aa1\",\"type\":\"ColumnDataSource\"},{\"attributes\":{\"data_source\":{\"id\":\"83661c42-2678-4da9-aa99-e6547b70e800\",\"type\":\"ColumnDataSource\"},\"glyph\":{\"id\":\"eb3fd55f-1bf5-4b00-b788-0fde586f5d8e\",\"type\":\"Line\"},\"hover_glyph\":null,\"nonselection_glyph\":null,\"selection_glyph\":null},\"id\":\"55c3ae28-bcc1-4ce5-a749-f25e8ae1b2a7\",\"type\":\"GlyphRenderer\"},{\"attributes\":{},\"id\":\"e0133368-88a8-40c7-b3f9-07e8cf0022f4\",\"type\":\"BasicTickFormatter\"},{\"attributes\":{\"bottom_units\":\"screen\",\"fill_alpha\":{\"value\":0.5},\"fill_color\":{\"value\":\"lightgrey\"},\"left_units\":\"screen\",\"level\":\"overlay\",\"line_alpha\":{\"value\":1.0},\"line_color\":{\"value\":\"black\"},\"line_dash\":[4,4],\"line_width\":{\"value\":2},\"plot\":null,\"render_mode\":\"css\",\"right_units\":\"screen\",\"top_units\":\"screen\"},\"id\":\"5b0abb17-bbb1-43dd-adac-9a79c71dc4ad\",\"type\":\"BoxAnnotation\"},{\"attributes\":{\"axis_label\":\"year\",\"formatter\":{\"id\":\"e0133368-88a8-40c7-b3f9-07e8cf0022f4\",\"type\":\"BasicTickFormatter\"},\"plot\":{\"id\":\"58ddefc8-4e74-4bbb-8a3e-0bf97af33635\",\"subtype\":\"Chart\",\"type\":\"Plot\"},\"ticker\":{\"id\":\"527c9d01-13d2-4928-a78e-8d1ecc07c1d8\",\"type\":\"BasicTicker\"}},\"id\":\"49c5ac6e-d4c3-47ca-8e2a-ce5d56575285\",\"type\":\"LinearAxis\"},{\"attributes\":{},\"id\":\"ba8bbb68-541f-4436-8db2-5eb64836248f\",\"type\":\"BasicTicker\"},{\"attributes\":{\"callback\":null,\"end\":0.519,\"start\":0.171},\"id\":\"34706005-02af-4526-bd22-28ec218bdaa1\",\"type\":\"Range1d\"},{\"attributes\":{\"line_color\":{\"value\":\"#5ab738\"},\"line_dash\":[6],\"line_width\":{\"value\":2},\"x\":{\"field\":\"x_values\"},\"y\":{\"field\":\"y_values\"}},\"id\":\"eb3fd55f-1bf5-4b00-b788-0fde586f5d8e\",\"type\":\"Line\"},{\"attributes\":{\"dimension\":1,\"plot\":{\"id\":\"58ddefc8-4e74-4bbb-8a3e-0bf97af33635\",\"subtype\":\"Chart\",\"type\":\"Plot\"},\"ticker\":{\"id\":\"ba8bbb68-541f-4436-8db2-5eb64836248f\",\"type\":\"BasicTicker\"}},\"id\":\"a51f95ce-9c83-4a87-9cf6-6a99a6af70af\",\"type\":\"Grid\"},{\"attributes\":{\"axis_label\":\"Rate per ounce\",\"formatter\":{\"id\":\"1e088174-5669-450c-bac9-44c764e5e15c\",\"type\":\"BasicTickFormatter\"},\"plot\":{\"id\":\"58ddefc8-4e74-4bbb-8a3e-0bf97af33635\",\"subtype\":\"Chart\",\"type\":\"Plot\"},\"ticker\":{\"id\":\"ba8bbb68-541f-4436-8db2-5eb64836248f\",\"type\":\"BasicTicker\"}},\"id\":\"de69694c-d388-499d-bee1-11f167586d46\",\"type\":\"LinearAxis\"},{\"attributes\":{\"plot\":{\"id\":\"58ddefc8-4e74-4bbb-8a3e-0bf97af33635\",\"subtype\":\"Chart\",\"type\":\"Plot\"},\"ticker\":{\"id\":\"527c9d01-13d2-4928-a78e-8d1ecc07c1d8\",\"type\":\"BasicTicker\"}},\"id\":\"fe7e9954-b1fd-4bc5-b846-2cb205eb28d0\",\"type\":\"Grid\"},{\"attributes\":{\"active_drag\":\"auto\",\"active_scroll\":\"auto\",\"active_tap\":\"auto\",\"tools\":[{\"id\":\"ff872382-c6e9-4ea4-9eab-e2d453b0f86b\",\"type\":\"PanTool\"},{\"id\":\"519527f8-d995-461b-a6a0-252057d8f897\",\"type\":\"WheelZoomTool\"},{\"id\":\"da5a2f05-4b48-4645-92f6-78997aa89f6c\",\"type\":\"BoxZoomTool\"},{\"id\":\"86d97a71-14c8-4163-86ad-07ac90b98147\",\"type\":\"SaveTool\"},{\"id\":\"3a7e7381-52ad-4b42-9c33-4fd559292645\",\"type\":\"ResetTool\"},{\"id\":\"676d5592-fab7-4b07-8aeb-b779653397b0\",\"type\":\"HelpTool\"}]},\"id\":\"37c3dd07-d736-4ae3-bcb2-eefd9d7df47c\",\"type\":\"Toolbar\"},{\"attributes\":{\"plot\":{\"id\":\"58ddefc8-4e74-4bbb-8a3e-0bf97af33635\",\"subtype\":\"Chart\",\"type\":\"Plot\"}},\"id\":\"519527f8-d995-461b-a6a0-252057d8f897\",\"type\":\"WheelZoomTool\"},{\"attributes\":{\"plot\":{\"id\":\"58ddefc8-4e74-4bbb-8a3e-0bf97af33635\",\"subtype\":\"Chart\",\"type\":\"Plot\"}},\"id\":\"676d5592-fab7-4b07-8aeb-b779653397b0\",\"type\":\"HelpTool\"},{\"attributes\":{\"callback\":null,\"column_names\":[\"x_values\",\"y_values\"],\"data\":{\"chart_index\":[\"None\",\"None\",\"None\",\"None\",\"None\",\"None\",\"None\",\"None\",\"None\",\"None\",\"None\",\"None\",\"None\",\"None\",\"None\",\"None\",\"None\",\"None\",\"None\",\"None\",\"None\",\"None\",\"None\",\"None\",\"None\",\"None\",\"None\",\"None\",\"None\",\"None\",\"None\",\"None\",\"None\"],\"x_values\":[1999,2000,2000,2001,2001,2002,2002,2003,2003,2004,2004,2005,2005,2006,2006,2007,2007,2008,2008,2009,2009,2010,2010,2011,2011,2012,2012,2013,2013,2014,2014,2015,2015],\"y_values\":[0.33,0.33,0.33,0.33,0.34,0.34,0.37,0.37,0.37,0.37,0.37,0.37,0.37,0.37,0.39,0.39,0.41,0.41,0.42,0.42,0.44,0.44,0.44,0.44,0.44,0.44,0.45,0.45,0.46,0.46,0.49,0.49,0.49]}},\"id\":\"83661c42-2678-4da9-aa99-e6547b70e800\",\"type\":\"ColumnDataSource\"},{\"attributes\":{\"legends\":[[\"stamp\",[{\"id\":\"55c3ae28-bcc1-4ce5-a749-f25e8ae1b2a7\",\"type\":\"GlyphRenderer\"}]],[\"postcard\",[{\"id\":\"0978ff57-a1e4-4038-bcbe-0bdb9e2e4eaf\",\"type\":\"GlyphRenderer\"}]]],\"location\":\"top_left\",\"plot\":{\"id\":\"58ddefc8-4e74-4bbb-8a3e-0bf97af33635\",\"subtype\":\"Chart\",\"type\":\"Plot\"}},\"id\":\"89552aed-c5a3-451f-bc4b-053e2ea6eb19\",\"type\":\"Legend\"},{\"attributes\":{\"below\":[{\"id\":\"49c5ac6e-d4c3-47ca-8e2a-ce5d56575285\",\"type\":\"LinearAxis\"}],\"left\":[{\"id\":\"de69694c-d388-499d-bee1-11f167586d46\",\"type\":\"LinearAxis\"}],\"renderers\":[{\"id\":\"5b0abb17-bbb1-43dd-adac-9a79c71dc4ad\",\"type\":\"BoxAnnotation\"},{\"id\":\"55c3ae28-bcc1-4ce5-a749-f25e8ae1b2a7\",\"type\":\"GlyphRenderer\"},{\"id\":\"0978ff57-a1e4-4038-bcbe-0bdb9e2e4eaf\",\"type\":\"GlyphRenderer\"},{\"id\":\"89552aed-c5a3-451f-bc4b-053e2ea6eb19\",\"type\":\"Legend\"},{\"id\":\"49c5ac6e-d4c3-47ca-8e2a-ce5d56575285\",\"type\":\"LinearAxis\"},{\"id\":\"de69694c-d388-499d-bee1-11f167586d46\",\"type\":\"LinearAxis\"},{\"id\":\"fe7e9954-b1fd-4bc5-b846-2cb205eb28d0\",\"type\":\"Grid\"},{\"id\":\"a51f95ce-9c83-4a87-9cf6-6a99a6af70af\",\"type\":\"Grid\"}],\"title\":{\"id\":\"49a21562-abd3-47bf-acd6-e8780bb65ae3\",\"type\":\"Title\"},\"tool_events\":{\"id\":\"2c54e410-9a78-4672-9090-da83ff93129c\",\"type\":\"ToolEvents\"},\"toolbar\":{\"id\":\"37c3dd07-d736-4ae3-bcb2-eefd9d7df47c\",\"type\":\"Toolbar\"},\"x_mapper_type\":\"auto\",\"x_range\":{\"id\":\"2d712195-300e-43d0-91e0-4f70398436cb\",\"type\":\"Range1d\"},\"y_mapper_type\":\"auto\",\"y_range\":{\"id\":\"34706005-02af-4526-bd22-28ec218bdaa1\",\"type\":\"Range1d\"}},\"id\":\"58ddefc8-4e74-4bbb-8a3e-0bf97af33635\",\"subtype\":\"Chart\",\"type\":\"Plot\"},{\"attributes\":{\"overlay\":{\"id\":\"5b0abb17-bbb1-43dd-adac-9a79c71dc4ad\",\"type\":\"BoxAnnotation\"},\"plot\":{\"id\":\"58ddefc8-4e74-4bbb-8a3e-0bf97af33635\",\"subtype\":\"Chart\",\"type\":\"Plot\"}},\"id\":\"da5a2f05-4b48-4645-92f6-78997aa89f6c\",\"type\":\"BoxZoomTool\"},{\"attributes\":{\"plot\":{\"id\":\"58ddefc8-4e74-4bbb-8a3e-0bf97af33635\",\"subtype\":\"Chart\",\"type\":\"Plot\"}},\"id\":\"ff872382-c6e9-4ea4-9eab-e2d453b0f86b\",\"type\":\"PanTool\"},{\"attributes\":{\"callback\":null,\"end\":2016.6,\"start\":1997.4},\"id\":\"2d712195-300e-43d0-91e0-4f70398436cb\",\"type\":\"Range1d\"}],\"root_ids\":[\"58ddefc8-4e74-4bbb-8a3e-0bf97af33635\"]},\"title\":\"Bokeh Application\",\"version\":\"0.12.1\"}};\n",
       "            var render_items = [{\"docid\":\"e048a11e-c8ac-4912-9e97-acdc2287cf33\",\"elementid\":\"dd075835-ea55-4c30-8e25-ae20fab8579b\",\"modelid\":\"58ddefc8-4e74-4bbb-8a3e-0bf97af33635\",\"notebook_comms_target\":\"fcb6971a-b239-412b-9360-821c9ed1d28d\"}];\n",
       "            \n",
       "            Bokeh.embed.embed_items(docs_json, render_items);\n",
       "        });\n",
       "      },\n",
       "      function(Bokeh) {\n",
       "      }\n",
       "    ];\n",
       "  \n",
       "    function run_inline_js() {\n",
       "      for (var i = 0; i < inline_js.length; i++) {\n",
       "        inline_js[i](window.Bokeh);\n",
       "      }\n",
       "    }\n",
       "  \n",
       "    if (window._bokeh_is_loading === 0) {\n",
       "      console.log(\"Bokeh: BokehJS loaded, going straight to plotting\");\n",
       "      run_inline_js();\n",
       "    } else {\n",
       "      load_libs(js_urls, function() {\n",
       "        console.log(\"Bokeh: BokehJS plotting callback run at\", now());\n",
       "        run_inline_js();\n",
       "      });\n",
       "    }\n",
       "  }(this));\n",
       "</script>"
      ]
     },
     "metadata": {},
     "output_type": "display_data"
    },
    {
     "data": {
      "text/html": [
       "<p><code>&lt;Bokeh Notebook handle for <strong>In[23]</strong>&gt;</code></p>"
      ],
      "text/plain": [
       "<bokeh.io._CommsHandle at 0x10ba9fb90>"
      ]
     },
     "execution_count": 23,
     "metadata": {},
     "output_type": "execute_result"
    }
   ],
   "source": [
    "# create a line chart where each column of measures receives a unique color and dash style\n",
    "line = Step(data, y=['stamp', 'postcard'], \n",
    "            x = 'year',\n",
    "            dash=['stamp', 'postcard'],\n",
    "            color=['stamp', 'postcard'],\n",
    "            title=\"U.S. Postage Rates (1999-2015)\", ylabel='Rate per ounce', legend=True)\n",
    "\n",
    "show(line)"
   ]
  },
  {
   "cell_type": "code",
   "execution_count": null,
   "metadata": {
    "collapsed": true
   },
   "outputs": [],
   "source": []
  }
 ],
 "metadata": {
  "kernelspec": {
   "display_name": "Python 2",
   "language": "python",
   "name": "python2"
  },
  "language_info": {
   "codemirror_mode": {
    "name": "ipython",
    "version": 2
   },
   "file_extension": ".py",
   "mimetype": "text/x-python",
   "name": "python",
   "nbconvert_exporter": "python",
   "pygments_lexer": "ipython2",
   "version": "2.7.12"
  }
 },
 "nbformat": 4,
 "nbformat_minor": 0
}
